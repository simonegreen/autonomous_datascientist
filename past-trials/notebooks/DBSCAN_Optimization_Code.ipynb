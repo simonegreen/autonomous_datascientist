{
 "cells": [
  {
   "cell_type": "code",
   "execution_count": null,
   "metadata": {},
   "outputs": [],
   "source": [
    "# Code for Optimization on DBSCAN (parameters: eps, sample range)\n",
    "\n",
    "def find_optimal_dbscan_params(selected_features, eps_range=[0.1, 0.3, 0.5, 0.7, 1.0], \n",
    "                             min_samples_range=[3, 5, 10, 15, 20]):\n",
    "    \"\"\"\n",
    "    Find optimal DBSCAN parameters based on silhouette score\n",
    "    \n",
    "    Parameters:\n",
    "    selected_features : pandas DataFrame\n",
    "        The features selected for clustering\n",
    "    eps_range : list\n",
    "        List of eps values to try\n",
    "    min_samples_range : list\n",
    "        List of min_samples values to try\n",
    "        \n",
    "    Returns:\n",
    "    dict : optimal parameters and their results\n",
    "    \"\"\"\n",
    "    best_score = -1\n",
    "    best_params = {}\n",
    "    results = []\n",
    "    \n",
    "    for eps in eps_range:\n",
    "        for min_samples in min_samples_range:\n",
    "            silhouette_coef = dbscan_clustering(\n",
    "                selected_features, \n",
    "                eps=eps, \n",
    "                min_samples=min_samples\n",
    "            )\n",
    "            \n",
    "            results.append({\n",
    "                'eps': eps,\n",
    "                'min_samples': min_samples,\n",
    "                'silhouette': silhouette_coef\n",
    "            })\n",
    "            \n",
    "            if silhouette_coef > best_score:\n",
    "                best_score = silhouette_coef\n",
    "                best_params = {\n",
    "                    'eps': eps,\n",
    "                    'min_samples': min_samples,\n",
    "                    'silhouette': silhouette_coef\n",
    "                }\n",
    "    \n",
    "    return {\n",
    "        'best_params': best_params,\n",
    "        'all_results': pd.DataFrame(results)\n",
    "    }"
   ]
  }
 ],
 "metadata": {
  "kernelspec": {
   "display_name": "Python 3",
   "language": "python",
   "name": "python3"
  },
  "language_info": {
   "name": "python",
   "version": "3.8.1"
  }
 },
 "nbformat": 4,
 "nbformat_minor": 2
}
