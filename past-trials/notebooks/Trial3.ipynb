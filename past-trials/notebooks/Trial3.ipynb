{
 "cells": [
  {
   "cell_type": "markdown",
   "id": "4f442002",
   "metadata": {},
   "source": [
    "#### Installations"
   ]
  },
  {
   "cell_type": "code",
   "execution_count": 1,
   "id": "f1c2e269",
   "metadata": {},
   "outputs": [
    {
     "name": "stdout",
     "output_type": "stream",
     "text": [
      "Requirement already satisfied: pandas in /opt/anaconda3/lib/python3.12/site-packages (2.2.2)\n",
      "Requirement already satisfied: numpy>=1.26.0 in /opt/anaconda3/lib/python3.12/site-packages (from pandas) (1.26.4)\n",
      "Requirement already satisfied: python-dateutil>=2.8.2 in /opt/anaconda3/lib/python3.12/site-packages (from pandas) (2.9.0.post0)\n",
      "Requirement already satisfied: pytz>=2020.1 in /opt/anaconda3/lib/python3.12/site-packages (from pandas) (2024.1)\n",
      "Requirement already satisfied: tzdata>=2022.7 in /opt/anaconda3/lib/python3.12/site-packages (from pandas) (2023.3)\n",
      "Requirement already satisfied: six>=1.5 in /opt/anaconda3/lib/python3.12/site-packages (from python-dateutil>=2.8.2->pandas) (1.16.0)\n",
      "Note: you may need to restart the kernel to use updated packages.\n"
     ]
    }
   ],
   "source": [
    "pip install pandas"
   ]
  },
  {
   "cell_type": "code",
   "execution_count": 2,
   "id": "2c02a348",
   "metadata": {},
   "outputs": [
    {
     "name": "stdout",
     "output_type": "stream",
     "text": [
      "Requirement already satisfied: pip in /opt/anaconda3/lib/python3.12/site-packages (24.3.1)\n",
      "Note: you may need to restart the kernel to use updated packages.\n"
     ]
    }
   ],
   "source": [
    "pip install --upgrade pip"
   ]
  },
  {
   "cell_type": "code",
   "execution_count": 3,
   "id": "3d7652df",
   "metadata": {},
   "outputs": [
    {
     "name": "stdout",
     "output_type": "stream",
     "text": [
      "Requirement already satisfied: seaborn in /opt/anaconda3/lib/python3.12/site-packages (0.13.2)\n",
      "Requirement already satisfied: numpy!=1.24.0,>=1.20 in /opt/anaconda3/lib/python3.12/site-packages (from seaborn) (1.26.4)\n",
      "Requirement already satisfied: pandas>=1.2 in /opt/anaconda3/lib/python3.12/site-packages (from seaborn) (2.2.2)\n",
      "Requirement already satisfied: matplotlib!=3.6.1,>=3.4 in /opt/anaconda3/lib/python3.12/site-packages (from seaborn) (3.9.2)\n",
      "Requirement already satisfied: contourpy>=1.0.1 in /opt/anaconda3/lib/python3.12/site-packages (from matplotlib!=3.6.1,>=3.4->seaborn) (1.2.0)\n",
      "Requirement already satisfied: cycler>=0.10 in /opt/anaconda3/lib/python3.12/site-packages (from matplotlib!=3.6.1,>=3.4->seaborn) (0.11.0)\n",
      "Requirement already satisfied: fonttools>=4.22.0 in /opt/anaconda3/lib/python3.12/site-packages (from matplotlib!=3.6.1,>=3.4->seaborn) (4.51.0)\n",
      "Requirement already satisfied: kiwisolver>=1.3.1 in /opt/anaconda3/lib/python3.12/site-packages (from matplotlib!=3.6.1,>=3.4->seaborn) (1.4.4)\n",
      "Requirement already satisfied: packaging>=20.0 in /opt/anaconda3/lib/python3.12/site-packages (from matplotlib!=3.6.1,>=3.4->seaborn) (24.1)\n",
      "Requirement already satisfied: pillow>=8 in /opt/anaconda3/lib/python3.12/site-packages (from matplotlib!=3.6.1,>=3.4->seaborn) (10.4.0)\n",
      "Requirement already satisfied: pyparsing>=2.3.1 in /opt/anaconda3/lib/python3.12/site-packages (from matplotlib!=3.6.1,>=3.4->seaborn) (3.1.2)\n",
      "Requirement already satisfied: python-dateutil>=2.7 in /opt/anaconda3/lib/python3.12/site-packages (from matplotlib!=3.6.1,>=3.4->seaborn) (2.9.0.post0)\n",
      "Requirement already satisfied: pytz>=2020.1 in /opt/anaconda3/lib/python3.12/site-packages (from pandas>=1.2->seaborn) (2024.1)\n",
      "Requirement already satisfied: tzdata>=2022.7 in /opt/anaconda3/lib/python3.12/site-packages (from pandas>=1.2->seaborn) (2023.3)\n",
      "Requirement already satisfied: six>=1.5 in /opt/anaconda3/lib/python3.12/site-packages (from python-dateutil>=2.7->matplotlib!=3.6.1,>=3.4->seaborn) (1.16.0)\n",
      "Note: you may need to restart the kernel to use updated packages.\n"
     ]
    }
   ],
   "source": [
    "pip install seaborn"
   ]
  },
  {
   "cell_type": "code",
   "execution_count": 4,
   "id": "2d895795",
   "metadata": {},
   "outputs": [
    {
     "name": "stdout",
     "output_type": "stream",
     "text": [
      "Requirement already satisfied: scikit-learn-extra in /opt/anaconda3/lib/python3.12/site-packages (0.3.0)\n",
      "Requirement already satisfied: numpy>=1.13.3 in /opt/anaconda3/lib/python3.12/site-packages (from scikit-learn-extra) (1.26.4)\n",
      "Requirement already satisfied: scipy>=0.19.1 in /opt/anaconda3/lib/python3.12/site-packages (from scikit-learn-extra) (1.13.1)\n",
      "Requirement already satisfied: scikit-learn>=0.23.0 in /opt/anaconda3/lib/python3.12/site-packages (from scikit-learn-extra) (1.5.1)\n",
      "Requirement already satisfied: joblib>=1.2.0 in /opt/anaconda3/lib/python3.12/site-packages (from scikit-learn>=0.23.0->scikit-learn-extra) (1.4.2)\n",
      "Requirement already satisfied: threadpoolctl>=3.1.0 in /opt/anaconda3/lib/python3.12/site-packages (from scikit-learn>=0.23.0->scikit-learn-extra) (3.5.0)\n",
      "Note: you may need to restart the kernel to use updated packages.\n"
     ]
    }
   ],
   "source": [
    "pip install scikit-learn-extra"
   ]
  },
  {
   "cell_type": "markdown",
   "id": "d2f00d1a",
   "metadata": {},
   "source": [
    "### Helper Functions: Algorithms & Clustering"
   ]
  },
  {
   "cell_type": "markdown",
   "id": "c3a5c78b",
   "metadata": {},
   "source": [
    "**Algorithms**"
   ]
  },
  {
   "cell_type": "markdown",
   "id": "24f8fe4e",
   "metadata": {},
   "source": [
    "DONE: add a \"mode\" argument to each algorithm that, if mode = 1 the cluster labelling is output and if mode = 0 the silhouette coefficient is output."
   ]
  },
  {
   "cell_type": "code",
   "execution_count": 5,
   "id": "fbfd14e3-20b2-4404-a2ea-ff8f7e5aa83b",
   "metadata": {},
   "outputs": [],
   "source": [
    "# Code for KMeans\n",
    "\n",
    "import numpy as np\n",
    "from sklearn.cluster import KMeans\n",
    "from scipy.stats import multivariate_normal\n",
    "from sklearn.metrics import silhouette_score\n",
    "\n",
    "\"\"\"\n",
    "Performs KMeans clustering using the data from selected_features.\n",
    "If mode = 0, the silhouette score of the clustering is returned.\n",
    "If mode = 1, the labels of the clustering is returned.\n",
    "\"\"\"\n",
    "def kmeans_clustering(samples,mode,  n_clusters=2, max_iter=300):\n",
    "    \"\"\"\n",
    "    Perform KMeans clustering on the input samples\n",
    "    \n",
    "    Parameters:\n",
    "        samples: array-like, shape (n_samples, n_features)\n",
    "        n_clusters: int, number of clusters (default=2)\n",
    "        max_iter: int, maximum iterations (default=300)\n",
    "    \n",
    "    Returns:\n",
    "        silhouette_coef: silhouette coefficient score\n",
    "    \"\"\"\n",
    "    k_means = KMeans(n_clusters=n_clusters, max_iter=max_iter)\n",
    "    k_means.fit(samples)\n",
    "    if mode == 0:\n",
    "        try:\n",
    "            silhouette_coef = silhouette_score(samples, k_means.labels_, metric='euclidean')\n",
    "        except ValueError:\n",
    "            silhouette_coef = 0  # Assigning lowest score if clustering fails\n",
    "        return silhouette_coef\n",
    "    if mode == 1:\n",
    "        return k_means.labels_"
   ]
  },
  {
   "cell_type": "code",
   "execution_count": 6,
   "id": "33d63cd1",
   "metadata": {},
   "outputs": [],
   "source": [
    "# EM Clustering Code\n",
    "\n",
    "from sklearn.mixture import GaussianMixture\n",
    "from sklearn.metrics import silhouette_score\n",
    "from sklearn.preprocessing import StandardScaler\n",
    "\n",
    "\n",
    "\"\"\"\n",
    "Performs EM clustering using the data from selected_features.\n",
    "If mode = 0, the silhouette score of the clustering is returned.\n",
    "If mode = 1, the labels of the clustering is returned.\n",
    "\"\"\"\n",
    "def em_clustering(selected_features, mode, n_clusters=2):\n",
    "    \"\"\"\n",
    "    Perform EM Clustering on selected features and return silhouette score.\n",
    "        \n",
    "    Returns:\n",
    "    --------\n",
    "    float\n",
    "        Silhouette score of the clustering (-1 if clustering fails)\n",
    "    \"\"\"\n",
    "    # Filter the selected features\n",
    "    X = selected_features\n",
    "    \n",
    "    # Standardize selected features\n",
    "    scaler = StandardScaler()\n",
    "    X_scaled = scaler.fit_transform(X)\n",
    "\n",
    "    # Initialize and fit the EM model\n",
    "    em_model = GaussianMixture(\n",
    "        n_components=n_clusters,\n",
    "        random_state=0, #THOUGHTS: We can improve this later to have an array of seeds to select from to observe variations\n",
    "        n_init=10  # Multiple initializations to avoid local optima\n",
    "    )\n",
    "    \n",
    "   \n",
    "    try:\n",
    "        # Fit the model and get cluster assignments\n",
    "        em_model.fit(X_scaled)\n",
    "        labels = em_model.predict(X_scaled)\n",
    "        \n",
    "        # Calculate silhouette score\n",
    "        silhouette_coef = silhouette_score(X_scaled, labels)\n",
    "    except Exception as e:\n",
    "        #print(f\"Clustering failed: {str(e)}\")\n",
    "        silhouette_coef = 0  # Assigning lowest score if clustering fails\n",
    "    if mode == 0:\n",
    "        return silhouette_coef\n",
    "    if mode == 1:\n",
    "        return labels"
   ]
  },
  {
   "cell_type": "code",
   "execution_count": 7,
   "id": "ac9944db",
   "metadata": {},
   "outputs": [],
   "source": [
    "# DBSCAN Detection method: \n",
    "# I put 'optimization part' in 'DBSCAN_Optimization_Code.ipynb' file. \n",
    "# We can use optimization after initial run to do a comparison and analysis in our paper to show improvements.\n",
    "\n",
    "import numpy as np\n",
    "import pandas as pd\n",
    "from sklearn.cluster import DBSCAN\n",
    "from sklearn.metrics import silhouette_score\n",
    "from sklearn.preprocessing import StandardScaler\n",
    "\n",
    "# DONE: keep -1 --> they will be its own cluster\n",
    "\"\"\"\n",
    "Performs DBSCAN clustering using the data from selected_features.\n",
    "If mode = 0, the silhouette score of the clustering is returned.\n",
    "If mode = 1, the labels of the clustering is returned.\n",
    "\"\"\"\n",
    "def dbscan_clustering(selected_features, mode, eps=0.5, min_samples=5):\n",
    "    \"\"\"\n",
    "    Perform DBSCAN clustering on selected features\n",
    "    \n",
    "    Parameters:\n",
    "    selected_features : pandas DataFrame\n",
    "        The features selected for clustering\n",
    "    eps : float\n",
    "        The maximum distance between two samples for them to be considered neighbors\n",
    "    min_samples : int\n",
    "        The number of samples in a neighborhood for a point to be considered a core point\n",
    "        \n",
    "    Returns:\n",
    "    float : silhouette coefficient\n",
    "    dict : additional clustering information\n",
    "    \"\"\"\n",
    "\n",
    "    # Filter the selected features\n",
    "    X = selected_features\n",
    "    \n",
    "    # Standardize selected features\n",
    "    scaler = StandardScaler()\n",
    "    X_scaled = scaler.fit_transform(X)\n",
    "    \n",
    "    # Initialize and fit DBSCAN\n",
    "    dbscan = DBSCAN(eps=eps, min_samples=min_samples)\n",
    "    labels = dbscan.fit_predict(X_scaled)\n",
    "    \n",
    "    # Get number of clusters (excluding noise points which are labeled -1, K Medoids does not have noise points)\n",
    "    n_clusters = len(set(labels))\n",
    "\n",
    "    if -1 in labels:\n",
    "        labels[labels == -1] = n_clusters - 1\n",
    "    \n",
    "    # calculate silhouette score if more than one cluster and  noise points\n",
    "    if n_clusters > 1:\n",
    "        silhouette_coef = silhouette_score(X_scaled, labels)\n",
    "    else:\n",
    "        silhouette_coef = 0  # Assign lowest score if clustering fails\n",
    "\n",
    "    \n",
    "    # NOTE: -- Uncomment when we analyze and optimize ---- Additional clustering information\n",
    "    # info = {\n",
    "    #     'n_clusters': n_clusters,\n",
    "    #     'n_noise': list(labels).count(-1),\n",
    "    #     'labels': labels,\n",
    "    #     'cluster_sizes': pd.Series(labels).value_counts().to_dict()\n",
    "    # }\n",
    "    \n",
    "    if mode == 0:\n",
    "        return silhouette_coef\n",
    "    if mode == 1:\n",
    "        return labels\n"
   ]
  },
  {
   "cell_type": "code",
   "execution_count": 10,
   "id": "1869dac0",
   "metadata": {},
   "outputs": [],
   "source": [
    "# Code for K Medoids\n",
    "import numpy as np\n",
    "import pandas as pd\n",
    "\n",
    "from sklearn_extra.cluster import KMedoids\n",
    "from sklearn.metrics import silhouette_score\n",
    "from sklearn.preprocessing import StandardScaler\n",
    "\n",
    "\"\"\"\n",
    "Performs KMediods clustering using the data from selected_features.\n",
    "If mode = 0, the silhouette score of the clustering is returned.\n",
    "If mode = 1, the labels of the clustering is returned.\n",
    "\"\"\"\n",
    "def modified_kmedoids_clustering(selected_features, mode, n_clusters=2):\n",
    "    # Filter the selected features\n",
    "    X = selected_features\n",
    "    \n",
    "    # Standardize selected features\n",
    "    scaler = StandardScaler()\n",
    "    X_scaled = scaler.fit_transform(X)\n",
    "\n",
    "     # Initialize and fit the K-Medoids model\n",
    "    kmedoids = KMedoids(n_clusters=n_clusters, method='alternate', max_iter=1500)\n",
    "    \n",
    "\n",
    "    # Calculate silhouette score\n",
    "    try:\n",
    "        labels = kmedoids.fit_predict(X_scaled)\n",
    "        silhouette_coef = silhouette_score(X_scaled, labels)\n",
    "    except ValueError:\n",
    "        silhouette_coef = 0  # Assigning lowest score if clustering fails\n",
    "    if mode == 0:\n",
    "        return silhouette_coef\n",
    "    if mode == 1:\n",
    "        return labels"
   ]
  },
  {
   "cell_type": "code",
   "execution_count": 8,
   "id": "16776843",
   "metadata": {},
   "outputs": [],
   "source": [
    "# Code for K Medoids\n",
    "import numpy as np\n",
    "import pandas as pd\n",
    "\n",
    "from sklearn_extra.cluster import KMedoids\n",
    "from sklearn.metrics import silhouette_score\n",
    "from sklearn.preprocessing import StandardScaler\n",
    "\n",
    "\"\"\"\n",
    "Performs KMediods clustering using the data from selected_features.\n",
    "If mode = 0, the silhouette score of the clustering is returned.\n",
    "If mode = 1, the labels of the clustering is returned.\n",
    "\"\"\"\n",
    "def kmedoids_clustering(selected_features, mode, n_clusters=2):\n",
    "    # Filter the selected features\n",
    "    X = selected_features\n",
    "    \n",
    "    # Standardize selected features\n",
    "    scaler = StandardScaler()\n",
    "    X_scaled = scaler.fit_transform(X)\n",
    "\n",
    "     # Initialize and fit the K-Medoids model\n",
    "    kmedoids = KMedoids(n_clusters=n_clusters, method='pam', max_iter=1500, random_state=0)\n",
    "    \n",
    "\n",
    "    # Calculate silhouette score\n",
    "    try:\n",
    "        labels = kmedoids.fit_predict(X_scaled)\n",
    "        silhouette_coef = silhouette_score(X_scaled, labels)\n",
    "    except ValueError:\n",
    "        silhouette_coef = 0  # Assigning lowest score if clustering fails\n",
    "    if mode == 0:\n",
    "        return silhouette_coef\n",
    "    if mode == 1:\n",
    "        return labels"
   ]
  },
  {
   "cell_type": "code",
   "execution_count": 11,
   "id": "148b46d2",
   "metadata": {},
   "outputs": [],
   "source": [
    "# Code for Mean Shift\n",
    "import numpy as np\n",
    "import pandas as pd\n",
    "\n",
    "from sklearn.cluster import MeanShift, estimate_bandwidth\n",
    "from sklearn.metrics import silhouette_score\n",
    "from sklearn.preprocessing import StandardScaler\n",
    "\n",
    "\"\"\"\n",
    "Performs Mean Shift clustering using the data from selected_features.\n",
    "If mode = 0, the silhouette score of the clustering is returned.\n",
    "If mode = 1, the labels of the clustering is returned.\n",
    "\"\"\"\n",
    "def modified_meanshift_clustering(selected_features, mode, quantile=0.2, n_samples=500):\n",
    "    # Filter the selected features\n",
    "    X = selected_features\n",
    "    \n",
    "    # Standardize selected features\n",
    "    scaler = StandardScaler()\n",
    "    X_scaled = scaler.fit_transform(X)\n",
    "\n",
    "    # Estimate optimal bandwidth\n",
    "    bandwidth = estimate_bandwidth(X_scaled, quantile=quantile, n_samples=n_samples)\n",
    "    if bandwidth <= 0:\n",
    "        bandwidth = 1.0  # Fallback in case of extremely small bandwidth\n",
    "        \n",
    "    # Initialize and fit the Mean Shift model\n",
    "    meanshift = MeanShift(bandwidth=bandwidth, bin_seeding=True)\n",
    "    # Calculate silhouette score\n",
    "    try:\n",
    "        # print(\"in try\")\n",
    "        labels = meanshift.fit_predict(X_scaled)\n",
    "        n_clusters = len(set(labels))\n",
    "\n",
    "        # if -1 in labels:\n",
    "        #     labels[labels == -1] = n_clusters - 1\n",
    "        # Check the number of clusters determined \n",
    "        #n_clusters = len(np.unique(labels))\n",
    "        #print(f\"Number of clusters found: {n_clusters}\")\n",
    "        silhouette_coef = silhouette_score(X_scaled, labels)\n",
    "    except ValueError:\n",
    "        # print(\"in except\")\n",
    "        silhouette_coef = 0  # Assign lowest score if clustering fails\n",
    "    if mode == 0:\n",
    "        return silhouette_coef\n",
    "    if mode == 1:\n",
    "        \n",
    "        return labels"
   ]
  },
  {
   "cell_type": "code",
   "execution_count": 15,
   "id": "078cfb9d",
   "metadata": {},
   "outputs": [],
   "source": [
    "# Codes for Mean Shift\n",
    "import numpy as np\n",
    "import pandas as pd\n",
    "\n",
    "from sklearn.cluster import MeanShift\n",
    "from sklearn.metrics import silhouette_score\n",
    "from sklearn.preprocessing import StandardScaler\n",
    "\n",
    "\"\"\"\n",
    "Performs Mean Shift clustering using the data from selected_features.\n",
    "If mode = 0, the silhouette score of the clustering is returned.\n",
    "If mode = 1, the labels of the clustering is returned.\n",
    "\"\"\"\n",
    "def meanshift_clustering(selected_features, mode, bandwidth=None):\n",
    "    # Filter the selected features\n",
    "    X = selected_features\n",
    "    \n",
    "    # Standardize selected features\n",
    "    scaler = StandardScaler()\n",
    "    X_scaled = scaler.fit_transform(X)\n",
    "\n",
    "    # Initialize and fit the Mean Shift model\n",
    "    meanshift = MeanShift(bandwidth=bandwidth)\n",
    "    \n",
    "    # Calculate silhouette score\n",
    "    try:\n",
    "        labels = meanshift.fit_predict(X_scaled)\n",
    "        # Check the number of clusters determined \n",
    "        n_clusters = len(np.unique(labels))\n",
    "        #print(f\"Number of clusters found: {n_clusters}\")\n",
    "        silhouette_coef = silhouette_score(X_scaled, labels)\n",
    "    except ValueError:\n",
    "        silhouette_coef = 0  # Assign lowest score if clustering fails\n",
    "    if mode == 0:\n",
    "        return silhouette_coef\n",
    "    if mode == 1:\n",
    "        \n",
    "        return labels"
   ]
  },
  {
   "cell_type": "code",
   "execution_count": 12,
   "id": "a5d2115b",
   "metadata": {},
   "outputs": [],
   "source": [
    "\"\"\"\n",
    "Converts the binary value of state (which represents features selected) \n",
    "to a string output res and returns.\n",
    "\"\"\"\n",
    "def bin_to_features(state):\n",
    "  state_bin = bin(state)\n",
    "  #print(state_bin)\n",
    "  state_bin_arr = np.array([b for b in state_bin[2:]])\n",
    "  # pad with zeros\n",
    "  diff = len(FEATURES) - len(state_bin_arr)\n",
    "  padded_arr = np.insert(state_bin_arr, 0, ['0' for i in range(diff)])\n",
    "  #(padded_arr)\n",
    "  # identify which indexes are 1\n",
    "  idx = (np.where(padded_arr == '1')[0]).tolist()\n",
    "  #print(idx)\n",
    "  # select feature headings\n",
    "  selected_features = original_features.iloc[:,idx]\n",
    "  features = selected_features.columns.tolist()\n",
    "  res = f\"Features Used: {features}\"\n",
    "  return res\n"
   ]
  },
  {
   "cell_type": "markdown",
   "id": "e740d094",
   "metadata": {},
   "source": [
    "### Main Code"
   ]
  },
  {
   "cell_type": "code",
   "execution_count": 153,
   "id": "db0cdace",
   "metadata": {},
   "outputs": [
    {
     "name": "stdout",
     "output_type": "stream",
     "text": [
      "['service', 'id.resp_p', 'proto', 'conn_state', 'history', 'resp_pkts', 'orig_pkts', 'orig_bytes', 'resp_ip_bytes', 'orig_ip_bytes']\n"
     ]
    }
   ],
   "source": [
    "# features = np.array(['action', 'availability', 'device_type:1', 'direction',\n",
    "#        'event_type', 'interface_status', 'patch_description',\n",
    "#        'patch_status', 'severity:1', 'traffic_direction'])\n",
    "\n",
    "# Replace feature list input with selected features\n",
    "# features = np.array(['action', 'behavior_name', 'event_id:4', 'exploit_available',\n",
    "#  'file_signature_status', 'network_interface', 'patch_name', 'severity',\n",
    "#  'tcp_flags', 'vulnerability_solution']) # features for generated data complete\n",
    "\n",
    "#features = np.array(['avg_bytes_sent','avg_bytes_received','avg_packets_transferred','avg_flow_duration','recent_tcp_flags','recent_protocol','avg_cpu_usage','avg_memory_usage','avg_disk_usage','avg_uptime']) # features for generated data\n",
    "\n",
    "features = np.array(['service', 'id.resp_p', 'proto', 'conn_state', 'history', 'resp_pkts', 'orig_pkts', 'orig_bytes', 'resp_ip_bytes', 'orig_ip_bytes']) # modified features for RW data\n",
    "\n",
    "features = features.tolist()\n",
    "print(features)"
   ]
  },
  {
   "cell_type": "code",
   "execution_count": null,
   "id": "7245129f",
   "metadata": {},
   "outputs": [
    {
     "name": "stdout",
     "output_type": "stream",
     "text": [
      "   service  id.resp_p  proto  conn_state  history  resp_pkts  orig_pkts  \\\n",
      "0        0         53      0           0        0          0          1   \n",
      "1        0         53      0           1        1          2          2   \n",
      "2        0         53      0           0        0          0          2   \n",
      "3        0         53      0           1        1          2          2   \n",
      "4        0         53      0           1        1          2          3   \n",
      "5        0         53      0           1        1          2          2   \n",
      "6        0         53      0           0        0          0          2   \n",
      "7        0         53      0           1        1          2          2   \n",
      "8        0         53      0           0        0          0          2   \n",
      "9        1        123      0           0        0          0          1   \n",
      "\n",
      "   orig_bytes  resp_ip_bytes  orig_ip_bytes  \n",
      "0           0              0             67  \n",
      "1           1            146            146  \n",
      "2           2              0            134  \n",
      "3           1            146            146  \n",
      "4           3            198            201  \n",
      "5           1            146            146  \n",
      "6           2              0            134  \n",
      "7           1            146            146  \n",
      "8           2              0            134  \n",
      "9           0              0             76  \n"
     ]
    }
   ],
   "source": [
    "import pandas as pd\n",
    "import numpy as np\n",
    "\n",
    "# FEATURES = {0: 'avg_bytes_sent', 1: 'avg_bytes_received', 2: 'avg_packets_transferred', \n",
    "#   3: 'avg_flow_duration', 4: 'recent_tcp_flags', 5: 'recent_protocol', 6: 'avg_cpu_usage', \n",
    "#   7: 'avg_memory_usage', 8: 'avg_disk_usage', 9: 'avg_uptime'}\n",
    "# features = list(FEATURES.values())\n",
    "FEATURES = {k:str(v) for k,v in zip(range(len(features)), features) }\n",
    "#print(FEATURES)\n",
    "data = pd.read_csv(\"../data/real-world/data-cleaning/cleaned_RW21.csv\") # UPDATE NEW DATA HERE\n",
    "#data = pd.read_csv(\"../data/generated/data-cleaning/cleaned_source_data.csv\")\n",
    "#data = pd.read_csv(\"../data/generated/processed/feature_selection_quantitative.csv\")\n",
    "\n",
    "#print(data.head(10))\n",
    "\n",
    "\n",
    "ALGORITHMS = {0: 'DBSCAN Clustering', 1: 'Mean Shift', 2: 'K-Mediods', 3: 'EM Clustering', 4: 'K-Means'}\n",
    "NUM_ALG = len(ALGORITHMS)\n",
    "original_features = data[features].copy(deep = True)\n",
    "print(original_features.head(10))\n",
    "uid = \"uid\"\n",
    "ips = data[uid]\n",
    "#print(original_features.columns)\n",
    "#print(ips.head(10))\n",
    "\n",
    "def algorithm_prep(state, action, mode):\n",
    "  # convert state to binary\n",
    "  state_bin = bin(state)\n",
    "  #print(state_bin)\n",
    "  state_bin_arr = np.array([b for b in state_bin[2:]])\n",
    "  # pad with zeros\n",
    "  diff = len(FEATURES) - len(state_bin_arr)\n",
    "  padded_arr = np.insert(state_bin_arr, 0, ['0' for i in range(diff)])\n",
    "  #(padded_arr)\n",
    "  # identify which indexes are 1\n",
    "  idx = (np.where(padded_arr == '1')[0]).tolist()\n",
    "  #print(idx)\n",
    "  # select feature headings\n",
    "  selected_features = original_features.iloc[:,idx]\n",
    "  #print(selected_features.head(10))\n",
    "  # select algorithm\n",
    "  # algo = action\n",
    "  # prep correct data - done\n",
    "  \n",
    "  # call algorithm function\n",
    "  out = None\n",
    "  #print('algorithm:',ALGORITHMS[action])\n",
    "\n",
    "  # if mode = 0, output is the silhouette coefficient\n",
    "  # if mode = 1, output is the cluster labelling\n",
    "  match action:   \n",
    "    case 0:\n",
    "      #print('algorithm:',ALGORITHMS[action])\n",
    "      out = dbscan_clustering(selected_features, mode)\n",
    "    case 1: \n",
    "      #print('algorithm:',ALGORITHMS[action])\n",
    "      out = modified_meanshift_clustering(selected_features, mode)\n",
    "    case 2:\n",
    "      #print('algorithm:',ALGORITHMS[action])\n",
    "      out = modified_kmedoids_clustering(selected_features, mode)\n",
    "    case 3: \n",
    "      out = em_clustering(selected_features, mode)\n",
    "    case 4:\n",
    "      out = kmeans_clustering(selected_features, mode)\n",
    "      \n",
    "  # return silhouette from algorithm function\n",
    "  return out"
   ]
  },
  {
   "cell_type": "markdown",
   "id": "a148db5c",
   "metadata": {},
   "source": [
    "##### Sampling (Test Only)"
   ]
  },
  {
   "cell_type": "code",
   "execution_count": null,
   "id": "ed306bf5",
   "metadata": {},
   "outputs": [],
   "source": [
    "# # idx = (np.where(percentages <= 0.1)[0]).tolist()\n",
    "# idx = []\n",
    "# anomalies = labelled_data.loc[labelled_data['cluster'].isin(idx)]\n",
    "# print(len(anomalies))\n",
    "perc_values = labelled_data['cluster'].value_counts(ascending=True)\n",
    "print(perc_values)\n",
    "print(\"flipped:\",perc_values.values)\n",
    "print(percentages)\n",
    "idx = (np.where(percentages <= 0.1)[0]).tolist()\n",
    "print(idx)\n",
    "anomalies = labelled_data.loc[labelled_data['cluster'].isin(idx)]\n",
    "print(len(anomalies))\n",
    "perc_values = labelled_data['cluster'].value_counts().values"
   ]
  },
  {
   "cell_type": "code",
   "execution_count": 19,
   "id": "1e31d04a",
   "metadata": {},
   "outputs": [
    {
     "name": "stdout",
     "output_type": "stream",
     "text": [
      "297\n",
      "[1]\n",
      "IP 192.168.0.248 is a potential anomaly\n",
      "IP 192.168.0.78 is a potential anomaly\n"
     ]
    }
   ],
   "source": [
    "label_test = algorithm_prep(256, 4,1)\n",
    "labelled_data = data.copy()\n",
    "labelled_data['cluster'] = label_test\n",
    "labelled_data.head(10)\n",
    "\n",
    "num_clusters = labelled_data['cluster'].nunique()\n",
    "vals = labelled_data['cluster'].value_counts().values\n",
    "print(labelled_data.shape[0])\n",
    "vals = vals / labelled_data.shape[0]\n",
    "idx = (np.where(vals <= 0.1)[0]).tolist()\n",
    "print(idx)\n",
    "anomalies = labelled_data.loc[labelled_data['cluster'].isin(idx)]\n",
    "#print(anomalies)\n",
    "for i in anomalies['source_ip']:\n",
    "    print(f\"IP {i} is a potential anomaly\")"
   ]
  },
  {
   "cell_type": "markdown",
   "id": "6045098f",
   "metadata": {},
   "source": [
    "#### Reinforcement Learning"
   ]
  },
  {
   "cell_type": "code",
   "execution_count": 155,
   "id": "9beedbfe-7d34-401e-b99f-e48e93937a06",
   "metadata": {},
   "outputs": [
    {
     "name": "stdout",
     "output_type": "stream",
     "text": [
      "Iteration: 0\n",
      "Algorithm: Mean Shift\n",
      "Iteration: 1\n",
      "Algorithm: K-Means\n",
      "Iteration: 2\n",
      "Algorithm: EM Clustering\n",
      "Iteration: 3\n",
      "Algorithm: Mean Shift\n",
      "Iteration: 4\n",
      "Algorithm: DBSCAN Clustering\n",
      "Iteration: 5\n",
      "Algorithm: EM Clustering\n",
      "Iteration: 6\n",
      "Algorithm: EM Clustering\n",
      "Iteration: 7\n",
      "Algorithm: DBSCAN Clustering\n",
      "Iteration: 8\n",
      "Algorithm: DBSCAN Clustering\n",
      "Iteration: 9\n",
      "Algorithm: DBSCAN Clustering\n",
      "Iteration: 10\n",
      "Algorithm: K-Mediods\n"
     ]
    },
    {
     "name": "stderr",
     "output_type": "stream",
     "text": [
      "/opt/homebrew/lib/python3.10/site-packages/sklearn_extra/cluster/_k_medoids.py:329: UserWarning: Cluster 1 is empty! self.labels_[self.medoid_indices_[1]] may not be labeled with its corresponding cluster (1).\n",
      "  warnings.warn(\n"
     ]
    },
    {
     "name": "stdout",
     "output_type": "stream",
     "text": [
      "Iteration: 11\n",
      "Algorithm: Mean Shift\n",
      "Iteration: 12\n",
      "Algorithm: DBSCAN Clustering\n",
      "Iteration: 13\n",
      "Algorithm: K-Means\n",
      "Iteration: 14\n",
      "Algorithm: DBSCAN Clustering\n",
      "Iteration: 15\n",
      "Algorithm: DBSCAN Clustering\n",
      "Iteration: 16\n",
      "Algorithm: K-Mediods\n"
     ]
    },
    {
     "name": "stderr",
     "output_type": "stream",
     "text": [
      "/opt/homebrew/lib/python3.10/site-packages/sklearn_extra/cluster/_k_medoids.py:329: UserWarning: Cluster 1 is empty! self.labels_[self.medoid_indices_[1]] may not be labeled with its corresponding cluster (1).\n",
      "  warnings.warn(\n"
     ]
    },
    {
     "name": "stdout",
     "output_type": "stream",
     "text": [
      "Iteration: 17\n",
      "Algorithm: Mean Shift\n",
      "Iteration: 18\n",
      "Algorithm: EM Clustering\n",
      "Iteration: 19\n",
      "Algorithm: K-Mediods\n"
     ]
    },
    {
     "name": "stderr",
     "output_type": "stream",
     "text": [
      "/opt/homebrew/lib/python3.10/site-packages/sklearn_extra/cluster/_k_medoids.py:329: UserWarning: Cluster 1 is empty! self.labels_[self.medoid_indices_[1]] may not be labeled with its corresponding cluster (1).\n",
      "  warnings.warn(\n"
     ]
    },
    {
     "name": "stdout",
     "output_type": "stream",
     "text": [
      "Iteration: 20\n",
      "Algorithm: DBSCAN Clustering\n",
      "Iteration: 21\n",
      "Algorithm: EM Clustering\n",
      "Iteration: 22\n",
      "Algorithm: Mean Shift\n",
      "Iteration: 23\n",
      "Algorithm: DBSCAN Clustering\n",
      "Iteration: 24\n",
      "Algorithm: Mean Shift\n",
      "Iteration: 25\n",
      "Algorithm: Mean Shift\n",
      "Iteration: 26\n",
      "Algorithm: K-Mediods\n",
      "Iteration: 27\n",
      "Algorithm: EM Clustering\n"
     ]
    },
    {
     "name": "stderr",
     "output_type": "stream",
     "text": [
      "/opt/homebrew/lib/python3.10/site-packages/sklearn_extra/cluster/_k_medoids.py:329: UserWarning: Cluster 1 is empty! self.labels_[self.medoid_indices_[1]] may not be labeled with its corresponding cluster (1).\n",
      "  warnings.warn(\n"
     ]
    },
    {
     "name": "stdout",
     "output_type": "stream",
     "text": [
      "Iteration: 28\n",
      "Algorithm: K-Mediods\n",
      "Iteration: 29\n",
      "Algorithm: K-Means\n"
     ]
    },
    {
     "name": "stderr",
     "output_type": "stream",
     "text": [
      "/opt/homebrew/lib/python3.10/site-packages/sklearn_extra/cluster/_k_medoids.py:329: UserWarning: Cluster 1 is empty! self.labels_[self.medoid_indices_[1]] may not be labeled with its corresponding cluster (1).\n",
      "  warnings.warn(\n"
     ]
    },
    {
     "name": "stdout",
     "output_type": "stream",
     "text": [
      "Iteration: 30\n",
      "Algorithm: K-Means\n",
      "Iteration: 31\n",
      "Algorithm: Mean Shift\n",
      "Iteration: 32\n",
      "Algorithm: EM Clustering\n",
      "Iteration: 33\n",
      "Algorithm: K-Means\n",
      "Iteration: 34\n",
      "Algorithm: K-Means\n",
      "Iteration: 35\n",
      "Algorithm: DBSCAN Clustering\n",
      "Iteration: 36\n",
      "Algorithm: Mean Shift\n",
      "Iteration: 37\n",
      "Algorithm: EM Clustering\n",
      "Iteration: 38\n",
      "Algorithm: DBSCAN Clustering\n",
      "Iteration: 39\n",
      "Algorithm: Mean Shift\n",
      "Iteration: 40\n",
      "Algorithm: K-Means\n",
      "Iteration: 41\n",
      "Algorithm: DBSCAN Clustering\n",
      "Iteration: 42\n",
      "Algorithm: Mean Shift\n",
      "Iteration: 43\n",
      "Algorithm: DBSCAN Clustering\n",
      "Iteration: 44\n",
      "Algorithm: DBSCAN Clustering\n",
      "Iteration: 45\n",
      "Algorithm: K-Mediods\n",
      "Iteration: 46\n",
      "Algorithm: EM Clustering\n"
     ]
    },
    {
     "name": "stderr",
     "output_type": "stream",
     "text": [
      "/opt/homebrew/lib/python3.10/site-packages/sklearn_extra/cluster/_k_medoids.py:329: UserWarning: Cluster 1 is empty! self.labels_[self.medoid_indices_[1]] may not be labeled with its corresponding cluster (1).\n",
      "  warnings.warn(\n"
     ]
    },
    {
     "name": "stdout",
     "output_type": "stream",
     "text": [
      "Iteration: 47\n",
      "Algorithm: EM Clustering\n",
      "Iteration: 48\n",
      "Algorithm: DBSCAN Clustering\n",
      "Iteration: 49\n",
      "Algorithm: DBSCAN Clustering\n",
      "Iteration: 50\n",
      "Algorithm: K-Means\n",
      "Iteration: 51\n",
      "Algorithm: EM Clustering\n",
      "Iteration: 52\n",
      "Algorithm: K-Means\n",
      "Iteration: 53\n",
      "Algorithm: DBSCAN Clustering\n",
      "Iteration: 54\n",
      "Algorithm: Mean Shift\n",
      "Iteration: 55\n",
      "Algorithm: DBSCAN Clustering\n",
      "Iteration: 56\n",
      "Algorithm: K-Means\n",
      "Iteration: 57\n",
      "Algorithm: K-Mediods\n"
     ]
    },
    {
     "name": "stderr",
     "output_type": "stream",
     "text": [
      "/opt/homebrew/lib/python3.10/site-packages/sklearn_extra/cluster/_k_medoids.py:329: UserWarning: Cluster 1 is empty! self.labels_[self.medoid_indices_[1]] may not be labeled with its corresponding cluster (1).\n",
      "  warnings.warn(\n"
     ]
    },
    {
     "name": "stdout",
     "output_type": "stream",
     "text": [
      "Iteration: 58\n",
      "Algorithm: K-Means\n",
      "Iteration: 59\n",
      "Algorithm: Mean Shift\n",
      "Iteration: 60\n",
      "Algorithm: K-Means\n",
      "Iteration: 61\n",
      "Algorithm: EM Clustering\n",
      "Iteration: 62\n",
      "Algorithm: Mean Shift\n",
      "Iteration: 63\n",
      "Algorithm: K-Mediods\n"
     ]
    },
    {
     "name": "stderr",
     "output_type": "stream",
     "text": [
      "/opt/homebrew/lib/python3.10/site-packages/sklearn_extra/cluster/_k_medoids.py:329: UserWarning: Cluster 1 is empty! self.labels_[self.medoid_indices_[1]] may not be labeled with its corresponding cluster (1).\n",
      "  warnings.warn(\n",
      "/opt/homebrew/lib/python3.10/site-packages/sklearn_extra/cluster/_k_medoids.py:329: UserWarning: Cluster 1 is empty! self.labels_[self.medoid_indices_[1]] may not be labeled with its corresponding cluster (1).\n",
      "  warnings.warn(\n"
     ]
    },
    {
     "name": "stdout",
     "output_type": "stream",
     "text": [
      "Iteration: 64\n",
      "Algorithm: K-Mediods\n",
      "Iteration: 65\n",
      "Algorithm: K-Mediods\n"
     ]
    },
    {
     "name": "stderr",
     "output_type": "stream",
     "text": [
      "/opt/homebrew/lib/python3.10/site-packages/sklearn_extra/cluster/_k_medoids.py:329: UserWarning: Cluster 1 is empty! self.labels_[self.medoid_indices_[1]] may not be labeled with its corresponding cluster (1).\n",
      "  warnings.warn(\n",
      "/opt/homebrew/lib/python3.10/site-packages/sklearn_extra/cluster/_k_medoids.py:329: UserWarning: Cluster 1 is empty! self.labels_[self.medoid_indices_[1]] may not be labeled with its corresponding cluster (1).\n",
      "  warnings.warn(\n"
     ]
    },
    {
     "name": "stdout",
     "output_type": "stream",
     "text": [
      "Iteration: 66\n",
      "Algorithm: K-Mediods\n",
      "Iteration: 67\n",
      "Algorithm: DBSCAN Clustering\n",
      "Iteration: 68\n",
      "Algorithm: EM Clustering\n",
      "Iteration: 69\n",
      "Algorithm: Mean Shift\n",
      "Iteration: 70\n",
      "Algorithm: K-Means\n",
      "Iteration: 71\n",
      "Algorithm: Mean Shift\n",
      "Iteration: 72\n",
      "Algorithm: EM Clustering\n",
      "Iteration: 73\n",
      "Algorithm: EM Clustering\n",
      "Iteration: 74\n",
      "Algorithm: K-Mediods\n"
     ]
    },
    {
     "name": "stderr",
     "output_type": "stream",
     "text": [
      "/opt/homebrew/lib/python3.10/site-packages/sklearn_extra/cluster/_k_medoids.py:329: UserWarning: Cluster 1 is empty! self.labels_[self.medoid_indices_[1]] may not be labeled with its corresponding cluster (1).\n",
      "  warnings.warn(\n"
     ]
    },
    {
     "name": "stdout",
     "output_type": "stream",
     "text": [
      "Iteration: 75\n",
      "Algorithm: EM Clustering\n",
      "Iteration: 76\n",
      "Algorithm: Mean Shift\n",
      "Iteration: 77\n",
      "Algorithm: Mean Shift\n",
      "Iteration: 78\n",
      "Algorithm: K-Means\n",
      "Iteration: 79\n",
      "Algorithm: EM Clustering\n",
      "Iteration: 80\n",
      "Algorithm: K-Means\n",
      "Iteration: 81\n",
      "Algorithm: K-Means\n",
      "Iteration: 82\n",
      "Algorithm: Mean Shift\n",
      "Iteration: 83\n",
      "Algorithm: K-Mediods\n"
     ]
    },
    {
     "name": "stderr",
     "output_type": "stream",
     "text": [
      "/opt/homebrew/lib/python3.10/site-packages/sklearn_extra/cluster/_k_medoids.py:329: UserWarning: Cluster 1 is empty! self.labels_[self.medoid_indices_[1]] may not be labeled with its corresponding cluster (1).\n",
      "  warnings.warn(\n",
      "/opt/homebrew/lib/python3.10/site-packages/sklearn_extra/cluster/_k_medoids.py:329: UserWarning: Cluster 1 is empty! self.labels_[self.medoid_indices_[1]] may not be labeled with its corresponding cluster (1).\n",
      "  warnings.warn(\n"
     ]
    },
    {
     "name": "stdout",
     "output_type": "stream",
     "text": [
      "Iteration: 84\n",
      "Algorithm: K-Mediods\n",
      "Iteration: 85\n",
      "Algorithm: Mean Shift\n",
      "Iteration: 86\n",
      "Algorithm: K-Means\n",
      "Iteration: 87\n",
      "Algorithm: EM Clustering\n",
      "Iteration: 88\n",
      "Algorithm: K-Means\n",
      "Iteration: 89\n",
      "Algorithm: Mean Shift\n",
      "Iteration: 90\n",
      "Algorithm: Mean Shift\n",
      "Iteration: 91\n",
      "Algorithm: K-Means\n",
      "Iteration: 92\n",
      "Algorithm: K-Means\n",
      "Iteration: 93\n",
      "Algorithm: Mean Shift\n",
      "Iteration: 94\n",
      "Algorithm: K-Means\n",
      "Iteration: 95\n",
      "Algorithm: DBSCAN Clustering\n",
      "Iteration: 96\n",
      "Algorithm: DBSCAN Clustering\n",
      "Iteration: 97\n",
      "Algorithm: EM Clustering\n",
      "Iteration: 98\n",
      "Algorithm: EM Clustering\n",
      "Iteration: 99\n",
      "Algorithm: EM Clustering\n",
      "Iteration: 100\n",
      "Algorithm: DBSCAN Clustering\n",
      "Iteration: 101\n",
      "Algorithm: DBSCAN Clustering\n",
      "Iteration: 102\n",
      "Algorithm: K-Means\n",
      "Iteration: 103\n",
      "Algorithm: K-Mediods\n"
     ]
    },
    {
     "name": "stderr",
     "output_type": "stream",
     "text": [
      "/opt/homebrew/lib/python3.10/site-packages/sklearn_extra/cluster/_k_medoids.py:329: UserWarning: Cluster 1 is empty! self.labels_[self.medoid_indices_[1]] may not be labeled with its corresponding cluster (1).\n",
      "  warnings.warn(\n"
     ]
    },
    {
     "name": "stdout",
     "output_type": "stream",
     "text": [
      "Iteration: 104\n",
      "Algorithm: Mean Shift\n",
      "Iteration: 105\n",
      "Algorithm: DBSCAN Clustering\n",
      "Iteration: 106\n",
      "Algorithm: K-Mediods\n",
      "Iteration: 107\n",
      "Algorithm: K-Mediods\n"
     ]
    },
    {
     "name": "stderr",
     "output_type": "stream",
     "text": [
      "/opt/homebrew/lib/python3.10/site-packages/sklearn_extra/cluster/_k_medoids.py:329: UserWarning: Cluster 1 is empty! self.labels_[self.medoid_indices_[1]] may not be labeled with its corresponding cluster (1).\n",
      "  warnings.warn(\n",
      "/opt/homebrew/lib/python3.10/site-packages/sklearn_extra/cluster/_k_medoids.py:329: UserWarning: Cluster 1 is empty! self.labels_[self.medoid_indices_[1]] may not be labeled with its corresponding cluster (1).\n",
      "  warnings.warn(\n"
     ]
    },
    {
     "name": "stdout",
     "output_type": "stream",
     "text": [
      "Iteration: 108\n",
      "Algorithm: DBSCAN Clustering\n",
      "Iteration: 109\n",
      "Algorithm: K-Means\n",
      "Iteration: 110\n",
      "Algorithm: EM Clustering\n",
      "Iteration: 111\n",
      "Algorithm: DBSCAN Clustering\n",
      "Iteration: 112\n",
      "Algorithm: Mean Shift\n",
      "Iteration: 113\n",
      "Algorithm: DBSCAN Clustering\n",
      "Iteration: 114\n",
      "Algorithm: Mean Shift\n",
      "Iteration: 115\n",
      "Algorithm: Mean Shift\n",
      "Iteration: 116\n",
      "Algorithm: K-Mediods\n",
      "Iteration: 117\n",
      "Algorithm: K-Mediods\n"
     ]
    },
    {
     "name": "stderr",
     "output_type": "stream",
     "text": [
      "/opt/homebrew/lib/python3.10/site-packages/sklearn_extra/cluster/_k_medoids.py:329: UserWarning: Cluster 1 is empty! self.labels_[self.medoid_indices_[1]] may not be labeled with its corresponding cluster (1).\n",
      "  warnings.warn(\n",
      "/opt/homebrew/lib/python3.10/site-packages/sklearn_extra/cluster/_k_medoids.py:329: UserWarning: Cluster 1 is empty! self.labels_[self.medoid_indices_[1]] may not be labeled with its corresponding cluster (1).\n",
      "  warnings.warn(\n"
     ]
    },
    {
     "name": "stdout",
     "output_type": "stream",
     "text": [
      "Iteration: 118\n",
      "Algorithm: K-Mediods\n",
      "Iteration: 119\n",
      "Algorithm: Mean Shift\n"
     ]
    },
    {
     "name": "stderr",
     "output_type": "stream",
     "text": [
      "/opt/homebrew/lib/python3.10/site-packages/sklearn_extra/cluster/_k_medoids.py:329: UserWarning: Cluster 1 is empty! self.labels_[self.medoid_indices_[1]] may not be labeled with its corresponding cluster (1).\n",
      "  warnings.warn(\n"
     ]
    },
    {
     "name": "stdout",
     "output_type": "stream",
     "text": [
      "Iteration: 120\n",
      "Algorithm: K-Mediods\n"
     ]
    },
    {
     "name": "stderr",
     "output_type": "stream",
     "text": [
      "/opt/homebrew/lib/python3.10/site-packages/sklearn_extra/cluster/_k_medoids.py:329: UserWarning: Cluster 1 is empty! self.labels_[self.medoid_indices_[1]] may not be labeled with its corresponding cluster (1).\n",
      "  warnings.warn(\n"
     ]
    },
    {
     "name": "stdout",
     "output_type": "stream",
     "text": [
      "Iteration: 121\n",
      "Algorithm: Mean Shift\n",
      "Iteration: 122\n",
      "Algorithm: Mean Shift\n",
      "Iteration: 123\n",
      "Algorithm: K-Means\n",
      "Iteration: 124\n",
      "Algorithm: K-Means\n",
      "Iteration: 125\n",
      "Algorithm: EM Clustering\n",
      "Iteration: 126\n",
      "Algorithm: DBSCAN Clustering\n",
      "Iteration: 127\n",
      "Algorithm: DBSCAN Clustering\n",
      "Iteration: 128\n",
      "Algorithm: DBSCAN Clustering\n",
      "Iteration: 129\n",
      "Algorithm: DBSCAN Clustering\n",
      "Iteration: 130\n",
      "Algorithm: Mean Shift\n",
      "Iteration: 131\n",
      "Algorithm: K-Means\n",
      "Iteration: 132\n",
      "Algorithm: K-Mediods\n"
     ]
    },
    {
     "name": "stderr",
     "output_type": "stream",
     "text": [
      "/opt/homebrew/lib/python3.10/site-packages/sklearn_extra/cluster/_k_medoids.py:329: UserWarning: Cluster 1 is empty! self.labels_[self.medoid_indices_[1]] may not be labeled with its corresponding cluster (1).\n",
      "  warnings.warn(\n"
     ]
    },
    {
     "name": "stdout",
     "output_type": "stream",
     "text": [
      "Iteration: 133\n",
      "Algorithm: EM Clustering\n",
      "Iteration: 134\n",
      "Algorithm: K-Mediods\n",
      "Iteration: 135\n",
      "Algorithm: DBSCAN Clustering\n"
     ]
    },
    {
     "name": "stderr",
     "output_type": "stream",
     "text": [
      "/opt/homebrew/lib/python3.10/site-packages/sklearn_extra/cluster/_k_medoids.py:329: UserWarning: Cluster 1 is empty! self.labels_[self.medoid_indices_[1]] may not be labeled with its corresponding cluster (1).\n",
      "  warnings.warn(\n"
     ]
    },
    {
     "name": "stdout",
     "output_type": "stream",
     "text": [
      "Iteration: 136\n",
      "Algorithm: EM Clustering\n",
      "Iteration: 137\n",
      "Algorithm: Mean Shift\n",
      "Iteration: 138\n",
      "Algorithm: EM Clustering\n",
      "Iteration: 139\n",
      "Algorithm: K-Means\n",
      "Iteration: 140\n",
      "Algorithm: Mean Shift\n",
      "Iteration: 141\n",
      "Algorithm: Mean Shift\n",
      "Iteration: 142\n",
      "Algorithm: K-Mediods\n"
     ]
    },
    {
     "name": "stderr",
     "output_type": "stream",
     "text": [
      "/opt/homebrew/lib/python3.10/site-packages/sklearn_extra/cluster/_k_medoids.py:329: UserWarning: Cluster 1 is empty! self.labels_[self.medoid_indices_[1]] may not be labeled with its corresponding cluster (1).\n",
      "  warnings.warn(\n"
     ]
    },
    {
     "name": "stdout",
     "output_type": "stream",
     "text": [
      "Iteration: 143\n",
      "Algorithm: EM Clustering\n",
      "Iteration: 144\n",
      "Algorithm: DBSCAN Clustering\n",
      "Iteration: 145\n",
      "Algorithm: EM Clustering\n",
      "Iteration: 146\n",
      "Algorithm: K-Mediods\n"
     ]
    },
    {
     "name": "stderr",
     "output_type": "stream",
     "text": [
      "/opt/homebrew/lib/python3.10/site-packages/sklearn_extra/cluster/_k_medoids.py:329: UserWarning: Cluster 1 is empty! self.labels_[self.medoid_indices_[1]] may not be labeled with its corresponding cluster (1).\n",
      "  warnings.warn(\n",
      "/opt/homebrew/lib/python3.10/site-packages/sklearn_extra/cluster/_k_medoids.py:329: UserWarning: Cluster 1 is empty! self.labels_[self.medoid_indices_[1]] may not be labeled with its corresponding cluster (1).\n",
      "  warnings.warn(\n"
     ]
    },
    {
     "name": "stdout",
     "output_type": "stream",
     "text": [
      "Iteration: 147\n",
      "Algorithm: K-Mediods\n",
      "Iteration: 148\n",
      "Algorithm: EM Clustering\n",
      "Iteration: 149\n",
      "Algorithm: K-Mediods\n"
     ]
    },
    {
     "name": "stderr",
     "output_type": "stream",
     "text": [
      "/opt/homebrew/lib/python3.10/site-packages/sklearn_extra/cluster/_k_medoids.py:329: UserWarning: Cluster 1 is empty! self.labels_[self.medoid_indices_[1]] may not be labeled with its corresponding cluster (1).\n",
      "  warnings.warn(\n"
     ]
    },
    {
     "name": "stdout",
     "output_type": "stream",
     "text": [
      "Iteration: 150\n",
      "Algorithm: Mean Shift\n",
      "Iteration: 151\n",
      "Algorithm: DBSCAN Clustering\n",
      "Iteration: 152\n",
      "Algorithm: K-Mediods\n"
     ]
    },
    {
     "name": "stderr",
     "output_type": "stream",
     "text": [
      "/opt/homebrew/lib/python3.10/site-packages/sklearn_extra/cluster/_k_medoids.py:329: UserWarning: Cluster 1 is empty! self.labels_[self.medoid_indices_[1]] may not be labeled with its corresponding cluster (1).\n",
      "  warnings.warn(\n"
     ]
    },
    {
     "name": "stdout",
     "output_type": "stream",
     "text": [
      "Iteration: 153\n",
      "Algorithm: EM Clustering\n",
      "Iteration: 154\n",
      "Algorithm: EM Clustering\n",
      "Iteration: 155\n",
      "Algorithm: EM Clustering\n",
      "Iteration: 156\n",
      "Algorithm: EM Clustering\n",
      "Iteration: 157\n",
      "Algorithm: Mean Shift\n",
      "Iteration: 158\n",
      "Algorithm: K-Means\n",
      "Iteration: 159\n",
      "Algorithm: Mean Shift\n",
      "Iteration: 160\n",
      "Algorithm: K-Mediods\n"
     ]
    },
    {
     "name": "stderr",
     "output_type": "stream",
     "text": [
      "/opt/homebrew/lib/python3.10/site-packages/sklearn_extra/cluster/_k_medoids.py:329: UserWarning: Cluster 1 is empty! self.labels_[self.medoid_indices_[1]] may not be labeled with its corresponding cluster (1).\n",
      "  warnings.warn(\n"
     ]
    },
    {
     "name": "stdout",
     "output_type": "stream",
     "text": [
      "Iteration: 161\n",
      "Algorithm: EM Clustering\n",
      "Iteration: 162\n",
      "Algorithm: EM Clustering\n",
      "Iteration: 163\n",
      "Algorithm: K-Means\n",
      "Iteration: 164\n",
      "Algorithm: DBSCAN Clustering\n",
      "Iteration: 165\n",
      "Algorithm: K-Mediods\n",
      "Iteration: 166\n",
      "Algorithm: K-Means\n"
     ]
    },
    {
     "name": "stderr",
     "output_type": "stream",
     "text": [
      "/opt/homebrew/lib/python3.10/site-packages/sklearn_extra/cluster/_k_medoids.py:329: UserWarning: Cluster 1 is empty! self.labels_[self.medoid_indices_[1]] may not be labeled with its corresponding cluster (1).\n",
      "  warnings.warn(\n"
     ]
    },
    {
     "name": "stdout",
     "output_type": "stream",
     "text": [
      "Iteration: 167\n",
      "Algorithm: Mean Shift\n",
      "Iteration: 168\n",
      "Algorithm: K-Means\n",
      "Iteration: 169\n",
      "Algorithm: DBSCAN Clustering\n",
      "Iteration: 170\n",
      "Algorithm: Mean Shift\n",
      "Iteration: 171\n",
      "Algorithm: K-Means\n",
      "Iteration: 172\n",
      "Algorithm: K-Mediods\n"
     ]
    },
    {
     "name": "stderr",
     "output_type": "stream",
     "text": [
      "/opt/homebrew/lib/python3.10/site-packages/sklearn_extra/cluster/_k_medoids.py:329: UserWarning: Cluster 1 is empty! self.labels_[self.medoid_indices_[1]] may not be labeled with its corresponding cluster (1).\n",
      "  warnings.warn(\n"
     ]
    },
    {
     "name": "stdout",
     "output_type": "stream",
     "text": [
      "Iteration: 173\n",
      "Algorithm: K-Means\n",
      "Iteration: 174\n",
      "Algorithm: EM Clustering\n",
      "Iteration: 175\n",
      "Algorithm: K-Mediods\n",
      "Iteration: 176\n",
      "Algorithm: K-Mediods\n"
     ]
    },
    {
     "name": "stderr",
     "output_type": "stream",
     "text": [
      "/opt/homebrew/lib/python3.10/site-packages/sklearn_extra/cluster/_k_medoids.py:329: UserWarning: Cluster 1 is empty! self.labels_[self.medoid_indices_[1]] may not be labeled with its corresponding cluster (1).\n",
      "  warnings.warn(\n",
      "/opt/homebrew/lib/python3.10/site-packages/sklearn_extra/cluster/_k_medoids.py:329: UserWarning: Cluster 1 is empty! self.labels_[self.medoid_indices_[1]] may not be labeled with its corresponding cluster (1).\n",
      "  warnings.warn(\n"
     ]
    },
    {
     "name": "stdout",
     "output_type": "stream",
     "text": [
      "Iteration: 177\n",
      "Algorithm: DBSCAN Clustering\n",
      "Iteration: 178\n",
      "Algorithm: Mean Shift\n",
      "Iteration: 179\n",
      "Algorithm: Mean Shift\n",
      "Iteration: 180\n",
      "Algorithm: Mean Shift\n",
      "Iteration: 181\n",
      "Algorithm: Mean Shift\n",
      "Iteration: 182\n",
      "Algorithm: K-Mediods\n",
      "Iteration: 183\n",
      "Algorithm: K-Means\n"
     ]
    },
    {
     "name": "stderr",
     "output_type": "stream",
     "text": [
      "/opt/homebrew/lib/python3.10/site-packages/sklearn_extra/cluster/_k_medoids.py:329: UserWarning: Cluster 1 is empty! self.labels_[self.medoid_indices_[1]] may not be labeled with its corresponding cluster (1).\n",
      "  warnings.warn(\n"
     ]
    },
    {
     "name": "stdout",
     "output_type": "stream",
     "text": [
      "Iteration: 184\n",
      "Algorithm: Mean Shift\n",
      "Iteration: 185\n",
      "Algorithm: K-Mediods\n"
     ]
    },
    {
     "name": "stderr",
     "output_type": "stream",
     "text": [
      "/opt/homebrew/lib/python3.10/site-packages/sklearn_extra/cluster/_k_medoids.py:329: UserWarning: Cluster 1 is empty! self.labels_[self.medoid_indices_[1]] may not be labeled with its corresponding cluster (1).\n",
      "  warnings.warn(\n"
     ]
    },
    {
     "name": "stdout",
     "output_type": "stream",
     "text": [
      "Iteration: 186\n",
      "Algorithm: DBSCAN Clustering\n",
      "Iteration: 187\n",
      "Algorithm: EM Clustering\n",
      "Iteration: 188\n",
      "Algorithm: EM Clustering\n",
      "Iteration: 189\n",
      "Algorithm: K-Means\n",
      "Iteration: 190\n",
      "Algorithm: EM Clustering\n",
      "Iteration: 191\n",
      "Algorithm: EM Clustering\n",
      "Iteration: 192\n",
      "Algorithm: Mean Shift\n",
      "Iteration: 193\n",
      "Algorithm: EM Clustering\n",
      "Iteration: 194\n",
      "Algorithm: K-Mediods\n"
     ]
    },
    {
     "name": "stderr",
     "output_type": "stream",
     "text": [
      "/opt/homebrew/lib/python3.10/site-packages/sklearn_extra/cluster/_k_medoids.py:329: UserWarning: Cluster 1 is empty! self.labels_[self.medoid_indices_[1]] may not be labeled with its corresponding cluster (1).\n",
      "  warnings.warn(\n"
     ]
    },
    {
     "name": "stdout",
     "output_type": "stream",
     "text": [
      "Iteration: 195\n",
      "Algorithm: K-Means\n",
      "Iteration: 196\n",
      "Algorithm: K-Means\n",
      "Iteration: 197\n",
      "Algorithm: K-Mediods\n",
      "Iteration: 198\n",
      "Algorithm: K-Means\n"
     ]
    },
    {
     "name": "stderr",
     "output_type": "stream",
     "text": [
      "/opt/homebrew/lib/python3.10/site-packages/sklearn_extra/cluster/_k_medoids.py:329: UserWarning: Cluster 1 is empty! self.labels_[self.medoid_indices_[1]] may not be labeled with its corresponding cluster (1).\n",
      "  warnings.warn(\n"
     ]
    },
    {
     "name": "stdout",
     "output_type": "stream",
     "text": [
      "Iteration: 199\n",
      "Algorithm: EM Clustering\n",
      "Iteration: 200\n",
      "Algorithm: EM Clustering\n",
      "Iteration: 201\n",
      "Algorithm: K-Means\n",
      "Iteration: 202\n",
      "Algorithm: DBSCAN Clustering\n",
      "Iteration: 203\n",
      "Algorithm: Mean Shift\n",
      "Iteration: 204\n",
      "Algorithm: Mean Shift\n",
      "Iteration: 205\n",
      "Algorithm: DBSCAN Clustering\n",
      "Iteration: 206\n",
      "Algorithm: EM Clustering\n",
      "Iteration: 207\n",
      "Algorithm: K-Mediods\n"
     ]
    },
    {
     "name": "stderr",
     "output_type": "stream",
     "text": [
      "/opt/homebrew/lib/python3.10/site-packages/sklearn_extra/cluster/_k_medoids.py:329: UserWarning: Cluster 1 is empty! self.labels_[self.medoid_indices_[1]] may not be labeled with its corresponding cluster (1).\n",
      "  warnings.warn(\n"
     ]
    },
    {
     "name": "stdout",
     "output_type": "stream",
     "text": [
      "Iteration: 208\n",
      "Algorithm: K-Means\n",
      "Iteration: 209\n",
      "Algorithm: K-Means\n",
      "Iteration: 210\n",
      "Algorithm: K-Means\n",
      "Iteration: 211\n",
      "Algorithm: Mean Shift\n",
      "Iteration: 212\n",
      "Algorithm: K-Means\n",
      "Iteration: 213\n",
      "Algorithm: Mean Shift\n",
      "Iteration: 214\n",
      "Algorithm: DBSCAN Clustering\n",
      "Iteration: 215\n",
      "Algorithm: K-Means\n",
      "Iteration: 216\n",
      "Algorithm: K-Means\n",
      "Iteration: 217\n",
      "Algorithm: DBSCAN Clustering\n",
      "Iteration: 218\n",
      "Algorithm: DBSCAN Clustering\n",
      "Iteration: 219\n",
      "Algorithm: K-Mediods\n",
      "Iteration: 220\n",
      "Algorithm: Mean Shift\n"
     ]
    },
    {
     "name": "stderr",
     "output_type": "stream",
     "text": [
      "/opt/homebrew/lib/python3.10/site-packages/sklearn_extra/cluster/_k_medoids.py:329: UserWarning: Cluster 1 is empty! self.labels_[self.medoid_indices_[1]] may not be labeled with its corresponding cluster (1).\n",
      "  warnings.warn(\n"
     ]
    },
    {
     "name": "stdout",
     "output_type": "stream",
     "text": [
      "Iteration: 221\n",
      "Algorithm: Mean Shift\n",
      "Iteration: 222\n",
      "Algorithm: EM Clustering\n",
      "Iteration: 223\n",
      "Algorithm: Mean Shift\n",
      "Iteration: 224\n",
      "Algorithm: DBSCAN Clustering\n",
      "Iteration: 225\n",
      "Algorithm: K-Mediods\n",
      "Iteration: 226\n",
      "Algorithm: K-Mediods\n"
     ]
    },
    {
     "name": "stderr",
     "output_type": "stream",
     "text": [
      "/opt/homebrew/lib/python3.10/site-packages/sklearn_extra/cluster/_k_medoids.py:329: UserWarning: Cluster 1 is empty! self.labels_[self.medoid_indices_[1]] may not be labeled with its corresponding cluster (1).\n",
      "  warnings.warn(\n"
     ]
    },
    {
     "name": "stdout",
     "output_type": "stream",
     "text": [
      "Iteration: 227\n",
      "Algorithm: K-Mediods\n",
      "Iteration: 228\n",
      "Algorithm: K-Mediods\n"
     ]
    },
    {
     "name": "stderr",
     "output_type": "stream",
     "text": [
      "/opt/homebrew/lib/python3.10/site-packages/sklearn_extra/cluster/_k_medoids.py:329: UserWarning: Cluster 1 is empty! self.labels_[self.medoid_indices_[1]] may not be labeled with its corresponding cluster (1).\n",
      "  warnings.warn(\n",
      "/opt/homebrew/lib/python3.10/site-packages/sklearn_extra/cluster/_k_medoids.py:329: UserWarning: Cluster 1 is empty! self.labels_[self.medoid_indices_[1]] may not be labeled with its corresponding cluster (1).\n",
      "  warnings.warn(\n"
     ]
    },
    {
     "name": "stdout",
     "output_type": "stream",
     "text": [
      "Iteration: 229\n",
      "Algorithm: K-Means\n",
      "Iteration: 230\n",
      "Algorithm: EM Clustering\n",
      "Iteration: 231\n",
      "Algorithm: Mean Shift\n",
      "Iteration: 232\n",
      "Algorithm: DBSCAN Clustering\n",
      "Iteration: 233\n",
      "Algorithm: Mean Shift\n",
      "Iteration: 234\n",
      "Algorithm: K-Means\n",
      "Iteration: 235\n",
      "Algorithm: Mean Shift\n",
      "Iteration: 236\n",
      "Algorithm: K-Mediods\n",
      "Iteration: 237\n",
      "Algorithm: K-Means\n"
     ]
    },
    {
     "name": "stderr",
     "output_type": "stream",
     "text": [
      "/opt/homebrew/lib/python3.10/site-packages/sklearn_extra/cluster/_k_medoids.py:329: UserWarning: Cluster 1 is empty! self.labels_[self.medoid_indices_[1]] may not be labeled with its corresponding cluster (1).\n",
      "  warnings.warn(\n"
     ]
    },
    {
     "name": "stdout",
     "output_type": "stream",
     "text": [
      "Iteration: 238\n",
      "Algorithm: DBSCAN Clustering\n",
      "Iteration: 239\n",
      "Algorithm: EM Clustering\n",
      "Iteration: 240\n",
      "Algorithm: DBSCAN Clustering\n",
      "Iteration: 241\n",
      "Algorithm: EM Clustering\n",
      "Iteration: 242\n",
      "Algorithm: DBSCAN Clustering\n",
      "Iteration: 243\n",
      "Algorithm: K-Mediods\n"
     ]
    },
    {
     "name": "stderr",
     "output_type": "stream",
     "text": [
      "/opt/homebrew/lib/python3.10/site-packages/sklearn_extra/cluster/_k_medoids.py:329: UserWarning: Cluster 1 is empty! self.labels_[self.medoid_indices_[1]] may not be labeled with its corresponding cluster (1).\n",
      "  warnings.warn(\n"
     ]
    },
    {
     "name": "stdout",
     "output_type": "stream",
     "text": [
      "Iteration: 244\n",
      "Algorithm: DBSCAN Clustering\n",
      "Iteration: 245\n",
      "Algorithm: EM Clustering\n",
      "Iteration: 246\n",
      "Algorithm: K-Means\n",
      "Iteration: 247\n",
      "Algorithm: K-Mediods\n"
     ]
    },
    {
     "name": "stderr",
     "output_type": "stream",
     "text": [
      "/opt/homebrew/lib/python3.10/site-packages/sklearn_extra/cluster/_k_medoids.py:329: UserWarning: Cluster 1 is empty! self.labels_[self.medoid_indices_[1]] may not be labeled with its corresponding cluster (1).\n",
      "  warnings.warn(\n"
     ]
    },
    {
     "name": "stdout",
     "output_type": "stream",
     "text": [
      "Iteration: 248\n",
      "Algorithm: EM Clustering\n",
      "Iteration: 249\n",
      "Algorithm: EM Clustering\n",
      "Iteration: 250\n",
      "Algorithm: EM Clustering\n",
      "Iteration: 251\n",
      "Algorithm: K-Mediods\n"
     ]
    },
    {
     "name": "stderr",
     "output_type": "stream",
     "text": [
      "/opt/homebrew/lib/python3.10/site-packages/sklearn_extra/cluster/_k_medoids.py:329: UserWarning: Cluster 1 is empty! self.labels_[self.medoid_indices_[1]] may not be labeled with its corresponding cluster (1).\n",
      "  warnings.warn(\n"
     ]
    },
    {
     "name": "stdout",
     "output_type": "stream",
     "text": [
      "Iteration: 252\n",
      "Algorithm: EM Clustering\n",
      "Iteration: 253\n",
      "Algorithm: K-Mediods\n"
     ]
    },
    {
     "name": "stderr",
     "output_type": "stream",
     "text": [
      "/opt/homebrew/lib/python3.10/site-packages/sklearn_extra/cluster/_k_medoids.py:329: UserWarning: Cluster 1 is empty! self.labels_[self.medoid_indices_[1]] may not be labeled with its corresponding cluster (1).\n",
      "  warnings.warn(\n"
     ]
    },
    {
     "name": "stdout",
     "output_type": "stream",
     "text": [
      "Iteration: 254\n",
      "Algorithm: DBSCAN Clustering\n",
      "Iteration: 255\n",
      "Algorithm: K-Mediods\n",
      "Iteration: 256\n",
      "Algorithm: Mean Shift\n"
     ]
    },
    {
     "name": "stderr",
     "output_type": "stream",
     "text": [
      "/opt/homebrew/lib/python3.10/site-packages/sklearn_extra/cluster/_k_medoids.py:329: UserWarning: Cluster 1 is empty! self.labels_[self.medoid_indices_[1]] may not be labeled with its corresponding cluster (1).\n",
      "  warnings.warn(\n"
     ]
    },
    {
     "name": "stdout",
     "output_type": "stream",
     "text": [
      "Iteration: 257\n",
      "Algorithm: EM Clustering\n",
      "Iteration: 258\n",
      "Algorithm: Mean Shift\n",
      "Iteration: 259\n",
      "Algorithm: DBSCAN Clustering\n",
      "Iteration: 260\n",
      "Algorithm: K-Means\n",
      "Iteration: 261\n",
      "Algorithm: Mean Shift\n",
      "Iteration: 262\n",
      "Algorithm: EM Clustering\n",
      "Iteration: 263\n",
      "Algorithm: K-Means\n",
      "Iteration: 264\n",
      "Algorithm: EM Clustering\n",
      "Iteration: 265\n",
      "Algorithm: Mean Shift\n",
      "Iteration: 266\n",
      "Algorithm: DBSCAN Clustering\n",
      "Iteration: 267\n",
      "Algorithm: DBSCAN Clustering\n",
      "Iteration: 268\n",
      "Algorithm: K-Means\n",
      "Iteration: 269\n",
      "Algorithm: K-Mediods\n"
     ]
    },
    {
     "name": "stderr",
     "output_type": "stream",
     "text": [
      "/opt/homebrew/lib/python3.10/site-packages/sklearn_extra/cluster/_k_medoids.py:329: UserWarning: Cluster 1 is empty! self.labels_[self.medoid_indices_[1]] may not be labeled with its corresponding cluster (1).\n",
      "  warnings.warn(\n"
     ]
    },
    {
     "name": "stdout",
     "output_type": "stream",
     "text": [
      "Iteration: 270\n",
      "Algorithm: DBSCAN Clustering\n",
      "Iteration: 271\n",
      "Algorithm: DBSCAN Clustering\n",
      "Iteration: 272\n",
      "Algorithm: EM Clustering\n",
      "Iteration: 273\n",
      "Algorithm: Mean Shift\n",
      "Iteration: 274\n",
      "Algorithm: DBSCAN Clustering\n",
      "Iteration: 275\n",
      "Algorithm: EM Clustering\n",
      "Iteration: 276\n",
      "Algorithm: Mean Shift\n",
      "Iteration: 277\n",
      "Algorithm: K-Means\n",
      "Iteration: 278\n",
      "Algorithm: K-Means\n",
      "Iteration: 279\n",
      "Algorithm: K-Means\n",
      "Iteration: 280\n",
      "Algorithm: K-Means\n",
      "Iteration: 281\n",
      "Algorithm: K-Mediods\n"
     ]
    },
    {
     "name": "stderr",
     "output_type": "stream",
     "text": [
      "/opt/homebrew/lib/python3.10/site-packages/sklearn_extra/cluster/_k_medoids.py:329: UserWarning: Cluster 1 is empty! self.labels_[self.medoid_indices_[1]] may not be labeled with its corresponding cluster (1).\n",
      "  warnings.warn(\n"
     ]
    },
    {
     "name": "stdout",
     "output_type": "stream",
     "text": [
      "Iteration: 282\n",
      "Algorithm: K-Means\n",
      "Iteration: 283\n",
      "Algorithm: EM Clustering\n",
      "Iteration: 284\n",
      "Algorithm: DBSCAN Clustering\n",
      "Iteration: 285\n",
      "Algorithm: Mean Shift\n",
      "Iteration: 286\n",
      "Algorithm: EM Clustering\n",
      "Iteration: 287\n",
      "Algorithm: Mean Shift\n",
      "Iteration: 288\n",
      "Algorithm: EM Clustering\n",
      "Iteration: 289\n",
      "Algorithm: K-Means\n",
      "Iteration: 290\n",
      "Algorithm: DBSCAN Clustering\n",
      "Iteration: 291\n",
      "Algorithm: K-Means\n",
      "Iteration: 292\n",
      "Algorithm: K-Means\n",
      "Iteration: 293\n",
      "Algorithm: DBSCAN Clustering\n",
      "Iteration: 294\n",
      "Algorithm: Mean Shift\n",
      "Iteration: 295\n",
      "Algorithm: K-Means\n",
      "Iteration: 296\n",
      "Algorithm: DBSCAN Clustering\n",
      "Iteration: 297\n",
      "Algorithm: EM Clustering\n",
      "Iteration: 298\n",
      "Algorithm: K-Means\n",
      "Iteration: 299\n",
      "Algorithm: Mean Shift\n",
      "Iteration: 300\n",
      "Algorithm: K-Means\n",
      "Iteration: 301\n",
      "Algorithm: DBSCAN Clustering\n",
      "Iteration: 302\n",
      "Algorithm: K-Means\n",
      "Iteration: 303\n",
      "Algorithm: K-Means\n",
      "Iteration: 304\n",
      "Algorithm: DBSCAN Clustering\n",
      "Iteration: 305\n",
      "Algorithm: Mean Shift\n",
      "Iteration: 306\n",
      "Algorithm: K-Mediods\n"
     ]
    },
    {
     "name": "stderr",
     "output_type": "stream",
     "text": [
      "/opt/homebrew/lib/python3.10/site-packages/sklearn_extra/cluster/_k_medoids.py:329: UserWarning: Cluster 1 is empty! self.labels_[self.medoid_indices_[1]] may not be labeled with its corresponding cluster (1).\n",
      "  warnings.warn(\n",
      "/opt/homebrew/lib/python3.10/site-packages/sklearn_extra/cluster/_k_medoids.py:329: UserWarning: Cluster 1 is empty! self.labels_[self.medoid_indices_[1]] may not be labeled with its corresponding cluster (1).\n",
      "  warnings.warn(\n"
     ]
    },
    {
     "name": "stdout",
     "output_type": "stream",
     "text": [
      "Iteration: 307\n",
      "Algorithm: K-Mediods\n",
      "Iteration: 308\n",
      "Algorithm: K-Means\n",
      "Iteration: 309\n",
      "Algorithm: Mean Shift\n",
      "Iteration: 310\n",
      "Algorithm: EM Clustering\n",
      "Iteration: 311\n",
      "Algorithm: DBSCAN Clustering\n",
      "Iteration: 312\n",
      "Algorithm: K-Means\n",
      "Iteration: 313\n",
      "Algorithm: EM Clustering\n",
      "Iteration: 314\n",
      "Algorithm: K-Means\n",
      "Iteration: 315\n",
      "Algorithm: Mean Shift\n",
      "Iteration: 316\n",
      "Algorithm: K-Mediods\n"
     ]
    },
    {
     "name": "stderr",
     "output_type": "stream",
     "text": [
      "/opt/homebrew/lib/python3.10/site-packages/sklearn_extra/cluster/_k_medoids.py:329: UserWarning: Cluster 1 is empty! self.labels_[self.medoid_indices_[1]] may not be labeled with its corresponding cluster (1).\n",
      "  warnings.warn(\n"
     ]
    },
    {
     "name": "stdout",
     "output_type": "stream",
     "text": [
      "Iteration: 317\n",
      "Algorithm: K-Means\n",
      "Iteration: 318\n",
      "Algorithm: K-Means\n",
      "Iteration: 319\n",
      "Algorithm: K-Mediods\n"
     ]
    },
    {
     "name": "stderr",
     "output_type": "stream",
     "text": [
      "/opt/homebrew/lib/python3.10/site-packages/sklearn_extra/cluster/_k_medoids.py:329: UserWarning: Cluster 1 is empty! self.labels_[self.medoid_indices_[1]] may not be labeled with its corresponding cluster (1).\n",
      "  warnings.warn(\n"
     ]
    },
    {
     "name": "stdout",
     "output_type": "stream",
     "text": [
      "Iteration: 320\n",
      "Algorithm: Mean Shift\n",
      "Iteration: 321\n",
      "Algorithm: EM Clustering\n",
      "Iteration: 322\n",
      "Algorithm: EM Clustering\n",
      "Iteration: 323\n",
      "Algorithm: K-Mediods\n"
     ]
    },
    {
     "name": "stderr",
     "output_type": "stream",
     "text": [
      "/opt/homebrew/lib/python3.10/site-packages/sklearn_extra/cluster/_k_medoids.py:329: UserWarning: Cluster 1 is empty! self.labels_[self.medoid_indices_[1]] may not be labeled with its corresponding cluster (1).\n",
      "  warnings.warn(\n"
     ]
    },
    {
     "name": "stdout",
     "output_type": "stream",
     "text": [
      "Iteration: 324\n",
      "Algorithm: K-Means\n",
      "Iteration: 325\n",
      "Algorithm: K-Means\n",
      "Iteration: 326\n",
      "Algorithm: Mean Shift\n",
      "Iteration: 327\n",
      "Algorithm: K-Means\n",
      "Iteration: 328\n",
      "Algorithm: EM Clustering\n",
      "Iteration: 329\n",
      "Algorithm: EM Clustering\n",
      "Iteration: 330\n",
      "Algorithm: K-Means\n",
      "Iteration: 331\n",
      "Algorithm: K-Means\n",
      "Iteration: 332\n",
      "Algorithm: EM Clustering\n",
      "Iteration: 333\n",
      "Algorithm: DBSCAN Clustering\n",
      "Iteration: 334\n",
      "Algorithm: EM Clustering\n",
      "Iteration: 335\n",
      "Algorithm: EM Clustering\n",
      "Iteration: 336\n",
      "Algorithm: K-Mediods\n"
     ]
    },
    {
     "name": "stderr",
     "output_type": "stream",
     "text": [
      "/opt/homebrew/lib/python3.10/site-packages/sklearn_extra/cluster/_k_medoids.py:329: UserWarning: Cluster 1 is empty! self.labels_[self.medoid_indices_[1]] may not be labeled with its corresponding cluster (1).\n",
      "  warnings.warn(\n"
     ]
    },
    {
     "name": "stdout",
     "output_type": "stream",
     "text": [
      "Iteration: 337\n",
      "Algorithm: DBSCAN Clustering\n",
      "Iteration: 338\n",
      "Algorithm: K-Means\n",
      "Iteration: 339\n",
      "Algorithm: K-Means\n",
      "Iteration: 340\n",
      "Algorithm: Mean Shift\n",
      "Iteration: 341\n",
      "Algorithm: Mean Shift\n",
      "Iteration: 342\n",
      "Algorithm: EM Clustering\n",
      "Iteration: 343\n",
      "Algorithm: EM Clustering\n",
      "Iteration: 344\n",
      "Algorithm: Mean Shift\n",
      "Iteration: 345\n",
      "Algorithm: K-Mediods\n",
      "Iteration: 346\n",
      "Algorithm: EM Clustering\n"
     ]
    },
    {
     "name": "stderr",
     "output_type": "stream",
     "text": [
      "/opt/homebrew/lib/python3.10/site-packages/sklearn_extra/cluster/_k_medoids.py:329: UserWarning: Cluster 1 is empty! self.labels_[self.medoid_indices_[1]] may not be labeled with its corresponding cluster (1).\n",
      "  warnings.warn(\n"
     ]
    },
    {
     "name": "stdout",
     "output_type": "stream",
     "text": [
      "Iteration: 347\n",
      "Algorithm: EM Clustering\n",
      "Iteration: 348\n",
      "Algorithm: K-Mediods\n"
     ]
    },
    {
     "name": "stderr",
     "output_type": "stream",
     "text": [
      "/opt/homebrew/lib/python3.10/site-packages/sklearn_extra/cluster/_k_medoids.py:329: UserWarning: Cluster 1 is empty! self.labels_[self.medoid_indices_[1]] may not be labeled with its corresponding cluster (1).\n",
      "  warnings.warn(\n"
     ]
    },
    {
     "name": "stdout",
     "output_type": "stream",
     "text": [
      "Iteration: 349\n",
      "Algorithm: Mean Shift\n",
      "Iteration: 350\n",
      "Algorithm: DBSCAN Clustering\n",
      "Iteration: 351\n",
      "Algorithm: Mean Shift\n",
      "Iteration: 352\n",
      "Algorithm: K-Means\n",
      "Iteration: 353\n",
      "Algorithm: K-Means\n",
      "Iteration: 354\n",
      "Algorithm: K-Mediods\n"
     ]
    },
    {
     "name": "stderr",
     "output_type": "stream",
     "text": [
      "/opt/homebrew/lib/python3.10/site-packages/sklearn_extra/cluster/_k_medoids.py:329: UserWarning: Cluster 1 is empty! self.labels_[self.medoid_indices_[1]] may not be labeled with its corresponding cluster (1).\n",
      "  warnings.warn(\n"
     ]
    },
    {
     "name": "stdout",
     "output_type": "stream",
     "text": [
      "Iteration: 355\n",
      "Algorithm: K-Means\n",
      "Iteration: 356\n",
      "Algorithm: K-Means\n",
      "Iteration: 357\n",
      "Algorithm: K-Mediods\n"
     ]
    },
    {
     "name": "stderr",
     "output_type": "stream",
     "text": [
      "/opt/homebrew/lib/python3.10/site-packages/sklearn_extra/cluster/_k_medoids.py:329: UserWarning: Cluster 1 is empty! self.labels_[self.medoid_indices_[1]] may not be labeled with its corresponding cluster (1).\n",
      "  warnings.warn(\n",
      "/opt/homebrew/lib/python3.10/site-packages/sklearn_extra/cluster/_k_medoids.py:329: UserWarning: Cluster 1 is empty! self.labels_[self.medoid_indices_[1]] may not be labeled with its corresponding cluster (1).\n",
      "  warnings.warn(\n"
     ]
    },
    {
     "name": "stdout",
     "output_type": "stream",
     "text": [
      "Iteration: 358\n",
      "Algorithm: K-Mediods\n",
      "Iteration: 359\n",
      "Algorithm: K-Mediods\n"
     ]
    },
    {
     "name": "stderr",
     "output_type": "stream",
     "text": [
      "/opt/homebrew/lib/python3.10/site-packages/sklearn_extra/cluster/_k_medoids.py:329: UserWarning: Cluster 1 is empty! self.labels_[self.medoid_indices_[1]] may not be labeled with its corresponding cluster (1).\n",
      "  warnings.warn(\n",
      "/opt/homebrew/lib/python3.10/site-packages/sklearn_extra/cluster/_k_medoids.py:329: UserWarning: Cluster 1 is empty! self.labels_[self.medoid_indices_[1]] may not be labeled with its corresponding cluster (1).\n",
      "  warnings.warn(\n"
     ]
    },
    {
     "name": "stdout",
     "output_type": "stream",
     "text": [
      "Iteration: 360\n",
      "Algorithm: K-Mediods\n",
      "Iteration: 361\n",
      "Algorithm: Mean Shift\n",
      "Iteration: 362\n",
      "Algorithm: K-Mediods\n"
     ]
    },
    {
     "name": "stderr",
     "output_type": "stream",
     "text": [
      "/opt/homebrew/lib/python3.10/site-packages/sklearn_extra/cluster/_k_medoids.py:329: UserWarning: Cluster 1 is empty! self.labels_[self.medoid_indices_[1]] may not be labeled with its corresponding cluster (1).\n",
      "  warnings.warn(\n"
     ]
    },
    {
     "name": "stdout",
     "output_type": "stream",
     "text": [
      "Iteration: 363\n",
      "Algorithm: K-Means\n",
      "Iteration: 364\n",
      "Algorithm: EM Clustering\n",
      "Iteration: 365\n",
      "Algorithm: Mean Shift\n",
      "Iteration: 366\n",
      "Algorithm: EM Clustering\n",
      "Iteration: 367\n",
      "Algorithm: K-Means\n",
      "Iteration: 368\n",
      "Algorithm: DBSCAN Clustering\n",
      "Iteration: 369\n",
      "Algorithm: K-Mediods\n",
      "Iteration: 370\n",
      "Algorithm: K-Mediods\n"
     ]
    },
    {
     "name": "stderr",
     "output_type": "stream",
     "text": [
      "/opt/homebrew/lib/python3.10/site-packages/sklearn_extra/cluster/_k_medoids.py:329: UserWarning: Cluster 1 is empty! self.labels_[self.medoid_indices_[1]] may not be labeled with its corresponding cluster (1).\n",
      "  warnings.warn(\n",
      "/opt/homebrew/lib/python3.10/site-packages/sklearn_extra/cluster/_k_medoids.py:329: UserWarning: Cluster 1 is empty! self.labels_[self.medoid_indices_[1]] may not be labeled with its corresponding cluster (1).\n",
      "  warnings.warn(\n"
     ]
    },
    {
     "name": "stdout",
     "output_type": "stream",
     "text": [
      "Iteration: 371\n",
      "Algorithm: DBSCAN Clustering\n",
      "Iteration: 372\n",
      "Algorithm: K-Mediods\n"
     ]
    },
    {
     "name": "stderr",
     "output_type": "stream",
     "text": [
      "/opt/homebrew/lib/python3.10/site-packages/sklearn_extra/cluster/_k_medoids.py:329: UserWarning: Cluster 1 is empty! self.labels_[self.medoid_indices_[1]] may not be labeled with its corresponding cluster (1).\n",
      "  warnings.warn(\n"
     ]
    },
    {
     "name": "stdout",
     "output_type": "stream",
     "text": [
      "Iteration: 373\n",
      "Algorithm: EM Clustering\n",
      "Iteration: 374\n",
      "Algorithm: EM Clustering\n",
      "Iteration: 375\n",
      "Algorithm: EM Clustering\n",
      "Iteration: 376\n",
      "Algorithm: K-Mediods\n"
     ]
    },
    {
     "name": "stderr",
     "output_type": "stream",
     "text": [
      "/opt/homebrew/lib/python3.10/site-packages/sklearn_extra/cluster/_k_medoids.py:329: UserWarning: Cluster 1 is empty! self.labels_[self.medoid_indices_[1]] may not be labeled with its corresponding cluster (1).\n",
      "  warnings.warn(\n"
     ]
    },
    {
     "name": "stdout",
     "output_type": "stream",
     "text": [
      "Iteration: 377\n",
      "Algorithm: DBSCAN Clustering\n",
      "Iteration: 378\n",
      "Algorithm: Mean Shift\n",
      "Iteration: 379\n",
      "Algorithm: EM Clustering\n",
      "Iteration: 380\n",
      "Algorithm: Mean Shift\n",
      "Iteration: 381\n",
      "Algorithm: K-Means\n",
      "Iteration: 382\n",
      "Algorithm: EM Clustering\n",
      "Iteration: 383\n",
      "Algorithm: DBSCAN Clustering\n",
      "Iteration: 384\n",
      "Algorithm: DBSCAN Clustering\n",
      "Iteration: 385\n",
      "Algorithm: EM Clustering\n",
      "Iteration: 386\n",
      "Algorithm: K-Means\n",
      "Iteration: 387\n",
      "Algorithm: K-Means\n",
      "Iteration: 388\n",
      "Algorithm: DBSCAN Clustering\n",
      "Iteration: 389\n",
      "Algorithm: DBSCAN Clustering\n",
      "Iteration: 390\n",
      "Algorithm: DBSCAN Clustering\n",
      "Iteration: 391\n",
      "Algorithm: K-Means\n",
      "Iteration: 392\n",
      "Algorithm: K-Mediods\n"
     ]
    },
    {
     "name": "stderr",
     "output_type": "stream",
     "text": [
      "/opt/homebrew/lib/python3.10/site-packages/sklearn_extra/cluster/_k_medoids.py:329: UserWarning: Cluster 1 is empty! self.labels_[self.medoid_indices_[1]] may not be labeled with its corresponding cluster (1).\n",
      "  warnings.warn(\n"
     ]
    },
    {
     "name": "stdout",
     "output_type": "stream",
     "text": [
      "Iteration: 393\n",
      "Algorithm: Mean Shift\n",
      "Iteration: 394\n",
      "Algorithm: DBSCAN Clustering\n",
      "Iteration: 395\n",
      "Algorithm: K-Means\n",
      "Iteration: 396\n",
      "Algorithm: K-Mediods\n",
      "Iteration: 397\n",
      "Algorithm: K-Means\n",
      "Iteration: 398\n",
      "Algorithm: K-Mediods\n"
     ]
    },
    {
     "name": "stderr",
     "output_type": "stream",
     "text": [
      "/opt/homebrew/lib/python3.10/site-packages/sklearn_extra/cluster/_k_medoids.py:329: UserWarning: Cluster 1 is empty! self.labels_[self.medoid_indices_[1]] may not be labeled with its corresponding cluster (1).\n",
      "  warnings.warn(\n"
     ]
    },
    {
     "name": "stdout",
     "output_type": "stream",
     "text": [
      "Iteration: 399\n",
      "Algorithm: K-Means\n",
      "Iteration: 400\n",
      "Algorithm: K-Means\n",
      "Iteration: 401\n",
      "Algorithm: Mean Shift\n",
      "Iteration: 402\n",
      "Algorithm: Mean Shift\n",
      "Iteration: 403\n",
      "Algorithm: K-Mediods\n"
     ]
    },
    {
     "name": "stderr",
     "output_type": "stream",
     "text": [
      "/opt/homebrew/lib/python3.10/site-packages/sklearn_extra/cluster/_k_medoids.py:329: UserWarning: Cluster 1 is empty! self.labels_[self.medoid_indices_[1]] may not be labeled with its corresponding cluster (1).\n",
      "  warnings.warn(\n",
      "/opt/homebrew/lib/python3.10/site-packages/sklearn_extra/cluster/_k_medoids.py:329: UserWarning: Cluster 1 is empty! self.labels_[self.medoid_indices_[1]] may not be labeled with its corresponding cluster (1).\n",
      "  warnings.warn(\n"
     ]
    },
    {
     "name": "stdout",
     "output_type": "stream",
     "text": [
      "Iteration: 404\n",
      "Algorithm: K-Mediods\n",
      "Iteration: 405\n",
      "Algorithm: DBSCAN Clustering\n",
      "Iteration: 406\n",
      "Algorithm: DBSCAN Clustering\n",
      "Iteration: 407\n",
      "Algorithm: K-Mediods\n"
     ]
    },
    {
     "name": "stderr",
     "output_type": "stream",
     "text": [
      "/opt/homebrew/lib/python3.10/site-packages/sklearn_extra/cluster/_k_medoids.py:329: UserWarning: Cluster 1 is empty! self.labels_[self.medoid_indices_[1]] may not be labeled with its corresponding cluster (1).\n",
      "  warnings.warn(\n",
      "/opt/homebrew/lib/python3.10/site-packages/sklearn_extra/cluster/_k_medoids.py:329: UserWarning: Cluster 1 is empty! self.labels_[self.medoid_indices_[1]] may not be labeled with its corresponding cluster (1).\n",
      "  warnings.warn(\n"
     ]
    },
    {
     "name": "stdout",
     "output_type": "stream",
     "text": [
      "Iteration: 408\n",
      "Algorithm: K-Mediods\n",
      "Iteration: 409\n",
      "Algorithm: K-Means\n",
      "Iteration: 410\n",
      "Algorithm: EM Clustering\n",
      "Iteration: 411\n",
      "Algorithm: Mean Shift\n",
      "Iteration: 412\n",
      "Algorithm: K-Mediods\n"
     ]
    },
    {
     "name": "stderr",
     "output_type": "stream",
     "text": [
      "/opt/homebrew/lib/python3.10/site-packages/sklearn_extra/cluster/_k_medoids.py:329: UserWarning: Cluster 1 is empty! self.labels_[self.medoid_indices_[1]] may not be labeled with its corresponding cluster (1).\n",
      "  warnings.warn(\n"
     ]
    },
    {
     "name": "stdout",
     "output_type": "stream",
     "text": [
      "Iteration: 413\n",
      "Algorithm: K-Means\n",
      "Iteration: 414\n",
      "Algorithm: K-Means\n",
      "Iteration: 415\n",
      "Algorithm: Mean Shift\n",
      "Iteration: 416\n",
      "Algorithm: Mean Shift\n",
      "Iteration: 417\n",
      "Algorithm: Mean Shift\n",
      "Iteration: 418\n",
      "Algorithm: K-Mediods\n"
     ]
    },
    {
     "name": "stderr",
     "output_type": "stream",
     "text": [
      "/opt/homebrew/lib/python3.10/site-packages/sklearn_extra/cluster/_k_medoids.py:329: UserWarning: Cluster 1 is empty! self.labels_[self.medoid_indices_[1]] may not be labeled with its corresponding cluster (1).\n",
      "  warnings.warn(\n",
      "/opt/homebrew/lib/python3.10/site-packages/sklearn_extra/cluster/_k_medoids.py:329: UserWarning: Cluster 1 is empty! self.labels_[self.medoid_indices_[1]] may not be labeled with its corresponding cluster (1).\n",
      "  warnings.warn(\n"
     ]
    },
    {
     "name": "stdout",
     "output_type": "stream",
     "text": [
      "Iteration: 419\n",
      "Algorithm: K-Mediods\n",
      "Iteration: 420\n",
      "Algorithm: DBSCAN Clustering\n",
      "Iteration: 421\n",
      "Algorithm: DBSCAN Clustering\n",
      "Iteration: 422\n",
      "Algorithm: K-Mediods\n"
     ]
    },
    {
     "name": "stderr",
     "output_type": "stream",
     "text": [
      "/opt/homebrew/lib/python3.10/site-packages/sklearn_extra/cluster/_k_medoids.py:329: UserWarning: Cluster 1 is empty! self.labels_[self.medoid_indices_[1]] may not be labeled with its corresponding cluster (1).\n",
      "  warnings.warn(\n"
     ]
    },
    {
     "name": "stdout",
     "output_type": "stream",
     "text": [
      "Iteration: 423\n",
      "Algorithm: K-Means\n",
      "Iteration: 424\n",
      "Algorithm: EM Clustering\n",
      "Iteration: 425\n",
      "Algorithm: EM Clustering\n",
      "Iteration: 426\n",
      "Algorithm: K-Means\n",
      "Iteration: 427\n",
      "Algorithm: K-Mediods\n"
     ]
    },
    {
     "name": "stderr",
     "output_type": "stream",
     "text": [
      "/opt/homebrew/lib/python3.10/site-packages/sklearn_extra/cluster/_k_medoids.py:329: UserWarning: Cluster 1 is empty! self.labels_[self.medoid_indices_[1]] may not be labeled with its corresponding cluster (1).\n",
      "  warnings.warn(\n"
     ]
    },
    {
     "name": "stdout",
     "output_type": "stream",
     "text": [
      "Iteration: 428\n",
      "Algorithm: K-Means\n",
      "Iteration: 429\n",
      "Algorithm: Mean Shift\n",
      "Iteration: 430\n",
      "Algorithm: EM Clustering\n",
      "Iteration: 431\n",
      "Algorithm: K-Mediods\n"
     ]
    },
    {
     "name": "stderr",
     "output_type": "stream",
     "text": [
      "/opt/homebrew/lib/python3.10/site-packages/sklearn_extra/cluster/_k_medoids.py:329: UserWarning: Cluster 1 is empty! self.labels_[self.medoid_indices_[1]] may not be labeled with its corresponding cluster (1).\n",
      "  warnings.warn(\n"
     ]
    },
    {
     "name": "stdout",
     "output_type": "stream",
     "text": [
      "Iteration: 432\n",
      "Algorithm: K-Means\n",
      "Iteration: 433\n",
      "Algorithm: Mean Shift\n",
      "Iteration: 434\n",
      "Algorithm: K-Mediods\n",
      "Iteration: 435\n",
      "Algorithm: EM Clustering\n"
     ]
    },
    {
     "name": "stderr",
     "output_type": "stream",
     "text": [
      "/opt/homebrew/lib/python3.10/site-packages/sklearn_extra/cluster/_k_medoids.py:329: UserWarning: Cluster 1 is empty! self.labels_[self.medoid_indices_[1]] may not be labeled with its corresponding cluster (1).\n",
      "  warnings.warn(\n"
     ]
    },
    {
     "name": "stdout",
     "output_type": "stream",
     "text": [
      "Iteration: 436\n",
      "Algorithm: K-Mediods\n"
     ]
    },
    {
     "name": "stderr",
     "output_type": "stream",
     "text": [
      "/opt/homebrew/lib/python3.10/site-packages/sklearn_extra/cluster/_k_medoids.py:329: UserWarning: Cluster 1 is empty! self.labels_[self.medoid_indices_[1]] may not be labeled with its corresponding cluster (1).\n",
      "  warnings.warn(\n"
     ]
    },
    {
     "name": "stdout",
     "output_type": "stream",
     "text": [
      "Iteration: 437\n",
      "Algorithm: EM Clustering\n",
      "Iteration: 438\n",
      "Algorithm: Mean Shift\n",
      "Iteration: 439\n",
      "Algorithm: EM Clustering\n",
      "Iteration: 440\n",
      "Algorithm: Mean Shift\n",
      "Iteration: 441\n",
      "Algorithm: Mean Shift\n",
      "Iteration: 442\n",
      "Algorithm: K-Mediods\n",
      "Iteration: 443\n",
      "Algorithm: K-Mediods\n"
     ]
    },
    {
     "name": "stderr",
     "output_type": "stream",
     "text": [
      "/opt/homebrew/lib/python3.10/site-packages/sklearn_extra/cluster/_k_medoids.py:329: UserWarning: Cluster 1 is empty! self.labels_[self.medoid_indices_[1]] may not be labeled with its corresponding cluster (1).\n",
      "  warnings.warn(\n",
      "/opt/homebrew/lib/python3.10/site-packages/sklearn_extra/cluster/_k_medoids.py:329: UserWarning: Cluster 1 is empty! self.labels_[self.medoid_indices_[1]] may not be labeled with its corresponding cluster (1).\n",
      "  warnings.warn(\n"
     ]
    },
    {
     "name": "stdout",
     "output_type": "stream",
     "text": [
      "Iteration: 444\n",
      "Algorithm: DBSCAN Clustering\n",
      "Iteration: 445\n",
      "Algorithm: K-Means\n",
      "Iteration: 446\n",
      "Algorithm: K-Mediods\n"
     ]
    },
    {
     "name": "stderr",
     "output_type": "stream",
     "text": [
      "/opt/homebrew/lib/python3.10/site-packages/sklearn_extra/cluster/_k_medoids.py:329: UserWarning: Cluster 1 is empty! self.labels_[self.medoid_indices_[1]] may not be labeled with its corresponding cluster (1).\n",
      "  warnings.warn(\n"
     ]
    },
    {
     "name": "stdout",
     "output_type": "stream",
     "text": [
      "Iteration: 447\n",
      "Algorithm: Mean Shift\n",
      "Iteration: 448\n",
      "Algorithm: K-Means\n",
      "Iteration: 449\n",
      "Algorithm: K-Means\n",
      "Iteration: 450\n",
      "Algorithm: EM Clustering\n",
      "Iteration: 451\n",
      "Algorithm: DBSCAN Clustering\n",
      "Iteration: 452\n",
      "Algorithm: K-Mediods\n"
     ]
    },
    {
     "name": "stderr",
     "output_type": "stream",
     "text": [
      "/opt/homebrew/lib/python3.10/site-packages/sklearn_extra/cluster/_k_medoids.py:329: UserWarning: Cluster 1 is empty! self.labels_[self.medoid_indices_[1]] may not be labeled with its corresponding cluster (1).\n",
      "  warnings.warn(\n"
     ]
    },
    {
     "name": "stdout",
     "output_type": "stream",
     "text": [
      "Iteration: 453\n",
      "Algorithm: K-Means\n",
      "Iteration: 454\n",
      "Algorithm: EM Clustering\n",
      "Iteration: 455\n",
      "Algorithm: DBSCAN Clustering\n",
      "Iteration: 456\n",
      "Algorithm: EM Clustering\n",
      "Iteration: 457\n",
      "Algorithm: K-Mediods\n"
     ]
    },
    {
     "name": "stderr",
     "output_type": "stream",
     "text": [
      "/opt/homebrew/lib/python3.10/site-packages/sklearn_extra/cluster/_k_medoids.py:329: UserWarning: Cluster 1 is empty! self.labels_[self.medoid_indices_[1]] may not be labeled with its corresponding cluster (1).\n",
      "  warnings.warn(\n",
      "/opt/homebrew/lib/python3.10/site-packages/sklearn_extra/cluster/_k_medoids.py:329: UserWarning: Cluster 1 is empty! self.labels_[self.medoid_indices_[1]] may not be labeled with its corresponding cluster (1).\n",
      "  warnings.warn(\n"
     ]
    },
    {
     "name": "stdout",
     "output_type": "stream",
     "text": [
      "Iteration: 458\n",
      "Algorithm: K-Mediods\n",
      "Iteration: 459\n",
      "Algorithm: K-Mediods\n"
     ]
    },
    {
     "name": "stderr",
     "output_type": "stream",
     "text": [
      "/opt/homebrew/lib/python3.10/site-packages/sklearn_extra/cluster/_k_medoids.py:329: UserWarning: Cluster 1 is empty! self.labels_[self.medoid_indices_[1]] may not be labeled with its corresponding cluster (1).\n",
      "  warnings.warn(\n"
     ]
    },
    {
     "name": "stdout",
     "output_type": "stream",
     "text": [
      "Iteration: 460\n",
      "Algorithm: K-Means\n",
      "Iteration: 461\n",
      "Algorithm: DBSCAN Clustering\n",
      "Iteration: 462\n",
      "Algorithm: DBSCAN Clustering\n",
      "Iteration: 463\n",
      "Algorithm: Mean Shift\n",
      "Iteration: 464\n",
      "Algorithm: Mean Shift\n",
      "Iteration: 465\n",
      "Algorithm: DBSCAN Clustering\n",
      "Iteration: 466\n",
      "Algorithm: Mean Shift\n",
      "Iteration: 467\n",
      "Algorithm: Mean Shift\n",
      "Iteration: 468\n",
      "Algorithm: K-Mediods\n",
      "Iteration: 469\n",
      "Algorithm: DBSCAN Clustering\n"
     ]
    },
    {
     "name": "stderr",
     "output_type": "stream",
     "text": [
      "/opt/homebrew/lib/python3.10/site-packages/sklearn_extra/cluster/_k_medoids.py:329: UserWarning: Cluster 1 is empty! self.labels_[self.medoid_indices_[1]] may not be labeled with its corresponding cluster (1).\n",
      "  warnings.warn(\n"
     ]
    },
    {
     "name": "stdout",
     "output_type": "stream",
     "text": [
      "Iteration: 470\n",
      "Algorithm: Mean Shift\n",
      "Iteration: 471\n",
      "Algorithm: K-Means\n",
      "Iteration: 472\n",
      "Algorithm: K-Means\n",
      "Iteration: 473\n",
      "Algorithm: DBSCAN Clustering\n",
      "Iteration: 474\n",
      "Algorithm: K-Mediods\n"
     ]
    },
    {
     "name": "stderr",
     "output_type": "stream",
     "text": [
      "/opt/homebrew/lib/python3.10/site-packages/sklearn_extra/cluster/_k_medoids.py:329: UserWarning: Cluster 1 is empty! self.labels_[self.medoid_indices_[1]] may not be labeled with its corresponding cluster (1).\n",
      "  warnings.warn(\n",
      "/opt/homebrew/lib/python3.10/site-packages/sklearn_extra/cluster/_k_medoids.py:329: UserWarning: Cluster 1 is empty! self.labels_[self.medoid_indices_[1]] may not be labeled with its corresponding cluster (1).\n",
      "  warnings.warn(\n"
     ]
    },
    {
     "name": "stdout",
     "output_type": "stream",
     "text": [
      "Iteration: 475\n",
      "Algorithm: K-Mediods\n",
      "Iteration: 476\n",
      "Algorithm: Mean Shift\n",
      "Iteration: 477\n",
      "Algorithm: K-Means\n",
      "Iteration: 478\n",
      "Algorithm: Mean Shift\n",
      "Iteration: 479\n",
      "Algorithm: K-Mediods\n",
      "Iteration: 480\n",
      "Algorithm: DBSCAN Clustering\n"
     ]
    },
    {
     "name": "stderr",
     "output_type": "stream",
     "text": [
      "/opt/homebrew/lib/python3.10/site-packages/sklearn_extra/cluster/_k_medoids.py:329: UserWarning: Cluster 1 is empty! self.labels_[self.medoid_indices_[1]] may not be labeled with its corresponding cluster (1).\n",
      "  warnings.warn(\n"
     ]
    },
    {
     "name": "stdout",
     "output_type": "stream",
     "text": [
      "Iteration: 481\n",
      "Algorithm: Mean Shift\n",
      "Iteration: 482\n",
      "Algorithm: EM Clustering\n",
      "Iteration: 483\n",
      "Algorithm: K-Mediods\n"
     ]
    },
    {
     "name": "stderr",
     "output_type": "stream",
     "text": [
      "/opt/homebrew/lib/python3.10/site-packages/sklearn_extra/cluster/_k_medoids.py:329: UserWarning: Cluster 1 is empty! self.labels_[self.medoid_indices_[1]] may not be labeled with its corresponding cluster (1).\n",
      "  warnings.warn(\n",
      "/opt/homebrew/lib/python3.10/site-packages/sklearn_extra/cluster/_k_medoids.py:329: UserWarning: Cluster 1 is empty! self.labels_[self.medoid_indices_[1]] may not be labeled with its corresponding cluster (1).\n",
      "  warnings.warn(\n"
     ]
    },
    {
     "name": "stdout",
     "output_type": "stream",
     "text": [
      "Iteration: 484\n",
      "Algorithm: K-Mediods\n",
      "Iteration: 485\n",
      "Algorithm: Mean Shift\n",
      "Iteration: 486\n",
      "Algorithm: K-Means\n",
      "Iteration: 487\n",
      "Algorithm: K-Mediods\n"
     ]
    },
    {
     "name": "stderr",
     "output_type": "stream",
     "text": [
      "/opt/homebrew/lib/python3.10/site-packages/sklearn_extra/cluster/_k_medoids.py:329: UserWarning: Cluster 1 is empty! self.labels_[self.medoid_indices_[1]] may not be labeled with its corresponding cluster (1).\n",
      "  warnings.warn(\n",
      "/opt/homebrew/lib/python3.10/site-packages/sklearn_extra/cluster/_k_medoids.py:329: UserWarning: Cluster 1 is empty! self.labels_[self.medoid_indices_[1]] may not be labeled with its corresponding cluster (1).\n",
      "  warnings.warn(\n"
     ]
    },
    {
     "name": "stdout",
     "output_type": "stream",
     "text": [
      "Iteration: 488\n",
      "Algorithm: K-Mediods\n",
      "Iteration: 489\n",
      "Algorithm: Mean Shift\n",
      "Iteration: 490\n",
      "Algorithm: K-Mediods\n",
      "Iteration: 491\n",
      "Algorithm: K-Mediods\n"
     ]
    },
    {
     "name": "stderr",
     "output_type": "stream",
     "text": [
      "/opt/homebrew/lib/python3.10/site-packages/sklearn_extra/cluster/_k_medoids.py:329: UserWarning: Cluster 1 is empty! self.labels_[self.medoid_indices_[1]] may not be labeled with its corresponding cluster (1).\n",
      "  warnings.warn(\n",
      "/opt/homebrew/lib/python3.10/site-packages/sklearn_extra/cluster/_k_medoids.py:329: UserWarning: Cluster 1 is empty! self.labels_[self.medoid_indices_[1]] may not be labeled with its corresponding cluster (1).\n",
      "  warnings.warn(\n"
     ]
    },
    {
     "name": "stdout",
     "output_type": "stream",
     "text": [
      "Iteration: 492\n",
      "Algorithm: Mean Shift\n",
      "Iteration: 493\n",
      "Algorithm: K-Means\n",
      "Iteration: 494\n",
      "Algorithm: K-Mediods\n"
     ]
    },
    {
     "name": "stderr",
     "output_type": "stream",
     "text": [
      "/opt/homebrew/lib/python3.10/site-packages/sklearn_extra/cluster/_k_medoids.py:329: UserWarning: Cluster 1 is empty! self.labels_[self.medoid_indices_[1]] may not be labeled with its corresponding cluster (1).\n",
      "  warnings.warn(\n"
     ]
    },
    {
     "name": "stdout",
     "output_type": "stream",
     "text": [
      "Iteration: 495\n",
      "Algorithm: DBSCAN Clustering\n",
      "Iteration: 496\n",
      "Algorithm: K-Means\n",
      "Iteration: 497\n",
      "Algorithm: Mean Shift\n",
      "Iteration: 498\n",
      "Algorithm: Mean Shift\n",
      "Iteration: 499\n",
      "Algorithm: DBSCAN Clustering\n",
      "Iteration: 500\n",
      "Algorithm: EM Clustering\n",
      "Iteration: 501\n",
      "Algorithm: DBSCAN Clustering\n",
      "Iteration: 502\n",
      "Algorithm: K-Mediods\n",
      "Iteration: 503\n",
      "Algorithm: Mean Shift\n"
     ]
    },
    {
     "name": "stderr",
     "output_type": "stream",
     "text": [
      "/opt/homebrew/lib/python3.10/site-packages/sklearn_extra/cluster/_k_medoids.py:329: UserWarning: Cluster 1 is empty! self.labels_[self.medoid_indices_[1]] may not be labeled with its corresponding cluster (1).\n",
      "  warnings.warn(\n"
     ]
    },
    {
     "name": "stdout",
     "output_type": "stream",
     "text": [
      "Iteration: 504\n",
      "Algorithm: EM Clustering\n",
      "Iteration: 505\n",
      "Algorithm: K-Means\n",
      "Iteration: 506\n",
      "Algorithm: EM Clustering\n",
      "Iteration: 507\n",
      "Algorithm: K-Mediods\n"
     ]
    },
    {
     "name": "stderr",
     "output_type": "stream",
     "text": [
      "/opt/homebrew/lib/python3.10/site-packages/sklearn_extra/cluster/_k_medoids.py:329: UserWarning: Cluster 1 is empty! self.labels_[self.medoid_indices_[1]] may not be labeled with its corresponding cluster (1).\n",
      "  warnings.warn(\n"
     ]
    },
    {
     "name": "stdout",
     "output_type": "stream",
     "text": [
      "Iteration: 508\n",
      "Algorithm: K-Means\n",
      "Iteration: 509\n",
      "Algorithm: K-Means\n",
      "Iteration: 510\n",
      "Algorithm: Mean Shift\n",
      "Iteration: 511\n",
      "Algorithm: EM Clustering\n",
      "Iteration: 512\n",
      "Algorithm: K-Mediods\n"
     ]
    },
    {
     "name": "stderr",
     "output_type": "stream",
     "text": [
      "/opt/homebrew/lib/python3.10/site-packages/sklearn_extra/cluster/_k_medoids.py:329: UserWarning: Cluster 1 is empty! self.labels_[self.medoid_indices_[1]] may not be labeled with its corresponding cluster (1).\n",
      "  warnings.warn(\n"
     ]
    },
    {
     "name": "stdout",
     "output_type": "stream",
     "text": [
      "Iteration: 513\n",
      "Algorithm: EM Clustering\n",
      "Iteration: 514\n",
      "Algorithm: DBSCAN Clustering\n",
      "Iteration: 515\n",
      "Algorithm: K-Means\n",
      "Iteration: 516\n",
      "Algorithm: Mean Shift\n",
      "Iteration: 517\n",
      "Algorithm: K-Means\n",
      "Iteration: 518\n",
      "Algorithm: Mean Shift\n",
      "Iteration: 519\n",
      "Algorithm: K-Means\n",
      "Iteration: 520\n",
      "Algorithm: K-Mediods\n",
      "Iteration: 521\n",
      "Algorithm: K-Mediods\n"
     ]
    },
    {
     "name": "stderr",
     "output_type": "stream",
     "text": [
      "/opt/homebrew/lib/python3.10/site-packages/sklearn_extra/cluster/_k_medoids.py:329: UserWarning: Cluster 1 is empty! self.labels_[self.medoid_indices_[1]] may not be labeled with its corresponding cluster (1).\n",
      "  warnings.warn(\n"
     ]
    },
    {
     "name": "stdout",
     "output_type": "stream",
     "text": [
      "Iteration: 522\n",
      "Algorithm: DBSCAN Clustering\n",
      "Iteration: 523\n",
      "Algorithm: Mean Shift\n",
      "Iteration: 524\n",
      "Algorithm: EM Clustering\n",
      "Iteration: 525\n",
      "Algorithm: Mean Shift\n",
      "Iteration: 526\n",
      "Algorithm: K-Mediods\n"
     ]
    },
    {
     "name": "stderr",
     "output_type": "stream",
     "text": [
      "/opt/homebrew/lib/python3.10/site-packages/sklearn_extra/cluster/_k_medoids.py:329: UserWarning: Cluster 1 is empty! self.labels_[self.medoid_indices_[1]] may not be labeled with its corresponding cluster (1).\n",
      "  warnings.warn(\n"
     ]
    },
    {
     "name": "stdout",
     "output_type": "stream",
     "text": [
      "Iteration: 527\n",
      "Algorithm: EM Clustering\n",
      "Iteration: 528\n",
      "Algorithm: K-Means\n",
      "Iteration: 529\n",
      "Algorithm: K-Mediods\n"
     ]
    },
    {
     "name": "stderr",
     "output_type": "stream",
     "text": [
      "/opt/homebrew/lib/python3.10/site-packages/sklearn_extra/cluster/_k_medoids.py:329: UserWarning: Cluster 1 is empty! self.labels_[self.medoid_indices_[1]] may not be labeled with its corresponding cluster (1).\n",
      "  warnings.warn(\n"
     ]
    },
    {
     "name": "stdout",
     "output_type": "stream",
     "text": [
      "Iteration: 530\n",
      "Algorithm: K-Means\n",
      "Iteration: 531\n",
      "Algorithm: EM Clustering\n",
      "Iteration: 532\n",
      "Algorithm: K-Means\n",
      "Iteration: 533\n",
      "Algorithm: K-Means\n",
      "Iteration: 534\n",
      "Algorithm: K-Mediods\n"
     ]
    },
    {
     "name": "stderr",
     "output_type": "stream",
     "text": [
      "/opt/homebrew/lib/python3.10/site-packages/sklearn_extra/cluster/_k_medoids.py:329: UserWarning: Cluster 1 is empty! self.labels_[self.medoid_indices_[1]] may not be labeled with its corresponding cluster (1).\n",
      "  warnings.warn(\n"
     ]
    },
    {
     "name": "stdout",
     "output_type": "stream",
     "text": [
      "Iteration: 535\n",
      "Algorithm: K-Means\n",
      "Iteration: 536\n",
      "Algorithm: K-Mediods\n"
     ]
    },
    {
     "name": "stderr",
     "output_type": "stream",
     "text": [
      "/opt/homebrew/lib/python3.10/site-packages/sklearn_extra/cluster/_k_medoids.py:329: UserWarning: Cluster 1 is empty! self.labels_[self.medoid_indices_[1]] may not be labeled with its corresponding cluster (1).\n",
      "  warnings.warn(\n"
     ]
    },
    {
     "name": "stdout",
     "output_type": "stream",
     "text": [
      "Iteration: 537\n",
      "Algorithm: DBSCAN Clustering\n",
      "Iteration: 538\n",
      "Algorithm: DBSCAN Clustering\n",
      "Iteration: 539\n",
      "Algorithm: DBSCAN Clustering\n",
      "Iteration: 540\n",
      "Algorithm: DBSCAN Clustering\n",
      "Iteration: 541\n",
      "Algorithm: K-Mediods\n",
      "Iteration: 542\n",
      "Algorithm: K-Means\n"
     ]
    },
    {
     "name": "stderr",
     "output_type": "stream",
     "text": [
      "/opt/homebrew/lib/python3.10/site-packages/sklearn_extra/cluster/_k_medoids.py:329: UserWarning: Cluster 1 is empty! self.labels_[self.medoid_indices_[1]] may not be labeled with its corresponding cluster (1).\n",
      "  warnings.warn(\n"
     ]
    },
    {
     "name": "stdout",
     "output_type": "stream",
     "text": [
      "Iteration: 543\n",
      "Algorithm: K-Mediods\n",
      "Iteration: 544\n",
      "Algorithm: EM Clustering\n"
     ]
    },
    {
     "name": "stderr",
     "output_type": "stream",
     "text": [
      "/opt/homebrew/lib/python3.10/site-packages/sklearn_extra/cluster/_k_medoids.py:329: UserWarning: Cluster 1 is empty! self.labels_[self.medoid_indices_[1]] may not be labeled with its corresponding cluster (1).\n",
      "  warnings.warn(\n"
     ]
    },
    {
     "name": "stdout",
     "output_type": "stream",
     "text": [
      "Iteration: 545\n",
      "Algorithm: DBSCAN Clustering\n",
      "Iteration: 546\n",
      "Algorithm: EM Clustering\n",
      "Iteration: 547\n",
      "Algorithm: Mean Shift\n",
      "Iteration: 548\n",
      "Algorithm: K-Means\n",
      "Iteration: 549\n",
      "Algorithm: K-Mediods\n"
     ]
    },
    {
     "name": "stderr",
     "output_type": "stream",
     "text": [
      "/opt/homebrew/lib/python3.10/site-packages/sklearn_extra/cluster/_k_medoids.py:329: UserWarning: Cluster 1 is empty! self.labels_[self.medoid_indices_[1]] may not be labeled with its corresponding cluster (1).\n",
      "  warnings.warn(\n",
      "/opt/homebrew/lib/python3.10/site-packages/sklearn_extra/cluster/_k_medoids.py:329: UserWarning: Cluster 1 is empty! self.labels_[self.medoid_indices_[1]] may not be labeled with its corresponding cluster (1).\n",
      "  warnings.warn(\n"
     ]
    },
    {
     "name": "stdout",
     "output_type": "stream",
     "text": [
      "Iteration: 550\n",
      "Algorithm: K-Mediods\n",
      "Iteration: 551\n",
      "Algorithm: Mean Shift\n",
      "Iteration: 552\n",
      "Algorithm: K-Mediods\n",
      "Iteration: 553\n",
      "Algorithm: EM Clustering\n"
     ]
    },
    {
     "name": "stderr",
     "output_type": "stream",
     "text": [
      "/opt/homebrew/lib/python3.10/site-packages/sklearn_extra/cluster/_k_medoids.py:329: UserWarning: Cluster 1 is empty! self.labels_[self.medoid_indices_[1]] may not be labeled with its corresponding cluster (1).\n",
      "  warnings.warn(\n"
     ]
    },
    {
     "name": "stdout",
     "output_type": "stream",
     "text": [
      "Iteration: 554\n",
      "Algorithm: K-Means\n",
      "Iteration: 555\n",
      "Algorithm: EM Clustering\n",
      "Iteration: 556\n",
      "Algorithm: DBSCAN Clustering\n",
      "Iteration: 557\n",
      "Algorithm: EM Clustering\n",
      "Iteration: 558\n",
      "Algorithm: K-Mediods\n"
     ]
    },
    {
     "name": "stderr",
     "output_type": "stream",
     "text": [
      "/opt/homebrew/lib/python3.10/site-packages/sklearn_extra/cluster/_k_medoids.py:329: UserWarning: Cluster 1 is empty! self.labels_[self.medoid_indices_[1]] may not be labeled with its corresponding cluster (1).\n",
      "  warnings.warn(\n"
     ]
    },
    {
     "name": "stdout",
     "output_type": "stream",
     "text": [
      "Iteration: 559\n",
      "Algorithm: DBSCAN Clustering\n",
      "Iteration: 560\n",
      "Algorithm: Mean Shift\n",
      "Iteration: 561\n",
      "Algorithm: EM Clustering\n",
      "Iteration: 562\n",
      "Algorithm: Mean Shift\n",
      "Iteration: 563\n",
      "Algorithm: Mean Shift\n",
      "Iteration: 564\n",
      "Algorithm: EM Clustering\n",
      "Iteration: 565\n",
      "Algorithm: EM Clustering\n",
      "Iteration: 566\n",
      "Algorithm: DBSCAN Clustering\n",
      "Iteration: 567\n",
      "Algorithm: EM Clustering\n",
      "Iteration: 568\n",
      "Algorithm: Mean Shift\n",
      "Iteration: 569\n",
      "Algorithm: DBSCAN Clustering\n",
      "Iteration: 570\n",
      "Algorithm: K-Means\n",
      "Iteration: 571\n",
      "Algorithm: DBSCAN Clustering\n",
      "Iteration: 572\n",
      "Algorithm: EM Clustering\n",
      "Iteration: 573\n",
      "Algorithm: DBSCAN Clustering\n",
      "Iteration: 574\n",
      "Algorithm: DBSCAN Clustering\n",
      "Iteration: 575\n",
      "Algorithm: K-Mediods\n",
      "Iteration: 576\n",
      "Algorithm: Mean Shift\n"
     ]
    },
    {
     "name": "stderr",
     "output_type": "stream",
     "text": [
      "/opt/homebrew/lib/python3.10/site-packages/sklearn_extra/cluster/_k_medoids.py:329: UserWarning: Cluster 1 is empty! self.labels_[self.medoid_indices_[1]] may not be labeled with its corresponding cluster (1).\n",
      "  warnings.warn(\n"
     ]
    },
    {
     "name": "stdout",
     "output_type": "stream",
     "text": [
      "Iteration: 577\n",
      "Algorithm: Mean Shift\n",
      "Iteration: 578\n",
      "Algorithm: EM Clustering\n",
      "Iteration: 579\n",
      "Algorithm: EM Clustering\n",
      "Iteration: 580\n",
      "Algorithm: DBSCAN Clustering\n",
      "Iteration: 581\n",
      "Algorithm: Mean Shift\n",
      "Iteration: 582\n",
      "Algorithm: EM Clustering\n",
      "Iteration: 583\n",
      "Algorithm: Mean Shift\n",
      "Iteration: 584\n",
      "Algorithm: K-Mediods\n",
      "Iteration: 585\n",
      "Algorithm: Mean Shift\n"
     ]
    },
    {
     "name": "stderr",
     "output_type": "stream",
     "text": [
      "/opt/homebrew/lib/python3.10/site-packages/sklearn_extra/cluster/_k_medoids.py:329: UserWarning: Cluster 1 is empty! self.labels_[self.medoid_indices_[1]] may not be labeled with its corresponding cluster (1).\n",
      "  warnings.warn(\n"
     ]
    },
    {
     "name": "stdout",
     "output_type": "stream",
     "text": [
      "Iteration: 586\n",
      "Algorithm: K-Mediods\n"
     ]
    },
    {
     "name": "stderr",
     "output_type": "stream",
     "text": [
      "/opt/homebrew/lib/python3.10/site-packages/sklearn_extra/cluster/_k_medoids.py:329: UserWarning: Cluster 1 is empty! self.labels_[self.medoid_indices_[1]] may not be labeled with its corresponding cluster (1).\n",
      "  warnings.warn(\n",
      "/opt/homebrew/lib/python3.10/site-packages/sklearn_extra/cluster/_k_medoids.py:329: UserWarning: Cluster 1 is empty! self.labels_[self.medoid_indices_[1]] may not be labeled with its corresponding cluster (1).\n",
      "  warnings.warn(\n"
     ]
    },
    {
     "name": "stdout",
     "output_type": "stream",
     "text": [
      "Iteration: 587\n",
      "Algorithm: K-Mediods\n",
      "Iteration: 588\n",
      "Algorithm: DBSCAN Clustering\n",
      "Iteration: 589\n",
      "Algorithm: K-Mediods\n",
      "Iteration: 590\n",
      "Algorithm: EM Clustering\n"
     ]
    },
    {
     "name": "stderr",
     "output_type": "stream",
     "text": [
      "/opt/homebrew/lib/python3.10/site-packages/sklearn_extra/cluster/_k_medoids.py:329: UserWarning: Cluster 1 is empty! self.labels_[self.medoid_indices_[1]] may not be labeled with its corresponding cluster (1).\n",
      "  warnings.warn(\n"
     ]
    },
    {
     "name": "stdout",
     "output_type": "stream",
     "text": [
      "Iteration: 591\n",
      "Algorithm: DBSCAN Clustering\n",
      "Iteration: 592\n",
      "Algorithm: Mean Shift\n",
      "Iteration: 593\n",
      "Algorithm: K-Mediods\n",
      "Iteration: 594\n",
      "Algorithm: K-Mediods\n"
     ]
    },
    {
     "name": "stderr",
     "output_type": "stream",
     "text": [
      "/opt/homebrew/lib/python3.10/site-packages/sklearn_extra/cluster/_k_medoids.py:329: UserWarning: Cluster 1 is empty! self.labels_[self.medoid_indices_[1]] may not be labeled with its corresponding cluster (1).\n",
      "  warnings.warn(\n",
      "/opt/homebrew/lib/python3.10/site-packages/sklearn_extra/cluster/_k_medoids.py:329: UserWarning: Cluster 1 is empty! self.labels_[self.medoid_indices_[1]] may not be labeled with its corresponding cluster (1).\n",
      "  warnings.warn(\n"
     ]
    },
    {
     "name": "stdout",
     "output_type": "stream",
     "text": [
      "Iteration: 595\n",
      "Algorithm: EM Clustering\n",
      "Iteration: 596\n",
      "Algorithm: Mean Shift\n",
      "Iteration: 597\n",
      "Algorithm: K-Means\n",
      "Iteration: 598\n",
      "Algorithm: DBSCAN Clustering\n",
      "Iteration: 599\n",
      "Algorithm: K-Mediods\n",
      "Iteration: 600\n",
      "Algorithm: K-Means\n"
     ]
    },
    {
     "name": "stderr",
     "output_type": "stream",
     "text": [
      "/opt/homebrew/lib/python3.10/site-packages/sklearn_extra/cluster/_k_medoids.py:329: UserWarning: Cluster 1 is empty! self.labels_[self.medoid_indices_[1]] may not be labeled with its corresponding cluster (1).\n",
      "  warnings.warn(\n"
     ]
    },
    {
     "name": "stdout",
     "output_type": "stream",
     "text": [
      "Iteration: 601\n",
      "Algorithm: Mean Shift\n",
      "Iteration: 602\n",
      "Algorithm: EM Clustering\n",
      "Iteration: 603\n",
      "Algorithm: K-Mediods\n"
     ]
    },
    {
     "name": "stderr",
     "output_type": "stream",
     "text": [
      "/opt/homebrew/lib/python3.10/site-packages/sklearn_extra/cluster/_k_medoids.py:329: UserWarning: Cluster 1 is empty! self.labels_[self.medoid_indices_[1]] may not be labeled with its corresponding cluster (1).\n",
      "  warnings.warn(\n"
     ]
    },
    {
     "name": "stdout",
     "output_type": "stream",
     "text": [
      "Iteration: 604\n",
      "Algorithm: DBSCAN Clustering\n",
      "Iteration: 605\n",
      "Algorithm: K-Means\n",
      "Iteration: 606\n",
      "Algorithm: EM Clustering\n",
      "Iteration: 607\n",
      "Algorithm: K-Mediods\n"
     ]
    },
    {
     "name": "stderr",
     "output_type": "stream",
     "text": [
      "/opt/homebrew/lib/python3.10/site-packages/sklearn_extra/cluster/_k_medoids.py:329: UserWarning: Cluster 1 is empty! self.labels_[self.medoid_indices_[1]] may not be labeled with its corresponding cluster (1).\n",
      "  warnings.warn(\n"
     ]
    },
    {
     "name": "stdout",
     "output_type": "stream",
     "text": [
      "Iteration: 608\n",
      "Algorithm: Mean Shift\n",
      "Iteration: 609\n",
      "Algorithm: EM Clustering\n",
      "Iteration: 610\n",
      "Algorithm: EM Clustering\n",
      "Iteration: 611\n",
      "Algorithm: EM Clustering\n",
      "Iteration: 612\n",
      "Algorithm: K-Mediods\n"
     ]
    },
    {
     "name": "stderr",
     "output_type": "stream",
     "text": [
      "/opt/homebrew/lib/python3.10/site-packages/sklearn_extra/cluster/_k_medoids.py:329: UserWarning: Cluster 1 is empty! self.labels_[self.medoid_indices_[1]] may not be labeled with its corresponding cluster (1).\n",
      "  warnings.warn(\n"
     ]
    },
    {
     "name": "stdout",
     "output_type": "stream",
     "text": [
      "Iteration: 613\n",
      "Algorithm: DBSCAN Clustering\n",
      "Iteration: 614\n",
      "Algorithm: EM Clustering\n",
      "Iteration: 615\n",
      "Algorithm: Mean Shift\n",
      "Iteration: 616\n",
      "Algorithm: DBSCAN Clustering\n",
      "Iteration: 617\n",
      "Algorithm: K-Means\n",
      "Iteration: 618\n",
      "Algorithm: EM Clustering\n",
      "Iteration: 619\n",
      "Algorithm: K-Mediods\n"
     ]
    },
    {
     "name": "stderr",
     "output_type": "stream",
     "text": [
      "/opt/homebrew/lib/python3.10/site-packages/sklearn_extra/cluster/_k_medoids.py:329: UserWarning: Cluster 1 is empty! self.labels_[self.medoid_indices_[1]] may not be labeled with its corresponding cluster (1).\n",
      "  warnings.warn(\n"
     ]
    },
    {
     "name": "stdout",
     "output_type": "stream",
     "text": [
      "Iteration: 620\n",
      "Algorithm: EM Clustering\n",
      "Iteration: 621\n",
      "Algorithm: Mean Shift\n",
      "Iteration: 622\n",
      "Algorithm: K-Means\n",
      "Iteration: 623\n",
      "Algorithm: K-Mediods\n"
     ]
    },
    {
     "name": "stderr",
     "output_type": "stream",
     "text": [
      "/opt/homebrew/lib/python3.10/site-packages/sklearn_extra/cluster/_k_medoids.py:329: UserWarning: Cluster 1 is empty! self.labels_[self.medoid_indices_[1]] may not be labeled with its corresponding cluster (1).\n",
      "  warnings.warn(\n"
     ]
    },
    {
     "name": "stdout",
     "output_type": "stream",
     "text": [
      "Iteration: 624\n",
      "Algorithm: DBSCAN Clustering\n",
      "Iteration: 625\n",
      "Algorithm: K-Means\n",
      "Iteration: 626\n",
      "Algorithm: K-Mediods\n",
      "Iteration: 627\n",
      "Algorithm: K-Mediods\n"
     ]
    },
    {
     "name": "stderr",
     "output_type": "stream",
     "text": [
      "/opt/homebrew/lib/python3.10/site-packages/sklearn_extra/cluster/_k_medoids.py:329: UserWarning: Cluster 1 is empty! self.labels_[self.medoid_indices_[1]] may not be labeled with its corresponding cluster (1).\n",
      "  warnings.warn(\n",
      "/opt/homebrew/lib/python3.10/site-packages/sklearn_extra/cluster/_k_medoids.py:329: UserWarning: Cluster 1 is empty! self.labels_[self.medoid_indices_[1]] may not be labeled with its corresponding cluster (1).\n",
      "  warnings.warn(\n"
     ]
    },
    {
     "name": "stdout",
     "output_type": "stream",
     "text": [
      "Iteration: 628\n",
      "Algorithm: EM Clustering\n",
      "Iteration: 629\n",
      "Algorithm: DBSCAN Clustering\n",
      "Iteration: 630\n",
      "Algorithm: K-Mediods\n"
     ]
    },
    {
     "name": "stderr",
     "output_type": "stream",
     "text": [
      "/opt/homebrew/lib/python3.10/site-packages/sklearn_extra/cluster/_k_medoids.py:329: UserWarning: Cluster 1 is empty! self.labels_[self.medoid_indices_[1]] may not be labeled with its corresponding cluster (1).\n",
      "  warnings.warn(\n",
      "/opt/homebrew/lib/python3.10/site-packages/sklearn_extra/cluster/_k_medoids.py:329: UserWarning: Cluster 1 is empty! self.labels_[self.medoid_indices_[1]] may not be labeled with its corresponding cluster (1).\n",
      "  warnings.warn(\n"
     ]
    },
    {
     "name": "stdout",
     "output_type": "stream",
     "text": [
      "Iteration: 631\n",
      "Algorithm: K-Mediods\n",
      "Iteration: 632\n",
      "Algorithm: DBSCAN Clustering\n",
      "Iteration: 633\n",
      "Algorithm: K-Means\n",
      "Iteration: 634\n",
      "Algorithm: DBSCAN Clustering\n",
      "Iteration: 635\n",
      "Algorithm: Mean Shift\n",
      "Iteration: 636\n",
      "Algorithm: DBSCAN Clustering\n",
      "Iteration: 637\n",
      "Algorithm: K-Mediods\n"
     ]
    },
    {
     "name": "stderr",
     "output_type": "stream",
     "text": [
      "/opt/homebrew/lib/python3.10/site-packages/sklearn_extra/cluster/_k_medoids.py:329: UserWarning: Cluster 1 is empty! self.labels_[self.medoid_indices_[1]] may not be labeled with its corresponding cluster (1).\n",
      "  warnings.warn(\n",
      "/opt/homebrew/lib/python3.10/site-packages/sklearn_extra/cluster/_k_medoids.py:329: UserWarning: Cluster 1 is empty! self.labels_[self.medoid_indices_[1]] may not be labeled with its corresponding cluster (1).\n",
      "  warnings.warn(\n"
     ]
    },
    {
     "name": "stdout",
     "output_type": "stream",
     "text": [
      "Iteration: 638\n",
      "Algorithm: K-Mediods\n",
      "Iteration: 639\n",
      "Algorithm: K-Mediods\n"
     ]
    },
    {
     "name": "stderr",
     "output_type": "stream",
     "text": [
      "/opt/homebrew/lib/python3.10/site-packages/sklearn_extra/cluster/_k_medoids.py:329: UserWarning: Cluster 1 is empty! self.labels_[self.medoid_indices_[1]] may not be labeled with its corresponding cluster (1).\n",
      "  warnings.warn(\n"
     ]
    },
    {
     "name": "stdout",
     "output_type": "stream",
     "text": [
      "Iteration: 640\n",
      "Algorithm: EM Clustering\n",
      "Iteration: 641\n",
      "Algorithm: EM Clustering\n",
      "Iteration: 642\n",
      "Algorithm: K-Mediods\n",
      "Iteration: 643\n",
      "Algorithm: K-Mediods\n"
     ]
    },
    {
     "name": "stderr",
     "output_type": "stream",
     "text": [
      "/opt/homebrew/lib/python3.10/site-packages/sklearn_extra/cluster/_k_medoids.py:329: UserWarning: Cluster 1 is empty! self.labels_[self.medoid_indices_[1]] may not be labeled with its corresponding cluster (1).\n",
      "  warnings.warn(\n",
      "/opt/homebrew/lib/python3.10/site-packages/sklearn_extra/cluster/_k_medoids.py:329: UserWarning: Cluster 1 is empty! self.labels_[self.medoid_indices_[1]] may not be labeled with its corresponding cluster (1).\n",
      "  warnings.warn(\n"
     ]
    },
    {
     "name": "stdout",
     "output_type": "stream",
     "text": [
      "Iteration: 644\n",
      "Algorithm: K-Mediods\n",
      "Iteration: 645\n",
      "Algorithm: K-Means\n"
     ]
    },
    {
     "name": "stderr",
     "output_type": "stream",
     "text": [
      "/opt/homebrew/lib/python3.10/site-packages/sklearn_extra/cluster/_k_medoids.py:329: UserWarning: Cluster 1 is empty! self.labels_[self.medoid_indices_[1]] may not be labeled with its corresponding cluster (1).\n",
      "  warnings.warn(\n"
     ]
    },
    {
     "name": "stdout",
     "output_type": "stream",
     "text": [
      "Iteration: 646\n",
      "Algorithm: EM Clustering\n",
      "Iteration: 647\n",
      "Algorithm: EM Clustering\n",
      "Iteration: 648\n",
      "Algorithm: Mean Shift\n",
      "Iteration: 649\n",
      "Algorithm: K-Mediods\n",
      "Iteration: 650\n",
      "Algorithm: Mean Shift\n"
     ]
    },
    {
     "name": "stderr",
     "output_type": "stream",
     "text": [
      "/opt/homebrew/lib/python3.10/site-packages/sklearn_extra/cluster/_k_medoids.py:329: UserWarning: Cluster 1 is empty! self.labels_[self.medoid_indices_[1]] may not be labeled with its corresponding cluster (1).\n",
      "  warnings.warn(\n"
     ]
    },
    {
     "name": "stdout",
     "output_type": "stream",
     "text": [
      "Iteration: 651\n",
      "Algorithm: EM Clustering\n",
      "Iteration: 652\n",
      "Algorithm: DBSCAN Clustering\n",
      "Iteration: 653\n",
      "Algorithm: DBSCAN Clustering\n",
      "Iteration: 654\n",
      "Algorithm: EM Clustering\n",
      "Iteration: 655\n",
      "Algorithm: Mean Shift\n",
      "Iteration: 656\n",
      "Algorithm: DBSCAN Clustering\n",
      "Iteration: 657\n",
      "Algorithm: K-Mediods\n"
     ]
    },
    {
     "name": "stderr",
     "output_type": "stream",
     "text": [
      "/opt/homebrew/lib/python3.10/site-packages/sklearn_extra/cluster/_k_medoids.py:329: UserWarning: Cluster 1 is empty! self.labels_[self.medoid_indices_[1]] may not be labeled with its corresponding cluster (1).\n",
      "  warnings.warn(\n"
     ]
    },
    {
     "name": "stdout",
     "output_type": "stream",
     "text": [
      "Iteration: 658\n",
      "Algorithm: Mean Shift\n",
      "Iteration: 659\n",
      "Algorithm: DBSCAN Clustering\n",
      "Iteration: 660\n",
      "Algorithm: K-Means\n",
      "Iteration: 661\n",
      "Algorithm: K-Means\n",
      "Iteration: 662\n",
      "Algorithm: DBSCAN Clustering\n",
      "Iteration: 663\n",
      "Algorithm: K-Mediods\n",
      "Iteration: 664\n",
      "Algorithm: EM Clustering\n"
     ]
    },
    {
     "name": "stderr",
     "output_type": "stream",
     "text": [
      "/opt/homebrew/lib/python3.10/site-packages/sklearn_extra/cluster/_k_medoids.py:329: UserWarning: Cluster 1 is empty! self.labels_[self.medoid_indices_[1]] may not be labeled with its corresponding cluster (1).\n",
      "  warnings.warn(\n"
     ]
    },
    {
     "name": "stdout",
     "output_type": "stream",
     "text": [
      "Iteration: 665\n",
      "Algorithm: K-Means\n",
      "Iteration: 666\n",
      "Algorithm: DBSCAN Clustering\n",
      "Iteration: 667\n",
      "Algorithm: K-Mediods\n"
     ]
    },
    {
     "name": "stderr",
     "output_type": "stream",
     "text": [
      "/opt/homebrew/lib/python3.10/site-packages/sklearn_extra/cluster/_k_medoids.py:329: UserWarning: Cluster 1 is empty! self.labels_[self.medoid_indices_[1]] may not be labeled with its corresponding cluster (1).\n",
      "  warnings.warn(\n"
     ]
    },
    {
     "name": "stdout",
     "output_type": "stream",
     "text": [
      "Iteration: 668\n",
      "Algorithm: EM Clustering\n",
      "Iteration: 669\n",
      "Algorithm: K-Means\n",
      "Iteration: 670\n",
      "Algorithm: Mean Shift\n",
      "Iteration: 671\n",
      "Algorithm: K-Mediods\n",
      "Iteration: 672\n",
      "Algorithm: K-Mediods\n"
     ]
    },
    {
     "name": "stderr",
     "output_type": "stream",
     "text": [
      "/opt/homebrew/lib/python3.10/site-packages/sklearn_extra/cluster/_k_medoids.py:329: UserWarning: Cluster 1 is empty! self.labels_[self.medoid_indices_[1]] may not be labeled with its corresponding cluster (1).\n",
      "  warnings.warn(\n",
      "/opt/homebrew/lib/python3.10/site-packages/sklearn_extra/cluster/_k_medoids.py:329: UserWarning: Cluster 1 is empty! self.labels_[self.medoid_indices_[1]] may not be labeled with its corresponding cluster (1).\n",
      "  warnings.warn(\n"
     ]
    },
    {
     "name": "stdout",
     "output_type": "stream",
     "text": [
      "Iteration: 673\n",
      "Algorithm: K-Mediods\n",
      "Iteration: 674\n",
      "Algorithm: Mean Shift\n"
     ]
    },
    {
     "name": "stderr",
     "output_type": "stream",
     "text": [
      "/opt/homebrew/lib/python3.10/site-packages/sklearn_extra/cluster/_k_medoids.py:329: UserWarning: Cluster 1 is empty! self.labels_[self.medoid_indices_[1]] may not be labeled with its corresponding cluster (1).\n",
      "  warnings.warn(\n"
     ]
    },
    {
     "name": "stdout",
     "output_type": "stream",
     "text": [
      "Iteration: 675\n",
      "Algorithm: K-Means\n",
      "Iteration: 676\n",
      "Algorithm: EM Clustering\n",
      "Iteration: 677\n",
      "Algorithm: K-Mediods\n",
      "Iteration: 678\n",
      "Algorithm: K-Means\n"
     ]
    },
    {
     "name": "stderr",
     "output_type": "stream",
     "text": [
      "/opt/homebrew/lib/python3.10/site-packages/sklearn_extra/cluster/_k_medoids.py:329: UserWarning: Cluster 1 is empty! self.labels_[self.medoid_indices_[1]] may not be labeled with its corresponding cluster (1).\n",
      "  warnings.warn(\n"
     ]
    },
    {
     "name": "stdout",
     "output_type": "stream",
     "text": [
      "Iteration: 679\n",
      "Algorithm: Mean Shift\n",
      "Iteration: 680\n",
      "Algorithm: Mean Shift\n",
      "Iteration: 681\n",
      "Algorithm: Mean Shift\n",
      "Iteration: 682\n",
      "Algorithm: DBSCAN Clustering\n",
      "Iteration: 683\n",
      "Algorithm: K-Means\n",
      "Iteration: 684\n",
      "Algorithm: K-Mediods\n",
      "Iteration: 685\n",
      "Algorithm: K-Means\n"
     ]
    },
    {
     "name": "stderr",
     "output_type": "stream",
     "text": [
      "/opt/homebrew/lib/python3.10/site-packages/sklearn_extra/cluster/_k_medoids.py:329: UserWarning: Cluster 1 is empty! self.labels_[self.medoid_indices_[1]] may not be labeled with its corresponding cluster (1).\n",
      "  warnings.warn(\n"
     ]
    },
    {
     "name": "stdout",
     "output_type": "stream",
     "text": [
      "Iteration: 686\n",
      "Algorithm: EM Clustering\n",
      "Iteration: 687\n",
      "Algorithm: EM Clustering\n",
      "Iteration: 688\n",
      "Algorithm: Mean Shift\n",
      "Iteration: 689\n",
      "Algorithm: K-Mediods\n",
      "Iteration: 690\n",
      "Algorithm: Mean Shift\n"
     ]
    },
    {
     "name": "stderr",
     "output_type": "stream",
     "text": [
      "/opt/homebrew/lib/python3.10/site-packages/sklearn_extra/cluster/_k_medoids.py:329: UserWarning: Cluster 1 is empty! self.labels_[self.medoid_indices_[1]] may not be labeled with its corresponding cluster (1).\n",
      "  warnings.warn(\n"
     ]
    },
    {
     "name": "stdout",
     "output_type": "stream",
     "text": [
      "Iteration: 691\n",
      "Algorithm: K-Mediods\n",
      "Iteration: 692\n",
      "Algorithm: DBSCAN Clustering\n"
     ]
    },
    {
     "name": "stderr",
     "output_type": "stream",
     "text": [
      "/opt/homebrew/lib/python3.10/site-packages/sklearn_extra/cluster/_k_medoids.py:329: UserWarning: Cluster 1 is empty! self.labels_[self.medoid_indices_[1]] may not be labeled with its corresponding cluster (1).\n",
      "  warnings.warn(\n"
     ]
    },
    {
     "name": "stdout",
     "output_type": "stream",
     "text": [
      "Iteration: 693\n",
      "Algorithm: EM Clustering\n",
      "Iteration: 694\n",
      "Algorithm: DBSCAN Clustering\n",
      "Iteration: 695\n",
      "Algorithm: Mean Shift\n",
      "Iteration: 696\n",
      "Algorithm: EM Clustering\n",
      "Iteration: 697\n",
      "Algorithm: K-Mediods\n"
     ]
    },
    {
     "name": "stderr",
     "output_type": "stream",
     "text": [
      "/opt/homebrew/lib/python3.10/site-packages/sklearn_extra/cluster/_k_medoids.py:329: UserWarning: Cluster 1 is empty! self.labels_[self.medoid_indices_[1]] may not be labeled with its corresponding cluster (1).\n",
      "  warnings.warn(\n",
      "/opt/homebrew/lib/python3.10/site-packages/sklearn_extra/cluster/_k_medoids.py:329: UserWarning: Cluster 1 is empty! self.labels_[self.medoid_indices_[1]] may not be labeled with its corresponding cluster (1).\n",
      "  warnings.warn(\n"
     ]
    },
    {
     "name": "stdout",
     "output_type": "stream",
     "text": [
      "Iteration: 698\n",
      "Algorithm: K-Mediods\n",
      "Iteration: 699\n",
      "Algorithm: K-Means\n",
      "Iteration: 700\n",
      "Algorithm: K-Mediods\n",
      "Iteration: 701\n",
      "Algorithm: K-Mediods\n"
     ]
    },
    {
     "name": "stderr",
     "output_type": "stream",
     "text": [
      "/opt/homebrew/lib/python3.10/site-packages/sklearn_extra/cluster/_k_medoids.py:329: UserWarning: Cluster 1 is empty! self.labels_[self.medoid_indices_[1]] may not be labeled with its corresponding cluster (1).\n",
      "  warnings.warn(\n",
      "/opt/homebrew/lib/python3.10/site-packages/sklearn_extra/cluster/_k_medoids.py:329: UserWarning: Cluster 1 is empty! self.labels_[self.medoid_indices_[1]] may not be labeled with its corresponding cluster (1).\n",
      "  warnings.warn(\n"
     ]
    },
    {
     "name": "stdout",
     "output_type": "stream",
     "text": [
      "Iteration: 702\n",
      "Algorithm: K-Means\n",
      "Iteration: 703\n",
      "Algorithm: K-Mediods\n"
     ]
    },
    {
     "name": "stderr",
     "output_type": "stream",
     "text": [
      "/opt/homebrew/lib/python3.10/site-packages/sklearn_extra/cluster/_k_medoids.py:329: UserWarning: Cluster 1 is empty! self.labels_[self.medoid_indices_[1]] may not be labeled with its corresponding cluster (1).\n",
      "  warnings.warn(\n",
      "/opt/homebrew/lib/python3.10/site-packages/sklearn_extra/cluster/_k_medoids.py:329: UserWarning: Cluster 1 is empty! self.labels_[self.medoid_indices_[1]] may not be labeled with its corresponding cluster (1).\n",
      "  warnings.warn(\n"
     ]
    },
    {
     "name": "stdout",
     "output_type": "stream",
     "text": [
      "Iteration: 704\n",
      "Algorithm: K-Mediods\n",
      "Iteration: 705\n",
      "Algorithm: Mean Shift\n",
      "Iteration: 706\n",
      "Algorithm: DBSCAN Clustering\n",
      "Iteration: 707\n",
      "Algorithm: EM Clustering\n",
      "Iteration: 708\n",
      "Algorithm: EM Clustering\n",
      "Iteration: 709\n",
      "Algorithm: DBSCAN Clustering\n",
      "Iteration: 710\n",
      "Algorithm: EM Clustering\n",
      "Iteration: 711\n",
      "Algorithm: K-Mediods\n"
     ]
    },
    {
     "name": "stderr",
     "output_type": "stream",
     "text": [
      "/opt/homebrew/lib/python3.10/site-packages/sklearn_extra/cluster/_k_medoids.py:329: UserWarning: Cluster 1 is empty! self.labels_[self.medoid_indices_[1]] may not be labeled with its corresponding cluster (1).\n",
      "  warnings.warn(\n"
     ]
    },
    {
     "name": "stdout",
     "output_type": "stream",
     "text": [
      "Iteration: 712\n",
      "Algorithm: EM Clustering\n",
      "Iteration: 713\n",
      "Algorithm: K-Mediods\n"
     ]
    },
    {
     "name": "stderr",
     "output_type": "stream",
     "text": [
      "/opt/homebrew/lib/python3.10/site-packages/sklearn_extra/cluster/_k_medoids.py:329: UserWarning: Cluster 1 is empty! self.labels_[self.medoid_indices_[1]] may not be labeled with its corresponding cluster (1).\n",
      "  warnings.warn(\n",
      "/opt/homebrew/lib/python3.10/site-packages/sklearn_extra/cluster/_k_medoids.py:329: UserWarning: Cluster 1 is empty! self.labels_[self.medoid_indices_[1]] may not be labeled with its corresponding cluster (1).\n",
      "  warnings.warn(\n"
     ]
    },
    {
     "name": "stdout",
     "output_type": "stream",
     "text": [
      "Iteration: 714\n",
      "Algorithm: K-Mediods\n",
      "Iteration: 715\n",
      "Algorithm: K-Means\n",
      "Iteration: 716\n",
      "Algorithm: DBSCAN Clustering\n",
      "Iteration: 717\n",
      "Algorithm: EM Clustering\n",
      "Iteration: 718\n",
      "Algorithm: Mean Shift\n",
      "Iteration: 719\n",
      "Algorithm: K-Means\n",
      "Iteration: 720\n",
      "Algorithm: K-Means\n",
      "Iteration: 721\n",
      "Algorithm: Mean Shift\n",
      "Iteration: 722\n",
      "Algorithm: K-Mediods\n"
     ]
    },
    {
     "name": "stderr",
     "output_type": "stream",
     "text": [
      "/opt/homebrew/lib/python3.10/site-packages/sklearn_extra/cluster/_k_medoids.py:329: UserWarning: Cluster 1 is empty! self.labels_[self.medoid_indices_[1]] may not be labeled with its corresponding cluster (1).\n",
      "  warnings.warn(\n"
     ]
    },
    {
     "name": "stdout",
     "output_type": "stream",
     "text": [
      "Iteration: 723\n",
      "Algorithm: EM Clustering\n",
      "Iteration: 724\n",
      "Algorithm: Mean Shift\n",
      "Iteration: 725\n",
      "Algorithm: K-Means\n",
      "Iteration: 726\n",
      "Algorithm: K-Mediods\n"
     ]
    },
    {
     "name": "stderr",
     "output_type": "stream",
     "text": [
      "/opt/homebrew/lib/python3.10/site-packages/sklearn_extra/cluster/_k_medoids.py:329: UserWarning: Cluster 1 is empty! self.labels_[self.medoid_indices_[1]] may not be labeled with its corresponding cluster (1).\n",
      "  warnings.warn(\n"
     ]
    },
    {
     "name": "stdout",
     "output_type": "stream",
     "text": [
      "Iteration: 727\n",
      "Algorithm: DBSCAN Clustering\n",
      "Iteration: 728\n",
      "Algorithm: K-Means\n",
      "Iteration: 729\n",
      "Algorithm: K-Mediods\n",
      "Iteration: 730\n",
      "Algorithm: DBSCAN Clustering\n",
      "Iteration: 731\n",
      "Algorithm: K-Mediods\n",
      "Iteration: 732\n",
      "Algorithm: DBSCAN Clustering\n"
     ]
    },
    {
     "name": "stderr",
     "output_type": "stream",
     "text": [
      "/opt/homebrew/lib/python3.10/site-packages/sklearn_extra/cluster/_k_medoids.py:329: UserWarning: Cluster 1 is empty! self.labels_[self.medoid_indices_[1]] may not be labeled with its corresponding cluster (1).\n",
      "  warnings.warn(\n"
     ]
    },
    {
     "name": "stdout",
     "output_type": "stream",
     "text": [
      "Iteration: 733\n",
      "Algorithm: DBSCAN Clustering\n",
      "Iteration: 734\n",
      "Algorithm: K-Means\n",
      "Iteration: 735\n",
      "Algorithm: K-Means\n",
      "Iteration: 736\n",
      "Algorithm: K-Mediods\n"
     ]
    },
    {
     "name": "stderr",
     "output_type": "stream",
     "text": [
      "/opt/homebrew/lib/python3.10/site-packages/sklearn_extra/cluster/_k_medoids.py:329: UserWarning: Cluster 1 is empty! self.labels_[self.medoid_indices_[1]] may not be labeled with its corresponding cluster (1).\n",
      "  warnings.warn(\n"
     ]
    },
    {
     "name": "stdout",
     "output_type": "stream",
     "text": [
      "Iteration: 737\n",
      "Algorithm: K-Mediods\n"
     ]
    },
    {
     "name": "stderr",
     "output_type": "stream",
     "text": [
      "/opt/homebrew/lib/python3.10/site-packages/sklearn_extra/cluster/_k_medoids.py:329: UserWarning: Cluster 1 is empty! self.labels_[self.medoid_indices_[1]] may not be labeled with its corresponding cluster (1).\n",
      "  warnings.warn(\n"
     ]
    },
    {
     "name": "stdout",
     "output_type": "stream",
     "text": [
      "Iteration: 738\n",
      "Algorithm: Mean Shift\n",
      "Iteration: 739\n",
      "Algorithm: K-Means\n",
      "Iteration: 740\n",
      "Algorithm: EM Clustering\n",
      "Iteration: 741\n",
      "Algorithm: Mean Shift\n",
      "Iteration: 742\n",
      "Algorithm: EM Clustering\n",
      "Iteration: 743\n",
      "Algorithm: DBSCAN Clustering\n",
      "Iteration: 744\n",
      "Algorithm: EM Clustering\n",
      "Iteration: 745\n",
      "Algorithm: EM Clustering\n",
      "Iteration: 746\n",
      "Algorithm: K-Means\n",
      "Iteration: 747\n",
      "Algorithm: EM Clustering\n",
      "Iteration: 748\n",
      "Algorithm: Mean Shift\n",
      "Iteration: 749\n",
      "Algorithm: EM Clustering\n",
      "Iteration: 750\n",
      "Algorithm: K-Means\n",
      "Iteration: 751\n",
      "Algorithm: K-Means\n",
      "Iteration: 752\n",
      "Algorithm: EM Clustering\n",
      "Iteration: 753\n",
      "Algorithm: EM Clustering\n",
      "Iteration: 754\n",
      "Algorithm: EM Clustering\n",
      "Iteration: 755\n",
      "Algorithm: K-Mediods\n"
     ]
    },
    {
     "name": "stderr",
     "output_type": "stream",
     "text": [
      "/opt/homebrew/lib/python3.10/site-packages/sklearn_extra/cluster/_k_medoids.py:329: UserWarning: Cluster 1 is empty! self.labels_[self.medoid_indices_[1]] may not be labeled with its corresponding cluster (1).\n",
      "  warnings.warn(\n"
     ]
    },
    {
     "name": "stdout",
     "output_type": "stream",
     "text": [
      "Iteration: 756\n",
      "Algorithm: K-Mediods\n"
     ]
    },
    {
     "name": "stderr",
     "output_type": "stream",
     "text": [
      "/opt/homebrew/lib/python3.10/site-packages/sklearn_extra/cluster/_k_medoids.py:329: UserWarning: Cluster 1 is empty! self.labels_[self.medoid_indices_[1]] may not be labeled with its corresponding cluster (1).\n",
      "  warnings.warn(\n"
     ]
    },
    {
     "name": "stdout",
     "output_type": "stream",
     "text": [
      "Iteration: 757\n",
      "Algorithm: K-Mediods\n"
     ]
    },
    {
     "name": "stderr",
     "output_type": "stream",
     "text": [
      "/opt/homebrew/lib/python3.10/site-packages/sklearn_extra/cluster/_k_medoids.py:329: UserWarning: Cluster 1 is empty! self.labels_[self.medoid_indices_[1]] may not be labeled with its corresponding cluster (1).\n",
      "  warnings.warn(\n"
     ]
    },
    {
     "name": "stdout",
     "output_type": "stream",
     "text": [
      "Iteration: 758\n",
      "Algorithm: Mean Shift\n",
      "Iteration: 759\n",
      "Algorithm: K-Means\n",
      "Iteration: 760\n",
      "Algorithm: Mean Shift\n",
      "Iteration: 761\n",
      "Algorithm: K-Means\n",
      "Iteration: 762\n",
      "Algorithm: DBSCAN Clustering\n",
      "Iteration: 763\n",
      "Algorithm: DBSCAN Clustering\n",
      "Iteration: 764\n",
      "Algorithm: DBSCAN Clustering\n",
      "Iteration: 765\n",
      "Algorithm: K-Mediods\n",
      "Iteration: 766\n",
      "Algorithm: Mean Shift\n"
     ]
    },
    {
     "name": "stderr",
     "output_type": "stream",
     "text": [
      "/opt/homebrew/lib/python3.10/site-packages/sklearn_extra/cluster/_k_medoids.py:329: UserWarning: Cluster 1 is empty! self.labels_[self.medoid_indices_[1]] may not be labeled with its corresponding cluster (1).\n",
      "  warnings.warn(\n"
     ]
    },
    {
     "name": "stdout",
     "output_type": "stream",
     "text": [
      "Iteration: 767\n",
      "Algorithm: DBSCAN Clustering\n",
      "Iteration: 768\n",
      "Algorithm: Mean Shift\n",
      "Iteration: 769\n",
      "Algorithm: Mean Shift\n",
      "Iteration: 770\n",
      "Algorithm: Mean Shift\n",
      "Iteration: 771\n",
      "Algorithm: K-Means\n",
      "Iteration: 772\n",
      "Algorithm: EM Clustering\n",
      "Iteration: 773\n",
      "Algorithm: K-Mediods\n"
     ]
    },
    {
     "name": "stderr",
     "output_type": "stream",
     "text": [
      "/opt/homebrew/lib/python3.10/site-packages/sklearn_extra/cluster/_k_medoids.py:329: UserWarning: Cluster 1 is empty! self.labels_[self.medoid_indices_[1]] may not be labeled with its corresponding cluster (1).\n",
      "  warnings.warn(\n"
     ]
    },
    {
     "name": "stdout",
     "output_type": "stream",
     "text": [
      "Iteration: 774\n",
      "Algorithm: K-Means\n",
      "Iteration: 775\n",
      "Algorithm: K-Mediods\n"
     ]
    },
    {
     "name": "stderr",
     "output_type": "stream",
     "text": [
      "/opt/homebrew/lib/python3.10/site-packages/sklearn_extra/cluster/_k_medoids.py:329: UserWarning: Cluster 1 is empty! self.labels_[self.medoid_indices_[1]] may not be labeled with its corresponding cluster (1).\n",
      "  warnings.warn(\n"
     ]
    },
    {
     "name": "stdout",
     "output_type": "stream",
     "text": [
      "Iteration: 776\n",
      "Algorithm: DBSCAN Clustering\n",
      "Iteration: 777\n",
      "Algorithm: DBSCAN Clustering\n",
      "Iteration: 778\n",
      "Algorithm: Mean Shift\n",
      "Iteration: 779\n",
      "Algorithm: Mean Shift\n",
      "Iteration: 780\n",
      "Algorithm: DBSCAN Clustering\n",
      "Iteration: 781\n",
      "Algorithm: Mean Shift\n",
      "Iteration: 782\n",
      "Algorithm: K-Mediods\n"
     ]
    },
    {
     "name": "stderr",
     "output_type": "stream",
     "text": [
      "/opt/homebrew/lib/python3.10/site-packages/sklearn_extra/cluster/_k_medoids.py:329: UserWarning: Cluster 1 is empty! self.labels_[self.medoid_indices_[1]] may not be labeled with its corresponding cluster (1).\n",
      "  warnings.warn(\n"
     ]
    },
    {
     "name": "stdout",
     "output_type": "stream",
     "text": [
      "Iteration: 783\n",
      "Algorithm: K-Mediods\n"
     ]
    },
    {
     "name": "stderr",
     "output_type": "stream",
     "text": [
      "/opt/homebrew/lib/python3.10/site-packages/sklearn_extra/cluster/_k_medoids.py:329: UserWarning: Cluster 1 is empty! self.labels_[self.medoid_indices_[1]] may not be labeled with its corresponding cluster (1).\n",
      "  warnings.warn(\n"
     ]
    },
    {
     "name": "stdout",
     "output_type": "stream",
     "text": [
      "Iteration: 784\n",
      "Algorithm: DBSCAN Clustering\n",
      "Iteration: 785\n",
      "Algorithm: DBSCAN Clustering\n",
      "Iteration: 786\n",
      "Algorithm: EM Clustering\n",
      "Iteration: 787\n",
      "Algorithm: EM Clustering\n",
      "Iteration: 788\n",
      "Algorithm: K-Mediods\n"
     ]
    },
    {
     "name": "stderr",
     "output_type": "stream",
     "text": [
      "/opt/homebrew/lib/python3.10/site-packages/sklearn_extra/cluster/_k_medoids.py:329: UserWarning: Cluster 1 is empty! self.labels_[self.medoid_indices_[1]] may not be labeled with its corresponding cluster (1).\n",
      "  warnings.warn(\n"
     ]
    },
    {
     "name": "stdout",
     "output_type": "stream",
     "text": [
      "Iteration: 789\n",
      "Algorithm: DBSCAN Clustering\n",
      "Iteration: 790\n",
      "Algorithm: EM Clustering\n",
      "Iteration: 791\n",
      "Algorithm: K-Means\n",
      "Iteration: 792\n",
      "Algorithm: K-Mediods\n"
     ]
    },
    {
     "name": "stderr",
     "output_type": "stream",
     "text": [
      "/opt/homebrew/lib/python3.10/site-packages/sklearn_extra/cluster/_k_medoids.py:329: UserWarning: Cluster 1 is empty! self.labels_[self.medoid_indices_[1]] may not be labeled with its corresponding cluster (1).\n",
      "  warnings.warn(\n"
     ]
    },
    {
     "name": "stdout",
     "output_type": "stream",
     "text": [
      "Iteration: 793\n",
      "Algorithm: K-Mediods\n"
     ]
    },
    {
     "name": "stderr",
     "output_type": "stream",
     "text": [
      "/opt/homebrew/lib/python3.10/site-packages/sklearn_extra/cluster/_k_medoids.py:329: UserWarning: Cluster 1 is empty! self.labels_[self.medoid_indices_[1]] may not be labeled with its corresponding cluster (1).\n",
      "  warnings.warn(\n"
     ]
    },
    {
     "name": "stdout",
     "output_type": "stream",
     "text": [
      "Iteration: 794\n",
      "Algorithm: Mean Shift\n",
      "Iteration: 795\n",
      "Algorithm: K-Mediods\n",
      "Iteration: 796\n",
      "Algorithm: K-Mediods\n"
     ]
    },
    {
     "name": "stderr",
     "output_type": "stream",
     "text": [
      "/opt/homebrew/lib/python3.10/site-packages/sklearn_extra/cluster/_k_medoids.py:329: UserWarning: Cluster 1 is empty! self.labels_[self.medoid_indices_[1]] may not be labeled with its corresponding cluster (1).\n",
      "  warnings.warn(\n",
      "/opt/homebrew/lib/python3.10/site-packages/sklearn_extra/cluster/_k_medoids.py:329: UserWarning: Cluster 1 is empty! self.labels_[self.medoid_indices_[1]] may not be labeled with its corresponding cluster (1).\n",
      "  warnings.warn(\n"
     ]
    },
    {
     "name": "stdout",
     "output_type": "stream",
     "text": [
      "Iteration: 797\n",
      "Algorithm: DBSCAN Clustering\n",
      "Iteration: 798\n",
      "Algorithm: DBSCAN Clustering\n",
      "Iteration: 799\n",
      "Algorithm: K-Mediods\n"
     ]
    },
    {
     "name": "stderr",
     "output_type": "stream",
     "text": [
      "/opt/homebrew/lib/python3.10/site-packages/sklearn_extra/cluster/_k_medoids.py:329: UserWarning: Cluster 1 is empty! self.labels_[self.medoid_indices_[1]] may not be labeled with its corresponding cluster (1).\n",
      "  warnings.warn(\n"
     ]
    },
    {
     "name": "stdout",
     "output_type": "stream",
     "text": [
      "Iteration: 800\n",
      "Algorithm: DBSCAN Clustering\n",
      "Iteration: 801\n",
      "Algorithm: K-Means\n",
      "Iteration: 802\n",
      "Algorithm: Mean Shift\n",
      "Iteration: 803\n",
      "Algorithm: K-Mediods\n"
     ]
    },
    {
     "name": "stderr",
     "output_type": "stream",
     "text": [
      "/opt/homebrew/lib/python3.10/site-packages/sklearn_extra/cluster/_k_medoids.py:329: UserWarning: Cluster 1 is empty! self.labels_[self.medoid_indices_[1]] may not be labeled with its corresponding cluster (1).\n",
      "  warnings.warn(\n"
     ]
    },
    {
     "name": "stdout",
     "output_type": "stream",
     "text": [
      "Iteration: 804\n",
      "Algorithm: K-Means\n",
      "Iteration: 805\n",
      "Algorithm: Mean Shift\n",
      "Iteration: 806\n",
      "Algorithm: K-Means\n",
      "Iteration: 807\n",
      "Algorithm: K-Means\n",
      "Iteration: 808\n",
      "Algorithm: DBSCAN Clustering\n",
      "Iteration: 809\n",
      "Algorithm: DBSCAN Clustering\n",
      "Iteration: 810\n",
      "Algorithm: Mean Shift\n",
      "Iteration: 811\n",
      "Algorithm: K-Means\n",
      "Iteration: 812\n",
      "Algorithm: DBSCAN Clustering\n",
      "Iteration: 813\n",
      "Algorithm: DBSCAN Clustering\n",
      "Iteration: 814\n",
      "Algorithm: Mean Shift\n",
      "Iteration: 815\n",
      "Algorithm: K-Means\n",
      "Iteration: 816\n",
      "Algorithm: K-Means\n",
      "Iteration: 817\n",
      "Algorithm: DBSCAN Clustering\n",
      "Iteration: 818\n",
      "Algorithm: K-Mediods\n"
     ]
    },
    {
     "name": "stderr",
     "output_type": "stream",
     "text": [
      "/opt/homebrew/lib/python3.10/site-packages/sklearn_extra/cluster/_k_medoids.py:329: UserWarning: Cluster 1 is empty! self.labels_[self.medoid_indices_[1]] may not be labeled with its corresponding cluster (1).\n",
      "  warnings.warn(\n",
      "/opt/homebrew/lib/python3.10/site-packages/sklearn_extra/cluster/_k_medoids.py:329: UserWarning: Cluster 1 is empty! self.labels_[self.medoid_indices_[1]] may not be labeled with its corresponding cluster (1).\n",
      "  warnings.warn(\n"
     ]
    },
    {
     "name": "stdout",
     "output_type": "stream",
     "text": [
      "Iteration: 819\n",
      "Algorithm: K-Mediods\n",
      "Iteration: 820\n",
      "Algorithm: EM Clustering\n",
      "Iteration: 821\n",
      "Algorithm: EM Clustering\n",
      "Iteration: 822\n",
      "Algorithm: EM Clustering\n",
      "Iteration: 823\n",
      "Algorithm: Mean Shift\n",
      "Iteration: 824\n",
      "Algorithm: Mean Shift\n",
      "Iteration: 825\n",
      "Algorithm: Mean Shift\n",
      "Iteration: 826\n",
      "Algorithm: K-Mediods\n",
      "Iteration: 827\n",
      "Algorithm: K-Means\n"
     ]
    },
    {
     "name": "stderr",
     "output_type": "stream",
     "text": [
      "/opt/homebrew/lib/python3.10/site-packages/sklearn_extra/cluster/_k_medoids.py:329: UserWarning: Cluster 1 is empty! self.labels_[self.medoid_indices_[1]] may not be labeled with its corresponding cluster (1).\n",
      "  warnings.warn(\n"
     ]
    },
    {
     "name": "stdout",
     "output_type": "stream",
     "text": [
      "Iteration: 828\n",
      "Algorithm: K-Means\n",
      "Iteration: 829\n",
      "Algorithm: K-Mediods\n"
     ]
    },
    {
     "name": "stderr",
     "output_type": "stream",
     "text": [
      "/opt/homebrew/lib/python3.10/site-packages/sklearn_extra/cluster/_k_medoids.py:329: UserWarning: Cluster 1 is empty! self.labels_[self.medoid_indices_[1]] may not be labeled with its corresponding cluster (1).\n",
      "  warnings.warn(\n"
     ]
    },
    {
     "name": "stdout",
     "output_type": "stream",
     "text": [
      "Iteration: 830\n",
      "Algorithm: Mean Shift\n",
      "Iteration: 831\n",
      "Algorithm: Mean Shift\n",
      "Iteration: 832\n",
      "Algorithm: DBSCAN Clustering\n",
      "Iteration: 833\n",
      "Algorithm: EM Clustering\n",
      "Iteration: 834\n",
      "Algorithm: DBSCAN Clustering\n",
      "Iteration: 835\n",
      "Algorithm: EM Clustering\n",
      "Iteration: 836\n",
      "Algorithm: EM Clustering\n",
      "Iteration: 837\n",
      "Algorithm: K-Mediods\n"
     ]
    },
    {
     "name": "stderr",
     "output_type": "stream",
     "text": [
      "/opt/homebrew/lib/python3.10/site-packages/sklearn_extra/cluster/_k_medoids.py:329: UserWarning: Cluster 1 is empty! self.labels_[self.medoid_indices_[1]] may not be labeled with its corresponding cluster (1).\n",
      "  warnings.warn(\n",
      "/opt/homebrew/lib/python3.10/site-packages/sklearn_extra/cluster/_k_medoids.py:329: UserWarning: Cluster 1 is empty! self.labels_[self.medoid_indices_[1]] may not be labeled with its corresponding cluster (1).\n",
      "  warnings.warn(\n"
     ]
    },
    {
     "name": "stdout",
     "output_type": "stream",
     "text": [
      "Iteration: 838\n",
      "Algorithm: K-Mediods\n",
      "Iteration: 839\n",
      "Algorithm: K-Means\n",
      "Iteration: 840\n",
      "Algorithm: EM Clustering\n",
      "Iteration: 841\n",
      "Algorithm: K-Means\n",
      "Iteration: 842\n",
      "Algorithm: Mean Shift\n",
      "Iteration: 843\n",
      "Algorithm: K-Means\n",
      "Iteration: 844\n",
      "Algorithm: K-Mediods\n"
     ]
    },
    {
     "name": "stderr",
     "output_type": "stream",
     "text": [
      "/opt/homebrew/lib/python3.10/site-packages/sklearn_extra/cluster/_k_medoids.py:329: UserWarning: Cluster 1 is empty! self.labels_[self.medoid_indices_[1]] may not be labeled with its corresponding cluster (1).\n",
      "  warnings.warn(\n",
      "/opt/homebrew/lib/python3.10/site-packages/sklearn_extra/cluster/_k_medoids.py:329: UserWarning: Cluster 1 is empty! self.labels_[self.medoid_indices_[1]] may not be labeled with its corresponding cluster (1).\n",
      "  warnings.warn(\n"
     ]
    },
    {
     "name": "stdout",
     "output_type": "stream",
     "text": [
      "Iteration: 845\n",
      "Algorithm: K-Mediods\n",
      "Iteration: 846\n",
      "Algorithm: EM Clustering\n",
      "Iteration: 847\n",
      "Algorithm: K-Mediods\n"
     ]
    },
    {
     "name": "stderr",
     "output_type": "stream",
     "text": [
      "/opt/homebrew/lib/python3.10/site-packages/sklearn_extra/cluster/_k_medoids.py:329: UserWarning: Cluster 1 is empty! self.labels_[self.medoid_indices_[1]] may not be labeled with its corresponding cluster (1).\n",
      "  warnings.warn(\n"
     ]
    },
    {
     "name": "stdout",
     "output_type": "stream",
     "text": [
      "Iteration: 848\n",
      "Algorithm: EM Clustering\n",
      "Iteration: 849\n",
      "Algorithm: K-Mediods\n"
     ]
    },
    {
     "name": "stderr",
     "output_type": "stream",
     "text": [
      "/opt/homebrew/lib/python3.10/site-packages/sklearn_extra/cluster/_k_medoids.py:329: UserWarning: Cluster 1 is empty! self.labels_[self.medoid_indices_[1]] may not be labeled with its corresponding cluster (1).\n",
      "  warnings.warn(\n"
     ]
    },
    {
     "name": "stdout",
     "output_type": "stream",
     "text": [
      "Iteration: 850\n",
      "Algorithm: DBSCAN Clustering\n",
      "Iteration: 851\n",
      "Algorithm: K-Mediods\n"
     ]
    },
    {
     "name": "stderr",
     "output_type": "stream",
     "text": [
      "/opt/homebrew/lib/python3.10/site-packages/sklearn_extra/cluster/_k_medoids.py:329: UserWarning: Cluster 1 is empty! self.labels_[self.medoid_indices_[1]] may not be labeled with its corresponding cluster (1).\n",
      "  warnings.warn(\n"
     ]
    },
    {
     "name": "stdout",
     "output_type": "stream",
     "text": [
      "Iteration: 852\n",
      "Algorithm: EM Clustering\n",
      "Iteration: 853\n",
      "Algorithm: EM Clustering\n",
      "Iteration: 854\n",
      "Algorithm: K-Mediods\n"
     ]
    },
    {
     "name": "stderr",
     "output_type": "stream",
     "text": [
      "/opt/homebrew/lib/python3.10/site-packages/sklearn_extra/cluster/_k_medoids.py:329: UserWarning: Cluster 1 is empty! self.labels_[self.medoid_indices_[1]] may not be labeled with its corresponding cluster (1).\n",
      "  warnings.warn(\n"
     ]
    },
    {
     "name": "stdout",
     "output_type": "stream",
     "text": [
      "Iteration: 855\n",
      "Algorithm: EM Clustering\n",
      "Iteration: 856\n",
      "Algorithm: EM Clustering\n",
      "Iteration: 857\n",
      "Algorithm: Mean Shift\n",
      "Iteration: 858\n",
      "Algorithm: EM Clustering\n",
      "Iteration: 859\n",
      "Algorithm: K-Mediods\n"
     ]
    },
    {
     "name": "stderr",
     "output_type": "stream",
     "text": [
      "/opt/homebrew/lib/python3.10/site-packages/sklearn_extra/cluster/_k_medoids.py:329: UserWarning: Cluster 1 is empty! self.labels_[self.medoid_indices_[1]] may not be labeled with its corresponding cluster (1).\n",
      "  warnings.warn(\n"
     ]
    },
    {
     "name": "stdout",
     "output_type": "stream",
     "text": [
      "Iteration: 860\n",
      "Algorithm: EM Clustering\n",
      "Iteration: 861\n",
      "Algorithm: K-Means\n",
      "Iteration: 862\n",
      "Algorithm: K-Mediods\n"
     ]
    },
    {
     "name": "stderr",
     "output_type": "stream",
     "text": [
      "/opt/homebrew/lib/python3.10/site-packages/sklearn_extra/cluster/_k_medoids.py:329: UserWarning: Cluster 1 is empty! self.labels_[self.medoid_indices_[1]] may not be labeled with its corresponding cluster (1).\n",
      "  warnings.warn(\n"
     ]
    },
    {
     "name": "stdout",
     "output_type": "stream",
     "text": [
      "Iteration: 863\n",
      "Algorithm: Mean Shift\n",
      "Iteration: 864\n",
      "Algorithm: Mean Shift\n",
      "Iteration: 865\n",
      "Algorithm: K-Mediods\n"
     ]
    },
    {
     "name": "stderr",
     "output_type": "stream",
     "text": [
      "/opt/homebrew/lib/python3.10/site-packages/sklearn_extra/cluster/_k_medoids.py:329: UserWarning: Cluster 1 is empty! self.labels_[self.medoid_indices_[1]] may not be labeled with its corresponding cluster (1).\n",
      "  warnings.warn(\n"
     ]
    },
    {
     "name": "stdout",
     "output_type": "stream",
     "text": [
      "Iteration: 866\n",
      "Algorithm: DBSCAN Clustering\n",
      "Iteration: 867\n",
      "Algorithm: DBSCAN Clustering\n",
      "Iteration: 868\n",
      "Algorithm: DBSCAN Clustering\n",
      "Iteration: 869\n",
      "Algorithm: K-Means\n",
      "Iteration: 870\n",
      "Algorithm: Mean Shift\n",
      "Iteration: 871\n",
      "Algorithm: K-Mediods\n",
      "Iteration: 872\n",
      "Algorithm: K-Mediods\n"
     ]
    },
    {
     "name": "stderr",
     "output_type": "stream",
     "text": [
      "/opt/homebrew/lib/python3.10/site-packages/sklearn_extra/cluster/_k_medoids.py:329: UserWarning: Cluster 1 is empty! self.labels_[self.medoid_indices_[1]] may not be labeled with its corresponding cluster (1).\n",
      "  warnings.warn(\n",
      "/opt/homebrew/lib/python3.10/site-packages/sklearn_extra/cluster/_k_medoids.py:329: UserWarning: Cluster 1 is empty! self.labels_[self.medoid_indices_[1]] may not be labeled with its corresponding cluster (1).\n",
      "  warnings.warn(\n"
     ]
    },
    {
     "name": "stdout",
     "output_type": "stream",
     "text": [
      "Iteration: 873\n",
      "Algorithm: DBSCAN Clustering\n",
      "Iteration: 874\n",
      "Algorithm: DBSCAN Clustering\n",
      "Iteration: 875\n",
      "Algorithm: K-Mediods\n",
      "Iteration: 876\n",
      "Algorithm: EM Clustering\n"
     ]
    },
    {
     "name": "stderr",
     "output_type": "stream",
     "text": [
      "/opt/homebrew/lib/python3.10/site-packages/sklearn_extra/cluster/_k_medoids.py:329: UserWarning: Cluster 1 is empty! self.labels_[self.medoid_indices_[1]] may not be labeled with its corresponding cluster (1).\n",
      "  warnings.warn(\n"
     ]
    },
    {
     "name": "stdout",
     "output_type": "stream",
     "text": [
      "Iteration: 877\n",
      "Algorithm: DBSCAN Clustering\n",
      "Iteration: 878\n",
      "Algorithm: EM Clustering\n",
      "Iteration: 879\n",
      "Algorithm: DBSCAN Clustering\n",
      "Iteration: 880\n",
      "Algorithm: Mean Shift\n",
      "Iteration: 881\n",
      "Algorithm: K-Mediods\n"
     ]
    },
    {
     "name": "stderr",
     "output_type": "stream",
     "text": [
      "/opt/homebrew/lib/python3.10/site-packages/sklearn_extra/cluster/_k_medoids.py:329: UserWarning: Cluster 1 is empty! self.labels_[self.medoid_indices_[1]] may not be labeled with its corresponding cluster (1).\n",
      "  warnings.warn(\n"
     ]
    },
    {
     "name": "stdout",
     "output_type": "stream",
     "text": [
      "Iteration: 882\n",
      "Algorithm: EM Clustering\n",
      "Iteration: 883\n",
      "Algorithm: Mean Shift\n",
      "Iteration: 884\n",
      "Algorithm: K-Means\n",
      "Iteration: 885\n",
      "Algorithm: K-Mediods\n"
     ]
    },
    {
     "name": "stderr",
     "output_type": "stream",
     "text": [
      "/opt/homebrew/lib/python3.10/site-packages/sklearn_extra/cluster/_k_medoids.py:329: UserWarning: Cluster 1 is empty! self.labels_[self.medoid_indices_[1]] may not be labeled with its corresponding cluster (1).\n",
      "  warnings.warn(\n"
     ]
    },
    {
     "name": "stdout",
     "output_type": "stream",
     "text": [
      "Iteration: 886\n",
      "Algorithm: DBSCAN Clustering\n",
      "Iteration: 887\n",
      "Algorithm: K-Mediods\n"
     ]
    },
    {
     "name": "stderr",
     "output_type": "stream",
     "text": [
      "/opt/homebrew/lib/python3.10/site-packages/sklearn_extra/cluster/_k_medoids.py:329: UserWarning: Cluster 1 is empty! self.labels_[self.medoid_indices_[1]] may not be labeled with its corresponding cluster (1).\n",
      "  warnings.warn(\n"
     ]
    },
    {
     "name": "stdout",
     "output_type": "stream",
     "text": [
      "Iteration: 888\n",
      "Algorithm: K-Means\n",
      "Iteration: 889\n",
      "Algorithm: K-Mediods\n"
     ]
    },
    {
     "name": "stderr",
     "output_type": "stream",
     "text": [
      "/opt/homebrew/lib/python3.10/site-packages/sklearn_extra/cluster/_k_medoids.py:329: UserWarning: Cluster 1 is empty! self.labels_[self.medoid_indices_[1]] may not be labeled with its corresponding cluster (1).\n",
      "  warnings.warn(\n"
     ]
    },
    {
     "name": "stdout",
     "output_type": "stream",
     "text": [
      "Iteration: 890\n",
      "Algorithm: K-Means\n",
      "Iteration: 891\n",
      "Algorithm: K-Mediods\n"
     ]
    },
    {
     "name": "stderr",
     "output_type": "stream",
     "text": [
      "/opt/homebrew/lib/python3.10/site-packages/sklearn_extra/cluster/_k_medoids.py:329: UserWarning: Cluster 1 is empty! self.labels_[self.medoid_indices_[1]] may not be labeled with its corresponding cluster (1).\n",
      "  warnings.warn(\n"
     ]
    },
    {
     "name": "stdout",
     "output_type": "stream",
     "text": [
      "Iteration: 892\n",
      "Algorithm: Mean Shift\n",
      "Iteration: 893\n",
      "Algorithm: K-Means\n",
      "Iteration: 894\n",
      "Algorithm: K-Mediods\n"
     ]
    },
    {
     "name": "stderr",
     "output_type": "stream",
     "text": [
      "/opt/homebrew/lib/python3.10/site-packages/sklearn_extra/cluster/_k_medoids.py:329: UserWarning: Cluster 1 is empty! self.labels_[self.medoid_indices_[1]] may not be labeled with its corresponding cluster (1).\n",
      "  warnings.warn(\n"
     ]
    },
    {
     "name": "stdout",
     "output_type": "stream",
     "text": [
      "Iteration: 895\n",
      "Algorithm: DBSCAN Clustering\n",
      "Iteration: 896\n",
      "Algorithm: Mean Shift\n",
      "Iteration: 897\n",
      "Algorithm: DBSCAN Clustering\n",
      "Iteration: 898\n",
      "Algorithm: Mean Shift\n",
      "Iteration: 899\n",
      "Algorithm: Mean Shift\n",
      "Iteration: 900\n",
      "Algorithm: K-Mediods\n",
      "Iteration: 901\n",
      "Algorithm: EM Clustering\n",
      "Iteration: 902\n",
      "Algorithm: Mean Shift\n",
      "Iteration: 903\n",
      "Algorithm: DBSCAN Clustering\n",
      "Iteration: 904\n",
      "Algorithm: K-Mediods\n"
     ]
    },
    {
     "name": "stderr",
     "output_type": "stream",
     "text": [
      "/opt/homebrew/lib/python3.10/site-packages/sklearn_extra/cluster/_k_medoids.py:329: UserWarning: Cluster 1 is empty! self.labels_[self.medoid_indices_[1]] may not be labeled with its corresponding cluster (1).\n",
      "  warnings.warn(\n",
      "/opt/homebrew/lib/python3.10/site-packages/sklearn_extra/cluster/_k_medoids.py:329: UserWarning: Cluster 1 is empty! self.labels_[self.medoid_indices_[1]] may not be labeled with its corresponding cluster (1).\n",
      "  warnings.warn(\n"
     ]
    },
    {
     "name": "stdout",
     "output_type": "stream",
     "text": [
      "Iteration: 905\n",
      "Algorithm: K-Mediods\n",
      "Iteration: 906\n",
      "Algorithm: Mean Shift\n",
      "Iteration: 907\n",
      "Algorithm: K-Mediods\n"
     ]
    },
    {
     "name": "stderr",
     "output_type": "stream",
     "text": [
      "/opt/homebrew/lib/python3.10/site-packages/sklearn_extra/cluster/_k_medoids.py:329: UserWarning: Cluster 1 is empty! self.labels_[self.medoid_indices_[1]] may not be labeled with its corresponding cluster (1).\n",
      "  warnings.warn(\n"
     ]
    },
    {
     "name": "stdout",
     "output_type": "stream",
     "text": [
      "Iteration: 908\n",
      "Algorithm: EM Clustering\n",
      "Iteration: 909\n",
      "Algorithm: Mean Shift\n",
      "Iteration: 910\n",
      "Algorithm: K-Means\n",
      "Iteration: 911\n",
      "Algorithm: K-Means\n",
      "Iteration: 912\n",
      "Algorithm: K-Mediods\n",
      "Iteration: 913\n",
      "Algorithm: K-Mediods\n"
     ]
    },
    {
     "name": "stderr",
     "output_type": "stream",
     "text": [
      "/opt/homebrew/lib/python3.10/site-packages/sklearn_extra/cluster/_k_medoids.py:329: UserWarning: Cluster 1 is empty! self.labels_[self.medoid_indices_[1]] may not be labeled with its corresponding cluster (1).\n",
      "  warnings.warn(\n",
      "/opt/homebrew/lib/python3.10/site-packages/sklearn_extra/cluster/_k_medoids.py:329: UserWarning: Cluster 1 is empty! self.labels_[self.medoid_indices_[1]] may not be labeled with its corresponding cluster (1).\n",
      "  warnings.warn(\n"
     ]
    },
    {
     "name": "stdout",
     "output_type": "stream",
     "text": [
      "Iteration: 914\n",
      "Algorithm: K-Means\n",
      "Iteration: 915\n",
      "Algorithm: K-Mediods\n"
     ]
    },
    {
     "name": "stderr",
     "output_type": "stream",
     "text": [
      "/opt/homebrew/lib/python3.10/site-packages/sklearn_extra/cluster/_k_medoids.py:329: UserWarning: Cluster 1 is empty! self.labels_[self.medoid_indices_[1]] may not be labeled with its corresponding cluster (1).\n",
      "  warnings.warn(\n",
      "/opt/homebrew/lib/python3.10/site-packages/sklearn_extra/cluster/_k_medoids.py:329: UserWarning: Cluster 1 is empty! self.labels_[self.medoid_indices_[1]] may not be labeled with its corresponding cluster (1).\n",
      "  warnings.warn(\n"
     ]
    },
    {
     "name": "stdout",
     "output_type": "stream",
     "text": [
      "Iteration: 916\n",
      "Algorithm: K-Mediods\n",
      "Iteration: 917\n",
      "Algorithm: K-Mediods\n"
     ]
    },
    {
     "name": "stderr",
     "output_type": "stream",
     "text": [
      "/opt/homebrew/lib/python3.10/site-packages/sklearn_extra/cluster/_k_medoids.py:329: UserWarning: Cluster 1 is empty! self.labels_[self.medoid_indices_[1]] may not be labeled with its corresponding cluster (1).\n",
      "  warnings.warn(\n",
      "/opt/homebrew/lib/python3.10/site-packages/sklearn_extra/cluster/_k_medoids.py:329: UserWarning: Cluster 1 is empty! self.labels_[self.medoid_indices_[1]] may not be labeled with its corresponding cluster (1).\n",
      "  warnings.warn(\n"
     ]
    },
    {
     "name": "stdout",
     "output_type": "stream",
     "text": [
      "Iteration: 918\n",
      "Algorithm: K-Mediods\n",
      "Iteration: 919\n",
      "Algorithm: K-Means\n",
      "Iteration: 920\n",
      "Algorithm: K-Means\n",
      "Iteration: 921\n",
      "Algorithm: K-Mediods\n"
     ]
    },
    {
     "name": "stderr",
     "output_type": "stream",
     "text": [
      "/opt/homebrew/lib/python3.10/site-packages/sklearn_extra/cluster/_k_medoids.py:329: UserWarning: Cluster 1 is empty! self.labels_[self.medoid_indices_[1]] may not be labeled with its corresponding cluster (1).\n",
      "  warnings.warn(\n"
     ]
    },
    {
     "name": "stdout",
     "output_type": "stream",
     "text": [
      "Iteration: 922\n",
      "Algorithm: Mean Shift\n",
      "Iteration: 923\n",
      "Algorithm: Mean Shift\n",
      "Iteration: 924\n",
      "Algorithm: DBSCAN Clustering\n",
      "Iteration: 925\n",
      "Algorithm: DBSCAN Clustering\n",
      "Iteration: 926\n",
      "Algorithm: EM Clustering\n",
      "Iteration: 927\n",
      "Algorithm: K-Mediods\n"
     ]
    },
    {
     "name": "stderr",
     "output_type": "stream",
     "text": [
      "/opt/homebrew/lib/python3.10/site-packages/sklearn_extra/cluster/_k_medoids.py:329: UserWarning: Cluster 1 is empty! self.labels_[self.medoid_indices_[1]] may not be labeled with its corresponding cluster (1).\n",
      "  warnings.warn(\n"
     ]
    },
    {
     "name": "stdout",
     "output_type": "stream",
     "text": [
      "Iteration: 928\n",
      "Algorithm: DBSCAN Clustering\n",
      "Iteration: 929\n",
      "Algorithm: DBSCAN Clustering\n",
      "Iteration: 930\n",
      "Algorithm: K-Mediods\n",
      "Iteration: 931\n",
      "Algorithm: DBSCAN Clustering\n"
     ]
    },
    {
     "name": "stderr",
     "output_type": "stream",
     "text": [
      "/opt/homebrew/lib/python3.10/site-packages/sklearn_extra/cluster/_k_medoids.py:329: UserWarning: Cluster 1 is empty! self.labels_[self.medoid_indices_[1]] may not be labeled with its corresponding cluster (1).\n",
      "  warnings.warn(\n"
     ]
    },
    {
     "name": "stdout",
     "output_type": "stream",
     "text": [
      "Iteration: 932\n",
      "Algorithm: K-Mediods\n",
      "Iteration: 933\n",
      "Algorithm: K-Mediods\n"
     ]
    },
    {
     "name": "stderr",
     "output_type": "stream",
     "text": [
      "/opt/homebrew/lib/python3.10/site-packages/sklearn_extra/cluster/_k_medoids.py:329: UserWarning: Cluster 1 is empty! self.labels_[self.medoid_indices_[1]] may not be labeled with its corresponding cluster (1).\n",
      "  warnings.warn(\n",
      "/opt/homebrew/lib/python3.10/site-packages/sklearn_extra/cluster/_k_medoids.py:329: UserWarning: Cluster 1 is empty! self.labels_[self.medoid_indices_[1]] may not be labeled with its corresponding cluster (1).\n",
      "  warnings.warn(\n"
     ]
    },
    {
     "name": "stdout",
     "output_type": "stream",
     "text": [
      "Iteration: 934\n",
      "Algorithm: K-Mediods\n",
      "Iteration: 935\n",
      "Algorithm: Mean Shift\n"
     ]
    },
    {
     "name": "stderr",
     "output_type": "stream",
     "text": [
      "/opt/homebrew/lib/python3.10/site-packages/sklearn_extra/cluster/_k_medoids.py:329: UserWarning: Cluster 1 is empty! self.labels_[self.medoid_indices_[1]] may not be labeled with its corresponding cluster (1).\n",
      "  warnings.warn(\n"
     ]
    },
    {
     "name": "stdout",
     "output_type": "stream",
     "text": [
      "Iteration: 936\n",
      "Algorithm: Mean Shift\n",
      "Iteration: 937\n",
      "Algorithm: K-Mediods\n"
     ]
    },
    {
     "name": "stderr",
     "output_type": "stream",
     "text": [
      "/opt/homebrew/lib/python3.10/site-packages/sklearn_extra/cluster/_k_medoids.py:329: UserWarning: Cluster 1 is empty! self.labels_[self.medoid_indices_[1]] may not be labeled with its corresponding cluster (1).\n",
      "  warnings.warn(\n",
      "/opt/homebrew/lib/python3.10/site-packages/sklearn_extra/cluster/_k_medoids.py:329: UserWarning: Cluster 1 is empty! self.labels_[self.medoid_indices_[1]] may not be labeled with its corresponding cluster (1).\n",
      "  warnings.warn(\n"
     ]
    },
    {
     "name": "stdout",
     "output_type": "stream",
     "text": [
      "Iteration: 938\n",
      "Algorithm: K-Mediods\n",
      "Iteration: 939\n",
      "Algorithm: K-Means\n",
      "Iteration: 940\n",
      "Algorithm: EM Clustering\n",
      "Iteration: 941\n",
      "Algorithm: DBSCAN Clustering\n",
      "Iteration: 942\n",
      "Algorithm: K-Mediods\n",
      "Iteration: 943\n",
      "Algorithm: DBSCAN Clustering\n"
     ]
    },
    {
     "name": "stderr",
     "output_type": "stream",
     "text": [
      "/opt/homebrew/lib/python3.10/site-packages/sklearn_extra/cluster/_k_medoids.py:329: UserWarning: Cluster 1 is empty! self.labels_[self.medoid_indices_[1]] may not be labeled with its corresponding cluster (1).\n",
      "  warnings.warn(\n"
     ]
    },
    {
     "name": "stdout",
     "output_type": "stream",
     "text": [
      "Iteration: 944\n",
      "Algorithm: K-Mediods\n",
      "Iteration: 945\n",
      "Algorithm: K-Means\n"
     ]
    },
    {
     "name": "stderr",
     "output_type": "stream",
     "text": [
      "/opt/homebrew/lib/python3.10/site-packages/sklearn_extra/cluster/_k_medoids.py:329: UserWarning: Cluster 1 is empty! self.labels_[self.medoid_indices_[1]] may not be labeled with its corresponding cluster (1).\n",
      "  warnings.warn(\n"
     ]
    },
    {
     "name": "stdout",
     "output_type": "stream",
     "text": [
      "Iteration: 946\n",
      "Algorithm: DBSCAN Clustering\n",
      "Iteration: 947\n",
      "Algorithm: Mean Shift\n",
      "Iteration: 948\n",
      "Algorithm: EM Clustering\n",
      "Iteration: 949\n",
      "Algorithm: DBSCAN Clustering\n",
      "Iteration: 950\n",
      "Algorithm: Mean Shift\n",
      "Iteration: 951\n",
      "Algorithm: K-Mediods\n"
     ]
    },
    {
     "name": "stderr",
     "output_type": "stream",
     "text": [
      "/opt/homebrew/lib/python3.10/site-packages/sklearn_extra/cluster/_k_medoids.py:329: UserWarning: Cluster 1 is empty! self.labels_[self.medoid_indices_[1]] may not be labeled with its corresponding cluster (1).\n",
      "  warnings.warn(\n"
     ]
    },
    {
     "name": "stdout",
     "output_type": "stream",
     "text": [
      "Iteration: 952\n",
      "Algorithm: Mean Shift\n",
      "Iteration: 953\n",
      "Algorithm: Mean Shift\n",
      "Iteration: 954\n",
      "Algorithm: K-Mediods\n"
     ]
    },
    {
     "name": "stderr",
     "output_type": "stream",
     "text": [
      "/opt/homebrew/lib/python3.10/site-packages/sklearn_extra/cluster/_k_medoids.py:329: UserWarning: Cluster 1 is empty! self.labels_[self.medoid_indices_[1]] may not be labeled with its corresponding cluster (1).\n",
      "  warnings.warn(\n"
     ]
    },
    {
     "name": "stdout",
     "output_type": "stream",
     "text": [
      "Iteration: 955\n",
      "Algorithm: Mean Shift\n",
      "Iteration: 956\n",
      "Algorithm: DBSCAN Clustering\n",
      "Iteration: 957\n",
      "Algorithm: EM Clustering\n",
      "Iteration: 958\n",
      "Algorithm: DBSCAN Clustering\n",
      "Iteration: 959\n",
      "Algorithm: K-Mediods\n"
     ]
    },
    {
     "name": "stderr",
     "output_type": "stream",
     "text": [
      "/opt/homebrew/lib/python3.10/site-packages/sklearn_extra/cluster/_k_medoids.py:329: UserWarning: Cluster 1 is empty! self.labels_[self.medoid_indices_[1]] may not be labeled with its corresponding cluster (1).\n",
      "  warnings.warn(\n"
     ]
    },
    {
     "name": "stdout",
     "output_type": "stream",
     "text": [
      "Iteration: 960\n",
      "Algorithm: K-Means\n",
      "Iteration: 961\n",
      "Algorithm: DBSCAN Clustering\n",
      "Iteration: 962\n",
      "Algorithm: DBSCAN Clustering\n",
      "Iteration: 963\n",
      "Algorithm: EM Clustering\n",
      "Iteration: 964\n",
      "Algorithm: EM Clustering\n",
      "Iteration: 965\n",
      "Algorithm: DBSCAN Clustering\n",
      "Iteration: 966\n",
      "Algorithm: K-Mediods\n"
     ]
    },
    {
     "name": "stderr",
     "output_type": "stream",
     "text": [
      "/opt/homebrew/lib/python3.10/site-packages/sklearn_extra/cluster/_k_medoids.py:329: UserWarning: Cluster 1 is empty! self.labels_[self.medoid_indices_[1]] may not be labeled with its corresponding cluster (1).\n",
      "  warnings.warn(\n"
     ]
    },
    {
     "name": "stdout",
     "output_type": "stream",
     "text": [
      "Iteration: 967\n",
      "Algorithm: K-Means\n",
      "Iteration: 968\n",
      "Algorithm: K-Mediods\n"
     ]
    },
    {
     "name": "stderr",
     "output_type": "stream",
     "text": [
      "/opt/homebrew/lib/python3.10/site-packages/sklearn_extra/cluster/_k_medoids.py:329: UserWarning: Cluster 1 is empty! self.labels_[self.medoid_indices_[1]] may not be labeled with its corresponding cluster (1).\n",
      "  warnings.warn(\n"
     ]
    },
    {
     "name": "stdout",
     "output_type": "stream",
     "text": [
      "Iteration: 969\n",
      "Algorithm: Mean Shift\n",
      "Iteration: 970\n",
      "Algorithm: K-Mediods\n",
      "Iteration: 971\n",
      "Algorithm: EM Clustering\n"
     ]
    },
    {
     "name": "stderr",
     "output_type": "stream",
     "text": [
      "/opt/homebrew/lib/python3.10/site-packages/sklearn_extra/cluster/_k_medoids.py:329: UserWarning: Cluster 1 is empty! self.labels_[self.medoid_indices_[1]] may not be labeled with its corresponding cluster (1).\n",
      "  warnings.warn(\n"
     ]
    },
    {
     "name": "stdout",
     "output_type": "stream",
     "text": [
      "Iteration: 972\n",
      "Algorithm: Mean Shift\n",
      "Iteration: 973\n",
      "Algorithm: EM Clustering\n",
      "Iteration: 974\n",
      "Algorithm: K-Means\n",
      "Iteration: 975\n",
      "Algorithm: EM Clustering\n",
      "Iteration: 976\n",
      "Algorithm: K-Mediods\n"
     ]
    },
    {
     "name": "stderr",
     "output_type": "stream",
     "text": [
      "/opt/homebrew/lib/python3.10/site-packages/sklearn_extra/cluster/_k_medoids.py:329: UserWarning: Cluster 1 is empty! self.labels_[self.medoid_indices_[1]] may not be labeled with its corresponding cluster (1).\n",
      "  warnings.warn(\n"
     ]
    },
    {
     "name": "stdout",
     "output_type": "stream",
     "text": [
      "Iteration: 977\n",
      "Algorithm: DBSCAN Clustering\n",
      "Iteration: 978\n",
      "Algorithm: DBSCAN Clustering\n",
      "Iteration: 979\n",
      "Algorithm: K-Mediods\n",
      "Iteration: 980\n",
      "Algorithm: K-Mediods\n"
     ]
    },
    {
     "name": "stderr",
     "output_type": "stream",
     "text": [
      "/opt/homebrew/lib/python3.10/site-packages/sklearn_extra/cluster/_k_medoids.py:329: UserWarning: Cluster 1 is empty! self.labels_[self.medoid_indices_[1]] may not be labeled with its corresponding cluster (1).\n",
      "  warnings.warn(\n",
      "/opt/homebrew/lib/python3.10/site-packages/sklearn_extra/cluster/_k_medoids.py:329: UserWarning: Cluster 1 is empty! self.labels_[self.medoid_indices_[1]] may not be labeled with its corresponding cluster (1).\n",
      "  warnings.warn(\n"
     ]
    },
    {
     "name": "stdout",
     "output_type": "stream",
     "text": [
      "Iteration: 981\n",
      "Algorithm: Mean Shift\n",
      "Iteration: 982\n",
      "Algorithm: Mean Shift\n",
      "Iteration: 983\n",
      "Algorithm: DBSCAN Clustering\n",
      "Iteration: 984\n",
      "Algorithm: K-Mediods\n"
     ]
    },
    {
     "name": "stderr",
     "output_type": "stream",
     "text": [
      "/opt/homebrew/lib/python3.10/site-packages/sklearn_extra/cluster/_k_medoids.py:329: UserWarning: Cluster 1 is empty! self.labels_[self.medoid_indices_[1]] may not be labeled with its corresponding cluster (1).\n",
      "  warnings.warn(\n"
     ]
    },
    {
     "name": "stdout",
     "output_type": "stream",
     "text": [
      "Iteration: 985\n",
      "Algorithm: EM Clustering\n",
      "Iteration: 986\n",
      "Algorithm: K-Means\n",
      "Iteration: 987\n",
      "Algorithm: K-Means\n",
      "Iteration: 988\n",
      "Algorithm: K-Mediods\n"
     ]
    },
    {
     "name": "stderr",
     "output_type": "stream",
     "text": [
      "/opt/homebrew/lib/python3.10/site-packages/sklearn_extra/cluster/_k_medoids.py:329: UserWarning: Cluster 1 is empty! self.labels_[self.medoid_indices_[1]] may not be labeled with its corresponding cluster (1).\n",
      "  warnings.warn(\n"
     ]
    },
    {
     "name": "stdout",
     "output_type": "stream",
     "text": [
      "Iteration: 989\n",
      "Algorithm: K-Means\n",
      "Iteration: 990\n",
      "Algorithm: Mean Shift\n",
      "Iteration: 991\n",
      "Algorithm: EM Clustering\n",
      "Iteration: 992\n",
      "Algorithm: K-Mediods\n"
     ]
    },
    {
     "name": "stderr",
     "output_type": "stream",
     "text": [
      "/opt/homebrew/lib/python3.10/site-packages/sklearn_extra/cluster/_k_medoids.py:329: UserWarning: Cluster 1 is empty! self.labels_[self.medoid_indices_[1]] may not be labeled with its corresponding cluster (1).\n",
      "  warnings.warn(\n"
     ]
    },
    {
     "name": "stdout",
     "output_type": "stream",
     "text": [
      "Iteration: 993\n",
      "Algorithm: DBSCAN Clustering\n",
      "Iteration: 994\n",
      "Algorithm: Mean Shift\n",
      "Iteration: 995\n",
      "Algorithm: DBSCAN Clustering\n",
      "Iteration: 996\n",
      "Algorithm: EM Clustering\n",
      "Iteration: 997\n",
      "Algorithm: Mean Shift\n",
      "Iteration: 998\n",
      "Algorithm: K-Mediods\n",
      "Iteration: 999\n",
      "Algorithm: K-Mediods\n"
     ]
    },
    {
     "name": "stderr",
     "output_type": "stream",
     "text": [
      "/opt/homebrew/lib/python3.10/site-packages/sklearn_extra/cluster/_k_medoids.py:329: UserWarning: Cluster 1 is empty! self.labels_[self.medoid_indices_[1]] may not be labeled with its corresponding cluster (1).\n",
      "  warnings.warn(\n",
      "/opt/homebrew/lib/python3.10/site-packages/sklearn_extra/cluster/_k_medoids.py:329: UserWarning: Cluster 1 is empty! self.labels_[self.medoid_indices_[1]] may not be labeled with its corresponding cluster (1).\n",
      "  warnings.warn(\n"
     ]
    },
    {
     "name": "stdout",
     "output_type": "stream",
     "text": [
      "Iteration: 1000\n",
      "Algorithm: DBSCAN Clustering\n",
      "Iteration: 1001\n",
      "Algorithm: K-Mediods\n"
     ]
    },
    {
     "name": "stderr",
     "output_type": "stream",
     "text": [
      "/opt/homebrew/lib/python3.10/site-packages/sklearn_extra/cluster/_k_medoids.py:329: UserWarning: Cluster 1 is empty! self.labels_[self.medoid_indices_[1]] may not be labeled with its corresponding cluster (1).\n",
      "  warnings.warn(\n"
     ]
    },
    {
     "name": "stdout",
     "output_type": "stream",
     "text": [
      "Iteration: 1002\n",
      "Algorithm: K-Means\n",
      "Iteration: 1003\n",
      "Algorithm: EM Clustering\n",
      "Iteration: 1004\n",
      "Algorithm: K-Means\n",
      "Iteration: 1005\n",
      "Algorithm: EM Clustering\n",
      "Iteration: 1006\n",
      "Algorithm: K-Mediods\n"
     ]
    },
    {
     "name": "stderr",
     "output_type": "stream",
     "text": [
      "/opt/homebrew/lib/python3.10/site-packages/sklearn_extra/cluster/_k_medoids.py:329: UserWarning: Cluster 1 is empty! self.labels_[self.medoid_indices_[1]] may not be labeled with its corresponding cluster (1).\n",
      "  warnings.warn(\n"
     ]
    },
    {
     "name": "stdout",
     "output_type": "stream",
     "text": [
      "Iteration: 1007\n",
      "Algorithm: Mean Shift\n",
      "Iteration: 1008\n",
      "Algorithm: DBSCAN Clustering\n",
      "Iteration: 1009\n",
      "Algorithm: K-Mediods\n"
     ]
    },
    {
     "name": "stderr",
     "output_type": "stream",
     "text": [
      "/opt/homebrew/lib/python3.10/site-packages/sklearn_extra/cluster/_k_medoids.py:329: UserWarning: Cluster 1 is empty! self.labels_[self.medoid_indices_[1]] may not be labeled with its corresponding cluster (1).\n",
      "  warnings.warn(\n"
     ]
    },
    {
     "name": "stdout",
     "output_type": "stream",
     "text": [
      "Iteration: 1010\n",
      "Algorithm: K-Means\n",
      "Iteration: 1011\n",
      "Algorithm: EM Clustering\n",
      "Iteration: 1012\n",
      "Algorithm: K-Mediods\n"
     ]
    },
    {
     "name": "stderr",
     "output_type": "stream",
     "text": [
      "/opt/homebrew/lib/python3.10/site-packages/sklearn_extra/cluster/_k_medoids.py:329: UserWarning: Cluster 1 is empty! self.labels_[self.medoid_indices_[1]] may not be labeled with its corresponding cluster (1).\n",
      "  warnings.warn(\n",
      "/opt/homebrew/lib/python3.10/site-packages/sklearn_extra/cluster/_k_medoids.py:329: UserWarning: Cluster 1 is empty! self.labels_[self.medoid_indices_[1]] may not be labeled with its corresponding cluster (1).\n",
      "  warnings.warn(\n"
     ]
    },
    {
     "name": "stdout",
     "output_type": "stream",
     "text": [
      "Iteration: 1013\n",
      "Algorithm: K-Mediods\n",
      "Iteration: 1014\n",
      "Algorithm: K-Mediods\n"
     ]
    },
    {
     "name": "stderr",
     "output_type": "stream",
     "text": [
      "/opt/homebrew/lib/python3.10/site-packages/sklearn_extra/cluster/_k_medoids.py:329: UserWarning: Cluster 1 is empty! self.labels_[self.medoid_indices_[1]] may not be labeled with its corresponding cluster (1).\n",
      "  warnings.warn(\n",
      "/opt/homebrew/lib/python3.10/site-packages/sklearn_extra/cluster/_k_medoids.py:329: UserWarning: Cluster 1 is empty! self.labels_[self.medoid_indices_[1]] may not be labeled with its corresponding cluster (1).\n",
      "  warnings.warn(\n"
     ]
    },
    {
     "name": "stdout",
     "output_type": "stream",
     "text": [
      "Iteration: 1015\n",
      "Algorithm: K-Mediods\n",
      "Iteration: 1016\n",
      "Algorithm: DBSCAN Clustering\n",
      "Iteration: 1017\n",
      "Algorithm: K-Mediods\n",
      "Iteration: 1018\n",
      "Algorithm: K-Means\n"
     ]
    },
    {
     "name": "stderr",
     "output_type": "stream",
     "text": [
      "/opt/homebrew/lib/python3.10/site-packages/sklearn_extra/cluster/_k_medoids.py:329: UserWarning: Cluster 1 is empty! self.labels_[self.medoid_indices_[1]] may not be labeled with its corresponding cluster (1).\n",
      "  warnings.warn(\n"
     ]
    },
    {
     "name": "stdout",
     "output_type": "stream",
     "text": [
      "Iteration: 1019\n",
      "Algorithm: K-Mediods\n",
      "Iteration: 1020\n",
      "Algorithm: EM Clustering\n"
     ]
    },
    {
     "name": "stderr",
     "output_type": "stream",
     "text": [
      "/opt/homebrew/lib/python3.10/site-packages/sklearn_extra/cluster/_k_medoids.py:329: UserWarning: Cluster 1 is empty! self.labels_[self.medoid_indices_[1]] may not be labeled with its corresponding cluster (1).\n",
      "  warnings.warn(\n"
     ]
    },
    {
     "name": "stdout",
     "output_type": "stream",
     "text": [
      "Iteration: 1021\n",
      "Algorithm: DBSCAN Clustering\n",
      "Iteration: 1022\n",
      "Algorithm: K-Mediods\n"
     ]
    },
    {
     "name": "stderr",
     "output_type": "stream",
     "text": [
      "/opt/homebrew/lib/python3.10/site-packages/sklearn_extra/cluster/_k_medoids.py:329: UserWarning: Cluster 1 is empty! self.labels_[self.medoid_indices_[1]] may not be labeled with its corresponding cluster (1).\n",
      "  warnings.warn(\n"
     ]
    },
    {
     "name": "stdout",
     "output_type": "stream",
     "text": [
      "Iteration: 1023\n",
      "Algorithm: DBSCAN Clustering\n",
      "Iteration: 1024\n",
      "Algorithm: EM Clustering\n",
      "Iteration: 1025\n",
      "Algorithm: EM Clustering\n",
      "Iteration: 1026\n",
      "Algorithm: Mean Shift\n",
      "Iteration: 1027\n",
      "Algorithm: K-Mediods\n"
     ]
    },
    {
     "name": "stderr",
     "output_type": "stream",
     "text": [
      "/opt/homebrew/lib/python3.10/site-packages/sklearn_extra/cluster/_k_medoids.py:329: UserWarning: Cluster 1 is empty! self.labels_[self.medoid_indices_[1]] may not be labeled with its corresponding cluster (1).\n",
      "  warnings.warn(\n"
     ]
    },
    {
     "name": "stdout",
     "output_type": "stream",
     "text": [
      "Iteration: 1028\n",
      "Algorithm: DBSCAN Clustering\n",
      "Iteration: 1029\n",
      "Algorithm: K-Means\n",
      "Iteration: 1030\n",
      "Algorithm: K-Mediods\n",
      "Iteration: 1031\n",
      "Algorithm: Mean Shift\n"
     ]
    },
    {
     "name": "stderr",
     "output_type": "stream",
     "text": [
      "/opt/homebrew/lib/python3.10/site-packages/sklearn_extra/cluster/_k_medoids.py:329: UserWarning: Cluster 1 is empty! self.labels_[self.medoid_indices_[1]] may not be labeled with its corresponding cluster (1).\n",
      "  warnings.warn(\n"
     ]
    },
    {
     "name": "stdout",
     "output_type": "stream",
     "text": [
      "Iteration: 1032\n",
      "Algorithm: DBSCAN Clustering\n",
      "Iteration: 1033\n",
      "Algorithm: K-Means\n",
      "Iteration: 1034\n",
      "Algorithm: Mean Shift\n",
      "Iteration: 1035\n",
      "Algorithm: K-Means\n",
      "Iteration: 1036\n",
      "Algorithm: K-Mediods\n"
     ]
    },
    {
     "name": "stderr",
     "output_type": "stream",
     "text": [
      "/opt/homebrew/lib/python3.10/site-packages/sklearn_extra/cluster/_k_medoids.py:329: UserWarning: Cluster 1 is empty! self.labels_[self.medoid_indices_[1]] may not be labeled with its corresponding cluster (1).\n",
      "  warnings.warn(\n"
     ]
    },
    {
     "name": "stdout",
     "output_type": "stream",
     "text": [
      "Iteration: 1037\n",
      "Algorithm: K-Means\n",
      "Iteration: 1038\n",
      "Algorithm: EM Clustering\n",
      "Iteration: 1039\n",
      "Algorithm: K-Mediods\n",
      "Iteration: 1040\n",
      "Algorithm: K-Mediods\n"
     ]
    },
    {
     "name": "stderr",
     "output_type": "stream",
     "text": [
      "/opt/homebrew/lib/python3.10/site-packages/sklearn_extra/cluster/_k_medoids.py:329: UserWarning: Cluster 1 is empty! self.labels_[self.medoid_indices_[1]] may not be labeled with its corresponding cluster (1).\n",
      "  warnings.warn(\n",
      "/opt/homebrew/lib/python3.10/site-packages/sklearn_extra/cluster/_k_medoids.py:329: UserWarning: Cluster 1 is empty! self.labels_[self.medoid_indices_[1]] may not be labeled with its corresponding cluster (1).\n",
      "  warnings.warn(\n"
     ]
    },
    {
     "name": "stdout",
     "output_type": "stream",
     "text": [
      "Iteration: 1041\n",
      "Algorithm: DBSCAN Clustering\n",
      "Iteration: 1042\n",
      "Algorithm: K-Means\n",
      "Iteration: 1043\n",
      "Algorithm: EM Clustering\n",
      "Iteration: 1044\n",
      "Algorithm: K-Means\n",
      "Iteration: 1045\n",
      "Algorithm: DBSCAN Clustering\n",
      "Iteration: 1046\n",
      "Algorithm: K-Mediods\n",
      "Iteration: 1047\n",
      "Algorithm: Mean Shift\n"
     ]
    },
    {
     "name": "stderr",
     "output_type": "stream",
     "text": [
      "/opt/homebrew/lib/python3.10/site-packages/sklearn_extra/cluster/_k_medoids.py:329: UserWarning: Cluster 1 is empty! self.labels_[self.medoid_indices_[1]] may not be labeled with its corresponding cluster (1).\n",
      "  warnings.warn(\n"
     ]
    },
    {
     "name": "stdout",
     "output_type": "stream",
     "text": [
      "Iteration: 1048\n",
      "Algorithm: Mean Shift\n",
      "Iteration: 1049\n",
      "Algorithm: EM Clustering\n",
      "Iteration: 1050\n",
      "Algorithm: EM Clustering\n",
      "Iteration: 1051\n",
      "Algorithm: DBSCAN Clustering\n",
      "Iteration: 1052\n",
      "Algorithm: K-Means\n",
      "Iteration: 1053\n",
      "Algorithm: Mean Shift\n",
      "Iteration: 1054\n",
      "Algorithm: K-Mediods\n",
      "Iteration: 1055\n",
      "Algorithm: EM Clustering\n"
     ]
    },
    {
     "name": "stderr",
     "output_type": "stream",
     "text": [
      "/opt/homebrew/lib/python3.10/site-packages/sklearn_extra/cluster/_k_medoids.py:329: UserWarning: Cluster 1 is empty! self.labels_[self.medoid_indices_[1]] may not be labeled with its corresponding cluster (1).\n",
      "  warnings.warn(\n"
     ]
    },
    {
     "name": "stdout",
     "output_type": "stream",
     "text": [
      "Iteration: 1056\n",
      "Algorithm: K-Mediods\n",
      "Iteration: 1057\n",
      "Algorithm: DBSCAN Clustering\n"
     ]
    },
    {
     "name": "stderr",
     "output_type": "stream",
     "text": [
      "/opt/homebrew/lib/python3.10/site-packages/sklearn_extra/cluster/_k_medoids.py:329: UserWarning: Cluster 1 is empty! self.labels_[self.medoid_indices_[1]] may not be labeled with its corresponding cluster (1).\n",
      "  warnings.warn(\n"
     ]
    },
    {
     "name": "stdout",
     "output_type": "stream",
     "text": [
      "Iteration: 1058\n",
      "Algorithm: Mean Shift\n",
      "Iteration: 1059\n",
      "Algorithm: K-Mediods\n",
      "Iteration: 1060\n",
      "Algorithm: Mean Shift\n"
     ]
    },
    {
     "name": "stderr",
     "output_type": "stream",
     "text": [
      "/opt/homebrew/lib/python3.10/site-packages/sklearn_extra/cluster/_k_medoids.py:329: UserWarning: Cluster 1 is empty! self.labels_[self.medoid_indices_[1]] may not be labeled with its corresponding cluster (1).\n",
      "  warnings.warn(\n"
     ]
    },
    {
     "name": "stdout",
     "output_type": "stream",
     "text": [
      "Iteration: 1061\n",
      "Algorithm: K-Means\n",
      "Iteration: 1062\n",
      "Algorithm: K-Mediods\n"
     ]
    },
    {
     "name": "stderr",
     "output_type": "stream",
     "text": [
      "/opt/homebrew/lib/python3.10/site-packages/sklearn_extra/cluster/_k_medoids.py:329: UserWarning: Cluster 1 is empty! self.labels_[self.medoid_indices_[1]] may not be labeled with its corresponding cluster (1).\n",
      "  warnings.warn(\n",
      "/opt/homebrew/lib/python3.10/site-packages/sklearn_extra/cluster/_k_medoids.py:329: UserWarning: Cluster 1 is empty! self.labels_[self.medoid_indices_[1]] may not be labeled with its corresponding cluster (1).\n",
      "  warnings.warn(\n"
     ]
    },
    {
     "name": "stdout",
     "output_type": "stream",
     "text": [
      "Iteration: 1063\n",
      "Algorithm: K-Mediods\n",
      "Iteration: 1064\n",
      "Algorithm: K-Means\n",
      "Iteration: 1065\n",
      "Algorithm: DBSCAN Clustering\n",
      "Iteration: 1066\n",
      "Algorithm: DBSCAN Clustering\n",
      "Iteration: 1067\n",
      "Algorithm: K-Means\n",
      "Iteration: 1068\n",
      "Algorithm: K-Mediods\n"
     ]
    },
    {
     "name": "stderr",
     "output_type": "stream",
     "text": [
      "/opt/homebrew/lib/python3.10/site-packages/sklearn_extra/cluster/_k_medoids.py:329: UserWarning: Cluster 1 is empty! self.labels_[self.medoid_indices_[1]] may not be labeled with its corresponding cluster (1).\n",
      "  warnings.warn(\n"
     ]
    },
    {
     "name": "stdout",
     "output_type": "stream",
     "text": [
      "Iteration: 1069\n",
      "Algorithm: Mean Shift\n",
      "Iteration: 1070\n",
      "Algorithm: K-Means\n",
      "Iteration: 1071\n",
      "Algorithm: Mean Shift\n",
      "Iteration: 1072\n",
      "Algorithm: EM Clustering\n",
      "Iteration: 1073\n",
      "Algorithm: K-Means\n",
      "Iteration: 1074\n",
      "Algorithm: DBSCAN Clustering\n",
      "Iteration: 1075\n",
      "Algorithm: EM Clustering\n",
      "Iteration: 1076\n",
      "Algorithm: DBSCAN Clustering\n",
      "Iteration: 1077\n",
      "Algorithm: Mean Shift\n",
      "Iteration: 1078\n",
      "Algorithm: K-Means\n",
      "Iteration: 1079\n",
      "Algorithm: K-Mediods\n"
     ]
    },
    {
     "name": "stderr",
     "output_type": "stream",
     "text": [
      "/opt/homebrew/lib/python3.10/site-packages/sklearn_extra/cluster/_k_medoids.py:329: UserWarning: Cluster 1 is empty! self.labels_[self.medoid_indices_[1]] may not be labeled with its corresponding cluster (1).\n",
      "  warnings.warn(\n",
      "/opt/homebrew/lib/python3.10/site-packages/sklearn_extra/cluster/_k_medoids.py:329: UserWarning: Cluster 1 is empty! self.labels_[self.medoid_indices_[1]] may not be labeled with its corresponding cluster (1).\n",
      "  warnings.warn(\n"
     ]
    },
    {
     "name": "stdout",
     "output_type": "stream",
     "text": [
      "Iteration: 1080\n",
      "Algorithm: K-Mediods\n",
      "Iteration: 1081\n",
      "Algorithm: K-Mediods\n"
     ]
    },
    {
     "name": "stderr",
     "output_type": "stream",
     "text": [
      "/opt/homebrew/lib/python3.10/site-packages/sklearn_extra/cluster/_k_medoids.py:329: UserWarning: Cluster 1 is empty! self.labels_[self.medoid_indices_[1]] may not be labeled with its corresponding cluster (1).\n",
      "  warnings.warn(\n"
     ]
    },
    {
     "name": "stdout",
     "output_type": "stream",
     "text": [
      "Iteration: 1082\n",
      "Algorithm: K-Means\n",
      "Iteration: 1083\n",
      "Algorithm: K-Means\n",
      "Iteration: 1084\n",
      "Algorithm: K-Mediods\n"
     ]
    },
    {
     "name": "stderr",
     "output_type": "stream",
     "text": [
      "/opt/homebrew/lib/python3.10/site-packages/sklearn_extra/cluster/_k_medoids.py:329: UserWarning: Cluster 1 is empty! self.labels_[self.medoid_indices_[1]] may not be labeled with its corresponding cluster (1).\n",
      "  warnings.warn(\n"
     ]
    },
    {
     "name": "stdout",
     "output_type": "stream",
     "text": [
      "Iteration: 1085\n",
      "Algorithm: DBSCAN Clustering\n",
      "Iteration: 1086\n",
      "Algorithm: Mean Shift\n",
      "Iteration: 1087\n",
      "Algorithm: K-Means\n",
      "Iteration: 1088\n",
      "Algorithm: K-Mediods\n"
     ]
    },
    {
     "name": "stderr",
     "output_type": "stream",
     "text": [
      "/opt/homebrew/lib/python3.10/site-packages/sklearn_extra/cluster/_k_medoids.py:329: UserWarning: Cluster 1 is empty! self.labels_[self.medoid_indices_[1]] may not be labeled with its corresponding cluster (1).\n",
      "  warnings.warn(\n",
      "/opt/homebrew/lib/python3.10/site-packages/sklearn_extra/cluster/_k_medoids.py:329: UserWarning: Cluster 1 is empty! self.labels_[self.medoid_indices_[1]] may not be labeled with its corresponding cluster (1).\n",
      "  warnings.warn(\n"
     ]
    },
    {
     "name": "stdout",
     "output_type": "stream",
     "text": [
      "Iteration: 1089\n",
      "Algorithm: K-Mediods\n",
      "Iteration: 1090\n",
      "Algorithm: EM Clustering\n",
      "Iteration: 1091\n",
      "Algorithm: K-Means\n",
      "Iteration: 1092\n",
      "Algorithm: Mean Shift\n",
      "Iteration: 1093\n",
      "Algorithm: K-Means\n",
      "Iteration: 1094\n",
      "Algorithm: K-Mediods\n"
     ]
    },
    {
     "name": "stderr",
     "output_type": "stream",
     "text": [
      "/opt/homebrew/lib/python3.10/site-packages/sklearn_extra/cluster/_k_medoids.py:329: UserWarning: Cluster 1 is empty! self.labels_[self.medoid_indices_[1]] may not be labeled with its corresponding cluster (1).\n",
      "  warnings.warn(\n",
      "/opt/homebrew/lib/python3.10/site-packages/sklearn_extra/cluster/_k_medoids.py:329: UserWarning: Cluster 1 is empty! self.labels_[self.medoid_indices_[1]] may not be labeled with its corresponding cluster (1).\n",
      "  warnings.warn(\n"
     ]
    },
    {
     "name": "stdout",
     "output_type": "stream",
     "text": [
      "Iteration: 1095\n",
      "Algorithm: K-Mediods\n",
      "Iteration: 1096\n",
      "Algorithm: K-Means\n",
      "Iteration: 1097\n",
      "Algorithm: Mean Shift\n",
      "Iteration: 1098\n",
      "Algorithm: K-Means\n",
      "Iteration: 1099\n",
      "Algorithm: EM Clustering\n",
      "Iteration: 1100\n",
      "Algorithm: K-Mediods\n",
      "Iteration: 1101\n",
      "Algorithm: K-Means\n"
     ]
    },
    {
     "name": "stderr",
     "output_type": "stream",
     "text": [
      "/opt/homebrew/lib/python3.10/site-packages/sklearn_extra/cluster/_k_medoids.py:329: UserWarning: Cluster 1 is empty! self.labels_[self.medoid_indices_[1]] may not be labeled with its corresponding cluster (1).\n",
      "  warnings.warn(\n"
     ]
    },
    {
     "name": "stdout",
     "output_type": "stream",
     "text": [
      "Iteration: 1102\n",
      "Algorithm: Mean Shift\n",
      "Iteration: 1103\n",
      "Algorithm: K-Mediods\n",
      "Iteration: 1104\n",
      "Algorithm: K-Mediods\n"
     ]
    },
    {
     "name": "stderr",
     "output_type": "stream",
     "text": [
      "/opt/homebrew/lib/python3.10/site-packages/sklearn_extra/cluster/_k_medoids.py:329: UserWarning: Cluster 1 is empty! self.labels_[self.medoid_indices_[1]] may not be labeled with its corresponding cluster (1).\n",
      "  warnings.warn(\n",
      "/opt/homebrew/lib/python3.10/site-packages/sklearn_extra/cluster/_k_medoids.py:329: UserWarning: Cluster 1 is empty! self.labels_[self.medoid_indices_[1]] may not be labeled with its corresponding cluster (1).\n",
      "  warnings.warn(\n"
     ]
    },
    {
     "name": "stdout",
     "output_type": "stream",
     "text": [
      "Iteration: 1105\n",
      "Algorithm: DBSCAN Clustering\n",
      "Iteration: 1106\n",
      "Algorithm: K-Mediods\n",
      "Iteration: 1107\n",
      "Algorithm: EM Clustering\n"
     ]
    },
    {
     "name": "stderr",
     "output_type": "stream",
     "text": [
      "/opt/homebrew/lib/python3.10/site-packages/sklearn_extra/cluster/_k_medoids.py:329: UserWarning: Cluster 1 is empty! self.labels_[self.medoid_indices_[1]] may not be labeled with its corresponding cluster (1).\n",
      "  warnings.warn(\n"
     ]
    },
    {
     "name": "stdout",
     "output_type": "stream",
     "text": [
      "Iteration: 1108\n",
      "Algorithm: DBSCAN Clustering\n",
      "Iteration: 1109\n",
      "Algorithm: DBSCAN Clustering\n",
      "Iteration: 1110\n",
      "Algorithm: DBSCAN Clustering\n",
      "Iteration: 1111\n",
      "Algorithm: K-Mediods\n",
      "Iteration: 1112\n",
      "Algorithm: K-Means\n"
     ]
    },
    {
     "name": "stderr",
     "output_type": "stream",
     "text": [
      "/opt/homebrew/lib/python3.10/site-packages/sklearn_extra/cluster/_k_medoids.py:329: UserWarning: Cluster 1 is empty! self.labels_[self.medoid_indices_[1]] may not be labeled with its corresponding cluster (1).\n",
      "  warnings.warn(\n"
     ]
    },
    {
     "name": "stdout",
     "output_type": "stream",
     "text": [
      "Iteration: 1113\n",
      "Algorithm: K-Mediods\n",
      "Iteration: 1114\n",
      "Algorithm: EM Clustering\n"
     ]
    },
    {
     "name": "stderr",
     "output_type": "stream",
     "text": [
      "/opt/homebrew/lib/python3.10/site-packages/sklearn_extra/cluster/_k_medoids.py:329: UserWarning: Cluster 1 is empty! self.labels_[self.medoid_indices_[1]] may not be labeled with its corresponding cluster (1).\n",
      "  warnings.warn(\n"
     ]
    },
    {
     "name": "stdout",
     "output_type": "stream",
     "text": [
      "Iteration: 1115\n",
      "Algorithm: K-Mediods\n"
     ]
    },
    {
     "name": "stderr",
     "output_type": "stream",
     "text": [
      "/opt/homebrew/lib/python3.10/site-packages/sklearn_extra/cluster/_k_medoids.py:329: UserWarning: Cluster 1 is empty! self.labels_[self.medoid_indices_[1]] may not be labeled with its corresponding cluster (1).\n",
      "  warnings.warn(\n"
     ]
    },
    {
     "name": "stdout",
     "output_type": "stream",
     "text": [
      "Iteration: 1116\n",
      "Algorithm: DBSCAN Clustering\n",
      "Iteration: 1117\n",
      "Algorithm: K-Means\n",
      "Iteration: 1118\n",
      "Algorithm: Mean Shift\n",
      "Iteration: 1119\n",
      "Algorithm: K-Means\n",
      "Iteration: 1120\n",
      "Algorithm: K-Mediods\n"
     ]
    },
    {
     "name": "stderr",
     "output_type": "stream",
     "text": [
      "/opt/homebrew/lib/python3.10/site-packages/sklearn_extra/cluster/_k_medoids.py:329: UserWarning: Cluster 1 is empty! self.labels_[self.medoid_indices_[1]] may not be labeled with its corresponding cluster (1).\n",
      "  warnings.warn(\n"
     ]
    },
    {
     "name": "stdout",
     "output_type": "stream",
     "text": [
      "Iteration: 1121\n",
      "Algorithm: EM Clustering\n",
      "Iteration: 1122\n",
      "Algorithm: EM Clustering\n",
      "Iteration: 1123\n",
      "Algorithm: EM Clustering\n",
      "Iteration: 1124\n",
      "Algorithm: K-Means\n",
      "Iteration: 1125\n",
      "Algorithm: DBSCAN Clustering\n",
      "Iteration: 1126\n",
      "Algorithm: K-Mediods\n"
     ]
    },
    {
     "name": "stderr",
     "output_type": "stream",
     "text": [
      "/opt/homebrew/lib/python3.10/site-packages/sklearn_extra/cluster/_k_medoids.py:329: UserWarning: Cluster 1 is empty! self.labels_[self.medoid_indices_[1]] may not be labeled with its corresponding cluster (1).\n",
      "  warnings.warn(\n"
     ]
    },
    {
     "name": "stdout",
     "output_type": "stream",
     "text": [
      "Iteration: 1127\n",
      "Algorithm: DBSCAN Clustering\n",
      "Iteration: 1128\n",
      "Algorithm: K-Means\n",
      "Iteration: 1129\n",
      "Algorithm: DBSCAN Clustering\n",
      "Iteration: 1130\n",
      "Algorithm: EM Clustering\n",
      "Iteration: 1131\n",
      "Algorithm: K-Mediods\n"
     ]
    },
    {
     "name": "stderr",
     "output_type": "stream",
     "text": [
      "/opt/homebrew/lib/python3.10/site-packages/sklearn_extra/cluster/_k_medoids.py:329: UserWarning: Cluster 1 is empty! self.labels_[self.medoid_indices_[1]] may not be labeled with its corresponding cluster (1).\n",
      "  warnings.warn(\n"
     ]
    },
    {
     "name": "stdout",
     "output_type": "stream",
     "text": [
      "Iteration: 1132\n",
      "Algorithm: DBSCAN Clustering\n",
      "Iteration: 1133\n",
      "Algorithm: K-Mediods\n"
     ]
    },
    {
     "name": "stderr",
     "output_type": "stream",
     "text": [
      "/opt/homebrew/lib/python3.10/site-packages/sklearn_extra/cluster/_k_medoids.py:329: UserWarning: Cluster 1 is empty! self.labels_[self.medoid_indices_[1]] may not be labeled with its corresponding cluster (1).\n",
      "  warnings.warn(\n"
     ]
    },
    {
     "name": "stdout",
     "output_type": "stream",
     "text": [
      "Iteration: 1134\n",
      "Algorithm: EM Clustering\n",
      "Iteration: 1135\n",
      "Algorithm: K-Means\n",
      "Iteration: 1136\n",
      "Algorithm: Mean Shift\n",
      "Iteration: 1137\n",
      "Algorithm: K-Mediods\n"
     ]
    },
    {
     "name": "stderr",
     "output_type": "stream",
     "text": [
      "/opt/homebrew/lib/python3.10/site-packages/sklearn_extra/cluster/_k_medoids.py:329: UserWarning: Cluster 1 is empty! self.labels_[self.medoid_indices_[1]] may not be labeled with its corresponding cluster (1).\n",
      "  warnings.warn(\n"
     ]
    },
    {
     "name": "stdout",
     "output_type": "stream",
     "text": [
      "Iteration: 1138\n",
      "Algorithm: K-Means\n",
      "Iteration: 1139\n",
      "Algorithm: DBSCAN Clustering\n",
      "Iteration: 1140\n",
      "Algorithm: DBSCAN Clustering\n",
      "Iteration: 1141\n",
      "Algorithm: K-Mediods\n"
     ]
    },
    {
     "name": "stderr",
     "output_type": "stream",
     "text": [
      "/opt/homebrew/lib/python3.10/site-packages/sklearn_extra/cluster/_k_medoids.py:329: UserWarning: Cluster 1 is empty! self.labels_[self.medoid_indices_[1]] may not be labeled with its corresponding cluster (1).\n",
      "  warnings.warn(\n"
     ]
    },
    {
     "name": "stdout",
     "output_type": "stream",
     "text": [
      "Iteration: 1142\n",
      "Algorithm: K-Mediods\n"
     ]
    },
    {
     "name": "stderr",
     "output_type": "stream",
     "text": [
      "/opt/homebrew/lib/python3.10/site-packages/sklearn_extra/cluster/_k_medoids.py:329: UserWarning: Cluster 1 is empty! self.labels_[self.medoid_indices_[1]] may not be labeled with its corresponding cluster (1).\n",
      "  warnings.warn(\n"
     ]
    },
    {
     "name": "stdout",
     "output_type": "stream",
     "text": [
      "Iteration: 1143\n",
      "Algorithm: K-Mediods\n"
     ]
    },
    {
     "name": "stderr",
     "output_type": "stream",
     "text": [
      "/opt/homebrew/lib/python3.10/site-packages/sklearn_extra/cluster/_k_medoids.py:329: UserWarning: Cluster 1 is empty! self.labels_[self.medoid_indices_[1]] may not be labeled with its corresponding cluster (1).\n",
      "  warnings.warn(\n"
     ]
    },
    {
     "name": "stdout",
     "output_type": "stream",
     "text": [
      "Iteration: 1144\n",
      "Algorithm: EM Clustering\n",
      "Iteration: 1145\n",
      "Algorithm: K-Means\n",
      "Iteration: 1146\n",
      "Algorithm: EM Clustering\n",
      "Iteration: 1147\n",
      "Algorithm: K-Mediods\n"
     ]
    },
    {
     "name": "stderr",
     "output_type": "stream",
     "text": [
      "/opt/homebrew/lib/python3.10/site-packages/sklearn_extra/cluster/_k_medoids.py:329: UserWarning: Cluster 1 is empty! self.labels_[self.medoid_indices_[1]] may not be labeled with its corresponding cluster (1).\n",
      "  warnings.warn(\n"
     ]
    },
    {
     "name": "stdout",
     "output_type": "stream",
     "text": [
      "Iteration: 1148\n",
      "Algorithm: EM Clustering\n",
      "Iteration: 1149\n",
      "Algorithm: K-Means\n",
      "Iteration: 1150\n",
      "Algorithm: DBSCAN Clustering\n",
      "Iteration: 1151\n",
      "Algorithm: K-Mediods\n",
      "Iteration: 1152\n",
      "Algorithm: K-Mediods\n"
     ]
    },
    {
     "name": "stderr",
     "output_type": "stream",
     "text": [
      "/opt/homebrew/lib/python3.10/site-packages/sklearn_extra/cluster/_k_medoids.py:329: UserWarning: Cluster 1 is empty! self.labels_[self.medoid_indices_[1]] may not be labeled with its corresponding cluster (1).\n",
      "  warnings.warn(\n"
     ]
    },
    {
     "name": "stdout",
     "output_type": "stream",
     "text": [
      "Iteration: 1153\n",
      "Algorithm: K-Means\n",
      "Iteration: 1154\n",
      "Algorithm: K-Means\n",
      "Iteration: 1155\n",
      "Algorithm: K-Mediods\n"
     ]
    },
    {
     "name": "stderr",
     "output_type": "stream",
     "text": [
      "/opt/homebrew/lib/python3.10/site-packages/sklearn_extra/cluster/_k_medoids.py:329: UserWarning: Cluster 1 is empty! self.labels_[self.medoid_indices_[1]] may not be labeled with its corresponding cluster (1).\n",
      "  warnings.warn(\n"
     ]
    },
    {
     "name": "stdout",
     "output_type": "stream",
     "text": [
      "Iteration: 1156\n",
      "Algorithm: K-Mediods\n"
     ]
    },
    {
     "name": "stderr",
     "output_type": "stream",
     "text": [
      "/opt/homebrew/lib/python3.10/site-packages/sklearn_extra/cluster/_k_medoids.py:329: UserWarning: Cluster 1 is empty! self.labels_[self.medoid_indices_[1]] may not be labeled with its corresponding cluster (1).\n",
      "  warnings.warn(\n"
     ]
    },
    {
     "name": "stdout",
     "output_type": "stream",
     "text": [
      "Iteration: 1157\n",
      "Algorithm: Mean Shift\n",
      "Iteration: 1158\n",
      "Algorithm: Mean Shift\n",
      "Iteration: 1159\n",
      "Algorithm: DBSCAN Clustering\n",
      "Iteration: 1160\n",
      "Algorithm: EM Clustering\n",
      "Iteration: 1161\n",
      "Algorithm: Mean Shift\n",
      "Iteration: 1162\n",
      "Algorithm: DBSCAN Clustering\n",
      "Iteration: 1163\n",
      "Algorithm: EM Clustering\n",
      "Iteration: 1164\n",
      "Algorithm: K-Mediods\n"
     ]
    },
    {
     "name": "stderr",
     "output_type": "stream",
     "text": [
      "/opt/homebrew/lib/python3.10/site-packages/sklearn_extra/cluster/_k_medoids.py:329: UserWarning: Cluster 1 is empty! self.labels_[self.medoid_indices_[1]] may not be labeled with its corresponding cluster (1).\n",
      "  warnings.warn(\n"
     ]
    },
    {
     "name": "stdout",
     "output_type": "stream",
     "text": [
      "Iteration: 1165\n",
      "Algorithm: Mean Shift\n",
      "Iteration: 1166\n",
      "Algorithm: K-Mediods\n"
     ]
    },
    {
     "name": "stderr",
     "output_type": "stream",
     "text": [
      "/opt/homebrew/lib/python3.10/site-packages/sklearn_extra/cluster/_k_medoids.py:329: UserWarning: Cluster 1 is empty! self.labels_[self.medoid_indices_[1]] may not be labeled with its corresponding cluster (1).\n",
      "  warnings.warn(\n"
     ]
    },
    {
     "name": "stdout",
     "output_type": "stream",
     "text": [
      "Iteration: 1167\n",
      "Algorithm: K-Means\n",
      "Iteration: 1168\n",
      "Algorithm: DBSCAN Clustering\n",
      "Iteration: 1169\n",
      "Algorithm: Mean Shift\n",
      "Iteration: 1170\n",
      "Algorithm: K-Mediods\n"
     ]
    },
    {
     "name": "stderr",
     "output_type": "stream",
     "text": [
      "/opt/homebrew/lib/python3.10/site-packages/sklearn_extra/cluster/_k_medoids.py:329: UserWarning: Cluster 1 is empty! self.labels_[self.medoid_indices_[1]] may not be labeled with its corresponding cluster (1).\n",
      "  warnings.warn(\n"
     ]
    },
    {
     "name": "stdout",
     "output_type": "stream",
     "text": [
      "Iteration: 1171\n",
      "Algorithm: K-Mediods\n"
     ]
    },
    {
     "name": "stderr",
     "output_type": "stream",
     "text": [
      "/opt/homebrew/lib/python3.10/site-packages/sklearn_extra/cluster/_k_medoids.py:329: UserWarning: Cluster 1 is empty! self.labels_[self.medoid_indices_[1]] may not be labeled with its corresponding cluster (1).\n",
      "  warnings.warn(\n"
     ]
    },
    {
     "name": "stdout",
     "output_type": "stream",
     "text": [
      "Iteration: 1172\n",
      "Algorithm: DBSCAN Clustering\n",
      "Iteration: 1173\n",
      "Algorithm: DBSCAN Clustering\n",
      "Iteration: 1174\n",
      "Algorithm: K-Mediods\n"
     ]
    },
    {
     "name": "stderr",
     "output_type": "stream",
     "text": [
      "/opt/homebrew/lib/python3.10/site-packages/sklearn_extra/cluster/_k_medoids.py:329: UserWarning: Cluster 1 is empty! self.labels_[self.medoid_indices_[1]] may not be labeled with its corresponding cluster (1).\n",
      "  warnings.warn(\n"
     ]
    },
    {
     "name": "stdout",
     "output_type": "stream",
     "text": [
      "Iteration: 1175\n",
      "Algorithm: Mean Shift\n",
      "Iteration: 1176\n",
      "Algorithm: DBSCAN Clustering\n",
      "Iteration: 1177\n",
      "Algorithm: K-Means\n",
      "Iteration: 1178\n",
      "Algorithm: K-Means\n",
      "Iteration: 1179\n",
      "Algorithm: EM Clustering\n",
      "Iteration: 1180\n",
      "Algorithm: K-Mediods\n"
     ]
    },
    {
     "name": "stderr",
     "output_type": "stream",
     "text": [
      "/opt/homebrew/lib/python3.10/site-packages/sklearn_extra/cluster/_k_medoids.py:329: UserWarning: Cluster 1 is empty! self.labels_[self.medoid_indices_[1]] may not be labeled with its corresponding cluster (1).\n",
      "  warnings.warn(\n"
     ]
    },
    {
     "name": "stdout",
     "output_type": "stream",
     "text": [
      "Iteration: 1181\n",
      "Algorithm: DBSCAN Clustering\n",
      "Iteration: 1182\n",
      "Algorithm: K-Means\n",
      "Iteration: 1183\n",
      "Algorithm: K-Means\n",
      "Iteration: 1184\n",
      "Algorithm: DBSCAN Clustering\n",
      "Iteration: 1185\n",
      "Algorithm: K-Mediods\n"
     ]
    },
    {
     "name": "stderr",
     "output_type": "stream",
     "text": [
      "/opt/homebrew/lib/python3.10/site-packages/sklearn_extra/cluster/_k_medoids.py:329: UserWarning: Cluster 1 is empty! self.labels_[self.medoid_indices_[1]] may not be labeled with its corresponding cluster (1).\n",
      "  warnings.warn(\n"
     ]
    },
    {
     "name": "stdout",
     "output_type": "stream",
     "text": [
      "Iteration: 1186\n",
      "Algorithm: Mean Shift\n",
      "Iteration: 1187\n",
      "Algorithm: K-Mediods\n"
     ]
    },
    {
     "name": "stderr",
     "output_type": "stream",
     "text": [
      "/opt/homebrew/lib/python3.10/site-packages/sklearn_extra/cluster/_k_medoids.py:329: UserWarning: Cluster 1 is empty! self.labels_[self.medoid_indices_[1]] may not be labeled with its corresponding cluster (1).\n",
      "  warnings.warn(\n"
     ]
    },
    {
     "name": "stdout",
     "output_type": "stream",
     "text": [
      "Iteration: 1188\n",
      "Algorithm: K-Means\n",
      "Iteration: 1189\n",
      "Algorithm: Mean Shift\n",
      "Iteration: 1190\n",
      "Algorithm: K-Mediods\n"
     ]
    },
    {
     "name": "stderr",
     "output_type": "stream",
     "text": [
      "/opt/homebrew/lib/python3.10/site-packages/sklearn_extra/cluster/_k_medoids.py:329: UserWarning: Cluster 1 is empty! self.labels_[self.medoid_indices_[1]] may not be labeled with its corresponding cluster (1).\n",
      "  warnings.warn(\n"
     ]
    },
    {
     "name": "stdout",
     "output_type": "stream",
     "text": [
      "Iteration: 1191\n",
      "Algorithm: K-Means\n",
      "Iteration: 1192\n",
      "Algorithm: K-Means\n",
      "Iteration: 1193\n",
      "Algorithm: K-Means\n",
      "Iteration: 1194\n",
      "Algorithm: DBSCAN Clustering\n",
      "Iteration: 1195\n",
      "Algorithm: EM Clustering\n",
      "Iteration: 1196\n",
      "Algorithm: Mean Shift\n",
      "Iteration: 1197\n",
      "Algorithm: Mean Shift\n",
      "Iteration: 1198\n",
      "Algorithm: Mean Shift\n",
      "Iteration: 1199\n",
      "Algorithm: K-Means\n",
      "Iteration: 1200\n",
      "Algorithm: K-Mediods\n"
     ]
    },
    {
     "name": "stderr",
     "output_type": "stream",
     "text": [
      "/opt/homebrew/lib/python3.10/site-packages/sklearn_extra/cluster/_k_medoids.py:329: UserWarning: Cluster 1 is empty! self.labels_[self.medoid_indices_[1]] may not be labeled with its corresponding cluster (1).\n",
      "  warnings.warn(\n"
     ]
    },
    {
     "name": "stdout",
     "output_type": "stream",
     "text": [
      "Iteration: 1201\n",
      "Algorithm: DBSCAN Clustering\n",
      "Iteration: 1202\n",
      "Algorithm: K-Means\n",
      "Iteration: 1203\n",
      "Algorithm: K-Mediods\n"
     ]
    },
    {
     "name": "stderr",
     "output_type": "stream",
     "text": [
      "/opt/homebrew/lib/python3.10/site-packages/sklearn_extra/cluster/_k_medoids.py:329: UserWarning: Cluster 1 is empty! self.labels_[self.medoid_indices_[1]] may not be labeled with its corresponding cluster (1).\n",
      "  warnings.warn(\n"
     ]
    },
    {
     "name": "stdout",
     "output_type": "stream",
     "text": [
      "Iteration: 1204\n",
      "Algorithm: DBSCAN Clustering\n",
      "Iteration: 1205\n",
      "Algorithm: EM Clustering\n",
      "Iteration: 1206\n",
      "Algorithm: K-Means\n",
      "Iteration: 1207\n",
      "Algorithm: K-Means\n",
      "Iteration: 1208\n",
      "Algorithm: K-Mediods\n"
     ]
    },
    {
     "name": "stderr",
     "output_type": "stream",
     "text": [
      "/opt/homebrew/lib/python3.10/site-packages/sklearn_extra/cluster/_k_medoids.py:329: UserWarning: Cluster 1 is empty! self.labels_[self.medoid_indices_[1]] may not be labeled with its corresponding cluster (1).\n",
      "  warnings.warn(\n"
     ]
    },
    {
     "name": "stdout",
     "output_type": "stream",
     "text": [
      "Iteration: 1209\n",
      "Algorithm: K-Mediods\n"
     ]
    },
    {
     "name": "stderr",
     "output_type": "stream",
     "text": [
      "/opt/homebrew/lib/python3.10/site-packages/sklearn_extra/cluster/_k_medoids.py:329: UserWarning: Cluster 1 is empty! self.labels_[self.medoid_indices_[1]] may not be labeled with its corresponding cluster (1).\n",
      "  warnings.warn(\n"
     ]
    },
    {
     "name": "stdout",
     "output_type": "stream",
     "text": [
      "Iteration: 1210\n",
      "Algorithm: EM Clustering\n",
      "Iteration: 1211\n",
      "Algorithm: Mean Shift\n",
      "Iteration: 1212\n",
      "Algorithm: EM Clustering\n",
      "Iteration: 1213\n",
      "Algorithm: K-Mediods\n"
     ]
    },
    {
     "name": "stderr",
     "output_type": "stream",
     "text": [
      "/opt/homebrew/lib/python3.10/site-packages/sklearn_extra/cluster/_k_medoids.py:329: UserWarning: Cluster 1 is empty! self.labels_[self.medoid_indices_[1]] may not be labeled with its corresponding cluster (1).\n",
      "  warnings.warn(\n"
     ]
    },
    {
     "name": "stdout",
     "output_type": "stream",
     "text": [
      "Iteration: 1214\n",
      "Algorithm: Mean Shift\n",
      "Iteration: 1215\n",
      "Algorithm: K-Mediods\n"
     ]
    },
    {
     "name": "stderr",
     "output_type": "stream",
     "text": [
      "/opt/homebrew/lib/python3.10/site-packages/sklearn_extra/cluster/_k_medoids.py:329: UserWarning: Cluster 1 is empty! self.labels_[self.medoid_indices_[1]] may not be labeled with its corresponding cluster (1).\n",
      "  warnings.warn(\n"
     ]
    },
    {
     "name": "stdout",
     "output_type": "stream",
     "text": [
      "Iteration: 1216\n",
      "Algorithm: EM Clustering\n",
      "Iteration: 1217\n",
      "Algorithm: Mean Shift\n",
      "Iteration: 1218\n",
      "Algorithm: Mean Shift\n",
      "Iteration: 1219\n",
      "Algorithm: K-Means\n",
      "Iteration: 1220\n",
      "Algorithm: EM Clustering\n",
      "Iteration: 1221\n",
      "Algorithm: EM Clustering\n",
      "Iteration: 1222\n",
      "Algorithm: EM Clustering\n",
      "Iteration: 1223\n",
      "Algorithm: EM Clustering\n",
      "Iteration: 1224\n",
      "Algorithm: Mean Shift\n",
      "Iteration: 1225\n",
      "Algorithm: EM Clustering\n",
      "Iteration: 1226\n",
      "Algorithm: K-Mediods\n"
     ]
    },
    {
     "name": "stderr",
     "output_type": "stream",
     "text": [
      "/opt/homebrew/lib/python3.10/site-packages/sklearn_extra/cluster/_k_medoids.py:329: UserWarning: Cluster 1 is empty! self.labels_[self.medoid_indices_[1]] may not be labeled with its corresponding cluster (1).\n",
      "  warnings.warn(\n"
     ]
    },
    {
     "name": "stdout",
     "output_type": "stream",
     "text": [
      "Iteration: 1227\n",
      "Algorithm: EM Clustering\n",
      "Iteration: 1228\n",
      "Algorithm: K-Means\n",
      "Iteration: 1229\n",
      "Algorithm: K-Mediods\n"
     ]
    },
    {
     "name": "stderr",
     "output_type": "stream",
     "text": [
      "/opt/homebrew/lib/python3.10/site-packages/sklearn_extra/cluster/_k_medoids.py:329: UserWarning: Cluster 1 is empty! self.labels_[self.medoid_indices_[1]] may not be labeled with its corresponding cluster (1).\n",
      "  warnings.warn(\n"
     ]
    },
    {
     "name": "stdout",
     "output_type": "stream",
     "text": [
      "Iteration: 1230\n",
      "Algorithm: K-Mediods\n"
     ]
    },
    {
     "name": "stderr",
     "output_type": "stream",
     "text": [
      "/opt/homebrew/lib/python3.10/site-packages/sklearn_extra/cluster/_k_medoids.py:329: UserWarning: Cluster 1 is empty! self.labels_[self.medoid_indices_[1]] may not be labeled with its corresponding cluster (1).\n",
      "  warnings.warn(\n"
     ]
    },
    {
     "name": "stdout",
     "output_type": "stream",
     "text": [
      "Iteration: 1231\n",
      "Algorithm: K-Means\n",
      "Iteration: 1232\n",
      "Algorithm: K-Mediods\n"
     ]
    },
    {
     "name": "stderr",
     "output_type": "stream",
     "text": [
      "/opt/homebrew/lib/python3.10/site-packages/sklearn_extra/cluster/_k_medoids.py:329: UserWarning: Cluster 1 is empty! self.labels_[self.medoid_indices_[1]] may not be labeled with its corresponding cluster (1).\n",
      "  warnings.warn(\n"
     ]
    },
    {
     "name": "stdout",
     "output_type": "stream",
     "text": [
      "Iteration: 1233\n",
      "Algorithm: Mean Shift\n",
      "Iteration: 1234\n",
      "Algorithm: Mean Shift\n",
      "Iteration: 1235\n",
      "Algorithm: DBSCAN Clustering\n",
      "Iteration: 1236\n",
      "Algorithm: K-Mediods\n"
     ]
    },
    {
     "name": "stderr",
     "output_type": "stream",
     "text": [
      "/opt/homebrew/lib/python3.10/site-packages/sklearn_extra/cluster/_k_medoids.py:329: UserWarning: Cluster 1 is empty! self.labels_[self.medoid_indices_[1]] may not be labeled with its corresponding cluster (1).\n",
      "  warnings.warn(\n"
     ]
    },
    {
     "name": "stdout",
     "output_type": "stream",
     "text": [
      "Iteration: 1237\n",
      "Algorithm: Mean Shift\n",
      "Iteration: 1238\n",
      "Algorithm: DBSCAN Clustering\n",
      "Iteration: 1239\n",
      "Algorithm: Mean Shift\n",
      "Iteration: 1240\n",
      "Algorithm: EM Clustering\n",
      "Iteration: 1241\n",
      "Algorithm: K-Mediods\n"
     ]
    },
    {
     "name": "stderr",
     "output_type": "stream",
     "text": [
      "/opt/homebrew/lib/python3.10/site-packages/sklearn_extra/cluster/_k_medoids.py:329: UserWarning: Cluster 1 is empty! self.labels_[self.medoid_indices_[1]] may not be labeled with its corresponding cluster (1).\n",
      "  warnings.warn(\n"
     ]
    },
    {
     "name": "stdout",
     "output_type": "stream",
     "text": [
      "Iteration: 1242\n",
      "Algorithm: K-Means\n",
      "Iteration: 1243\n",
      "Algorithm: K-Mediods\n"
     ]
    },
    {
     "name": "stderr",
     "output_type": "stream",
     "text": [
      "/opt/homebrew/lib/python3.10/site-packages/sklearn_extra/cluster/_k_medoids.py:329: UserWarning: Cluster 1 is empty! self.labels_[self.medoid_indices_[1]] may not be labeled with its corresponding cluster (1).\n",
      "  warnings.warn(\n"
     ]
    },
    {
     "name": "stdout",
     "output_type": "stream",
     "text": [
      "Iteration: 1244\n",
      "Algorithm: DBSCAN Clustering\n",
      "Iteration: 1245\n",
      "Algorithm: K-Mediods\n"
     ]
    },
    {
     "name": "stderr",
     "output_type": "stream",
     "text": [
      "/opt/homebrew/lib/python3.10/site-packages/sklearn_extra/cluster/_k_medoids.py:329: UserWarning: Cluster 1 is empty! self.labels_[self.medoid_indices_[1]] may not be labeled with its corresponding cluster (1).\n",
      "  warnings.warn(\n"
     ]
    },
    {
     "name": "stdout",
     "output_type": "stream",
     "text": [
      "Iteration: 1246\n",
      "Algorithm: K-Means\n",
      "Iteration: 1247\n",
      "Algorithm: EM Clustering\n",
      "Iteration: 1248\n",
      "Algorithm: K-Means\n",
      "Iteration: 1249\n",
      "Algorithm: DBSCAN Clustering\n",
      "Iteration: 1250\n",
      "Algorithm: Mean Shift\n",
      "Iteration: 1251\n",
      "Algorithm: K-Mediods\n"
     ]
    },
    {
     "name": "stderr",
     "output_type": "stream",
     "text": [
      "/opt/homebrew/lib/python3.10/site-packages/sklearn_extra/cluster/_k_medoids.py:329: UserWarning: Cluster 1 is empty! self.labels_[self.medoid_indices_[1]] may not be labeled with its corresponding cluster (1).\n",
      "  warnings.warn(\n"
     ]
    },
    {
     "name": "stdout",
     "output_type": "stream",
     "text": [
      "Iteration: 1252\n",
      "Algorithm: EM Clustering\n",
      "Iteration: 1253\n",
      "Algorithm: DBSCAN Clustering\n",
      "Iteration: 1254\n",
      "Algorithm: K-Means\n",
      "Iteration: 1255\n",
      "Algorithm: EM Clustering\n",
      "Iteration: 1256\n",
      "Algorithm: EM Clustering\n",
      "Iteration: 1257\n",
      "Algorithm: K-Mediods\n"
     ]
    },
    {
     "name": "stderr",
     "output_type": "stream",
     "text": [
      "/opt/homebrew/lib/python3.10/site-packages/sklearn_extra/cluster/_k_medoids.py:329: UserWarning: Cluster 1 is empty! self.labels_[self.medoid_indices_[1]] may not be labeled with its corresponding cluster (1).\n",
      "  warnings.warn(\n"
     ]
    },
    {
     "name": "stdout",
     "output_type": "stream",
     "text": [
      "Iteration: 1258\n",
      "Algorithm: Mean Shift\n",
      "Iteration: 1259\n",
      "Algorithm: K-Mediods\n"
     ]
    },
    {
     "name": "stderr",
     "output_type": "stream",
     "text": [
      "/opt/homebrew/lib/python3.10/site-packages/sklearn_extra/cluster/_k_medoids.py:329: UserWarning: Cluster 1 is empty! self.labels_[self.medoid_indices_[1]] may not be labeled with its corresponding cluster (1).\n",
      "  warnings.warn(\n"
     ]
    },
    {
     "name": "stdout",
     "output_type": "stream",
     "text": [
      "Iteration: 1260\n",
      "Algorithm: Mean Shift\n",
      "Iteration: 1261\n",
      "Algorithm: K-Mediods\n"
     ]
    },
    {
     "name": "stderr",
     "output_type": "stream",
     "text": [
      "/opt/homebrew/lib/python3.10/site-packages/sklearn_extra/cluster/_k_medoids.py:329: UserWarning: Cluster 1 is empty! self.labels_[self.medoid_indices_[1]] may not be labeled with its corresponding cluster (1).\n",
      "  warnings.warn(\n"
     ]
    },
    {
     "name": "stdout",
     "output_type": "stream",
     "text": [
      "Iteration: 1262\n",
      "Algorithm: K-Mediods\n"
     ]
    },
    {
     "name": "stderr",
     "output_type": "stream",
     "text": [
      "/opt/homebrew/lib/python3.10/site-packages/sklearn_extra/cluster/_k_medoids.py:329: UserWarning: Cluster 1 is empty! self.labels_[self.medoid_indices_[1]] may not be labeled with its corresponding cluster (1).\n",
      "  warnings.warn(\n"
     ]
    },
    {
     "name": "stdout",
     "output_type": "stream",
     "text": [
      "Iteration: 1263\n",
      "Algorithm: K-Mediods\n"
     ]
    },
    {
     "name": "stderr",
     "output_type": "stream",
     "text": [
      "/opt/homebrew/lib/python3.10/site-packages/sklearn_extra/cluster/_k_medoids.py:329: UserWarning: Cluster 1 is empty! self.labels_[self.medoid_indices_[1]] may not be labeled with its corresponding cluster (1).\n",
      "  warnings.warn(\n"
     ]
    },
    {
     "name": "stdout",
     "output_type": "stream",
     "text": [
      "Iteration: 1264\n",
      "Algorithm: DBSCAN Clustering\n",
      "Iteration: 1265\n",
      "Algorithm: Mean Shift\n",
      "Iteration: 1266\n",
      "Algorithm: K-Mediods\n"
     ]
    },
    {
     "name": "stderr",
     "output_type": "stream",
     "text": [
      "/opt/homebrew/lib/python3.10/site-packages/sklearn_extra/cluster/_k_medoids.py:329: UserWarning: Cluster 1 is empty! self.labels_[self.medoid_indices_[1]] may not be labeled with its corresponding cluster (1).\n",
      "  warnings.warn(\n"
     ]
    },
    {
     "name": "stdout",
     "output_type": "stream",
     "text": [
      "Iteration: 1267\n",
      "Algorithm: K-Means\n",
      "Iteration: 1268\n",
      "Algorithm: K-Means\n",
      "Iteration: 1269\n",
      "Algorithm: K-Mediods\n"
     ]
    },
    {
     "name": "stderr",
     "output_type": "stream",
     "text": [
      "/opt/homebrew/lib/python3.10/site-packages/sklearn_extra/cluster/_k_medoids.py:329: UserWarning: Cluster 1 is empty! self.labels_[self.medoid_indices_[1]] may not be labeled with its corresponding cluster (1).\n",
      "  warnings.warn(\n"
     ]
    },
    {
     "name": "stdout",
     "output_type": "stream",
     "text": [
      "Iteration: 1270\n",
      "Algorithm: EM Clustering\n",
      "Iteration: 1271\n",
      "Algorithm: EM Clustering\n",
      "Iteration: 1272\n",
      "Algorithm: K-Mediods\n"
     ]
    },
    {
     "name": "stderr",
     "output_type": "stream",
     "text": [
      "/opt/homebrew/lib/python3.10/site-packages/sklearn_extra/cluster/_k_medoids.py:329: UserWarning: Cluster 1 is empty! self.labels_[self.medoid_indices_[1]] may not be labeled with its corresponding cluster (1).\n",
      "  warnings.warn(\n"
     ]
    },
    {
     "name": "stdout",
     "output_type": "stream",
     "text": [
      "Iteration: 1273\n",
      "Algorithm: K-Mediods\n"
     ]
    },
    {
     "name": "stderr",
     "output_type": "stream",
     "text": [
      "/opt/homebrew/lib/python3.10/site-packages/sklearn_extra/cluster/_k_medoids.py:329: UserWarning: Cluster 1 is empty! self.labels_[self.medoid_indices_[1]] may not be labeled with its corresponding cluster (1).\n",
      "  warnings.warn(\n"
     ]
    },
    {
     "name": "stdout",
     "output_type": "stream",
     "text": [
      "Iteration: 1274\n",
      "Algorithm: EM Clustering\n",
      "Iteration: 1275\n",
      "Algorithm: DBSCAN Clustering\n",
      "Iteration: 1276\n",
      "Algorithm: EM Clustering\n",
      "Iteration: 1277\n",
      "Algorithm: K-Mediods\n"
     ]
    },
    {
     "name": "stderr",
     "output_type": "stream",
     "text": [
      "/opt/homebrew/lib/python3.10/site-packages/sklearn_extra/cluster/_k_medoids.py:329: UserWarning: Cluster 1 is empty! self.labels_[self.medoid_indices_[1]] may not be labeled with its corresponding cluster (1).\n",
      "  warnings.warn(\n"
     ]
    },
    {
     "name": "stdout",
     "output_type": "stream",
     "text": [
      "Iteration: 1278\n",
      "Algorithm: DBSCAN Clustering\n",
      "Iteration: 1279\n",
      "Algorithm: K-Mediods\n"
     ]
    },
    {
     "name": "stderr",
     "output_type": "stream",
     "text": [
      "/opt/homebrew/lib/python3.10/site-packages/sklearn_extra/cluster/_k_medoids.py:329: UserWarning: Cluster 1 is empty! self.labels_[self.medoid_indices_[1]] may not be labeled with its corresponding cluster (1).\n",
      "  warnings.warn(\n"
     ]
    },
    {
     "name": "stdout",
     "output_type": "stream",
     "text": [
      "Iteration: 1280\n",
      "Algorithm: DBSCAN Clustering\n",
      "Iteration: 1281\n",
      "Algorithm: DBSCAN Clustering\n",
      "Iteration: 1282\n",
      "Algorithm: DBSCAN Clustering\n",
      "Iteration: 1283\n",
      "Algorithm: Mean Shift\n",
      "Iteration: 1284\n",
      "Algorithm: Mean Shift\n",
      "Iteration: 1285\n",
      "Algorithm: Mean Shift\n",
      "Iteration: 1286\n",
      "Algorithm: EM Clustering\n",
      "Iteration: 1287\n",
      "Algorithm: K-Mediods\n",
      "Iteration: 1288\n",
      "Algorithm: DBSCAN Clustering\n",
      "Iteration: 1289\n",
      "Algorithm: EM Clustering\n",
      "Iteration: 1290\n",
      "Algorithm: DBSCAN Clustering\n",
      "Iteration: 1291\n",
      "Algorithm: EM Clustering\n",
      "Iteration: 1292\n",
      "Algorithm: EM Clustering\n",
      "Iteration: 1293\n",
      "Algorithm: EM Clustering\n",
      "Iteration: 1294\n",
      "Algorithm: EM Clustering\n",
      "Iteration: 1295\n",
      "Algorithm: EM Clustering\n",
      "Iteration: 1296\n",
      "Algorithm: DBSCAN Clustering\n",
      "Iteration: 1297\n",
      "Algorithm: K-Means\n",
      "Iteration: 1298\n",
      "Algorithm: EM Clustering\n",
      "Iteration: 1299\n",
      "Algorithm: K-Mediods\n"
     ]
    },
    {
     "name": "stderr",
     "output_type": "stream",
     "text": [
      "/opt/homebrew/lib/python3.10/site-packages/sklearn_extra/cluster/_k_medoids.py:329: UserWarning: Cluster 1 is empty! self.labels_[self.medoid_indices_[1]] may not be labeled with its corresponding cluster (1).\n",
      "  warnings.warn(\n"
     ]
    },
    {
     "name": "stdout",
     "output_type": "stream",
     "text": [
      "Iteration: 1300\n",
      "Algorithm: EM Clustering\n",
      "Iteration: 1301\n",
      "Algorithm: Mean Shift\n",
      "Iteration: 1302\n",
      "Algorithm: K-Mediods\n"
     ]
    },
    {
     "name": "stderr",
     "output_type": "stream",
     "text": [
      "/opt/homebrew/lib/python3.10/site-packages/sklearn_extra/cluster/_k_medoids.py:329: UserWarning: Cluster 1 is empty! self.labels_[self.medoid_indices_[1]] may not be labeled with its corresponding cluster (1).\n",
      "  warnings.warn(\n"
     ]
    },
    {
     "name": "stdout",
     "output_type": "stream",
     "text": [
      "Iteration: 1303\n",
      "Algorithm: Mean Shift\n",
      "Iteration: 1304\n",
      "Algorithm: DBSCAN Clustering\n",
      "Iteration: 1305\n",
      "Algorithm: EM Clustering\n",
      "Iteration: 1306\n",
      "Algorithm: K-Means\n",
      "Iteration: 1307\n",
      "Algorithm: K-Mediods\n"
     ]
    },
    {
     "name": "stderr",
     "output_type": "stream",
     "text": [
      "/opt/homebrew/lib/python3.10/site-packages/sklearn_extra/cluster/_k_medoids.py:329: UserWarning: Cluster 1 is empty! self.labels_[self.medoid_indices_[1]] may not be labeled with its corresponding cluster (1).\n",
      "  warnings.warn(\n"
     ]
    },
    {
     "name": "stdout",
     "output_type": "stream",
     "text": [
      "Iteration: 1308\n",
      "Algorithm: Mean Shift\n",
      "Iteration: 1309\n",
      "Algorithm: K-Mediods\n"
     ]
    },
    {
     "name": "stderr",
     "output_type": "stream",
     "text": [
      "/opt/homebrew/lib/python3.10/site-packages/sklearn_extra/cluster/_k_medoids.py:329: UserWarning: Cluster 1 is empty! self.labels_[self.medoid_indices_[1]] may not be labeled with its corresponding cluster (1).\n",
      "  warnings.warn(\n"
     ]
    },
    {
     "name": "stdout",
     "output_type": "stream",
     "text": [
      "Iteration: 1310\n",
      "Algorithm: Mean Shift\n",
      "Iteration: 1311\n",
      "Algorithm: EM Clustering\n",
      "Iteration: 1312\n",
      "Algorithm: EM Clustering\n",
      "Iteration: 1313\n",
      "Algorithm: EM Clustering\n",
      "Iteration: 1314\n",
      "Algorithm: DBSCAN Clustering\n",
      "Iteration: 1315\n",
      "Algorithm: EM Clustering\n",
      "Iteration: 1316\n",
      "Algorithm: EM Clustering\n",
      "Iteration: 1317\n",
      "Algorithm: K-Mediods\n"
     ]
    },
    {
     "name": "stderr",
     "output_type": "stream",
     "text": [
      "/opt/homebrew/lib/python3.10/site-packages/sklearn_extra/cluster/_k_medoids.py:329: UserWarning: Cluster 1 is empty! self.labels_[self.medoid_indices_[1]] may not be labeled with its corresponding cluster (1).\n",
      "  warnings.warn(\n"
     ]
    },
    {
     "name": "stdout",
     "output_type": "stream",
     "text": [
      "Iteration: 1318\n",
      "Algorithm: K-Means\n",
      "Iteration: 1319\n",
      "Algorithm: EM Clustering\n",
      "Iteration: 1320\n",
      "Algorithm: DBSCAN Clustering\n",
      "Iteration: 1321\n",
      "Algorithm: Mean Shift\n",
      "Iteration: 1322\n",
      "Algorithm: K-Mediods\n"
     ]
    },
    {
     "name": "stderr",
     "output_type": "stream",
     "text": [
      "/opt/homebrew/lib/python3.10/site-packages/sklearn_extra/cluster/_k_medoids.py:329: UserWarning: Cluster 1 is empty! self.labels_[self.medoid_indices_[1]] may not be labeled with its corresponding cluster (1).\n",
      "  warnings.warn(\n"
     ]
    },
    {
     "name": "stdout",
     "output_type": "stream",
     "text": [
      "Iteration: 1323\n",
      "Algorithm: K-Mediods\n"
     ]
    },
    {
     "name": "stderr",
     "output_type": "stream",
     "text": [
      "/opt/homebrew/lib/python3.10/site-packages/sklearn_extra/cluster/_k_medoids.py:329: UserWarning: Cluster 1 is empty! self.labels_[self.medoid_indices_[1]] may not be labeled with its corresponding cluster (1).\n",
      "  warnings.warn(\n"
     ]
    },
    {
     "name": "stdout",
     "output_type": "stream",
     "text": [
      "Iteration: 1324\n",
      "Algorithm: K-Mediods\n"
     ]
    },
    {
     "name": "stderr",
     "output_type": "stream",
     "text": [
      "/opt/homebrew/lib/python3.10/site-packages/sklearn_extra/cluster/_k_medoids.py:329: UserWarning: Cluster 1 is empty! self.labels_[self.medoid_indices_[1]] may not be labeled with its corresponding cluster (1).\n",
      "  warnings.warn(\n"
     ]
    },
    {
     "name": "stdout",
     "output_type": "stream",
     "text": [
      "Iteration: 1325\n",
      "Algorithm: Mean Shift\n",
      "Iteration: 1326\n",
      "Algorithm: DBSCAN Clustering\n",
      "Iteration: 1327\n",
      "Algorithm: EM Clustering\n",
      "Iteration: 1328\n",
      "Algorithm: Mean Shift\n",
      "Iteration: 1329\n",
      "Algorithm: Mean Shift\n",
      "Iteration: 1330\n",
      "Algorithm: K-Mediods\n"
     ]
    },
    {
     "name": "stderr",
     "output_type": "stream",
     "text": [
      "/opt/homebrew/lib/python3.10/site-packages/sklearn_extra/cluster/_k_medoids.py:329: UserWarning: Cluster 1 is empty! self.labels_[self.medoid_indices_[1]] may not be labeled with its corresponding cluster (1).\n",
      "  warnings.warn(\n"
     ]
    },
    {
     "name": "stdout",
     "output_type": "stream",
     "text": [
      "Iteration: 1331\n",
      "Algorithm: K-Means\n",
      "Iteration: 1332\n",
      "Algorithm: EM Clustering\n",
      "Iteration: 1333\n",
      "Algorithm: DBSCAN Clustering\n",
      "Iteration: 1334\n",
      "Algorithm: Mean Shift\n",
      "Iteration: 1335\n",
      "Algorithm: K-Mediods\n"
     ]
    },
    {
     "name": "stderr",
     "output_type": "stream",
     "text": [
      "/opt/homebrew/lib/python3.10/site-packages/sklearn_extra/cluster/_k_medoids.py:329: UserWarning: Cluster 1 is empty! self.labels_[self.medoid_indices_[1]] may not be labeled with its corresponding cluster (1).\n",
      "  warnings.warn(\n"
     ]
    },
    {
     "name": "stdout",
     "output_type": "stream",
     "text": [
      "Iteration: 1336\n",
      "Algorithm: K-Mediods\n"
     ]
    },
    {
     "name": "stderr",
     "output_type": "stream",
     "text": [
      "/opt/homebrew/lib/python3.10/site-packages/sklearn_extra/cluster/_k_medoids.py:329: UserWarning: Cluster 1 is empty! self.labels_[self.medoid_indices_[1]] may not be labeled with its corresponding cluster (1).\n",
      "  warnings.warn(\n"
     ]
    },
    {
     "name": "stdout",
     "output_type": "stream",
     "text": [
      "Iteration: 1337\n",
      "Algorithm: Mean Shift\n",
      "Iteration: 1338\n",
      "Algorithm: EM Clustering\n",
      "Iteration: 1339\n",
      "Algorithm: EM Clustering\n",
      "Iteration: 1340\n",
      "Algorithm: DBSCAN Clustering\n",
      "Iteration: 1341\n",
      "Algorithm: K-Means\n",
      "Iteration: 1342\n",
      "Algorithm: DBSCAN Clustering\n",
      "Iteration: 1343\n",
      "Algorithm: DBSCAN Clustering\n",
      "Iteration: 1344\n",
      "Algorithm: EM Clustering\n",
      "Iteration: 1345\n",
      "Algorithm: EM Clustering\n",
      "Iteration: 1346\n",
      "Algorithm: Mean Shift\n",
      "Iteration: 1347\n",
      "Algorithm: K-Means\n",
      "Iteration: 1348\n",
      "Algorithm: Mean Shift\n",
      "Iteration: 1349\n",
      "Algorithm: K-Mediods\n"
     ]
    },
    {
     "name": "stderr",
     "output_type": "stream",
     "text": [
      "/opt/homebrew/lib/python3.10/site-packages/sklearn_extra/cluster/_k_medoids.py:329: UserWarning: Cluster 1 is empty! self.labels_[self.medoid_indices_[1]] may not be labeled with its corresponding cluster (1).\n",
      "  warnings.warn(\n"
     ]
    },
    {
     "name": "stdout",
     "output_type": "stream",
     "text": [
      "Iteration: 1350\n",
      "Algorithm: DBSCAN Clustering\n",
      "Iteration: 1351\n",
      "Algorithm: DBSCAN Clustering\n",
      "Iteration: 1352\n",
      "Algorithm: K-Means\n",
      "Iteration: 1353\n",
      "Algorithm: K-Means\n",
      "Iteration: 1354\n",
      "Algorithm: Mean Shift\n",
      "Iteration: 1355\n",
      "Algorithm: Mean Shift\n",
      "Iteration: 1356\n",
      "Algorithm: K-Means\n",
      "Iteration: 1357\n",
      "Algorithm: K-Means\n",
      "Iteration: 1358\n",
      "Algorithm: K-Means\n",
      "Iteration: 1359\n",
      "Algorithm: K-Means\n",
      "Iteration: 1360\n",
      "Algorithm: Mean Shift\n",
      "Iteration: 1361\n",
      "Algorithm: Mean Shift\n",
      "Iteration: 1362\n",
      "Algorithm: DBSCAN Clustering\n",
      "Iteration: 1363\n",
      "Algorithm: Mean Shift\n",
      "Iteration: 1364\n",
      "Algorithm: K-Mediods\n"
     ]
    },
    {
     "name": "stderr",
     "output_type": "stream",
     "text": [
      "/opt/homebrew/lib/python3.10/site-packages/sklearn_extra/cluster/_k_medoids.py:329: UserWarning: Cluster 1 is empty! self.labels_[self.medoid_indices_[1]] may not be labeled with its corresponding cluster (1).\n",
      "  warnings.warn(\n"
     ]
    },
    {
     "name": "stdout",
     "output_type": "stream",
     "text": [
      "Iteration: 1365\n",
      "Algorithm: K-Means\n",
      "Iteration: 1366\n",
      "Algorithm: EM Clustering\n",
      "Iteration: 1367\n",
      "Algorithm: K-Mediods\n"
     ]
    },
    {
     "name": "stderr",
     "output_type": "stream",
     "text": [
      "/opt/homebrew/lib/python3.10/site-packages/sklearn_extra/cluster/_k_medoids.py:329: UserWarning: Cluster 1 is empty! self.labels_[self.medoid_indices_[1]] may not be labeled with its corresponding cluster (1).\n",
      "  warnings.warn(\n"
     ]
    },
    {
     "name": "stdout",
     "output_type": "stream",
     "text": [
      "Iteration: 1368\n",
      "Algorithm: K-Means\n",
      "Iteration: 1369\n",
      "Algorithm: K-Mediods\n"
     ]
    },
    {
     "name": "stderr",
     "output_type": "stream",
     "text": [
      "/opt/homebrew/lib/python3.10/site-packages/sklearn_extra/cluster/_k_medoids.py:329: UserWarning: Cluster 1 is empty! self.labels_[self.medoid_indices_[1]] may not be labeled with its corresponding cluster (1).\n",
      "  warnings.warn(\n"
     ]
    },
    {
     "name": "stdout",
     "output_type": "stream",
     "text": [
      "Iteration: 1370\n",
      "Algorithm: EM Clustering\n",
      "Iteration: 1371\n",
      "Algorithm: K-Mediods\n"
     ]
    },
    {
     "name": "stderr",
     "output_type": "stream",
     "text": [
      "/opt/homebrew/lib/python3.10/site-packages/sklearn_extra/cluster/_k_medoids.py:329: UserWarning: Cluster 1 is empty! self.labels_[self.medoid_indices_[1]] may not be labeled with its corresponding cluster (1).\n",
      "  warnings.warn(\n"
     ]
    },
    {
     "name": "stdout",
     "output_type": "stream",
     "text": [
      "Iteration: 1372\n",
      "Algorithm: K-Mediods\n"
     ]
    },
    {
     "name": "stderr",
     "output_type": "stream",
     "text": [
      "/opt/homebrew/lib/python3.10/site-packages/sklearn_extra/cluster/_k_medoids.py:329: UserWarning: Cluster 1 is empty! self.labels_[self.medoid_indices_[1]] may not be labeled with its corresponding cluster (1).\n",
      "  warnings.warn(\n"
     ]
    },
    {
     "name": "stdout",
     "output_type": "stream",
     "text": [
      "Iteration: 1373\n",
      "Algorithm: DBSCAN Clustering\n",
      "Iteration: 1374\n",
      "Algorithm: K-Mediods\n"
     ]
    },
    {
     "name": "stderr",
     "output_type": "stream",
     "text": [
      "/opt/homebrew/lib/python3.10/site-packages/sklearn_extra/cluster/_k_medoids.py:329: UserWarning: Cluster 1 is empty! self.labels_[self.medoid_indices_[1]] may not be labeled with its corresponding cluster (1).\n",
      "  warnings.warn(\n"
     ]
    },
    {
     "name": "stdout",
     "output_type": "stream",
     "text": [
      "Iteration: 1375\n",
      "Algorithm: DBSCAN Clustering\n",
      "Iteration: 1376\n",
      "Algorithm: K-Mediods\n"
     ]
    },
    {
     "name": "stderr",
     "output_type": "stream",
     "text": [
      "/opt/homebrew/lib/python3.10/site-packages/sklearn_extra/cluster/_k_medoids.py:329: UserWarning: Cluster 1 is empty! self.labels_[self.medoid_indices_[1]] may not be labeled with its corresponding cluster (1).\n",
      "  warnings.warn(\n"
     ]
    },
    {
     "name": "stdout",
     "output_type": "stream",
     "text": [
      "Iteration: 1377\n",
      "Algorithm: DBSCAN Clustering\n",
      "Iteration: 1378\n",
      "Algorithm: K-Mediods\n"
     ]
    },
    {
     "name": "stderr",
     "output_type": "stream",
     "text": [
      "/opt/homebrew/lib/python3.10/site-packages/sklearn_extra/cluster/_k_medoids.py:329: UserWarning: Cluster 1 is empty! self.labels_[self.medoid_indices_[1]] may not be labeled with its corresponding cluster (1).\n",
      "  warnings.warn(\n"
     ]
    },
    {
     "name": "stdout",
     "output_type": "stream",
     "text": [
      "Iteration: 1379\n",
      "Algorithm: K-Means\n",
      "Iteration: 1380\n",
      "Algorithm: K-Means\n",
      "Iteration: 1381\n",
      "Algorithm: EM Clustering\n",
      "Iteration: 1382\n",
      "Algorithm: Mean Shift\n",
      "Iteration: 1383\n",
      "Algorithm: DBSCAN Clustering\n",
      "Iteration: 1384\n",
      "Algorithm: K-Mediods\n"
     ]
    },
    {
     "name": "stderr",
     "output_type": "stream",
     "text": [
      "/opt/homebrew/lib/python3.10/site-packages/sklearn_extra/cluster/_k_medoids.py:329: UserWarning: Cluster 1 is empty! self.labels_[self.medoid_indices_[1]] may not be labeled with its corresponding cluster (1).\n",
      "  warnings.warn(\n"
     ]
    },
    {
     "name": "stdout",
     "output_type": "stream",
     "text": [
      "Iteration: 1385\n",
      "Algorithm: EM Clustering\n",
      "Iteration: 1386\n",
      "Algorithm: K-Means\n",
      "Iteration: 1387\n",
      "Algorithm: Mean Shift\n",
      "Iteration: 1388\n",
      "Algorithm: K-Means\n",
      "Iteration: 1389\n",
      "Algorithm: DBSCAN Clustering\n",
      "Iteration: 1390\n",
      "Algorithm: K-Mediods\n",
      "Iteration: 1391\n",
      "Algorithm: Mean Shift\n",
      "Iteration: 1392\n",
      "Algorithm: K-Means\n",
      "Iteration: 1393\n",
      "Algorithm: DBSCAN Clustering\n",
      "Iteration: 1394\n",
      "Algorithm: K-Mediods\n"
     ]
    },
    {
     "name": "stderr",
     "output_type": "stream",
     "text": [
      "/opt/homebrew/lib/python3.10/site-packages/sklearn_extra/cluster/_k_medoids.py:329: UserWarning: Cluster 1 is empty! self.labels_[self.medoid_indices_[1]] may not be labeled with its corresponding cluster (1).\n",
      "  warnings.warn(\n"
     ]
    },
    {
     "name": "stdout",
     "output_type": "stream",
     "text": [
      "Iteration: 1395\n",
      "Algorithm: DBSCAN Clustering\n",
      "Iteration: 1396\n",
      "Algorithm: K-Means\n",
      "Iteration: 1397\n",
      "Algorithm: DBSCAN Clustering\n",
      "Iteration: 1398\n",
      "Algorithm: DBSCAN Clustering\n",
      "Iteration: 1399\n",
      "Algorithm: DBSCAN Clustering\n",
      "Iteration: 1400\n",
      "Algorithm: K-Mediods\n"
     ]
    },
    {
     "name": "stderr",
     "output_type": "stream",
     "text": [
      "/opt/homebrew/lib/python3.10/site-packages/sklearn_extra/cluster/_k_medoids.py:329: UserWarning: Cluster 1 is empty! self.labels_[self.medoid_indices_[1]] may not be labeled with its corresponding cluster (1).\n",
      "  warnings.warn(\n"
     ]
    },
    {
     "name": "stdout",
     "output_type": "stream",
     "text": [
      "Iteration: 1401\n",
      "Algorithm: Mean Shift\n",
      "Iteration: 1402\n",
      "Algorithm: K-Mediods\n"
     ]
    },
    {
     "name": "stderr",
     "output_type": "stream",
     "text": [
      "/opt/homebrew/lib/python3.10/site-packages/sklearn_extra/cluster/_k_medoids.py:329: UserWarning: Cluster 1 is empty! self.labels_[self.medoid_indices_[1]] may not be labeled with its corresponding cluster (1).\n",
      "  warnings.warn(\n"
     ]
    },
    {
     "name": "stdout",
     "output_type": "stream",
     "text": [
      "Iteration: 1403\n",
      "Algorithm: K-Means\n",
      "Iteration: 1404\n",
      "Algorithm: Mean Shift\n",
      "Iteration: 1405\n",
      "Algorithm: K-Mediods\n"
     ]
    },
    {
     "name": "stderr",
     "output_type": "stream",
     "text": [
      "/opt/homebrew/lib/python3.10/site-packages/sklearn_extra/cluster/_k_medoids.py:329: UserWarning: Cluster 1 is empty! self.labels_[self.medoid_indices_[1]] may not be labeled with its corresponding cluster (1).\n",
      "  warnings.warn(\n"
     ]
    },
    {
     "name": "stdout",
     "output_type": "stream",
     "text": [
      "Iteration: 1406\n",
      "Algorithm: EM Clustering\n",
      "Iteration: 1407\n",
      "Algorithm: EM Clustering\n",
      "Iteration: 1408\n",
      "Algorithm: Mean Shift\n",
      "Iteration: 1409\n",
      "Algorithm: Mean Shift\n",
      "Iteration: 1410\n",
      "Algorithm: K-Mediods\n"
     ]
    },
    {
     "name": "stderr",
     "output_type": "stream",
     "text": [
      "/opt/homebrew/lib/python3.10/site-packages/sklearn_extra/cluster/_k_medoids.py:329: UserWarning: Cluster 1 is empty! self.labels_[self.medoid_indices_[1]] may not be labeled with its corresponding cluster (1).\n",
      "  warnings.warn(\n"
     ]
    },
    {
     "name": "stdout",
     "output_type": "stream",
     "text": [
      "Iteration: 1411\n",
      "Algorithm: K-Mediods\n"
     ]
    },
    {
     "name": "stderr",
     "output_type": "stream",
     "text": [
      "/opt/homebrew/lib/python3.10/site-packages/sklearn_extra/cluster/_k_medoids.py:329: UserWarning: Cluster 1 is empty! self.labels_[self.medoid_indices_[1]] may not be labeled with its corresponding cluster (1).\n",
      "  warnings.warn(\n"
     ]
    },
    {
     "name": "stdout",
     "output_type": "stream",
     "text": [
      "Iteration: 1412\n",
      "Algorithm: K-Mediods\n"
     ]
    },
    {
     "name": "stderr",
     "output_type": "stream",
     "text": [
      "/opt/homebrew/lib/python3.10/site-packages/sklearn_extra/cluster/_k_medoids.py:329: UserWarning: Cluster 1 is empty! self.labels_[self.medoid_indices_[1]] may not be labeled with its corresponding cluster (1).\n",
      "  warnings.warn(\n"
     ]
    },
    {
     "name": "stdout",
     "output_type": "stream",
     "text": [
      "Iteration: 1413\n",
      "Algorithm: EM Clustering\n",
      "Iteration: 1414\n",
      "Algorithm: K-Mediods\n"
     ]
    },
    {
     "name": "stderr",
     "output_type": "stream",
     "text": [
      "/opt/homebrew/lib/python3.10/site-packages/sklearn_extra/cluster/_k_medoids.py:329: UserWarning: Cluster 1 is empty! self.labels_[self.medoid_indices_[1]] may not be labeled with its corresponding cluster (1).\n",
      "  warnings.warn(\n"
     ]
    },
    {
     "name": "stdout",
     "output_type": "stream",
     "text": [
      "Iteration: 1415\n",
      "Algorithm: K-Mediods\n"
     ]
    },
    {
     "name": "stderr",
     "output_type": "stream",
     "text": [
      "/opt/homebrew/lib/python3.10/site-packages/sklearn_extra/cluster/_k_medoids.py:329: UserWarning: Cluster 1 is empty! self.labels_[self.medoid_indices_[1]] may not be labeled with its corresponding cluster (1).\n",
      "  warnings.warn(\n"
     ]
    },
    {
     "name": "stdout",
     "output_type": "stream",
     "text": [
      "Iteration: 1416\n",
      "Algorithm: Mean Shift\n",
      "Iteration: 1417\n",
      "Algorithm: K-Mediods\n"
     ]
    },
    {
     "name": "stderr",
     "output_type": "stream",
     "text": [
      "/opt/homebrew/lib/python3.10/site-packages/sklearn_extra/cluster/_k_medoids.py:329: UserWarning: Cluster 1 is empty! self.labels_[self.medoid_indices_[1]] may not be labeled with its corresponding cluster (1).\n",
      "  warnings.warn(\n"
     ]
    },
    {
     "name": "stdout",
     "output_type": "stream",
     "text": [
      "Iteration: 1418\n",
      "Algorithm: K-Means\n",
      "Iteration: 1419\n",
      "Algorithm: EM Clustering\n",
      "Iteration: 1420\n",
      "Algorithm: DBSCAN Clustering\n",
      "Iteration: 1421\n",
      "Algorithm: K-Mediods\n"
     ]
    },
    {
     "name": "stderr",
     "output_type": "stream",
     "text": [
      "/opt/homebrew/lib/python3.10/site-packages/sklearn_extra/cluster/_k_medoids.py:329: UserWarning: Cluster 1 is empty! self.labels_[self.medoid_indices_[1]] may not be labeled with its corresponding cluster (1).\n",
      "  warnings.warn(\n"
     ]
    },
    {
     "name": "stdout",
     "output_type": "stream",
     "text": [
      "Iteration: 1422\n",
      "Algorithm: K-Mediods\n"
     ]
    },
    {
     "name": "stderr",
     "output_type": "stream",
     "text": [
      "/opt/homebrew/lib/python3.10/site-packages/sklearn_extra/cluster/_k_medoids.py:329: UserWarning: Cluster 1 is empty! self.labels_[self.medoid_indices_[1]] may not be labeled with its corresponding cluster (1).\n",
      "  warnings.warn(\n"
     ]
    },
    {
     "name": "stdout",
     "output_type": "stream",
     "text": [
      "Iteration: 1423\n",
      "Algorithm: DBSCAN Clustering\n",
      "Iteration: 1424\n",
      "Algorithm: DBSCAN Clustering\n",
      "Iteration: 1425\n",
      "Algorithm: Mean Shift\n",
      "Iteration: 1426\n",
      "Algorithm: EM Clustering\n",
      "Iteration: 1427\n",
      "Algorithm: DBSCAN Clustering\n",
      "Iteration: 1428\n",
      "Algorithm: Mean Shift\n",
      "Iteration: 1429\n",
      "Algorithm: Mean Shift\n",
      "Iteration: 1430\n",
      "Algorithm: K-Means\n",
      "Iteration: 1431\n",
      "Algorithm: Mean Shift\n",
      "Iteration: 1432\n",
      "Algorithm: DBSCAN Clustering\n",
      "Iteration: 1433\n",
      "Algorithm: K-Means\n",
      "Iteration: 1434\n",
      "Algorithm: K-Means\n",
      "Iteration: 1435\n",
      "Algorithm: K-Mediods\n"
     ]
    },
    {
     "name": "stderr",
     "output_type": "stream",
     "text": [
      "/opt/homebrew/lib/python3.10/site-packages/sklearn_extra/cluster/_k_medoids.py:329: UserWarning: Cluster 1 is empty! self.labels_[self.medoid_indices_[1]] may not be labeled with its corresponding cluster (1).\n",
      "  warnings.warn(\n"
     ]
    },
    {
     "name": "stdout",
     "output_type": "stream",
     "text": [
      "Iteration: 1436\n",
      "Algorithm: DBSCAN Clustering\n",
      "Iteration: 1437\n",
      "Algorithm: DBSCAN Clustering\n",
      "Iteration: 1438\n",
      "Algorithm: K-Means\n",
      "Iteration: 1439\n",
      "Algorithm: EM Clustering\n",
      "Iteration: 1440\n",
      "Algorithm: EM Clustering\n",
      "Iteration: 1441\n",
      "Algorithm: K-Mediods\n"
     ]
    },
    {
     "name": "stderr",
     "output_type": "stream",
     "text": [
      "/opt/homebrew/lib/python3.10/site-packages/sklearn_extra/cluster/_k_medoids.py:329: UserWarning: Cluster 1 is empty! self.labels_[self.medoid_indices_[1]] may not be labeled with its corresponding cluster (1).\n",
      "  warnings.warn(\n"
     ]
    },
    {
     "name": "stdout",
     "output_type": "stream",
     "text": [
      "Iteration: 1442\n",
      "Algorithm: DBSCAN Clustering\n",
      "Iteration: 1443\n",
      "Algorithm: Mean Shift\n",
      "Iteration: 1444\n",
      "Algorithm: K-Means\n",
      "Iteration: 1445\n",
      "Algorithm: EM Clustering\n",
      "Iteration: 1446\n",
      "Algorithm: EM Clustering\n",
      "Iteration: 1447\n",
      "Algorithm: K-Mediods\n"
     ]
    },
    {
     "name": "stderr",
     "output_type": "stream",
     "text": [
      "/opt/homebrew/lib/python3.10/site-packages/sklearn_extra/cluster/_k_medoids.py:329: UserWarning: Cluster 1 is empty! self.labels_[self.medoid_indices_[1]] may not be labeled with its corresponding cluster (1).\n",
      "  warnings.warn(\n"
     ]
    },
    {
     "name": "stdout",
     "output_type": "stream",
     "text": [
      "Iteration: 1448\n",
      "Algorithm: Mean Shift\n",
      "Iteration: 1449\n",
      "Algorithm: K-Means\n",
      "Iteration: 1450\n",
      "Algorithm: K-Mediods\n"
     ]
    },
    {
     "name": "stderr",
     "output_type": "stream",
     "text": [
      "/opt/homebrew/lib/python3.10/site-packages/sklearn_extra/cluster/_k_medoids.py:329: UserWarning: Cluster 1 is empty! self.labels_[self.medoid_indices_[1]] may not be labeled with its corresponding cluster (1).\n",
      "  warnings.warn(\n"
     ]
    },
    {
     "name": "stdout",
     "output_type": "stream",
     "text": [
      "Iteration: 1451\n",
      "Algorithm: K-Mediods\n"
     ]
    },
    {
     "name": "stderr",
     "output_type": "stream",
     "text": [
      "/opt/homebrew/lib/python3.10/site-packages/sklearn_extra/cluster/_k_medoids.py:329: UserWarning: Cluster 1 is empty! self.labels_[self.medoid_indices_[1]] may not be labeled with its corresponding cluster (1).\n",
      "  warnings.warn(\n"
     ]
    },
    {
     "name": "stdout",
     "output_type": "stream",
     "text": [
      "Iteration: 1452\n",
      "Algorithm: Mean Shift\n",
      "Iteration: 1453\n",
      "Algorithm: Mean Shift\n",
      "Iteration: 1454\n",
      "Algorithm: K-Means\n",
      "Iteration: 1455\n",
      "Algorithm: EM Clustering\n",
      "Iteration: 1456\n",
      "Algorithm: K-Mediods\n"
     ]
    },
    {
     "name": "stderr",
     "output_type": "stream",
     "text": [
      "/opt/homebrew/lib/python3.10/site-packages/sklearn_extra/cluster/_k_medoids.py:329: UserWarning: Cluster 1 is empty! self.labels_[self.medoid_indices_[1]] may not be labeled with its corresponding cluster (1).\n",
      "  warnings.warn(\n"
     ]
    },
    {
     "name": "stdout",
     "output_type": "stream",
     "text": [
      "Iteration: 1457\n",
      "Algorithm: K-Means\n",
      "Iteration: 1458\n",
      "Algorithm: K-Means\n",
      "Iteration: 1459\n",
      "Algorithm: K-Means\n",
      "Iteration: 1460\n",
      "Algorithm: K-Mediods\n"
     ]
    },
    {
     "name": "stderr",
     "output_type": "stream",
     "text": [
      "/opt/homebrew/lib/python3.10/site-packages/sklearn_extra/cluster/_k_medoids.py:329: UserWarning: Cluster 1 is empty! self.labels_[self.medoid_indices_[1]] may not be labeled with its corresponding cluster (1).\n",
      "  warnings.warn(\n"
     ]
    },
    {
     "name": "stdout",
     "output_type": "stream",
     "text": [
      "Iteration: 1461\n",
      "Algorithm: K-Mediods\n"
     ]
    },
    {
     "name": "stderr",
     "output_type": "stream",
     "text": [
      "/opt/homebrew/lib/python3.10/site-packages/sklearn_extra/cluster/_k_medoids.py:329: UserWarning: Cluster 1 is empty! self.labels_[self.medoid_indices_[1]] may not be labeled with its corresponding cluster (1).\n",
      "  warnings.warn(\n"
     ]
    },
    {
     "name": "stdout",
     "output_type": "stream",
     "text": [
      "Iteration: 1462\n",
      "Algorithm: Mean Shift\n",
      "Iteration: 1463\n",
      "Algorithm: K-Mediods\n"
     ]
    },
    {
     "name": "stderr",
     "output_type": "stream",
     "text": [
      "/opt/homebrew/lib/python3.10/site-packages/sklearn_extra/cluster/_k_medoids.py:329: UserWarning: Cluster 1 is empty! self.labels_[self.medoid_indices_[1]] may not be labeled with its corresponding cluster (1).\n",
      "  warnings.warn(\n"
     ]
    },
    {
     "name": "stdout",
     "output_type": "stream",
     "text": [
      "Iteration: 1464\n",
      "Algorithm: K-Means\n",
      "Iteration: 1465\n",
      "Algorithm: K-Mediods\n"
     ]
    },
    {
     "name": "stderr",
     "output_type": "stream",
     "text": [
      "/opt/homebrew/lib/python3.10/site-packages/sklearn_extra/cluster/_k_medoids.py:329: UserWarning: Cluster 1 is empty! self.labels_[self.medoid_indices_[1]] may not be labeled with its corresponding cluster (1).\n",
      "  warnings.warn(\n"
     ]
    },
    {
     "name": "stdout",
     "output_type": "stream",
     "text": [
      "Iteration: 1466\n",
      "Algorithm: K-Mediods\n"
     ]
    },
    {
     "name": "stderr",
     "output_type": "stream",
     "text": [
      "/opt/homebrew/lib/python3.10/site-packages/sklearn_extra/cluster/_k_medoids.py:329: UserWarning: Cluster 1 is empty! self.labels_[self.medoid_indices_[1]] may not be labeled with its corresponding cluster (1).\n",
      "  warnings.warn(\n"
     ]
    },
    {
     "name": "stdout",
     "output_type": "stream",
     "text": [
      "Iteration: 1467\n",
      "Algorithm: K-Mediods\n"
     ]
    },
    {
     "name": "stderr",
     "output_type": "stream",
     "text": [
      "/opt/homebrew/lib/python3.10/site-packages/sklearn_extra/cluster/_k_medoids.py:329: UserWarning: Cluster 1 is empty! self.labels_[self.medoid_indices_[1]] may not be labeled with its corresponding cluster (1).\n",
      "  warnings.warn(\n"
     ]
    },
    {
     "name": "stdout",
     "output_type": "stream",
     "text": [
      "Iteration: 1468\n",
      "Algorithm: K-Mediods\n"
     ]
    },
    {
     "name": "stderr",
     "output_type": "stream",
     "text": [
      "/opt/homebrew/lib/python3.10/site-packages/sklearn_extra/cluster/_k_medoids.py:329: UserWarning: Cluster 1 is empty! self.labels_[self.medoid_indices_[1]] may not be labeled with its corresponding cluster (1).\n",
      "  warnings.warn(\n"
     ]
    },
    {
     "name": "stdout",
     "output_type": "stream",
     "text": [
      "Iteration: 1469\n",
      "Algorithm: Mean Shift\n",
      "Iteration: 1470\n",
      "Algorithm: K-Mediods\n"
     ]
    },
    {
     "name": "stderr",
     "output_type": "stream",
     "text": [
      "/opt/homebrew/lib/python3.10/site-packages/sklearn_extra/cluster/_k_medoids.py:329: UserWarning: Cluster 1 is empty! self.labels_[self.medoid_indices_[1]] may not be labeled with its corresponding cluster (1).\n",
      "  warnings.warn(\n"
     ]
    },
    {
     "name": "stdout",
     "output_type": "stream",
     "text": [
      "Iteration: 1471\n",
      "Algorithm: DBSCAN Clustering\n",
      "Iteration: 1472\n",
      "Algorithm: K-Means\n",
      "Iteration: 1473\n",
      "Algorithm: Mean Shift\n",
      "Iteration: 1474\n",
      "Algorithm: K-Mediods\n"
     ]
    },
    {
     "name": "stderr",
     "output_type": "stream",
     "text": [
      "/opt/homebrew/lib/python3.10/site-packages/sklearn_extra/cluster/_k_medoids.py:329: UserWarning: Cluster 1 is empty! self.labels_[self.medoid_indices_[1]] may not be labeled with its corresponding cluster (1).\n",
      "  warnings.warn(\n"
     ]
    },
    {
     "name": "stdout",
     "output_type": "stream",
     "text": [
      "Iteration: 1475\n",
      "Algorithm: DBSCAN Clustering\n",
      "Iteration: 1476\n",
      "Algorithm: Mean Shift\n",
      "Iteration: 1477\n",
      "Algorithm: K-Means\n",
      "Iteration: 1478\n",
      "Algorithm: Mean Shift\n",
      "Iteration: 1479\n",
      "Algorithm: DBSCAN Clustering\n",
      "Iteration: 1480\n",
      "Algorithm: Mean Shift\n",
      "Iteration: 1481\n",
      "Algorithm: Mean Shift\n",
      "Iteration: 1482\n",
      "Algorithm: K-Mediods\n"
     ]
    },
    {
     "name": "stderr",
     "output_type": "stream",
     "text": [
      "/opt/homebrew/lib/python3.10/site-packages/sklearn_extra/cluster/_k_medoids.py:329: UserWarning: Cluster 1 is empty! self.labels_[self.medoid_indices_[1]] may not be labeled with its corresponding cluster (1).\n",
      "  warnings.warn(\n"
     ]
    },
    {
     "name": "stdout",
     "output_type": "stream",
     "text": [
      "Iteration: 1483\n",
      "Algorithm: K-Mediods\n"
     ]
    },
    {
     "name": "stderr",
     "output_type": "stream",
     "text": [
      "/opt/homebrew/lib/python3.10/site-packages/sklearn_extra/cluster/_k_medoids.py:329: UserWarning: Cluster 1 is empty! self.labels_[self.medoid_indices_[1]] may not be labeled with its corresponding cluster (1).\n",
      "  warnings.warn(\n"
     ]
    },
    {
     "name": "stdout",
     "output_type": "stream",
     "text": [
      "Iteration: 1484\n",
      "Algorithm: Mean Shift\n",
      "Iteration: 1485\n",
      "Algorithm: Mean Shift\n",
      "Iteration: 1486\n",
      "Algorithm: K-Mediods\n"
     ]
    },
    {
     "name": "stderr",
     "output_type": "stream",
     "text": [
      "/opt/homebrew/lib/python3.10/site-packages/sklearn_extra/cluster/_k_medoids.py:329: UserWarning: Cluster 1 is empty! self.labels_[self.medoid_indices_[1]] may not be labeled with its corresponding cluster (1).\n",
      "  warnings.warn(\n"
     ]
    },
    {
     "name": "stdout",
     "output_type": "stream",
     "text": [
      "Iteration: 1487\n",
      "Algorithm: Mean Shift\n",
      "Iteration: 1488\n",
      "Algorithm: K-Mediods\n"
     ]
    },
    {
     "name": "stderr",
     "output_type": "stream",
     "text": [
      "/opt/homebrew/lib/python3.10/site-packages/sklearn_extra/cluster/_k_medoids.py:329: UserWarning: Cluster 1 is empty! self.labels_[self.medoid_indices_[1]] may not be labeled with its corresponding cluster (1).\n",
      "  warnings.warn(\n"
     ]
    },
    {
     "name": "stdout",
     "output_type": "stream",
     "text": [
      "Iteration: 1489\n",
      "Algorithm: EM Clustering\n",
      "Iteration: 1490\n",
      "Algorithm: K-Means\n",
      "Iteration: 1491\n",
      "Algorithm: K-Mediods\n"
     ]
    },
    {
     "name": "stderr",
     "output_type": "stream",
     "text": [
      "/opt/homebrew/lib/python3.10/site-packages/sklearn_extra/cluster/_k_medoids.py:329: UserWarning: Cluster 1 is empty! self.labels_[self.medoid_indices_[1]] may not be labeled with its corresponding cluster (1).\n",
      "  warnings.warn(\n"
     ]
    },
    {
     "name": "stdout",
     "output_type": "stream",
     "text": [
      "Iteration: 1492\n",
      "Algorithm: K-Mediods\n"
     ]
    },
    {
     "name": "stderr",
     "output_type": "stream",
     "text": [
      "/opt/homebrew/lib/python3.10/site-packages/sklearn_extra/cluster/_k_medoids.py:329: UserWarning: Cluster 1 is empty! self.labels_[self.medoid_indices_[1]] may not be labeled with its corresponding cluster (1).\n",
      "  warnings.warn(\n"
     ]
    },
    {
     "name": "stdout",
     "output_type": "stream",
     "text": [
      "Iteration: 1493\n",
      "Algorithm: K-Means\n",
      "Iteration: 1494\n",
      "Algorithm: DBSCAN Clustering\n",
      "Iteration: 1495\n",
      "Algorithm: K-Means\n",
      "Iteration: 1496\n",
      "Algorithm: K-Mediods\n"
     ]
    },
    {
     "name": "stderr",
     "output_type": "stream",
     "text": [
      "/opt/homebrew/lib/python3.10/site-packages/sklearn_extra/cluster/_k_medoids.py:329: UserWarning: Cluster 1 is empty! self.labels_[self.medoid_indices_[1]] may not be labeled with its corresponding cluster (1).\n",
      "  warnings.warn(\n"
     ]
    },
    {
     "name": "stdout",
     "output_type": "stream",
     "text": [
      "Iteration: 1497\n",
      "Algorithm: DBSCAN Clustering\n",
      "Iteration: 1498\n",
      "Algorithm: K-Means\n",
      "Iteration: 1499\n",
      "Algorithm: K-Mediods\n"
     ]
    },
    {
     "name": "stderr",
     "output_type": "stream",
     "text": [
      "/opt/homebrew/lib/python3.10/site-packages/sklearn_extra/cluster/_k_medoids.py:329: UserWarning: Cluster 1 is empty! self.labels_[self.medoid_indices_[1]] may not be labeled with its corresponding cluster (1).\n",
      "  warnings.warn(\n"
     ]
    },
    {
     "name": "stdout",
     "output_type": "stream",
     "text": [
      "Iteration: 1500\n",
      "Algorithm: K-Means\n",
      "Iteration: 1501\n",
      "Algorithm: EM Clustering\n",
      "Iteration: 1502\n",
      "Algorithm: EM Clustering\n",
      "Iteration: 1503\n",
      "Algorithm: Mean Shift\n",
      "Iteration: 1504\n",
      "Algorithm: K-Mediods\n"
     ]
    },
    {
     "name": "stderr",
     "output_type": "stream",
     "text": [
      "/opt/homebrew/lib/python3.10/site-packages/sklearn_extra/cluster/_k_medoids.py:329: UserWarning: Cluster 1 is empty! self.labels_[self.medoid_indices_[1]] may not be labeled with its corresponding cluster (1).\n",
      "  warnings.warn(\n"
     ]
    },
    {
     "name": "stdout",
     "output_type": "stream",
     "text": [
      "Iteration: 1505\n",
      "Algorithm: DBSCAN Clustering\n",
      "Iteration: 1506\n",
      "Algorithm: Mean Shift\n",
      "Iteration: 1507\n",
      "Algorithm: EM Clustering\n",
      "Iteration: 1508\n",
      "Algorithm: K-Means\n",
      "Iteration: 1509\n",
      "Algorithm: K-Mediods\n"
     ]
    },
    {
     "name": "stderr",
     "output_type": "stream",
     "text": [
      "/opt/homebrew/lib/python3.10/site-packages/sklearn_extra/cluster/_k_medoids.py:329: UserWarning: Cluster 1 is empty! self.labels_[self.medoid_indices_[1]] may not be labeled with its corresponding cluster (1).\n",
      "  warnings.warn(\n"
     ]
    },
    {
     "name": "stdout",
     "output_type": "stream",
     "text": [
      "Iteration: 1510\n",
      "Algorithm: K-Mediods\n"
     ]
    },
    {
     "name": "stderr",
     "output_type": "stream",
     "text": [
      "/opt/homebrew/lib/python3.10/site-packages/sklearn_extra/cluster/_k_medoids.py:329: UserWarning: Cluster 1 is empty! self.labels_[self.medoid_indices_[1]] may not be labeled with its corresponding cluster (1).\n",
      "  warnings.warn(\n"
     ]
    },
    {
     "name": "stdout",
     "output_type": "stream",
     "text": [
      "Iteration: 1511\n",
      "Algorithm: Mean Shift\n",
      "Iteration: 1512\n",
      "Algorithm: EM Clustering\n",
      "Iteration: 1513\n",
      "Algorithm: DBSCAN Clustering\n",
      "Iteration: 1514\n",
      "Algorithm: EM Clustering\n",
      "Iteration: 1515\n",
      "Algorithm: K-Means\n",
      "Iteration: 1516\n",
      "Algorithm: Mean Shift\n",
      "Iteration: 1517\n",
      "Algorithm: Mean Shift\n",
      "Iteration: 1518\n",
      "Algorithm: K-Means\n",
      "Iteration: 1519\n",
      "Algorithm: Mean Shift\n",
      "Iteration: 1520\n",
      "Algorithm: EM Clustering\n",
      "Iteration: 1521\n",
      "Algorithm: K-Mediods\n"
     ]
    },
    {
     "name": "stderr",
     "output_type": "stream",
     "text": [
      "/opt/homebrew/lib/python3.10/site-packages/sklearn_extra/cluster/_k_medoids.py:329: UserWarning: Cluster 1 is empty! self.labels_[self.medoid_indices_[1]] may not be labeled with its corresponding cluster (1).\n",
      "  warnings.warn(\n"
     ]
    },
    {
     "name": "stdout",
     "output_type": "stream",
     "text": [
      "Iteration: 1522\n",
      "Algorithm: EM Clustering\n",
      "Iteration: 1523\n",
      "Algorithm: K-Mediods\n"
     ]
    },
    {
     "name": "stderr",
     "output_type": "stream",
     "text": [
      "/opt/homebrew/lib/python3.10/site-packages/sklearn_extra/cluster/_k_medoids.py:329: UserWarning: Cluster 1 is empty! self.labels_[self.medoid_indices_[1]] may not be labeled with its corresponding cluster (1).\n",
      "  warnings.warn(\n"
     ]
    },
    {
     "name": "stdout",
     "output_type": "stream",
     "text": [
      "Iteration: 1524\n",
      "Algorithm: DBSCAN Clustering\n",
      "Iteration: 1525\n",
      "Algorithm: EM Clustering\n",
      "Iteration: 1526\n",
      "Algorithm: Mean Shift\n",
      "Iteration: 1527\n",
      "Algorithm: K-Mediods\n"
     ]
    },
    {
     "name": "stderr",
     "output_type": "stream",
     "text": [
      "/opt/homebrew/lib/python3.10/site-packages/sklearn_extra/cluster/_k_medoids.py:329: UserWarning: Cluster 1 is empty! self.labels_[self.medoid_indices_[1]] may not be labeled with its corresponding cluster (1).\n",
      "  warnings.warn(\n"
     ]
    },
    {
     "name": "stdout",
     "output_type": "stream",
     "text": [
      "Iteration: 1528\n",
      "Algorithm: K-Mediods\n"
     ]
    },
    {
     "name": "stderr",
     "output_type": "stream",
     "text": [
      "/opt/homebrew/lib/python3.10/site-packages/sklearn_extra/cluster/_k_medoids.py:329: UserWarning: Cluster 1 is empty! self.labels_[self.medoid_indices_[1]] may not be labeled with its corresponding cluster (1).\n",
      "  warnings.warn(\n"
     ]
    },
    {
     "name": "stdout",
     "output_type": "stream",
     "text": [
      "Iteration: 1529\n",
      "Algorithm: DBSCAN Clustering\n",
      "Iteration: 1530\n",
      "Algorithm: Mean Shift\n",
      "Iteration: 1531\n",
      "Algorithm: K-Mediods\n"
     ]
    },
    {
     "name": "stderr",
     "output_type": "stream",
     "text": [
      "/opt/homebrew/lib/python3.10/site-packages/sklearn_extra/cluster/_k_medoids.py:329: UserWarning: Cluster 1 is empty! self.labels_[self.medoid_indices_[1]] may not be labeled with its corresponding cluster (1).\n",
      "  warnings.warn(\n"
     ]
    },
    {
     "name": "stdout",
     "output_type": "stream",
     "text": [
      "Iteration: 1532\n",
      "Algorithm: DBSCAN Clustering\n",
      "Iteration: 1533\n",
      "Algorithm: K-Means\n",
      "Iteration: 1534\n",
      "Algorithm: K-Mediods\n"
     ]
    },
    {
     "name": "stderr",
     "output_type": "stream",
     "text": [
      "/opt/homebrew/lib/python3.10/site-packages/sklearn_extra/cluster/_k_medoids.py:329: UserWarning: Cluster 1 is empty! self.labels_[self.medoid_indices_[1]] may not be labeled with its corresponding cluster (1).\n",
      "  warnings.warn(\n"
     ]
    },
    {
     "name": "stdout",
     "output_type": "stream",
     "text": [
      "Iteration: 1535\n",
      "Algorithm: Mean Shift\n",
      "Iteration: 1536\n",
      "Algorithm: K-Mediods\n"
     ]
    },
    {
     "name": "stderr",
     "output_type": "stream",
     "text": [
      "/opt/homebrew/lib/python3.10/site-packages/sklearn_extra/cluster/_k_medoids.py:329: UserWarning: Cluster 1 is empty! self.labels_[self.medoid_indices_[1]] may not be labeled with its corresponding cluster (1).\n",
      "  warnings.warn(\n"
     ]
    },
    {
     "name": "stdout",
     "output_type": "stream",
     "text": [
      "Iteration: 1537\n",
      "Algorithm: K-Mediods\n"
     ]
    },
    {
     "name": "stderr",
     "output_type": "stream",
     "text": [
      "/opt/homebrew/lib/python3.10/site-packages/sklearn_extra/cluster/_k_medoids.py:329: UserWarning: Cluster 1 is empty! self.labels_[self.medoid_indices_[1]] may not be labeled with its corresponding cluster (1).\n",
      "  warnings.warn(\n"
     ]
    },
    {
     "name": "stdout",
     "output_type": "stream",
     "text": [
      "Iteration: 1538\n",
      "Algorithm: K-Means\n",
      "Iteration: 1539\n",
      "Algorithm: DBSCAN Clustering\n",
      "Iteration: 1540\n",
      "Algorithm: EM Clustering\n",
      "Iteration: 1541\n",
      "Algorithm: EM Clustering\n",
      "Iteration: 1542\n",
      "Algorithm: K-Means\n",
      "Iteration: 1543\n",
      "Algorithm: Mean Shift\n",
      "Iteration: 1544\n",
      "Algorithm: DBSCAN Clustering\n",
      "Iteration: 1545\n",
      "Algorithm: EM Clustering\n",
      "Iteration: 1546\n",
      "Algorithm: K-Means\n",
      "Iteration: 1547\n",
      "Algorithm: K-Mediods\n"
     ]
    },
    {
     "name": "stderr",
     "output_type": "stream",
     "text": [
      "/opt/homebrew/lib/python3.10/site-packages/sklearn_extra/cluster/_k_medoids.py:329: UserWarning: Cluster 1 is empty! self.labels_[self.medoid_indices_[1]] may not be labeled with its corresponding cluster (1).\n",
      "  warnings.warn(\n"
     ]
    },
    {
     "name": "stdout",
     "output_type": "stream",
     "text": [
      "Iteration: 1548\n",
      "Algorithm: EM Clustering\n",
      "Iteration: 1549\n",
      "Algorithm: K-Means\n",
      "Iteration: 1550\n",
      "Algorithm: EM Clustering\n",
      "Iteration: 1551\n",
      "Algorithm: K-Mediods\n"
     ]
    },
    {
     "name": "stderr",
     "output_type": "stream",
     "text": [
      "/opt/homebrew/lib/python3.10/site-packages/sklearn_extra/cluster/_k_medoids.py:329: UserWarning: Cluster 1 is empty! self.labels_[self.medoid_indices_[1]] may not be labeled with its corresponding cluster (1).\n",
      "  warnings.warn(\n"
     ]
    },
    {
     "name": "stdout",
     "output_type": "stream",
     "text": [
      "Iteration: 1552\n",
      "Algorithm: K-Mediods\n"
     ]
    },
    {
     "name": "stderr",
     "output_type": "stream",
     "text": [
      "/opt/homebrew/lib/python3.10/site-packages/sklearn_extra/cluster/_k_medoids.py:329: UserWarning: Cluster 1 is empty! self.labels_[self.medoid_indices_[1]] may not be labeled with its corresponding cluster (1).\n",
      "  warnings.warn(\n"
     ]
    },
    {
     "name": "stdout",
     "output_type": "stream",
     "text": [
      "Iteration: 1553\n",
      "Algorithm: EM Clustering\n",
      "Iteration: 1554\n",
      "Algorithm: K-Mediods\n"
     ]
    },
    {
     "name": "stderr",
     "output_type": "stream",
     "text": [
      "/opt/homebrew/lib/python3.10/site-packages/sklearn_extra/cluster/_k_medoids.py:329: UserWarning: Cluster 1 is empty! self.labels_[self.medoid_indices_[1]] may not be labeled with its corresponding cluster (1).\n",
      "  warnings.warn(\n"
     ]
    },
    {
     "name": "stdout",
     "output_type": "stream",
     "text": [
      "Iteration: 1555\n",
      "Algorithm: EM Clustering\n",
      "Iteration: 1556\n",
      "Algorithm: K-Means\n",
      "Iteration: 1557\n",
      "Algorithm: K-Mediods\n"
     ]
    },
    {
     "name": "stderr",
     "output_type": "stream",
     "text": [
      "/opt/homebrew/lib/python3.10/site-packages/sklearn_extra/cluster/_k_medoids.py:329: UserWarning: Cluster 1 is empty! self.labels_[self.medoid_indices_[1]] may not be labeled with its corresponding cluster (1).\n",
      "  warnings.warn(\n"
     ]
    },
    {
     "name": "stdout",
     "output_type": "stream",
     "text": [
      "Iteration: 1558\n",
      "Algorithm: K-Means\n",
      "Iteration: 1559\n",
      "Algorithm: K-Mediods\n"
     ]
    },
    {
     "name": "stderr",
     "output_type": "stream",
     "text": [
      "/opt/homebrew/lib/python3.10/site-packages/sklearn_extra/cluster/_k_medoids.py:329: UserWarning: Cluster 1 is empty! self.labels_[self.medoid_indices_[1]] may not be labeled with its corresponding cluster (1).\n",
      "  warnings.warn(\n"
     ]
    },
    {
     "name": "stdout",
     "output_type": "stream",
     "text": [
      "Iteration: 1560\n",
      "Algorithm: K-Mediods\n"
     ]
    },
    {
     "name": "stderr",
     "output_type": "stream",
     "text": [
      "/opt/homebrew/lib/python3.10/site-packages/sklearn_extra/cluster/_k_medoids.py:329: UserWarning: Cluster 1 is empty! self.labels_[self.medoid_indices_[1]] may not be labeled with its corresponding cluster (1).\n",
      "  warnings.warn(\n"
     ]
    },
    {
     "name": "stdout",
     "output_type": "stream",
     "text": [
      "Iteration: 1561\n",
      "Algorithm: EM Clustering\n",
      "Iteration: 1562\n",
      "Algorithm: K-Means\n",
      "Iteration: 1563\n",
      "Algorithm: DBSCAN Clustering\n",
      "Iteration: 1564\n",
      "Algorithm: K-Means\n",
      "Iteration: 1565\n",
      "Algorithm: EM Clustering\n",
      "Iteration: 1566\n",
      "Algorithm: EM Clustering\n",
      "Iteration: 1567\n",
      "Algorithm: EM Clustering\n",
      "Iteration: 1568\n",
      "Algorithm: K-Mediods\n"
     ]
    },
    {
     "name": "stderr",
     "output_type": "stream",
     "text": [
      "/opt/homebrew/lib/python3.10/site-packages/sklearn_extra/cluster/_k_medoids.py:329: UserWarning: Cluster 1 is empty! self.labels_[self.medoid_indices_[1]] may not be labeled with its corresponding cluster (1).\n",
      "  warnings.warn(\n"
     ]
    },
    {
     "name": "stdout",
     "output_type": "stream",
     "text": [
      "Iteration: 1569\n",
      "Algorithm: EM Clustering\n",
      "Iteration: 1570\n",
      "Algorithm: EM Clustering\n",
      "Iteration: 1571\n",
      "Algorithm: K-Mediods\n"
     ]
    },
    {
     "name": "stderr",
     "output_type": "stream",
     "text": [
      "/opt/homebrew/lib/python3.10/site-packages/sklearn_extra/cluster/_k_medoids.py:329: UserWarning: Cluster 1 is empty! self.labels_[self.medoid_indices_[1]] may not be labeled with its corresponding cluster (1).\n",
      "  warnings.warn(\n"
     ]
    },
    {
     "name": "stdout",
     "output_type": "stream",
     "text": [
      "Iteration: 1572\n",
      "Algorithm: K-Mediods\n"
     ]
    },
    {
     "name": "stderr",
     "output_type": "stream",
     "text": [
      "/opt/homebrew/lib/python3.10/site-packages/sklearn_extra/cluster/_k_medoids.py:329: UserWarning: Cluster 1 is empty! self.labels_[self.medoid_indices_[1]] may not be labeled with its corresponding cluster (1).\n",
      "  warnings.warn(\n"
     ]
    },
    {
     "name": "stdout",
     "output_type": "stream",
     "text": [
      "Iteration: 1573\n",
      "Algorithm: K-Mediods\n"
     ]
    },
    {
     "name": "stderr",
     "output_type": "stream",
     "text": [
      "/opt/homebrew/lib/python3.10/site-packages/sklearn_extra/cluster/_k_medoids.py:329: UserWarning: Cluster 1 is empty! self.labels_[self.medoid_indices_[1]] may not be labeled with its corresponding cluster (1).\n",
      "  warnings.warn(\n"
     ]
    },
    {
     "name": "stdout",
     "output_type": "stream",
     "text": [
      "Iteration: 1574\n",
      "Algorithm: K-Mediods\n"
     ]
    },
    {
     "name": "stderr",
     "output_type": "stream",
     "text": [
      "/opt/homebrew/lib/python3.10/site-packages/sklearn_extra/cluster/_k_medoids.py:329: UserWarning: Cluster 1 is empty! self.labels_[self.medoid_indices_[1]] may not be labeled with its corresponding cluster (1).\n",
      "  warnings.warn(\n"
     ]
    },
    {
     "name": "stdout",
     "output_type": "stream",
     "text": [
      "Iteration: 1575\n",
      "Algorithm: Mean Shift\n",
      "Iteration: 1576\n",
      "Algorithm: K-Means\n",
      "Iteration: 1577\n",
      "Algorithm: K-Mediods\n"
     ]
    },
    {
     "name": "stderr",
     "output_type": "stream",
     "text": [
      "/opt/homebrew/lib/python3.10/site-packages/sklearn_extra/cluster/_k_medoids.py:329: UserWarning: Cluster 1 is empty! self.labels_[self.medoid_indices_[1]] may not be labeled with its corresponding cluster (1).\n",
      "  warnings.warn(\n"
     ]
    },
    {
     "name": "stdout",
     "output_type": "stream",
     "text": [
      "Iteration: 1578\n",
      "Algorithm: DBSCAN Clustering\n",
      "Iteration: 1579\n",
      "Algorithm: K-Mediods\n"
     ]
    },
    {
     "name": "stderr",
     "output_type": "stream",
     "text": [
      "/opt/homebrew/lib/python3.10/site-packages/sklearn_extra/cluster/_k_medoids.py:329: UserWarning: Cluster 1 is empty! self.labels_[self.medoid_indices_[1]] may not be labeled with its corresponding cluster (1).\n",
      "  warnings.warn(\n"
     ]
    },
    {
     "name": "stdout",
     "output_type": "stream",
     "text": [
      "Iteration: 1580\n",
      "Algorithm: K-Means\n",
      "Iteration: 1581\n",
      "Algorithm: K-Means\n",
      "Iteration: 1582\n",
      "Algorithm: EM Clustering\n",
      "Iteration: 1583\n",
      "Algorithm: Mean Shift\n",
      "Iteration: 1584\n",
      "Algorithm: K-Mediods\n"
     ]
    },
    {
     "name": "stderr",
     "output_type": "stream",
     "text": [
      "/opt/homebrew/lib/python3.10/site-packages/sklearn_extra/cluster/_k_medoids.py:329: UserWarning: Cluster 1 is empty! self.labels_[self.medoid_indices_[1]] may not be labeled with its corresponding cluster (1).\n",
      "  warnings.warn(\n"
     ]
    },
    {
     "name": "stdout",
     "output_type": "stream",
     "text": [
      "Iteration: 1585\n",
      "Algorithm: EM Clustering\n",
      "Iteration: 1586\n",
      "Algorithm: EM Clustering\n",
      "Iteration: 1587\n",
      "Algorithm: K-Mediods\n"
     ]
    },
    {
     "name": "stderr",
     "output_type": "stream",
     "text": [
      "/opt/homebrew/lib/python3.10/site-packages/sklearn_extra/cluster/_k_medoids.py:329: UserWarning: Cluster 1 is empty! self.labels_[self.medoid_indices_[1]] may not be labeled with its corresponding cluster (1).\n",
      "  warnings.warn(\n"
     ]
    },
    {
     "name": "stdout",
     "output_type": "stream",
     "text": [
      "Iteration: 1588\n",
      "Algorithm: K-Means\n",
      "Iteration: 1589\n",
      "Algorithm: K-Mediods\n"
     ]
    },
    {
     "name": "stderr",
     "output_type": "stream",
     "text": [
      "/opt/homebrew/lib/python3.10/site-packages/sklearn_extra/cluster/_k_medoids.py:329: UserWarning: Cluster 1 is empty! self.labels_[self.medoid_indices_[1]] may not be labeled with its corresponding cluster (1).\n",
      "  warnings.warn(\n"
     ]
    },
    {
     "name": "stdout",
     "output_type": "stream",
     "text": [
      "Iteration: 1590\n",
      "Algorithm: EM Clustering\n",
      "Iteration: 1591\n",
      "Algorithm: K-Means\n",
      "Iteration: 1592\n",
      "Algorithm: EM Clustering\n",
      "Iteration: 1593\n",
      "Algorithm: Mean Shift\n",
      "Iteration: 1594\n",
      "Algorithm: EM Clustering\n",
      "Iteration: 1595\n",
      "Algorithm: K-Mediods\n"
     ]
    },
    {
     "name": "stderr",
     "output_type": "stream",
     "text": [
      "/opt/homebrew/lib/python3.10/site-packages/sklearn_extra/cluster/_k_medoids.py:329: UserWarning: Cluster 1 is empty! self.labels_[self.medoid_indices_[1]] may not be labeled with its corresponding cluster (1).\n",
      "  warnings.warn(\n"
     ]
    },
    {
     "name": "stdout",
     "output_type": "stream",
     "text": [
      "Iteration: 1596\n",
      "Algorithm: DBSCAN Clustering\n",
      "Iteration: 1597\n",
      "Algorithm: K-Means\n",
      "Iteration: 1598\n",
      "Algorithm: K-Means\n",
      "Iteration: 1599\n",
      "Algorithm: Mean Shift\n",
      "Iteration: 1600\n",
      "Algorithm: EM Clustering\n",
      "Iteration: 1601\n",
      "Algorithm: DBSCAN Clustering\n",
      "Iteration: 1602\n",
      "Algorithm: EM Clustering\n",
      "Iteration: 1603\n",
      "Algorithm: K-Means\n",
      "Iteration: 1604\n",
      "Algorithm: K-Mediods\n"
     ]
    },
    {
     "name": "stderr",
     "output_type": "stream",
     "text": [
      "/opt/homebrew/lib/python3.10/site-packages/sklearn_extra/cluster/_k_medoids.py:329: UserWarning: Cluster 1 is empty! self.labels_[self.medoid_indices_[1]] may not be labeled with its corresponding cluster (1).\n",
      "  warnings.warn(\n"
     ]
    },
    {
     "name": "stdout",
     "output_type": "stream",
     "text": [
      "Iteration: 1605\n",
      "Algorithm: K-Mediods\n"
     ]
    },
    {
     "name": "stderr",
     "output_type": "stream",
     "text": [
      "/opt/homebrew/lib/python3.10/site-packages/sklearn_extra/cluster/_k_medoids.py:329: UserWarning: Cluster 1 is empty! self.labels_[self.medoid_indices_[1]] may not be labeled with its corresponding cluster (1).\n",
      "  warnings.warn(\n"
     ]
    },
    {
     "name": "stdout",
     "output_type": "stream",
     "text": [
      "Iteration: 1606\n",
      "Algorithm: Mean Shift\n",
      "Iteration: 1607\n",
      "Algorithm: EM Clustering\n",
      "Iteration: 1608\n",
      "Algorithm: DBSCAN Clustering\n",
      "Iteration: 1609\n",
      "Algorithm: DBSCAN Clustering\n",
      "Iteration: 1610\n",
      "Algorithm: K-Means\n",
      "Iteration: 1611\n",
      "Algorithm: EM Clustering\n",
      "Iteration: 1612\n",
      "Algorithm: K-Mediods\n"
     ]
    },
    {
     "name": "stderr",
     "output_type": "stream",
     "text": [
      "/opt/homebrew/lib/python3.10/site-packages/sklearn_extra/cluster/_k_medoids.py:329: UserWarning: Cluster 1 is empty! self.labels_[self.medoid_indices_[1]] may not be labeled with its corresponding cluster (1).\n",
      "  warnings.warn(\n"
     ]
    },
    {
     "name": "stdout",
     "output_type": "stream",
     "text": [
      "Iteration: 1613\n",
      "Algorithm: DBSCAN Clustering\n",
      "Iteration: 1614\n",
      "Algorithm: K-Mediods\n"
     ]
    },
    {
     "name": "stderr",
     "output_type": "stream",
     "text": [
      "/opt/homebrew/lib/python3.10/site-packages/sklearn_extra/cluster/_k_medoids.py:329: UserWarning: Cluster 1 is empty! self.labels_[self.medoid_indices_[1]] may not be labeled with its corresponding cluster (1).\n",
      "  warnings.warn(\n"
     ]
    },
    {
     "name": "stdout",
     "output_type": "stream",
     "text": [
      "Iteration: 1615\n",
      "Algorithm: EM Clustering\n",
      "Iteration: 1616\n",
      "Algorithm: EM Clustering\n",
      "Iteration: 1617\n",
      "Algorithm: K-Mediods\n"
     ]
    },
    {
     "name": "stderr",
     "output_type": "stream",
     "text": [
      "/opt/homebrew/lib/python3.10/site-packages/sklearn_extra/cluster/_k_medoids.py:329: UserWarning: Cluster 1 is empty! self.labels_[self.medoid_indices_[1]] may not be labeled with its corresponding cluster (1).\n",
      "  warnings.warn(\n"
     ]
    },
    {
     "name": "stdout",
     "output_type": "stream",
     "text": [
      "Iteration: 1618\n",
      "Algorithm: EM Clustering\n",
      "Iteration: 1619\n",
      "Algorithm: Mean Shift\n",
      "Iteration: 1620\n",
      "Algorithm: K-Mediods\n"
     ]
    },
    {
     "name": "stderr",
     "output_type": "stream",
     "text": [
      "/opt/homebrew/lib/python3.10/site-packages/sklearn_extra/cluster/_k_medoids.py:329: UserWarning: Cluster 1 is empty! self.labels_[self.medoid_indices_[1]] may not be labeled with its corresponding cluster (1).\n",
      "  warnings.warn(\n"
     ]
    },
    {
     "name": "stdout",
     "output_type": "stream",
     "text": [
      "Iteration: 1621\n",
      "Algorithm: K-Means\n",
      "Iteration: 1622\n",
      "Algorithm: Mean Shift\n",
      "Iteration: 1623\n",
      "Algorithm: EM Clustering\n",
      "Iteration: 1624\n",
      "Algorithm: EM Clustering\n",
      "Iteration: 1625\n",
      "Algorithm: K-Mediods\n"
     ]
    },
    {
     "name": "stderr",
     "output_type": "stream",
     "text": [
      "/opt/homebrew/lib/python3.10/site-packages/sklearn_extra/cluster/_k_medoids.py:329: UserWarning: Cluster 1 is empty! self.labels_[self.medoid_indices_[1]] may not be labeled with its corresponding cluster (1).\n",
      "  warnings.warn(\n"
     ]
    },
    {
     "name": "stdout",
     "output_type": "stream",
     "text": [
      "Iteration: 1626\n",
      "Algorithm: Mean Shift\n",
      "Iteration: 1627\n",
      "Algorithm: K-Mediods\n"
     ]
    },
    {
     "name": "stderr",
     "output_type": "stream",
     "text": [
      "/opt/homebrew/lib/python3.10/site-packages/sklearn_extra/cluster/_k_medoids.py:329: UserWarning: Cluster 1 is empty! self.labels_[self.medoid_indices_[1]] may not be labeled with its corresponding cluster (1).\n",
      "  warnings.warn(\n"
     ]
    },
    {
     "name": "stdout",
     "output_type": "stream",
     "text": [
      "Iteration: 1628\n",
      "Algorithm: DBSCAN Clustering\n",
      "Iteration: 1629\n",
      "Algorithm: K-Means\n",
      "Iteration: 1630\n",
      "Algorithm: Mean Shift\n",
      "Iteration: 1631\n",
      "Algorithm: K-Means\n",
      "Iteration: 1632\n",
      "Algorithm: EM Clustering\n",
      "Iteration: 1633\n",
      "Algorithm: DBSCAN Clustering\n",
      "Iteration: 1634\n",
      "Algorithm: EM Clustering\n",
      "Iteration: 1635\n",
      "Algorithm: K-Mediods\n"
     ]
    },
    {
     "name": "stderr",
     "output_type": "stream",
     "text": [
      "/opt/homebrew/lib/python3.10/site-packages/sklearn_extra/cluster/_k_medoids.py:329: UserWarning: Cluster 1 is empty! self.labels_[self.medoid_indices_[1]] may not be labeled with its corresponding cluster (1).\n",
      "  warnings.warn(\n"
     ]
    },
    {
     "name": "stdout",
     "output_type": "stream",
     "text": [
      "Iteration: 1636\n",
      "Algorithm: K-Mediods\n"
     ]
    },
    {
     "name": "stderr",
     "output_type": "stream",
     "text": [
      "/opt/homebrew/lib/python3.10/site-packages/sklearn_extra/cluster/_k_medoids.py:329: UserWarning: Cluster 1 is empty! self.labels_[self.medoid_indices_[1]] may not be labeled with its corresponding cluster (1).\n",
      "  warnings.warn(\n"
     ]
    },
    {
     "name": "stdout",
     "output_type": "stream",
     "text": [
      "Iteration: 1637\n",
      "Algorithm: K-Mediods\n"
     ]
    },
    {
     "name": "stderr",
     "output_type": "stream",
     "text": [
      "/opt/homebrew/lib/python3.10/site-packages/sklearn_extra/cluster/_k_medoids.py:329: UserWarning: Cluster 1 is empty! self.labels_[self.medoid_indices_[1]] may not be labeled with its corresponding cluster (1).\n",
      "  warnings.warn(\n"
     ]
    },
    {
     "name": "stdout",
     "output_type": "stream",
     "text": [
      "Iteration: 1638\n",
      "Algorithm: EM Clustering\n",
      "Iteration: 1639\n",
      "Algorithm: EM Clustering\n",
      "Iteration: 1640\n",
      "Algorithm: K-Mediods\n"
     ]
    },
    {
     "name": "stderr",
     "output_type": "stream",
     "text": [
      "/opt/homebrew/lib/python3.10/site-packages/sklearn_extra/cluster/_k_medoids.py:329: UserWarning: Cluster 1 is empty! self.labels_[self.medoid_indices_[1]] may not be labeled with its corresponding cluster (1).\n",
      "  warnings.warn(\n"
     ]
    },
    {
     "name": "stdout",
     "output_type": "stream",
     "text": [
      "Iteration: 1641\n",
      "Algorithm: Mean Shift\n",
      "Iteration: 1642\n",
      "Algorithm: Mean Shift\n",
      "Iteration: 1643\n",
      "Algorithm: K-Mediods\n"
     ]
    },
    {
     "name": "stderr",
     "output_type": "stream",
     "text": [
      "/opt/homebrew/lib/python3.10/site-packages/sklearn_extra/cluster/_k_medoids.py:329: UserWarning: Cluster 1 is empty! self.labels_[self.medoid_indices_[1]] may not be labeled with its corresponding cluster (1).\n",
      "  warnings.warn(\n"
     ]
    },
    {
     "name": "stdout",
     "output_type": "stream",
     "text": [
      "Iteration: 1644\n",
      "Algorithm: K-Mediods\n"
     ]
    },
    {
     "name": "stderr",
     "output_type": "stream",
     "text": [
      "/opt/homebrew/lib/python3.10/site-packages/sklearn_extra/cluster/_k_medoids.py:329: UserWarning: Cluster 1 is empty! self.labels_[self.medoid_indices_[1]] may not be labeled with its corresponding cluster (1).\n",
      "  warnings.warn(\n"
     ]
    },
    {
     "name": "stdout",
     "output_type": "stream",
     "text": [
      "Iteration: 1645\n",
      "Algorithm: K-Means\n",
      "Iteration: 1646\n",
      "Algorithm: K-Mediods\n"
     ]
    },
    {
     "name": "stderr",
     "output_type": "stream",
     "text": [
      "/opt/homebrew/lib/python3.10/site-packages/sklearn_extra/cluster/_k_medoids.py:329: UserWarning: Cluster 1 is empty! self.labels_[self.medoid_indices_[1]] may not be labeled with its corresponding cluster (1).\n",
      "  warnings.warn(\n"
     ]
    },
    {
     "name": "stdout",
     "output_type": "stream",
     "text": [
      "Iteration: 1647\n",
      "Algorithm: EM Clustering\n",
      "Iteration: 1648\n",
      "Algorithm: K-Mediods\n"
     ]
    },
    {
     "name": "stderr",
     "output_type": "stream",
     "text": [
      "/opt/homebrew/lib/python3.10/site-packages/sklearn_extra/cluster/_k_medoids.py:329: UserWarning: Cluster 1 is empty! self.labels_[self.medoid_indices_[1]] may not be labeled with its corresponding cluster (1).\n",
      "  warnings.warn(\n"
     ]
    },
    {
     "name": "stdout",
     "output_type": "stream",
     "text": [
      "Iteration: 1649\n",
      "Algorithm: K-Mediods\n",
      "Iteration: 1650\n",
      "Algorithm: DBSCAN Clustering\n",
      "Iteration: 1651\n",
      "Algorithm: K-Mediods\n"
     ]
    },
    {
     "name": "stderr",
     "output_type": "stream",
     "text": [
      "/opt/homebrew/lib/python3.10/site-packages/sklearn_extra/cluster/_k_medoids.py:329: UserWarning: Cluster 1 is empty! self.labels_[self.medoid_indices_[1]] may not be labeled with its corresponding cluster (1).\n",
      "  warnings.warn(\n"
     ]
    },
    {
     "name": "stdout",
     "output_type": "stream",
     "text": [
      "Iteration: 1652\n",
      "Algorithm: K-Mediods\n"
     ]
    },
    {
     "name": "stderr",
     "output_type": "stream",
     "text": [
      "/opt/homebrew/lib/python3.10/site-packages/sklearn_extra/cluster/_k_medoids.py:329: UserWarning: Cluster 1 is empty! self.labels_[self.medoid_indices_[1]] may not be labeled with its corresponding cluster (1).\n",
      "  warnings.warn(\n"
     ]
    },
    {
     "name": "stdout",
     "output_type": "stream",
     "text": [
      "Iteration: 1653\n",
      "Algorithm: DBSCAN Clustering\n",
      "Iteration: 1654\n",
      "Algorithm: K-Mediods\n"
     ]
    },
    {
     "name": "stderr",
     "output_type": "stream",
     "text": [
      "/opt/homebrew/lib/python3.10/site-packages/sklearn_extra/cluster/_k_medoids.py:329: UserWarning: Cluster 1 is empty! self.labels_[self.medoid_indices_[1]] may not be labeled with its corresponding cluster (1).\n",
      "  warnings.warn(\n"
     ]
    },
    {
     "name": "stdout",
     "output_type": "stream",
     "text": [
      "Iteration: 1655\n",
      "Algorithm: Mean Shift\n",
      "Iteration: 1656\n",
      "Algorithm: Mean Shift\n",
      "Iteration: 1657\n",
      "Algorithm: EM Clustering\n",
      "Iteration: 1658\n",
      "Algorithm: K-Mediods\n"
     ]
    },
    {
     "name": "stderr",
     "output_type": "stream",
     "text": [
      "/opt/homebrew/lib/python3.10/site-packages/sklearn_extra/cluster/_k_medoids.py:329: UserWarning: Cluster 1 is empty! self.labels_[self.medoid_indices_[1]] may not be labeled with its corresponding cluster (1).\n",
      "  warnings.warn(\n"
     ]
    },
    {
     "name": "stdout",
     "output_type": "stream",
     "text": [
      "Iteration: 1659\n",
      "Algorithm: EM Clustering\n",
      "Iteration: 1660\n",
      "Algorithm: DBSCAN Clustering\n",
      "Iteration: 1661\n",
      "Algorithm: K-Mediods\n"
     ]
    },
    {
     "name": "stderr",
     "output_type": "stream",
     "text": [
      "/opt/homebrew/lib/python3.10/site-packages/sklearn_extra/cluster/_k_medoids.py:329: UserWarning: Cluster 1 is empty! self.labels_[self.medoid_indices_[1]] may not be labeled with its corresponding cluster (1).\n",
      "  warnings.warn(\n"
     ]
    },
    {
     "name": "stdout",
     "output_type": "stream",
     "text": [
      "Iteration: 1662\n",
      "Algorithm: K-Mediods\n"
     ]
    },
    {
     "name": "stderr",
     "output_type": "stream",
     "text": [
      "/opt/homebrew/lib/python3.10/site-packages/sklearn_extra/cluster/_k_medoids.py:329: UserWarning: Cluster 1 is empty! self.labels_[self.medoid_indices_[1]] may not be labeled with its corresponding cluster (1).\n",
      "  warnings.warn(\n"
     ]
    },
    {
     "name": "stdout",
     "output_type": "stream",
     "text": [
      "Iteration: 1663\n",
      "Algorithm: Mean Shift\n",
      "Iteration: 1664\n",
      "Algorithm: K-Mediods\n"
     ]
    },
    {
     "name": "stderr",
     "output_type": "stream",
     "text": [
      "/opt/homebrew/lib/python3.10/site-packages/sklearn_extra/cluster/_k_medoids.py:329: UserWarning: Cluster 1 is empty! self.labels_[self.medoid_indices_[1]] may not be labeled with its corresponding cluster (1).\n",
      "  warnings.warn(\n"
     ]
    },
    {
     "name": "stdout",
     "output_type": "stream",
     "text": [
      "Iteration: 1665\n",
      "Algorithm: K-Means\n",
      "Iteration: 1666\n",
      "Algorithm: K-Mediods\n"
     ]
    },
    {
     "name": "stderr",
     "output_type": "stream",
     "text": [
      "/opt/homebrew/lib/python3.10/site-packages/sklearn_extra/cluster/_k_medoids.py:329: UserWarning: Cluster 1 is empty! self.labels_[self.medoid_indices_[1]] may not be labeled with its corresponding cluster (1).\n",
      "  warnings.warn(\n"
     ]
    },
    {
     "name": "stdout",
     "output_type": "stream",
     "text": [
      "Iteration: 1667\n",
      "Algorithm: K-Mediods\n"
     ]
    },
    {
     "name": "stderr",
     "output_type": "stream",
     "text": [
      "/opt/homebrew/lib/python3.10/site-packages/sklearn_extra/cluster/_k_medoids.py:329: UserWarning: Cluster 1 is empty! self.labels_[self.medoid_indices_[1]] may not be labeled with its corresponding cluster (1).\n",
      "  warnings.warn(\n"
     ]
    },
    {
     "name": "stdout",
     "output_type": "stream",
     "text": [
      "Iteration: 1668\n",
      "Algorithm: K-Mediods\n"
     ]
    },
    {
     "name": "stderr",
     "output_type": "stream",
     "text": [
      "/opt/homebrew/lib/python3.10/site-packages/sklearn_extra/cluster/_k_medoids.py:329: UserWarning: Cluster 1 is empty! self.labels_[self.medoid_indices_[1]] may not be labeled with its corresponding cluster (1).\n",
      "  warnings.warn(\n"
     ]
    },
    {
     "name": "stdout",
     "output_type": "stream",
     "text": [
      "Iteration: 1669\n",
      "Algorithm: Mean Shift\n",
      "Iteration: 1670\n",
      "Algorithm: EM Clustering\n",
      "Iteration: 1671\n",
      "Algorithm: Mean Shift\n",
      "Iteration: 1672\n",
      "Algorithm: Mean Shift\n",
      "Iteration: 1673\n",
      "Algorithm: K-Means\n",
      "Iteration: 1674\n",
      "Algorithm: K-Means\n",
      "Iteration: 1675\n",
      "Algorithm: Mean Shift\n",
      "Iteration: 1676\n",
      "Algorithm: K-Mediods\n"
     ]
    },
    {
     "name": "stderr",
     "output_type": "stream",
     "text": [
      "/opt/homebrew/lib/python3.10/site-packages/sklearn_extra/cluster/_k_medoids.py:329: UserWarning: Cluster 1 is empty! self.labels_[self.medoid_indices_[1]] may not be labeled with its corresponding cluster (1).\n",
      "  warnings.warn(\n"
     ]
    },
    {
     "name": "stdout",
     "output_type": "stream",
     "text": [
      "Iteration: 1677\n",
      "Algorithm: K-Means\n",
      "Iteration: 1678\n",
      "Algorithm: K-Mediods\n"
     ]
    },
    {
     "name": "stderr",
     "output_type": "stream",
     "text": [
      "/opt/homebrew/lib/python3.10/site-packages/sklearn_extra/cluster/_k_medoids.py:329: UserWarning: Cluster 1 is empty! self.labels_[self.medoid_indices_[1]] may not be labeled with its corresponding cluster (1).\n",
      "  warnings.warn(\n"
     ]
    },
    {
     "name": "stdout",
     "output_type": "stream",
     "text": [
      "Iteration: 1679\n",
      "Algorithm: Mean Shift\n",
      "Iteration: 1680\n",
      "Algorithm: EM Clustering\n",
      "Iteration: 1681\n",
      "Algorithm: K-Mediods\n"
     ]
    },
    {
     "name": "stderr",
     "output_type": "stream",
     "text": [
      "/opt/homebrew/lib/python3.10/site-packages/sklearn_extra/cluster/_k_medoids.py:329: UserWarning: Cluster 1 is empty! self.labels_[self.medoid_indices_[1]] may not be labeled with its corresponding cluster (1).\n",
      "  warnings.warn(\n"
     ]
    },
    {
     "name": "stdout",
     "output_type": "stream",
     "text": [
      "Iteration: 1682\n",
      "Algorithm: EM Clustering\n",
      "Iteration: 1683\n",
      "Algorithm: EM Clustering\n",
      "Iteration: 1684\n",
      "Algorithm: K-Mediods\n"
     ]
    },
    {
     "name": "stderr",
     "output_type": "stream",
     "text": [
      "/opt/homebrew/lib/python3.10/site-packages/sklearn_extra/cluster/_k_medoids.py:329: UserWarning: Cluster 1 is empty! self.labels_[self.medoid_indices_[1]] may not be labeled with its corresponding cluster (1).\n",
      "  warnings.warn(\n"
     ]
    },
    {
     "name": "stdout",
     "output_type": "stream",
     "text": [
      "Iteration: 1685\n",
      "Algorithm: K-Means\n",
      "Iteration: 1686\n",
      "Algorithm: K-Mediods\n"
     ]
    },
    {
     "name": "stderr",
     "output_type": "stream",
     "text": [
      "/opt/homebrew/lib/python3.10/site-packages/sklearn_extra/cluster/_k_medoids.py:329: UserWarning: Cluster 1 is empty! self.labels_[self.medoid_indices_[1]] may not be labeled with its corresponding cluster (1).\n",
      "  warnings.warn(\n"
     ]
    },
    {
     "name": "stdout",
     "output_type": "stream",
     "text": [
      "Iteration: 1687\n",
      "Algorithm: EM Clustering\n",
      "Iteration: 1688\n",
      "Algorithm: K-Mediods\n"
     ]
    },
    {
     "name": "stderr",
     "output_type": "stream",
     "text": [
      "/opt/homebrew/lib/python3.10/site-packages/sklearn_extra/cluster/_k_medoids.py:329: UserWarning: Cluster 1 is empty! self.labels_[self.medoid_indices_[1]] may not be labeled with its corresponding cluster (1).\n",
      "  warnings.warn(\n"
     ]
    },
    {
     "name": "stdout",
     "output_type": "stream",
     "text": [
      "Iteration: 1689\n",
      "Algorithm: K-Mediods\n"
     ]
    },
    {
     "name": "stderr",
     "output_type": "stream",
     "text": [
      "/opt/homebrew/lib/python3.10/site-packages/sklearn_extra/cluster/_k_medoids.py:329: UserWarning: Cluster 1 is empty! self.labels_[self.medoid_indices_[1]] may not be labeled with its corresponding cluster (1).\n",
      "  warnings.warn(\n"
     ]
    },
    {
     "name": "stdout",
     "output_type": "stream",
     "text": [
      "Iteration: 1690\n",
      "Algorithm: K-Means\n",
      "Iteration: 1691\n",
      "Algorithm: K-Mediods\n"
     ]
    },
    {
     "name": "stderr",
     "output_type": "stream",
     "text": [
      "/opt/homebrew/lib/python3.10/site-packages/sklearn_extra/cluster/_k_medoids.py:329: UserWarning: Cluster 1 is empty! self.labels_[self.medoid_indices_[1]] may not be labeled with its corresponding cluster (1).\n",
      "  warnings.warn(\n"
     ]
    },
    {
     "name": "stdout",
     "output_type": "stream",
     "text": [
      "Iteration: 1692\n",
      "Algorithm: K-Means\n",
      "Iteration: 1693\n",
      "Algorithm: Mean Shift\n",
      "Iteration: 1694\n",
      "Algorithm: K-Mediods\n"
     ]
    },
    {
     "name": "stderr",
     "output_type": "stream",
     "text": [
      "/opt/homebrew/lib/python3.10/site-packages/sklearn_extra/cluster/_k_medoids.py:329: UserWarning: Cluster 1 is empty! self.labels_[self.medoid_indices_[1]] may not be labeled with its corresponding cluster (1).\n",
      "  warnings.warn(\n"
     ]
    },
    {
     "name": "stdout",
     "output_type": "stream",
     "text": [
      "Iteration: 1695\n",
      "Algorithm: DBSCAN Clustering\n",
      "Iteration: 1696\n",
      "Algorithm: DBSCAN Clustering\n",
      "Iteration: 1697\n",
      "Algorithm: K-Mediods\n"
     ]
    },
    {
     "name": "stderr",
     "output_type": "stream",
     "text": [
      "/opt/homebrew/lib/python3.10/site-packages/sklearn_extra/cluster/_k_medoids.py:329: UserWarning: Cluster 1 is empty! self.labels_[self.medoid_indices_[1]] may not be labeled with its corresponding cluster (1).\n",
      "  warnings.warn(\n"
     ]
    },
    {
     "name": "stdout",
     "output_type": "stream",
     "text": [
      "Iteration: 1698\n",
      "Algorithm: Mean Shift\n",
      "Iteration: 1699\n",
      "Algorithm: DBSCAN Clustering\n",
      "Iteration: 1700\n",
      "Algorithm: Mean Shift\n",
      "Iteration: 1701\n",
      "Algorithm: K-Means\n",
      "Iteration: 1702\n",
      "Algorithm: Mean Shift\n",
      "Iteration: 1703\n",
      "Algorithm: K-Means\n",
      "Iteration: 1704\n",
      "Algorithm: EM Clustering\n",
      "Iteration: 1705\n",
      "Algorithm: Mean Shift\n",
      "Iteration: 1706\n",
      "Algorithm: EM Clustering\n",
      "Iteration: 1707\n",
      "Algorithm: EM Clustering\n",
      "Iteration: 1708\n",
      "Algorithm: EM Clustering\n",
      "Iteration: 1709\n",
      "Algorithm: K-Mediods\n"
     ]
    },
    {
     "name": "stderr",
     "output_type": "stream",
     "text": [
      "/opt/homebrew/lib/python3.10/site-packages/sklearn_extra/cluster/_k_medoids.py:329: UserWarning: Cluster 1 is empty! self.labels_[self.medoid_indices_[1]] may not be labeled with its corresponding cluster (1).\n",
      "  warnings.warn(\n"
     ]
    },
    {
     "name": "stdout",
     "output_type": "stream",
     "text": [
      "Iteration: 1710\n",
      "Algorithm: Mean Shift\n",
      "Iteration: 1711\n",
      "Algorithm: DBSCAN Clustering\n",
      "Iteration: 1712\n",
      "Algorithm: Mean Shift\n",
      "Iteration: 1713\n",
      "Algorithm: DBSCAN Clustering\n",
      "Iteration: 1714\n",
      "Algorithm: Mean Shift\n",
      "Iteration: 1715\n",
      "Algorithm: EM Clustering\n",
      "Iteration: 1716\n",
      "Algorithm: DBSCAN Clustering\n",
      "Iteration: 1717\n",
      "Algorithm: EM Clustering\n",
      "Iteration: 1718\n",
      "Algorithm: DBSCAN Clustering\n",
      "Iteration: 1719\n",
      "Algorithm: EM Clustering\n",
      "Iteration: 1720\n",
      "Algorithm: Mean Shift\n",
      "Iteration: 1721\n",
      "Algorithm: EM Clustering\n",
      "Iteration: 1722\n",
      "Algorithm: K-Mediods\n"
     ]
    },
    {
     "name": "stderr",
     "output_type": "stream",
     "text": [
      "/opt/homebrew/lib/python3.10/site-packages/sklearn_extra/cluster/_k_medoids.py:329: UserWarning: Cluster 1 is empty! self.labels_[self.medoid_indices_[1]] may not be labeled with its corresponding cluster (1).\n",
      "  warnings.warn(\n"
     ]
    },
    {
     "name": "stdout",
     "output_type": "stream",
     "text": [
      "Iteration: 1723\n",
      "Algorithm: K-Mediods\n"
     ]
    },
    {
     "name": "stderr",
     "output_type": "stream",
     "text": [
      "/opt/homebrew/lib/python3.10/site-packages/sklearn_extra/cluster/_k_medoids.py:329: UserWarning: Cluster 1 is empty! self.labels_[self.medoid_indices_[1]] may not be labeled with its corresponding cluster (1).\n",
      "  warnings.warn(\n"
     ]
    },
    {
     "name": "stdout",
     "output_type": "stream",
     "text": [
      "Iteration: 1724\n",
      "Algorithm: DBSCAN Clustering\n",
      "Iteration: 1725\n",
      "Algorithm: Mean Shift\n",
      "Iteration: 1726\n",
      "Algorithm: EM Clustering\n",
      "Iteration: 1727\n",
      "Algorithm: EM Clustering\n",
      "Iteration: 1728\n",
      "Algorithm: K-Mediods\n"
     ]
    },
    {
     "name": "stderr",
     "output_type": "stream",
     "text": [
      "/opt/homebrew/lib/python3.10/site-packages/sklearn_extra/cluster/_k_medoids.py:329: UserWarning: Cluster 1 is empty! self.labels_[self.medoid_indices_[1]] may not be labeled with its corresponding cluster (1).\n",
      "  warnings.warn(\n"
     ]
    },
    {
     "name": "stdout",
     "output_type": "stream",
     "text": [
      "Iteration: 1729\n",
      "Algorithm: DBSCAN Clustering\n",
      "Iteration: 1730\n",
      "Algorithm: K-Mediods\n"
     ]
    },
    {
     "name": "stderr",
     "output_type": "stream",
     "text": [
      "/opt/homebrew/lib/python3.10/site-packages/sklearn_extra/cluster/_k_medoids.py:329: UserWarning: Cluster 1 is empty! self.labels_[self.medoid_indices_[1]] may not be labeled with its corresponding cluster (1).\n",
      "  warnings.warn(\n"
     ]
    },
    {
     "name": "stdout",
     "output_type": "stream",
     "text": [
      "Iteration: 1731\n",
      "Algorithm: K-Mediods\n"
     ]
    },
    {
     "name": "stderr",
     "output_type": "stream",
     "text": [
      "/opt/homebrew/lib/python3.10/site-packages/sklearn_extra/cluster/_k_medoids.py:329: UserWarning: Cluster 1 is empty! self.labels_[self.medoid_indices_[1]] may not be labeled with its corresponding cluster (1).\n",
      "  warnings.warn(\n"
     ]
    },
    {
     "name": "stdout",
     "output_type": "stream",
     "text": [
      "Iteration: 1732\n",
      "Algorithm: K-Mediods\n"
     ]
    },
    {
     "name": "stderr",
     "output_type": "stream",
     "text": [
      "/opt/homebrew/lib/python3.10/site-packages/sklearn_extra/cluster/_k_medoids.py:329: UserWarning: Cluster 1 is empty! self.labels_[self.medoid_indices_[1]] may not be labeled with its corresponding cluster (1).\n",
      "  warnings.warn(\n"
     ]
    },
    {
     "name": "stdout",
     "output_type": "stream",
     "text": [
      "Iteration: 1733\n",
      "Algorithm: Mean Shift\n",
      "Iteration: 1734\n",
      "Algorithm: EM Clustering\n",
      "Iteration: 1735\n",
      "Algorithm: DBSCAN Clustering\n",
      "Iteration: 1736\n",
      "Algorithm: K-Means\n",
      "Iteration: 1737\n",
      "Algorithm: K-Mediods\n"
     ]
    },
    {
     "name": "stderr",
     "output_type": "stream",
     "text": [
      "/opt/homebrew/lib/python3.10/site-packages/sklearn_extra/cluster/_k_medoids.py:329: UserWarning: Cluster 1 is empty! self.labels_[self.medoid_indices_[1]] may not be labeled with its corresponding cluster (1).\n",
      "  warnings.warn(\n"
     ]
    },
    {
     "name": "stdout",
     "output_type": "stream",
     "text": [
      "Iteration: 1738\n",
      "Algorithm: DBSCAN Clustering\n",
      "Iteration: 1739\n",
      "Algorithm: EM Clustering\n",
      "Iteration: 1740\n",
      "Algorithm: EM Clustering\n",
      "Iteration: 1741\n",
      "Algorithm: DBSCAN Clustering\n",
      "Iteration: 1742\n",
      "Algorithm: K-Mediods\n"
     ]
    },
    {
     "name": "stderr",
     "output_type": "stream",
     "text": [
      "/opt/homebrew/lib/python3.10/site-packages/sklearn_extra/cluster/_k_medoids.py:329: UserWarning: Cluster 1 is empty! self.labels_[self.medoid_indices_[1]] may not be labeled with its corresponding cluster (1).\n",
      "  warnings.warn(\n"
     ]
    },
    {
     "name": "stdout",
     "output_type": "stream",
     "text": [
      "Iteration: 1743\n",
      "Algorithm: Mean Shift\n",
      "Iteration: 1744\n",
      "Algorithm: K-Mediods\n"
     ]
    },
    {
     "name": "stderr",
     "output_type": "stream",
     "text": [
      "/opt/homebrew/lib/python3.10/site-packages/sklearn_extra/cluster/_k_medoids.py:329: UserWarning: Cluster 1 is empty! self.labels_[self.medoid_indices_[1]] may not be labeled with its corresponding cluster (1).\n",
      "  warnings.warn(\n"
     ]
    },
    {
     "name": "stdout",
     "output_type": "stream",
     "text": [
      "Iteration: 1745\n",
      "Algorithm: K-Means\n",
      "Iteration: 1746\n",
      "Algorithm: EM Clustering\n",
      "Iteration: 1747\n",
      "Algorithm: K-Mediods\n"
     ]
    },
    {
     "name": "stderr",
     "output_type": "stream",
     "text": [
      "/opt/homebrew/lib/python3.10/site-packages/sklearn_extra/cluster/_k_medoids.py:329: UserWarning: Cluster 1 is empty! self.labels_[self.medoid_indices_[1]] may not be labeled with its corresponding cluster (1).\n",
      "  warnings.warn(\n"
     ]
    },
    {
     "name": "stdout",
     "output_type": "stream",
     "text": [
      "Iteration: 1748\n",
      "Algorithm: EM Clustering\n",
      "Iteration: 1749\n",
      "Algorithm: K-Mediods\n"
     ]
    },
    {
     "name": "stderr",
     "output_type": "stream",
     "text": [
      "/opt/homebrew/lib/python3.10/site-packages/sklearn_extra/cluster/_k_medoids.py:329: UserWarning: Cluster 1 is empty! self.labels_[self.medoid_indices_[1]] may not be labeled with its corresponding cluster (1).\n",
      "  warnings.warn(\n"
     ]
    },
    {
     "name": "stdout",
     "output_type": "stream",
     "text": [
      "Iteration: 1750\n",
      "Algorithm: K-Means\n",
      "Iteration: 1751\n",
      "Algorithm: K-Mediods\n",
      "Iteration: 1752\n",
      "Algorithm: Mean Shift\n",
      "Iteration: 1753\n",
      "Algorithm: K-Means\n",
      "Iteration: 1754\n",
      "Algorithm: EM Clustering\n",
      "Iteration: 1755\n",
      "Algorithm: Mean Shift\n",
      "Iteration: 1756\n",
      "Algorithm: DBSCAN Clustering\n",
      "Iteration: 1757\n",
      "Algorithm: K-Means\n",
      "Iteration: 1758\n",
      "Algorithm: K-Mediods\n"
     ]
    },
    {
     "name": "stderr",
     "output_type": "stream",
     "text": [
      "/opt/homebrew/lib/python3.10/site-packages/sklearn_extra/cluster/_k_medoids.py:329: UserWarning: Cluster 1 is empty! self.labels_[self.medoid_indices_[1]] may not be labeled with its corresponding cluster (1).\n",
      "  warnings.warn(\n"
     ]
    },
    {
     "name": "stdout",
     "output_type": "stream",
     "text": [
      "Iteration: 1759\n",
      "Algorithm: Mean Shift\n",
      "Iteration: 1760\n",
      "Algorithm: DBSCAN Clustering\n",
      "Iteration: 1761\n",
      "Algorithm: Mean Shift\n",
      "Iteration: 1762\n",
      "Algorithm: Mean Shift\n",
      "Iteration: 1763\n",
      "Algorithm: K-Mediods\n"
     ]
    },
    {
     "name": "stderr",
     "output_type": "stream",
     "text": [
      "/opt/homebrew/lib/python3.10/site-packages/sklearn_extra/cluster/_k_medoids.py:329: UserWarning: Cluster 1 is empty! self.labels_[self.medoid_indices_[1]] may not be labeled with its corresponding cluster (1).\n",
      "  warnings.warn(\n"
     ]
    },
    {
     "name": "stdout",
     "output_type": "stream",
     "text": [
      "Iteration: 1764\n",
      "Algorithm: DBSCAN Clustering\n",
      "Iteration: 1765\n",
      "Algorithm: K-Means\n",
      "Iteration: 1766\n",
      "Algorithm: K-Mediods\n"
     ]
    },
    {
     "name": "stderr",
     "output_type": "stream",
     "text": [
      "/opt/homebrew/lib/python3.10/site-packages/sklearn_extra/cluster/_k_medoids.py:329: UserWarning: Cluster 1 is empty! self.labels_[self.medoid_indices_[1]] may not be labeled with its corresponding cluster (1).\n",
      "  warnings.warn(\n"
     ]
    },
    {
     "name": "stdout",
     "output_type": "stream",
     "text": [
      "Iteration: 1767\n",
      "Algorithm: K-Mediods\n"
     ]
    },
    {
     "name": "stderr",
     "output_type": "stream",
     "text": [
      "/opt/homebrew/lib/python3.10/site-packages/sklearn_extra/cluster/_k_medoids.py:329: UserWarning: Cluster 1 is empty! self.labels_[self.medoid_indices_[1]] may not be labeled with its corresponding cluster (1).\n",
      "  warnings.warn(\n"
     ]
    },
    {
     "name": "stdout",
     "output_type": "stream",
     "text": [
      "Iteration: 1768\n",
      "Algorithm: Mean Shift\n",
      "Iteration: 1769\n",
      "Algorithm: K-Mediods\n"
     ]
    },
    {
     "name": "stderr",
     "output_type": "stream",
     "text": [
      "/opt/homebrew/lib/python3.10/site-packages/sklearn_extra/cluster/_k_medoids.py:329: UserWarning: Cluster 1 is empty! self.labels_[self.medoid_indices_[1]] may not be labeled with its corresponding cluster (1).\n",
      "  warnings.warn(\n"
     ]
    },
    {
     "name": "stdout",
     "output_type": "stream",
     "text": [
      "Iteration: 1770\n",
      "Algorithm: DBSCAN Clustering\n",
      "Iteration: 1771\n",
      "Algorithm: Mean Shift\n",
      "Iteration: 1772\n",
      "Algorithm: Mean Shift\n",
      "Iteration: 1773\n",
      "Algorithm: DBSCAN Clustering\n",
      "Iteration: 1774\n",
      "Algorithm: DBSCAN Clustering\n",
      "Iteration: 1775\n",
      "Algorithm: DBSCAN Clustering\n",
      "Iteration: 1776\n",
      "Algorithm: DBSCAN Clustering\n",
      "Iteration: 1777\n",
      "Algorithm: DBSCAN Clustering\n",
      "Iteration: 1778\n",
      "Algorithm: EM Clustering\n",
      "Iteration: 1779\n",
      "Algorithm: K-Mediods\n"
     ]
    },
    {
     "name": "stderr",
     "output_type": "stream",
     "text": [
      "/opt/homebrew/lib/python3.10/site-packages/sklearn_extra/cluster/_k_medoids.py:329: UserWarning: Cluster 1 is empty! self.labels_[self.medoid_indices_[1]] may not be labeled with its corresponding cluster (1).\n",
      "  warnings.warn(\n"
     ]
    },
    {
     "name": "stdout",
     "output_type": "stream",
     "text": [
      "Iteration: 1780\n",
      "Algorithm: EM Clustering\n",
      "Iteration: 1781\n",
      "Algorithm: DBSCAN Clustering\n",
      "Iteration: 1782\n",
      "Algorithm: K-Mediods\n"
     ]
    },
    {
     "name": "stderr",
     "output_type": "stream",
     "text": [
      "/opt/homebrew/lib/python3.10/site-packages/sklearn_extra/cluster/_k_medoids.py:329: UserWarning: Cluster 1 is empty! self.labels_[self.medoid_indices_[1]] may not be labeled with its corresponding cluster (1).\n",
      "  warnings.warn(\n"
     ]
    },
    {
     "name": "stdout",
     "output_type": "stream",
     "text": [
      "Iteration: 1783\n",
      "Algorithm: EM Clustering\n",
      "Iteration: 1784\n",
      "Algorithm: K-Mediods\n"
     ]
    },
    {
     "name": "stderr",
     "output_type": "stream",
     "text": [
      "/opt/homebrew/lib/python3.10/site-packages/sklearn_extra/cluster/_k_medoids.py:329: UserWarning: Cluster 1 is empty! self.labels_[self.medoid_indices_[1]] may not be labeled with its corresponding cluster (1).\n",
      "  warnings.warn(\n"
     ]
    },
    {
     "name": "stdout",
     "output_type": "stream",
     "text": [
      "Iteration: 1785\n",
      "Algorithm: K-Mediods\n"
     ]
    },
    {
     "name": "stderr",
     "output_type": "stream",
     "text": [
      "/opt/homebrew/lib/python3.10/site-packages/sklearn_extra/cluster/_k_medoids.py:329: UserWarning: Cluster 1 is empty! self.labels_[self.medoid_indices_[1]] may not be labeled with its corresponding cluster (1).\n",
      "  warnings.warn(\n"
     ]
    },
    {
     "name": "stdout",
     "output_type": "stream",
     "text": [
      "Iteration: 1786\n",
      "Algorithm: K-Mediods\n"
     ]
    },
    {
     "name": "stderr",
     "output_type": "stream",
     "text": [
      "/opt/homebrew/lib/python3.10/site-packages/sklearn_extra/cluster/_k_medoids.py:329: UserWarning: Cluster 1 is empty! self.labels_[self.medoid_indices_[1]] may not be labeled with its corresponding cluster (1).\n",
      "  warnings.warn(\n"
     ]
    },
    {
     "name": "stdout",
     "output_type": "stream",
     "text": [
      "Iteration: 1787\n",
      "Algorithm: K-Mediods\n"
     ]
    },
    {
     "name": "stderr",
     "output_type": "stream",
     "text": [
      "/opt/homebrew/lib/python3.10/site-packages/sklearn_extra/cluster/_k_medoids.py:329: UserWarning: Cluster 1 is empty! self.labels_[self.medoid_indices_[1]] may not be labeled with its corresponding cluster (1).\n",
      "  warnings.warn(\n"
     ]
    },
    {
     "name": "stdout",
     "output_type": "stream",
     "text": [
      "Iteration: 1788\n",
      "Algorithm: DBSCAN Clustering\n",
      "Iteration: 1789\n",
      "Algorithm: K-Mediods\n"
     ]
    },
    {
     "name": "stderr",
     "output_type": "stream",
     "text": [
      "/opt/homebrew/lib/python3.10/site-packages/sklearn_extra/cluster/_k_medoids.py:329: UserWarning: Cluster 1 is empty! self.labels_[self.medoid_indices_[1]] may not be labeled with its corresponding cluster (1).\n",
      "  warnings.warn(\n"
     ]
    },
    {
     "name": "stdout",
     "output_type": "stream",
     "text": [
      "Iteration: 1790\n",
      "Algorithm: K-Mediods\n"
     ]
    },
    {
     "name": "stderr",
     "output_type": "stream",
     "text": [
      "/opt/homebrew/lib/python3.10/site-packages/sklearn_extra/cluster/_k_medoids.py:329: UserWarning: Cluster 1 is empty! self.labels_[self.medoid_indices_[1]] may not be labeled with its corresponding cluster (1).\n",
      "  warnings.warn(\n"
     ]
    },
    {
     "name": "stdout",
     "output_type": "stream",
     "text": [
      "Iteration: 1791\n",
      "Algorithm: K-Means\n",
      "Iteration: 1792\n",
      "Algorithm: Mean Shift\n",
      "Iteration: 1793\n",
      "Algorithm: EM Clustering\n",
      "Iteration: 1794\n",
      "Algorithm: Mean Shift\n",
      "Iteration: 1795\n",
      "Algorithm: Mean Shift\n",
      "Iteration: 1796\n",
      "Algorithm: EM Clustering\n",
      "Iteration: 1797\n",
      "Algorithm: K-Mediods\n"
     ]
    },
    {
     "name": "stderr",
     "output_type": "stream",
     "text": [
      "/opt/homebrew/lib/python3.10/site-packages/sklearn_extra/cluster/_k_medoids.py:329: UserWarning: Cluster 1 is empty! self.labels_[self.medoid_indices_[1]] may not be labeled with its corresponding cluster (1).\n",
      "  warnings.warn(\n"
     ]
    },
    {
     "name": "stdout",
     "output_type": "stream",
     "text": [
      "Iteration: 1798\n",
      "Algorithm: K-Means\n",
      "Iteration: 1799\n",
      "Algorithm: K-Mediods\n"
     ]
    },
    {
     "name": "stderr",
     "output_type": "stream",
     "text": [
      "/opt/homebrew/lib/python3.10/site-packages/sklearn_extra/cluster/_k_medoids.py:329: UserWarning: Cluster 1 is empty! self.labels_[self.medoid_indices_[1]] may not be labeled with its corresponding cluster (1).\n",
      "  warnings.warn(\n"
     ]
    },
    {
     "name": "stdout",
     "output_type": "stream",
     "text": [
      "Iteration: 1800\n",
      "Algorithm: K-Means\n",
      "Iteration: 1801\n",
      "Algorithm: DBSCAN Clustering\n",
      "Iteration: 1802\n",
      "Algorithm: EM Clustering\n",
      "Iteration: 1803\n",
      "Algorithm: K-Mediods\n"
     ]
    },
    {
     "name": "stderr",
     "output_type": "stream",
     "text": [
      "/opt/homebrew/lib/python3.10/site-packages/sklearn_extra/cluster/_k_medoids.py:329: UserWarning: Cluster 1 is empty! self.labels_[self.medoid_indices_[1]] may not be labeled with its corresponding cluster (1).\n",
      "  warnings.warn(\n"
     ]
    },
    {
     "name": "stdout",
     "output_type": "stream",
     "text": [
      "Iteration: 1804\n",
      "Algorithm: K-Means\n",
      "Iteration: 1805\n",
      "Algorithm: K-Mediods\n"
     ]
    },
    {
     "name": "stderr",
     "output_type": "stream",
     "text": [
      "/opt/homebrew/lib/python3.10/site-packages/sklearn_extra/cluster/_k_medoids.py:329: UserWarning: Cluster 1 is empty! self.labels_[self.medoid_indices_[1]] may not be labeled with its corresponding cluster (1).\n",
      "  warnings.warn(\n"
     ]
    },
    {
     "name": "stdout",
     "output_type": "stream",
     "text": [
      "Iteration: 1806\n",
      "Algorithm: Mean Shift\n",
      "Iteration: 1807\n",
      "Algorithm: K-Mediods\n"
     ]
    },
    {
     "name": "stderr",
     "output_type": "stream",
     "text": [
      "/opt/homebrew/lib/python3.10/site-packages/sklearn_extra/cluster/_k_medoids.py:329: UserWarning: Cluster 1 is empty! self.labels_[self.medoid_indices_[1]] may not be labeled with its corresponding cluster (1).\n",
      "  warnings.warn(\n"
     ]
    },
    {
     "name": "stdout",
     "output_type": "stream",
     "text": [
      "Iteration: 1808\n",
      "Algorithm: EM Clustering\n",
      "Iteration: 1809\n",
      "Algorithm: EM Clustering\n",
      "Iteration: 1810\n",
      "Algorithm: K-Mediods\n"
     ]
    },
    {
     "name": "stderr",
     "output_type": "stream",
     "text": [
      "/opt/homebrew/lib/python3.10/site-packages/sklearn_extra/cluster/_k_medoids.py:329: UserWarning: Cluster 1 is empty! self.labels_[self.medoid_indices_[1]] may not be labeled with its corresponding cluster (1).\n",
      "  warnings.warn(\n"
     ]
    },
    {
     "name": "stdout",
     "output_type": "stream",
     "text": [
      "Iteration: 1811\n",
      "Algorithm: EM Clustering\n",
      "Iteration: 1812\n",
      "Algorithm: Mean Shift\n",
      "Iteration: 1813\n",
      "Algorithm: K-Mediods\n"
     ]
    },
    {
     "name": "stderr",
     "output_type": "stream",
     "text": [
      "/opt/homebrew/lib/python3.10/site-packages/sklearn_extra/cluster/_k_medoids.py:329: UserWarning: Cluster 1 is empty! self.labels_[self.medoid_indices_[1]] may not be labeled with its corresponding cluster (1).\n",
      "  warnings.warn(\n"
     ]
    },
    {
     "name": "stdout",
     "output_type": "stream",
     "text": [
      "Iteration: 1814\n",
      "Algorithm: Mean Shift\n",
      "Iteration: 1815\n",
      "Algorithm: EM Clustering\n",
      "Iteration: 1816\n",
      "Algorithm: K-Means\n",
      "Iteration: 1817\n",
      "Algorithm: EM Clustering\n",
      "Iteration: 1818\n",
      "Algorithm: Mean Shift\n",
      "Iteration: 1819\n",
      "Algorithm: DBSCAN Clustering\n",
      "Iteration: 1820\n",
      "Algorithm: Mean Shift\n",
      "Iteration: 1821\n",
      "Algorithm: DBSCAN Clustering\n",
      "Iteration: 1822\n",
      "Algorithm: Mean Shift\n",
      "Iteration: 1823\n",
      "Algorithm: EM Clustering\n",
      "Iteration: 1824\n",
      "Algorithm: K-Mediods\n"
     ]
    },
    {
     "name": "stderr",
     "output_type": "stream",
     "text": [
      "/opt/homebrew/lib/python3.10/site-packages/sklearn_extra/cluster/_k_medoids.py:329: UserWarning: Cluster 1 is empty! self.labels_[self.medoid_indices_[1]] may not be labeled with its corresponding cluster (1).\n",
      "  warnings.warn(\n"
     ]
    },
    {
     "name": "stdout",
     "output_type": "stream",
     "text": [
      "Iteration: 1825\n",
      "Algorithm: K-Means\n",
      "Iteration: 1826\n",
      "Algorithm: DBSCAN Clustering\n",
      "Iteration: 1827\n",
      "Algorithm: DBSCAN Clustering\n",
      "Iteration: 1828\n",
      "Algorithm: K-Means\n",
      "Iteration: 1829\n",
      "Algorithm: K-Mediods\n"
     ]
    },
    {
     "name": "stderr",
     "output_type": "stream",
     "text": [
      "/opt/homebrew/lib/python3.10/site-packages/sklearn_extra/cluster/_k_medoids.py:329: UserWarning: Cluster 1 is empty! self.labels_[self.medoid_indices_[1]] may not be labeled with its corresponding cluster (1).\n",
      "  warnings.warn(\n"
     ]
    },
    {
     "name": "stdout",
     "output_type": "stream",
     "text": [
      "Iteration: 1830\n",
      "Algorithm: K-Mediods\n"
     ]
    },
    {
     "name": "stderr",
     "output_type": "stream",
     "text": [
      "/opt/homebrew/lib/python3.10/site-packages/sklearn_extra/cluster/_k_medoids.py:329: UserWarning: Cluster 1 is empty! self.labels_[self.medoid_indices_[1]] may not be labeled with its corresponding cluster (1).\n",
      "  warnings.warn(\n"
     ]
    },
    {
     "name": "stdout",
     "output_type": "stream",
     "text": [
      "Iteration: 1831\n",
      "Algorithm: K-Mediods\n"
     ]
    },
    {
     "name": "stderr",
     "output_type": "stream",
     "text": [
      "/opt/homebrew/lib/python3.10/site-packages/sklearn_extra/cluster/_k_medoids.py:329: UserWarning: Cluster 1 is empty! self.labels_[self.medoid_indices_[1]] may not be labeled with its corresponding cluster (1).\n",
      "  warnings.warn(\n"
     ]
    },
    {
     "name": "stdout",
     "output_type": "stream",
     "text": [
      "Iteration: 1832\n",
      "Algorithm: Mean Shift\n",
      "Iteration: 1833\n",
      "Algorithm: K-Mediods\n"
     ]
    },
    {
     "name": "stderr",
     "output_type": "stream",
     "text": [
      "/opt/homebrew/lib/python3.10/site-packages/sklearn_extra/cluster/_k_medoids.py:329: UserWarning: Cluster 1 is empty! self.labels_[self.medoid_indices_[1]] may not be labeled with its corresponding cluster (1).\n",
      "  warnings.warn(\n"
     ]
    },
    {
     "name": "stdout",
     "output_type": "stream",
     "text": [
      "Iteration: 1834\n",
      "Algorithm: EM Clustering\n",
      "Iteration: 1835\n",
      "Algorithm: K-Mediods\n"
     ]
    },
    {
     "name": "stderr",
     "output_type": "stream",
     "text": [
      "/opt/homebrew/lib/python3.10/site-packages/sklearn_extra/cluster/_k_medoids.py:329: UserWarning: Cluster 1 is empty! self.labels_[self.medoid_indices_[1]] may not be labeled with its corresponding cluster (1).\n",
      "  warnings.warn(\n"
     ]
    },
    {
     "name": "stdout",
     "output_type": "stream",
     "text": [
      "Iteration: 1836\n",
      "Algorithm: DBSCAN Clustering\n",
      "Iteration: 1837\n",
      "Algorithm: Mean Shift\n",
      "Iteration: 1838\n",
      "Algorithm: DBSCAN Clustering\n",
      "Iteration: 1839\n",
      "Algorithm: DBSCAN Clustering\n",
      "Iteration: 1840\n",
      "Algorithm: K-Means\n",
      "Iteration: 1841\n",
      "Algorithm: K-Mediods\n"
     ]
    },
    {
     "name": "stderr",
     "output_type": "stream",
     "text": [
      "/opt/homebrew/lib/python3.10/site-packages/sklearn_extra/cluster/_k_medoids.py:329: UserWarning: Cluster 1 is empty! self.labels_[self.medoid_indices_[1]] may not be labeled with its corresponding cluster (1).\n",
      "  warnings.warn(\n"
     ]
    },
    {
     "name": "stdout",
     "output_type": "stream",
     "text": [
      "Iteration: 1842\n",
      "Algorithm: K-Means\n",
      "Iteration: 1843\n",
      "Algorithm: Mean Shift\n",
      "Iteration: 1844\n",
      "Algorithm: EM Clustering\n",
      "Iteration: 1845\n",
      "Algorithm: K-Means\n",
      "Iteration: 1846\n",
      "Algorithm: EM Clustering\n",
      "Iteration: 1847\n",
      "Algorithm: EM Clustering\n",
      "Iteration: 1848\n",
      "Algorithm: Mean Shift\n",
      "Iteration: 1849\n",
      "Algorithm: EM Clustering\n",
      "Iteration: 1850\n",
      "Algorithm: K-Means\n",
      "Iteration: 1851\n",
      "Algorithm: EM Clustering\n",
      "Iteration: 1852\n",
      "Algorithm: EM Clustering\n",
      "Iteration: 1853\n",
      "Algorithm: K-Mediods\n"
     ]
    },
    {
     "name": "stderr",
     "output_type": "stream",
     "text": [
      "/opt/homebrew/lib/python3.10/site-packages/sklearn_extra/cluster/_k_medoids.py:329: UserWarning: Cluster 1 is empty! self.labels_[self.medoid_indices_[1]] may not be labeled with its corresponding cluster (1).\n",
      "  warnings.warn(\n"
     ]
    },
    {
     "name": "stdout",
     "output_type": "stream",
     "text": [
      "Iteration: 1854\n",
      "Algorithm: K-Means\n",
      "Iteration: 1855\n",
      "Algorithm: K-Mediods\n"
     ]
    },
    {
     "name": "stderr",
     "output_type": "stream",
     "text": [
      "/opt/homebrew/lib/python3.10/site-packages/sklearn_extra/cluster/_k_medoids.py:329: UserWarning: Cluster 1 is empty! self.labels_[self.medoid_indices_[1]] may not be labeled with its corresponding cluster (1).\n",
      "  warnings.warn(\n"
     ]
    },
    {
     "name": "stdout",
     "output_type": "stream",
     "text": [
      "Iteration: 1856\n",
      "Algorithm: K-Means\n",
      "Iteration: 1857\n",
      "Algorithm: K-Mediods\n"
     ]
    },
    {
     "name": "stderr",
     "output_type": "stream",
     "text": [
      "/opt/homebrew/lib/python3.10/site-packages/sklearn_extra/cluster/_k_medoids.py:329: UserWarning: Cluster 1 is empty! self.labels_[self.medoid_indices_[1]] may not be labeled with its corresponding cluster (1).\n",
      "  warnings.warn(\n"
     ]
    },
    {
     "name": "stdout",
     "output_type": "stream",
     "text": [
      "Iteration: 1858\n",
      "Algorithm: EM Clustering\n",
      "Iteration: 1859\n",
      "Algorithm: K-Mediods\n"
     ]
    },
    {
     "name": "stderr",
     "output_type": "stream",
     "text": [
      "/opt/homebrew/lib/python3.10/site-packages/sklearn_extra/cluster/_k_medoids.py:329: UserWarning: Cluster 1 is empty! self.labels_[self.medoid_indices_[1]] may not be labeled with its corresponding cluster (1).\n",
      "  warnings.warn(\n"
     ]
    },
    {
     "name": "stdout",
     "output_type": "stream",
     "text": [
      "Iteration: 1860\n",
      "Algorithm: Mean Shift\n",
      "Iteration: 1861\n",
      "Algorithm: K-Means\n",
      "Iteration: 1862\n",
      "Algorithm: K-Mediods\n"
     ]
    },
    {
     "name": "stderr",
     "output_type": "stream",
     "text": [
      "/opt/homebrew/lib/python3.10/site-packages/sklearn_extra/cluster/_k_medoids.py:329: UserWarning: Cluster 1 is empty! self.labels_[self.medoid_indices_[1]] may not be labeled with its corresponding cluster (1).\n",
      "  warnings.warn(\n"
     ]
    },
    {
     "name": "stdout",
     "output_type": "stream",
     "text": [
      "Iteration: 1863\n",
      "Algorithm: Mean Shift\n",
      "Iteration: 1864\n",
      "Algorithm: K-Mediods\n"
     ]
    },
    {
     "name": "stderr",
     "output_type": "stream",
     "text": [
      "/opt/homebrew/lib/python3.10/site-packages/sklearn_extra/cluster/_k_medoids.py:329: UserWarning: Cluster 1 is empty! self.labels_[self.medoid_indices_[1]] may not be labeled with its corresponding cluster (1).\n",
      "  warnings.warn(\n"
     ]
    },
    {
     "name": "stdout",
     "output_type": "stream",
     "text": [
      "Iteration: 1865\n",
      "Algorithm: Mean Shift\n",
      "Iteration: 1866\n",
      "Algorithm: EM Clustering\n",
      "Iteration: 1867\n",
      "Algorithm: EM Clustering\n",
      "Iteration: 1868\n",
      "Algorithm: DBSCAN Clustering\n",
      "Iteration: 1869\n",
      "Algorithm: K-Mediods\n"
     ]
    },
    {
     "name": "stderr",
     "output_type": "stream",
     "text": [
      "/opt/homebrew/lib/python3.10/site-packages/sklearn_extra/cluster/_k_medoids.py:329: UserWarning: Cluster 1 is empty! self.labels_[self.medoid_indices_[1]] may not be labeled with its corresponding cluster (1).\n",
      "  warnings.warn(\n"
     ]
    },
    {
     "name": "stdout",
     "output_type": "stream",
     "text": [
      "Iteration: 1870\n",
      "Algorithm: K-Mediods\n"
     ]
    },
    {
     "name": "stderr",
     "output_type": "stream",
     "text": [
      "/opt/homebrew/lib/python3.10/site-packages/sklearn_extra/cluster/_k_medoids.py:329: UserWarning: Cluster 1 is empty! self.labels_[self.medoid_indices_[1]] may not be labeled with its corresponding cluster (1).\n",
      "  warnings.warn(\n"
     ]
    },
    {
     "name": "stdout",
     "output_type": "stream",
     "text": [
      "Iteration: 1871\n",
      "Algorithm: K-Means\n",
      "Iteration: 1872\n",
      "Algorithm: EM Clustering\n",
      "Iteration: 1873\n",
      "Algorithm: K-Means\n",
      "Iteration: 1874\n",
      "Algorithm: K-Means\n",
      "Iteration: 1875\n",
      "Algorithm: K-Mediods\n"
     ]
    },
    {
     "name": "stderr",
     "output_type": "stream",
     "text": [
      "/opt/homebrew/lib/python3.10/site-packages/sklearn_extra/cluster/_k_medoids.py:329: UserWarning: Cluster 1 is empty! self.labels_[self.medoid_indices_[1]] may not be labeled with its corresponding cluster (1).\n",
      "  warnings.warn(\n"
     ]
    },
    {
     "name": "stdout",
     "output_type": "stream",
     "text": [
      "Iteration: 1876\n",
      "Algorithm: EM Clustering\n",
      "Iteration: 1877\n",
      "Algorithm: EM Clustering\n",
      "Iteration: 1878\n",
      "Algorithm: EM Clustering\n",
      "Iteration: 1879\n",
      "Algorithm: K-Means\n",
      "Iteration: 1880\n",
      "Algorithm: K-Mediods\n"
     ]
    },
    {
     "name": "stderr",
     "output_type": "stream",
     "text": [
      "/opt/homebrew/lib/python3.10/site-packages/sklearn_extra/cluster/_k_medoids.py:329: UserWarning: Cluster 1 is empty! self.labels_[self.medoid_indices_[1]] may not be labeled with its corresponding cluster (1).\n",
      "  warnings.warn(\n"
     ]
    },
    {
     "name": "stdout",
     "output_type": "stream",
     "text": [
      "Iteration: 1881\n",
      "Algorithm: K-Mediods\n"
     ]
    },
    {
     "name": "stderr",
     "output_type": "stream",
     "text": [
      "/opt/homebrew/lib/python3.10/site-packages/sklearn_extra/cluster/_k_medoids.py:329: UserWarning: Cluster 1 is empty! self.labels_[self.medoid_indices_[1]] may not be labeled with its corresponding cluster (1).\n",
      "  warnings.warn(\n"
     ]
    },
    {
     "name": "stdout",
     "output_type": "stream",
     "text": [
      "Iteration: 1882\n",
      "Algorithm: K-Mediods\n"
     ]
    },
    {
     "name": "stderr",
     "output_type": "stream",
     "text": [
      "/opt/homebrew/lib/python3.10/site-packages/sklearn_extra/cluster/_k_medoids.py:329: UserWarning: Cluster 1 is empty! self.labels_[self.medoid_indices_[1]] may not be labeled with its corresponding cluster (1).\n",
      "  warnings.warn(\n"
     ]
    },
    {
     "name": "stdout",
     "output_type": "stream",
     "text": [
      "Iteration: 1883\n",
      "Algorithm: K-Mediods\n"
     ]
    },
    {
     "name": "stderr",
     "output_type": "stream",
     "text": [
      "/opt/homebrew/lib/python3.10/site-packages/sklearn_extra/cluster/_k_medoids.py:329: UserWarning: Cluster 1 is empty! self.labels_[self.medoid_indices_[1]] may not be labeled with its corresponding cluster (1).\n",
      "  warnings.warn(\n"
     ]
    },
    {
     "name": "stdout",
     "output_type": "stream",
     "text": [
      "Iteration: 1884\n",
      "Algorithm: Mean Shift\n",
      "Iteration: 1885\n",
      "Algorithm: DBSCAN Clustering\n",
      "Iteration: 1886\n",
      "Algorithm: K-Means\n",
      "Iteration: 1887\n",
      "Algorithm: DBSCAN Clustering\n",
      "Iteration: 1888\n",
      "Algorithm: K-Means\n",
      "Iteration: 1889\n",
      "Algorithm: K-Mediods\n"
     ]
    },
    {
     "name": "stderr",
     "output_type": "stream",
     "text": [
      "/opt/homebrew/lib/python3.10/site-packages/sklearn_extra/cluster/_k_medoids.py:329: UserWarning: Cluster 1 is empty! self.labels_[self.medoid_indices_[1]] may not be labeled with its corresponding cluster (1).\n",
      "  warnings.warn(\n"
     ]
    },
    {
     "name": "stdout",
     "output_type": "stream",
     "text": [
      "Iteration: 1890\n",
      "Algorithm: K-Mediods\n"
     ]
    },
    {
     "name": "stderr",
     "output_type": "stream",
     "text": [
      "/opt/homebrew/lib/python3.10/site-packages/sklearn_extra/cluster/_k_medoids.py:329: UserWarning: Cluster 1 is empty! self.labels_[self.medoid_indices_[1]] may not be labeled with its corresponding cluster (1).\n",
      "  warnings.warn(\n"
     ]
    },
    {
     "name": "stdout",
     "output_type": "stream",
     "text": [
      "Iteration: 1891\n",
      "Algorithm: K-Mediods\n"
     ]
    },
    {
     "name": "stderr",
     "output_type": "stream",
     "text": [
      "/opt/homebrew/lib/python3.10/site-packages/sklearn_extra/cluster/_k_medoids.py:329: UserWarning: Cluster 1 is empty! self.labels_[self.medoid_indices_[1]] may not be labeled with its corresponding cluster (1).\n",
      "  warnings.warn(\n"
     ]
    },
    {
     "name": "stdout",
     "output_type": "stream",
     "text": [
      "Iteration: 1892\n",
      "Algorithm: K-Means\n",
      "Iteration: 1893\n",
      "Algorithm: K-Mediods\n"
     ]
    },
    {
     "name": "stderr",
     "output_type": "stream",
     "text": [
      "/opt/homebrew/lib/python3.10/site-packages/sklearn_extra/cluster/_k_medoids.py:329: UserWarning: Cluster 1 is empty! self.labels_[self.medoid_indices_[1]] may not be labeled with its corresponding cluster (1).\n",
      "  warnings.warn(\n"
     ]
    },
    {
     "name": "stdout",
     "output_type": "stream",
     "text": [
      "Iteration: 1894\n",
      "Algorithm: DBSCAN Clustering\n",
      "Iteration: 1895\n",
      "Algorithm: K-Mediods\n"
     ]
    },
    {
     "name": "stderr",
     "output_type": "stream",
     "text": [
      "/opt/homebrew/lib/python3.10/site-packages/sklearn_extra/cluster/_k_medoids.py:329: UserWarning: Cluster 1 is empty! self.labels_[self.medoid_indices_[1]] may not be labeled with its corresponding cluster (1).\n",
      "  warnings.warn(\n"
     ]
    },
    {
     "name": "stdout",
     "output_type": "stream",
     "text": [
      "Iteration: 1896\n",
      "Algorithm: K-Mediods\n"
     ]
    },
    {
     "name": "stderr",
     "output_type": "stream",
     "text": [
      "/opt/homebrew/lib/python3.10/site-packages/sklearn_extra/cluster/_k_medoids.py:329: UserWarning: Cluster 1 is empty! self.labels_[self.medoid_indices_[1]] may not be labeled with its corresponding cluster (1).\n",
      "  warnings.warn(\n"
     ]
    },
    {
     "name": "stdout",
     "output_type": "stream",
     "text": [
      "Iteration: 1897\n",
      "Algorithm: EM Clustering\n",
      "Iteration: 1898\n",
      "Algorithm: K-Mediods\n"
     ]
    },
    {
     "name": "stderr",
     "output_type": "stream",
     "text": [
      "/opt/homebrew/lib/python3.10/site-packages/sklearn_extra/cluster/_k_medoids.py:329: UserWarning: Cluster 1 is empty! self.labels_[self.medoid_indices_[1]] may not be labeled with its corresponding cluster (1).\n",
      "  warnings.warn(\n"
     ]
    },
    {
     "name": "stdout",
     "output_type": "stream",
     "text": [
      "Iteration: 1899\n",
      "Algorithm: DBSCAN Clustering\n",
      "Iteration: 1900\n",
      "Algorithm: EM Clustering\n",
      "Iteration: 1901\n",
      "Algorithm: EM Clustering\n",
      "Iteration: 1902\n",
      "Algorithm: DBSCAN Clustering\n",
      "Iteration: 1903\n",
      "Algorithm: K-Means\n",
      "Iteration: 1904\n",
      "Algorithm: K-Mediods\n"
     ]
    },
    {
     "name": "stderr",
     "output_type": "stream",
     "text": [
      "/opt/homebrew/lib/python3.10/site-packages/sklearn_extra/cluster/_k_medoids.py:329: UserWarning: Cluster 1 is empty! self.labels_[self.medoid_indices_[1]] may not be labeled with its corresponding cluster (1).\n",
      "  warnings.warn(\n"
     ]
    },
    {
     "name": "stdout",
     "output_type": "stream",
     "text": [
      "Iteration: 1905\n",
      "Algorithm: DBSCAN Clustering\n",
      "Iteration: 1906\n",
      "Algorithm: Mean Shift\n",
      "Iteration: 1907\n",
      "Algorithm: DBSCAN Clustering\n",
      "Iteration: 1908\n",
      "Algorithm: DBSCAN Clustering\n",
      "Iteration: 1909\n",
      "Algorithm: Mean Shift\n",
      "Iteration: 1910\n",
      "Algorithm: K-Means\n",
      "Iteration: 1911\n",
      "Algorithm: K-Mediods\n"
     ]
    },
    {
     "name": "stderr",
     "output_type": "stream",
     "text": [
      "/opt/homebrew/lib/python3.10/site-packages/sklearn_extra/cluster/_k_medoids.py:329: UserWarning: Cluster 1 is empty! self.labels_[self.medoid_indices_[1]] may not be labeled with its corresponding cluster (1).\n",
      "  warnings.warn(\n"
     ]
    },
    {
     "name": "stdout",
     "output_type": "stream",
     "text": [
      "Iteration: 1912\n",
      "Algorithm: Mean Shift\n",
      "Iteration: 1913\n",
      "Algorithm: EM Clustering\n",
      "Iteration: 1914\n",
      "Algorithm: K-Mediods\n"
     ]
    },
    {
     "name": "stderr",
     "output_type": "stream",
     "text": [
      "/opt/homebrew/lib/python3.10/site-packages/sklearn_extra/cluster/_k_medoids.py:329: UserWarning: Cluster 1 is empty! self.labels_[self.medoid_indices_[1]] may not be labeled with its corresponding cluster (1).\n",
      "  warnings.warn(\n"
     ]
    },
    {
     "name": "stdout",
     "output_type": "stream",
     "text": [
      "Iteration: 1915\n",
      "Algorithm: EM Clustering\n",
      "Iteration: 1916\n",
      "Algorithm: DBSCAN Clustering\n",
      "Iteration: 1917\n",
      "Algorithm: DBSCAN Clustering\n",
      "Iteration: 1918\n",
      "Algorithm: K-Mediods\n"
     ]
    },
    {
     "name": "stderr",
     "output_type": "stream",
     "text": [
      "/opt/homebrew/lib/python3.10/site-packages/sklearn_extra/cluster/_k_medoids.py:329: UserWarning: Cluster 1 is empty! self.labels_[self.medoid_indices_[1]] may not be labeled with its corresponding cluster (1).\n",
      "  warnings.warn(\n"
     ]
    },
    {
     "name": "stdout",
     "output_type": "stream",
     "text": [
      "Iteration: 1919\n",
      "Algorithm: EM Clustering\n",
      "Iteration: 1920\n",
      "Algorithm: Mean Shift\n",
      "Iteration: 1921\n",
      "Algorithm: K-Means\n",
      "Iteration: 1922\n",
      "Algorithm: K-Means\n",
      "Iteration: 1923\n",
      "Algorithm: EM Clustering\n",
      "Iteration: 1924\n",
      "Algorithm: K-Mediods\n"
     ]
    },
    {
     "name": "stderr",
     "output_type": "stream",
     "text": [
      "/opt/homebrew/lib/python3.10/site-packages/sklearn_extra/cluster/_k_medoids.py:329: UserWarning: Cluster 1 is empty! self.labels_[self.medoid_indices_[1]] may not be labeled with its corresponding cluster (1).\n",
      "  warnings.warn(\n",
      "/opt/homebrew/lib/python3.10/site-packages/sklearn_extra/cluster/_k_medoids.py:329: UserWarning: Cluster 1 is empty! self.labels_[self.medoid_indices_[1]] may not be labeled with its corresponding cluster (1).\n",
      "  warnings.warn(\n"
     ]
    },
    {
     "name": "stdout",
     "output_type": "stream",
     "text": [
      "Iteration: 1925\n",
      "Algorithm: K-Mediods\n",
      "Iteration: 1926\n",
      "Algorithm: EM Clustering\n",
      "Iteration: 1927\n",
      "Algorithm: DBSCAN Clustering\n",
      "Iteration: 1928\n",
      "Algorithm: K-Means\n",
      "Iteration: 1929\n",
      "Algorithm: K-Means\n",
      "Iteration: 1930\n",
      "Algorithm: K-Mediods\n"
     ]
    },
    {
     "name": "stderr",
     "output_type": "stream",
     "text": [
      "/opt/homebrew/lib/python3.10/site-packages/sklearn_extra/cluster/_k_medoids.py:329: UserWarning: Cluster 1 is empty! self.labels_[self.medoid_indices_[1]] may not be labeled with its corresponding cluster (1).\n",
      "  warnings.warn(\n",
      "/opt/homebrew/lib/python3.10/site-packages/sklearn_extra/cluster/_k_medoids.py:329: UserWarning: Cluster 1 is empty! self.labels_[self.medoid_indices_[1]] may not be labeled with its corresponding cluster (1).\n",
      "  warnings.warn(\n"
     ]
    },
    {
     "name": "stdout",
     "output_type": "stream",
     "text": [
      "Iteration: 1931\n",
      "Algorithm: K-Mediods\n",
      "Iteration: 1932\n",
      "Algorithm: K-Mediods\n"
     ]
    },
    {
     "name": "stderr",
     "output_type": "stream",
     "text": [
      "/opt/homebrew/lib/python3.10/site-packages/sklearn_extra/cluster/_k_medoids.py:329: UserWarning: Cluster 1 is empty! self.labels_[self.medoid_indices_[1]] may not be labeled with its corresponding cluster (1).\n",
      "  warnings.warn(\n"
     ]
    },
    {
     "name": "stdout",
     "output_type": "stream",
     "text": [
      "Iteration: 1933\n",
      "Algorithm: Mean Shift\n",
      "Iteration: 1934\n",
      "Algorithm: DBSCAN Clustering\n",
      "Iteration: 1935\n",
      "Algorithm: EM Clustering\n",
      "Iteration: 1936\n",
      "Algorithm: EM Clustering\n",
      "Iteration: 1937\n",
      "Algorithm: Mean Shift\n",
      "Iteration: 1938\n",
      "Algorithm: DBSCAN Clustering\n",
      "Iteration: 1939\n",
      "Algorithm: DBSCAN Clustering\n",
      "Iteration: 1940\n",
      "Algorithm: K-Mediods\n"
     ]
    },
    {
     "name": "stderr",
     "output_type": "stream",
     "text": [
      "/opt/homebrew/lib/python3.10/site-packages/sklearn_extra/cluster/_k_medoids.py:329: UserWarning: Cluster 1 is empty! self.labels_[self.medoid_indices_[1]] may not be labeled with its corresponding cluster (1).\n",
      "  warnings.warn(\n"
     ]
    },
    {
     "name": "stdout",
     "output_type": "stream",
     "text": [
      "Iteration: 1941\n",
      "Algorithm: K-Means\n",
      "Iteration: 1942\n",
      "Algorithm: DBSCAN Clustering\n",
      "Iteration: 1943\n",
      "Algorithm: K-Mediods\n"
     ]
    },
    {
     "name": "stderr",
     "output_type": "stream",
     "text": [
      "/opt/homebrew/lib/python3.10/site-packages/sklearn_extra/cluster/_k_medoids.py:329: UserWarning: Cluster 1 is empty! self.labels_[self.medoid_indices_[1]] may not be labeled with its corresponding cluster (1).\n",
      "  warnings.warn(\n"
     ]
    },
    {
     "name": "stdout",
     "output_type": "stream",
     "text": [
      "Iteration: 1944\n",
      "Algorithm: EM Clustering\n",
      "Iteration: 1945\n",
      "Algorithm: DBSCAN Clustering\n",
      "Iteration: 1946\n",
      "Algorithm: DBSCAN Clustering\n",
      "Iteration: 1947\n",
      "Algorithm: Mean Shift\n",
      "Iteration: 1948\n",
      "Algorithm: K-Means\n",
      "Iteration: 1949\n",
      "Algorithm: K-Means\n",
      "Iteration: 1950\n",
      "Algorithm: Mean Shift\n",
      "Iteration: 1951\n",
      "Algorithm: K-Mediods\n"
     ]
    },
    {
     "name": "stderr",
     "output_type": "stream",
     "text": [
      "/opt/homebrew/lib/python3.10/site-packages/sklearn_extra/cluster/_k_medoids.py:329: UserWarning: Cluster 1 is empty! self.labels_[self.medoid_indices_[1]] may not be labeled with its corresponding cluster (1).\n",
      "  warnings.warn(\n",
      "/opt/homebrew/lib/python3.10/site-packages/sklearn_extra/cluster/_k_medoids.py:329: UserWarning: Cluster 1 is empty! self.labels_[self.medoid_indices_[1]] may not be labeled with its corresponding cluster (1).\n",
      "  warnings.warn(\n"
     ]
    },
    {
     "name": "stdout",
     "output_type": "stream",
     "text": [
      "Iteration: 1952\n",
      "Algorithm: K-Mediods\n",
      "Iteration: 1953\n",
      "Algorithm: K-Mediods\n"
     ]
    },
    {
     "name": "stderr",
     "output_type": "stream",
     "text": [
      "/opt/homebrew/lib/python3.10/site-packages/sklearn_extra/cluster/_k_medoids.py:329: UserWarning: Cluster 1 is empty! self.labels_[self.medoid_indices_[1]] may not be labeled with its corresponding cluster (1).\n",
      "  warnings.warn(\n"
     ]
    },
    {
     "name": "stdout",
     "output_type": "stream",
     "text": [
      "Iteration: 1954\n",
      "Algorithm: EM Clustering\n",
      "Iteration: 1955\n",
      "Algorithm: K-Mediods\n"
     ]
    },
    {
     "name": "stderr",
     "output_type": "stream",
     "text": [
      "/opt/homebrew/lib/python3.10/site-packages/sklearn_extra/cluster/_k_medoids.py:329: UserWarning: Cluster 1 is empty! self.labels_[self.medoid_indices_[1]] may not be labeled with its corresponding cluster (1).\n",
      "  warnings.warn(\n",
      "/opt/homebrew/lib/python3.10/site-packages/sklearn_extra/cluster/_k_medoids.py:329: UserWarning: Cluster 1 is empty! self.labels_[self.medoid_indices_[1]] may not be labeled with its corresponding cluster (1).\n",
      "  warnings.warn(\n"
     ]
    },
    {
     "name": "stdout",
     "output_type": "stream",
     "text": [
      "Iteration: 1956\n",
      "Algorithm: K-Mediods\n",
      "Iteration: 1957\n",
      "Algorithm: K-Mediods\n"
     ]
    },
    {
     "name": "stderr",
     "output_type": "stream",
     "text": [
      "/opt/homebrew/lib/python3.10/site-packages/sklearn_extra/cluster/_k_medoids.py:329: UserWarning: Cluster 1 is empty! self.labels_[self.medoid_indices_[1]] may not be labeled with its corresponding cluster (1).\n",
      "  warnings.warn(\n"
     ]
    },
    {
     "name": "stdout",
     "output_type": "stream",
     "text": [
      "Iteration: 1958\n",
      "Algorithm: Mean Shift\n",
      "Iteration: 1959\n",
      "Algorithm: K-Mediods\n",
      "Iteration: 1960\n",
      "Algorithm: K-Mediods\n"
     ]
    },
    {
     "name": "stderr",
     "output_type": "stream",
     "text": [
      "/opt/homebrew/lib/python3.10/site-packages/sklearn_extra/cluster/_k_medoids.py:329: UserWarning: Cluster 1 is empty! self.labels_[self.medoid_indices_[1]] may not be labeled with its corresponding cluster (1).\n",
      "  warnings.warn(\n",
      "/opt/homebrew/lib/python3.10/site-packages/sklearn_extra/cluster/_k_medoids.py:329: UserWarning: Cluster 1 is empty! self.labels_[self.medoid_indices_[1]] may not be labeled with its corresponding cluster (1).\n",
      "  warnings.warn(\n"
     ]
    },
    {
     "name": "stdout",
     "output_type": "stream",
     "text": [
      "Iteration: 1961\n",
      "Algorithm: DBSCAN Clustering\n",
      "Iteration: 1962\n",
      "Algorithm: DBSCAN Clustering\n",
      "Iteration: 1963\n",
      "Algorithm: K-Mediods\n",
      "Iteration: 1964\n",
      "Algorithm: K-Mediods\n"
     ]
    },
    {
     "name": "stderr",
     "output_type": "stream",
     "text": [
      "/opt/homebrew/lib/python3.10/site-packages/sklearn_extra/cluster/_k_medoids.py:329: UserWarning: Cluster 1 is empty! self.labels_[self.medoid_indices_[1]] may not be labeled with its corresponding cluster (1).\n",
      "  warnings.warn(\n"
     ]
    },
    {
     "name": "stdout",
     "output_type": "stream",
     "text": [
      "Iteration: 1965\n",
      "Algorithm: K-Means\n",
      "Iteration: 1966\n",
      "Algorithm: K-Mediods\n"
     ]
    },
    {
     "name": "stderr",
     "output_type": "stream",
     "text": [
      "/opt/homebrew/lib/python3.10/site-packages/sklearn_extra/cluster/_k_medoids.py:329: UserWarning: Cluster 1 is empty! self.labels_[self.medoid_indices_[1]] may not be labeled with its corresponding cluster (1).\n",
      "  warnings.warn(\n"
     ]
    },
    {
     "name": "stdout",
     "output_type": "stream",
     "text": [
      "Iteration: 1967\n",
      "Algorithm: K-Means\n",
      "Iteration: 1968\n",
      "Algorithm: K-Means\n",
      "Iteration: 1969\n",
      "Algorithm: DBSCAN Clustering\n",
      "Iteration: 1970\n",
      "Algorithm: K-Mediods\n"
     ]
    },
    {
     "name": "stderr",
     "output_type": "stream",
     "text": [
      "/opt/homebrew/lib/python3.10/site-packages/sklearn_extra/cluster/_k_medoids.py:329: UserWarning: Cluster 1 is empty! self.labels_[self.medoid_indices_[1]] may not be labeled with its corresponding cluster (1).\n",
      "  warnings.warn(\n"
     ]
    },
    {
     "name": "stdout",
     "output_type": "stream",
     "text": [
      "Iteration: 1971\n",
      "Algorithm: K-Means\n",
      "Iteration: 1972\n",
      "Algorithm: K-Means\n",
      "Iteration: 1973\n",
      "Algorithm: DBSCAN Clustering\n",
      "Iteration: 1974\n",
      "Algorithm: DBSCAN Clustering\n",
      "Iteration: 1975\n",
      "Algorithm: K-Means\n",
      "Iteration: 1976\n",
      "Algorithm: K-Means\n",
      "Iteration: 1977\n",
      "Algorithm: K-Mediods\n"
     ]
    },
    {
     "name": "stderr",
     "output_type": "stream",
     "text": [
      "/opt/homebrew/lib/python3.10/site-packages/sklearn_extra/cluster/_k_medoids.py:329: UserWarning: Cluster 1 is empty! self.labels_[self.medoid_indices_[1]] may not be labeled with its corresponding cluster (1).\n",
      "  warnings.warn(\n",
      "/opt/homebrew/lib/python3.10/site-packages/sklearn_extra/cluster/_k_medoids.py:329: UserWarning: Cluster 1 is empty! self.labels_[self.medoid_indices_[1]] may not be labeled with its corresponding cluster (1).\n",
      "  warnings.warn(\n"
     ]
    },
    {
     "name": "stdout",
     "output_type": "stream",
     "text": [
      "Iteration: 1978\n",
      "Algorithm: K-Mediods\n",
      "Iteration: 1979\n",
      "Algorithm: K-Mediods\n"
     ]
    },
    {
     "name": "stderr",
     "output_type": "stream",
     "text": [
      "/opt/homebrew/lib/python3.10/site-packages/sklearn_extra/cluster/_k_medoids.py:329: UserWarning: Cluster 1 is empty! self.labels_[self.medoid_indices_[1]] may not be labeled with its corresponding cluster (1).\n",
      "  warnings.warn(\n"
     ]
    },
    {
     "name": "stdout",
     "output_type": "stream",
     "text": [
      "Iteration: 1980\n",
      "Algorithm: Mean Shift\n",
      "Iteration: 1981\n",
      "Algorithm: K-Mediods\n"
     ]
    },
    {
     "name": "stderr",
     "output_type": "stream",
     "text": [
      "/opt/homebrew/lib/python3.10/site-packages/sklearn_extra/cluster/_k_medoids.py:329: UserWarning: Cluster 1 is empty! self.labels_[self.medoid_indices_[1]] may not be labeled with its corresponding cluster (1).\n",
      "  warnings.warn(\n"
     ]
    },
    {
     "name": "stdout",
     "output_type": "stream",
     "text": [
      "Iteration: 1982\n",
      "Algorithm: Mean Shift\n",
      "Iteration: 1983\n",
      "Algorithm: Mean Shift\n",
      "Iteration: 1984\n",
      "Algorithm: K-Means\n",
      "Iteration: 1985\n",
      "Algorithm: K-Mediods\n"
     ]
    },
    {
     "name": "stderr",
     "output_type": "stream",
     "text": [
      "/opt/homebrew/lib/python3.10/site-packages/sklearn_extra/cluster/_k_medoids.py:329: UserWarning: Cluster 1 is empty! self.labels_[self.medoid_indices_[1]] may not be labeled with its corresponding cluster (1).\n",
      "  warnings.warn(\n",
      "/opt/homebrew/lib/python3.10/site-packages/sklearn_extra/cluster/_k_medoids.py:329: UserWarning: Cluster 1 is empty! self.labels_[self.medoid_indices_[1]] may not be labeled with its corresponding cluster (1).\n",
      "  warnings.warn(\n"
     ]
    },
    {
     "name": "stdout",
     "output_type": "stream",
     "text": [
      "Iteration: 1986\n",
      "Algorithm: K-Mediods\n",
      "Iteration: 1987\n",
      "Algorithm: K-Mediods\n"
     ]
    },
    {
     "name": "stderr",
     "output_type": "stream",
     "text": [
      "/opt/homebrew/lib/python3.10/site-packages/sklearn_extra/cluster/_k_medoids.py:329: UserWarning: Cluster 1 is empty! self.labels_[self.medoid_indices_[1]] may not be labeled with its corresponding cluster (1).\n",
      "  warnings.warn(\n"
     ]
    },
    {
     "name": "stdout",
     "output_type": "stream",
     "text": [
      "Iteration: 1988\n",
      "Algorithm: DBSCAN Clustering\n",
      "Iteration: 1989\n",
      "Algorithm: K-Mediods\n"
     ]
    },
    {
     "name": "stderr",
     "output_type": "stream",
     "text": [
      "/opt/homebrew/lib/python3.10/site-packages/sklearn_extra/cluster/_k_medoids.py:329: UserWarning: Cluster 1 is empty! self.labels_[self.medoid_indices_[1]] may not be labeled with its corresponding cluster (1).\n",
      "  warnings.warn(\n",
      "/opt/homebrew/lib/python3.10/site-packages/sklearn_extra/cluster/_k_medoids.py:329: UserWarning: Cluster 1 is empty! self.labels_[self.medoid_indices_[1]] may not be labeled with its corresponding cluster (1).\n",
      "  warnings.warn(\n"
     ]
    },
    {
     "name": "stdout",
     "output_type": "stream",
     "text": [
      "Iteration: 1990\n",
      "Algorithm: K-Mediods\n",
      "Iteration: 1991\n",
      "Algorithm: K-Means\n",
      "Iteration: 1992\n",
      "Algorithm: Mean Shift\n",
      "Iteration: 1993\n",
      "Algorithm: K-Mediods\n",
      "Iteration: 1994\n",
      "Algorithm: K-Mediods\n"
     ]
    },
    {
     "name": "stderr",
     "output_type": "stream",
     "text": [
      "/opt/homebrew/lib/python3.10/site-packages/sklearn_extra/cluster/_k_medoids.py:329: UserWarning: Cluster 1 is empty! self.labels_[self.medoid_indices_[1]] may not be labeled with its corresponding cluster (1).\n",
      "  warnings.warn(\n",
      "/opt/homebrew/lib/python3.10/site-packages/sklearn_extra/cluster/_k_medoids.py:329: UserWarning: Cluster 1 is empty! self.labels_[self.medoid_indices_[1]] may not be labeled with its corresponding cluster (1).\n",
      "  warnings.warn(\n"
     ]
    },
    {
     "name": "stdout",
     "output_type": "stream",
     "text": [
      "Iteration: 1995\n",
      "Algorithm: DBSCAN Clustering\n",
      "Iteration: 1996\n",
      "Algorithm: DBSCAN Clustering\n",
      "Iteration: 1997\n",
      "Algorithm: EM Clustering\n",
      "Iteration: 1998\n",
      "Algorithm: EM Clustering\n",
      "Iteration: 1999\n",
      "Algorithm: EM Clustering\n",
      "Iteration: 2000\n",
      "Algorithm: Mean Shift\n",
      "Iteration: 2001\n",
      "Algorithm: DBSCAN Clustering\n",
      "Iteration: 2002\n",
      "Algorithm: Mean Shift\n",
      "Iteration: 2003\n",
      "Algorithm: Mean Shift\n",
      "Iteration: 2004\n",
      "Algorithm: EM Clustering\n",
      "Iteration: 2005\n",
      "Algorithm: K-Mediods\n"
     ]
    },
    {
     "name": "stderr",
     "output_type": "stream",
     "text": [
      "/opt/homebrew/lib/python3.10/site-packages/sklearn_extra/cluster/_k_medoids.py:329: UserWarning: Cluster 1 is empty! self.labels_[self.medoid_indices_[1]] may not be labeled with its corresponding cluster (1).\n",
      "  warnings.warn(\n",
      "/opt/homebrew/lib/python3.10/site-packages/sklearn_extra/cluster/_k_medoids.py:329: UserWarning: Cluster 1 is empty! self.labels_[self.medoid_indices_[1]] may not be labeled with its corresponding cluster (1).\n",
      "  warnings.warn(\n"
     ]
    },
    {
     "name": "stdout",
     "output_type": "stream",
     "text": [
      "Iteration: 2006\n",
      "Algorithm: K-Mediods\n",
      "Iteration: 2007\n",
      "Algorithm: Mean Shift\n",
      "Iteration: 2008\n",
      "Algorithm: EM Clustering\n",
      "Iteration: 2009\n",
      "Algorithm: EM Clustering\n",
      "Iteration: 2010\n",
      "Algorithm: K-Means\n",
      "Iteration: 2011\n",
      "Algorithm: K-Mediods\n"
     ]
    },
    {
     "name": "stderr",
     "output_type": "stream",
     "text": [
      "/opt/homebrew/lib/python3.10/site-packages/sklearn_extra/cluster/_k_medoids.py:329: UserWarning: Cluster 1 is empty! self.labels_[self.medoid_indices_[1]] may not be labeled with its corresponding cluster (1).\n",
      "  warnings.warn(\n"
     ]
    },
    {
     "name": "stdout",
     "output_type": "stream",
     "text": [
      "Iteration: 2012\n",
      "Algorithm: DBSCAN Clustering\n",
      "Iteration: 2013\n",
      "Algorithm: DBSCAN Clustering\n",
      "Iteration: 2014\n",
      "Algorithm: DBSCAN Clustering\n",
      "Iteration: 2015\n",
      "Algorithm: K-Means\n",
      "Iteration: 2016\n",
      "Algorithm: EM Clustering\n",
      "Iteration: 2017\n",
      "Algorithm: EM Clustering\n",
      "Iteration: 2018\n",
      "Algorithm: DBSCAN Clustering\n",
      "Iteration: 2019\n",
      "Algorithm: K-Mediods\n",
      "Iteration: 2020\n",
      "Algorithm: K-Mediods\n"
     ]
    },
    {
     "name": "stderr",
     "output_type": "stream",
     "text": [
      "/opt/homebrew/lib/python3.10/site-packages/sklearn_extra/cluster/_k_medoids.py:329: UserWarning: Cluster 1 is empty! self.labels_[self.medoid_indices_[1]] may not be labeled with its corresponding cluster (1).\n",
      "  warnings.warn(\n",
      "/opt/homebrew/lib/python3.10/site-packages/sklearn_extra/cluster/_k_medoids.py:329: UserWarning: Cluster 1 is empty! self.labels_[self.medoid_indices_[1]] may not be labeled with its corresponding cluster (1).\n",
      "  warnings.warn(\n"
     ]
    },
    {
     "name": "stdout",
     "output_type": "stream",
     "text": [
      "Iteration: 2021\n",
      "Algorithm: K-Means\n",
      "Iteration: 2022\n",
      "Algorithm: Mean Shift\n",
      "Iteration: 2023\n",
      "Algorithm: DBSCAN Clustering\n",
      "Iteration: 2024\n",
      "Algorithm: DBSCAN Clustering\n",
      "Iteration: 2025\n",
      "Algorithm: K-Means\n",
      "Iteration: 2026\n",
      "Algorithm: DBSCAN Clustering\n",
      "Iteration: 2027\n",
      "Algorithm: DBSCAN Clustering\n",
      "Iteration: 2028\n",
      "Algorithm: K-Mediods\n",
      "Iteration: 2029\n",
      "Algorithm: DBSCAN Clustering\n"
     ]
    },
    {
     "name": "stderr",
     "output_type": "stream",
     "text": [
      "/opt/homebrew/lib/python3.10/site-packages/sklearn_extra/cluster/_k_medoids.py:329: UserWarning: Cluster 1 is empty! self.labels_[self.medoid_indices_[1]] may not be labeled with its corresponding cluster (1).\n",
      "  warnings.warn(\n"
     ]
    },
    {
     "name": "stdout",
     "output_type": "stream",
     "text": [
      "Iteration: 2030\n",
      "Algorithm: Mean Shift\n",
      "Iteration: 2031\n",
      "Algorithm: K-Mediods\n",
      "Iteration: 2032\n",
      "Algorithm: K-Mediods\n"
     ]
    },
    {
     "name": "stderr",
     "output_type": "stream",
     "text": [
      "/opt/homebrew/lib/python3.10/site-packages/sklearn_extra/cluster/_k_medoids.py:329: UserWarning: Cluster 1 is empty! self.labels_[self.medoid_indices_[1]] may not be labeled with its corresponding cluster (1).\n",
      "  warnings.warn(\n",
      "/opt/homebrew/lib/python3.10/site-packages/sklearn_extra/cluster/_k_medoids.py:329: UserWarning: Cluster 1 is empty! self.labels_[self.medoid_indices_[1]] may not be labeled with its corresponding cluster (1).\n",
      "  warnings.warn(\n"
     ]
    },
    {
     "name": "stdout",
     "output_type": "stream",
     "text": [
      "Iteration: 2033\n",
      "Algorithm: K-Means\n",
      "Iteration: 2034\n",
      "Algorithm: DBSCAN Clustering\n",
      "Iteration: 2035\n",
      "Algorithm: K-Mediods\n",
      "Iteration: 2036\n",
      "Algorithm: K-Means\n"
     ]
    },
    {
     "name": "stderr",
     "output_type": "stream",
     "text": [
      "/opt/homebrew/lib/python3.10/site-packages/sklearn_extra/cluster/_k_medoids.py:329: UserWarning: Cluster 1 is empty! self.labels_[self.medoid_indices_[1]] may not be labeled with its corresponding cluster (1).\n",
      "  warnings.warn(\n"
     ]
    },
    {
     "name": "stdout",
     "output_type": "stream",
     "text": [
      "Iteration: 2037\n",
      "Algorithm: K-Means\n",
      "Iteration: 2038\n",
      "Algorithm: K-Mediods\n"
     ]
    },
    {
     "name": "stderr",
     "output_type": "stream",
     "text": [
      "/opt/homebrew/lib/python3.10/site-packages/sklearn_extra/cluster/_k_medoids.py:329: UserWarning: Cluster 1 is empty! self.labels_[self.medoid_indices_[1]] may not be labeled with its corresponding cluster (1).\n",
      "  warnings.warn(\n"
     ]
    },
    {
     "name": "stdout",
     "output_type": "stream",
     "text": [
      "Iteration: 2039\n",
      "Algorithm: K-Means\n",
      "Iteration: 2040\n",
      "Algorithm: EM Clustering\n",
      "Iteration: 2041\n",
      "Algorithm: Mean Shift\n",
      "Iteration: 2042\n",
      "Algorithm: DBSCAN Clustering\n",
      "Iteration: 2043\n",
      "Algorithm: EM Clustering\n",
      "Iteration: 2044\n",
      "Algorithm: K-Means\n",
      "Iteration: 2045\n",
      "Algorithm: K-Mediods\n"
     ]
    },
    {
     "name": "stderr",
     "output_type": "stream",
     "text": [
      "/opt/homebrew/lib/python3.10/site-packages/sklearn_extra/cluster/_k_medoids.py:329: UserWarning: Cluster 1 is empty! self.labels_[self.medoid_indices_[1]] may not be labeled with its corresponding cluster (1).\n",
      "  warnings.warn(\n"
     ]
    },
    {
     "name": "stdout",
     "output_type": "stream",
     "text": [
      "Iteration: 2046\n",
      "Algorithm: K-Mediods\n",
      "Iteration: 2047\n",
      "Algorithm: EM Clustering\n",
      "Iteration: 2048\n",
      "Algorithm: Mean Shift\n",
      "Iteration: 2049\n",
      "Algorithm: DBSCAN Clustering\n",
      "Iteration: 2050\n",
      "Algorithm: Mean Shift\n",
      "Iteration: 2051\n",
      "Algorithm: DBSCAN Clustering\n",
      "Iteration: 2052\n",
      "Algorithm: Mean Shift\n",
      "Iteration: 2053\n",
      "Algorithm: Mean Shift\n",
      "Iteration: 2054\n",
      "Algorithm: Mean Shift\n",
      "Iteration: 2055\n",
      "Algorithm: K-Mediods\n",
      "Iteration: 2056\n",
      "Algorithm: K-Mediods\n"
     ]
    },
    {
     "name": "stderr",
     "output_type": "stream",
     "text": [
      "/opt/homebrew/lib/python3.10/site-packages/sklearn_extra/cluster/_k_medoids.py:329: UserWarning: Cluster 1 is empty! self.labels_[self.medoid_indices_[1]] may not be labeled with its corresponding cluster (1).\n",
      "  warnings.warn(\n",
      "/opt/homebrew/lib/python3.10/site-packages/sklearn_extra/cluster/_k_medoids.py:329: UserWarning: Cluster 1 is empty! self.labels_[self.medoid_indices_[1]] may not be labeled with its corresponding cluster (1).\n",
      "  warnings.warn(\n"
     ]
    },
    {
     "name": "stdout",
     "output_type": "stream",
     "text": [
      "Iteration: 2057\n",
      "Algorithm: K-Mediods\n",
      "Iteration: 2058\n",
      "Algorithm: DBSCAN Clustering\n"
     ]
    },
    {
     "name": "stderr",
     "output_type": "stream",
     "text": [
      "/opt/homebrew/lib/python3.10/site-packages/sklearn_extra/cluster/_k_medoids.py:329: UserWarning: Cluster 1 is empty! self.labels_[self.medoid_indices_[1]] may not be labeled with its corresponding cluster (1).\n",
      "  warnings.warn(\n"
     ]
    },
    {
     "name": "stdout",
     "output_type": "stream",
     "text": [
      "Iteration: 2059\n",
      "Algorithm: K-Mediods\n",
      "Iteration: 2060\n",
      "Algorithm: DBSCAN Clustering\n"
     ]
    },
    {
     "name": "stderr",
     "output_type": "stream",
     "text": [
      "/opt/homebrew/lib/python3.10/site-packages/sklearn_extra/cluster/_k_medoids.py:329: UserWarning: Cluster 1 is empty! self.labels_[self.medoid_indices_[1]] may not be labeled with its corresponding cluster (1).\n",
      "  warnings.warn(\n"
     ]
    },
    {
     "name": "stdout",
     "output_type": "stream",
     "text": [
      "Iteration: 2061\n",
      "Algorithm: K-Mediods\n",
      "Iteration: 2062\n",
      "Algorithm: Mean Shift\n"
     ]
    },
    {
     "name": "stderr",
     "output_type": "stream",
     "text": [
      "/opt/homebrew/lib/python3.10/site-packages/sklearn_extra/cluster/_k_medoids.py:329: UserWarning: Cluster 1 is empty! self.labels_[self.medoid_indices_[1]] may not be labeled with its corresponding cluster (1).\n",
      "  warnings.warn(\n"
     ]
    },
    {
     "name": "stdout",
     "output_type": "stream",
     "text": [
      "Iteration: 2063\n",
      "Algorithm: K-Means\n",
      "Iteration: 2064\n",
      "Algorithm: DBSCAN Clustering\n",
      "Iteration: 2065\n",
      "Algorithm: Mean Shift\n",
      "Iteration: 2066\n",
      "Algorithm: K-Means\n",
      "Iteration: 2067\n",
      "Algorithm: K-Mediods\n"
     ]
    },
    {
     "name": "stderr",
     "output_type": "stream",
     "text": [
      "/opt/homebrew/lib/python3.10/site-packages/sklearn_extra/cluster/_k_medoids.py:329: UserWarning: Cluster 1 is empty! self.labels_[self.medoid_indices_[1]] may not be labeled with its corresponding cluster (1).\n",
      "  warnings.warn(\n"
     ]
    },
    {
     "name": "stdout",
     "output_type": "stream",
     "text": [
      "Iteration: 2068\n",
      "Algorithm: DBSCAN Clustering\n",
      "Iteration: 2069\n",
      "Algorithm: Mean Shift\n",
      "Iteration: 2070\n",
      "Algorithm: K-Mediods\n"
     ]
    },
    {
     "name": "stderr",
     "output_type": "stream",
     "text": [
      "/opt/homebrew/lib/python3.10/site-packages/sklearn_extra/cluster/_k_medoids.py:329: UserWarning: Cluster 1 is empty! self.labels_[self.medoid_indices_[1]] may not be labeled with its corresponding cluster (1).\n",
      "  warnings.warn(\n"
     ]
    },
    {
     "name": "stdout",
     "output_type": "stream",
     "text": [
      "Iteration: 2071\n",
      "Algorithm: K-Mediods\n"
     ]
    },
    {
     "name": "stderr",
     "output_type": "stream",
     "text": [
      "/opt/homebrew/lib/python3.10/site-packages/sklearn_extra/cluster/_k_medoids.py:329: UserWarning: Cluster 1 is empty! self.labels_[self.medoid_indices_[1]] may not be labeled with its corresponding cluster (1).\n",
      "  warnings.warn(\n"
     ]
    },
    {
     "name": "stdout",
     "output_type": "stream",
     "text": [
      "Iteration: 2072\n",
      "Algorithm: EM Clustering\n",
      "Iteration: 2073\n",
      "Algorithm: DBSCAN Clustering\n",
      "Iteration: 2074\n",
      "Algorithm: K-Means\n",
      "Iteration: 2075\n",
      "Algorithm: K-Means\n",
      "Iteration: 2076\n",
      "Algorithm: DBSCAN Clustering\n",
      "Iteration: 2077\n",
      "Algorithm: Mean Shift\n",
      "Iteration: 2078\n",
      "Algorithm: EM Clustering\n",
      "Iteration: 2079\n",
      "Algorithm: EM Clustering\n",
      "Iteration: 2080\n",
      "Algorithm: K-Mediods\n"
     ]
    },
    {
     "name": "stderr",
     "output_type": "stream",
     "text": [
      "/opt/homebrew/lib/python3.10/site-packages/sklearn_extra/cluster/_k_medoids.py:329: UserWarning: Cluster 1 is empty! self.labels_[self.medoid_indices_[1]] may not be labeled with its corresponding cluster (1).\n",
      "  warnings.warn(\n"
     ]
    },
    {
     "name": "stdout",
     "output_type": "stream",
     "text": [
      "Iteration: 2081\n",
      "Algorithm: K-Means\n",
      "Iteration: 2082\n",
      "Algorithm: DBSCAN Clustering\n",
      "Iteration: 2083\n",
      "Algorithm: EM Clustering\n",
      "Iteration: 2084\n",
      "Algorithm: Mean Shift\n",
      "Iteration: 2085\n",
      "Algorithm: K-Mediods\n"
     ]
    },
    {
     "name": "stderr",
     "output_type": "stream",
     "text": [
      "/opt/homebrew/lib/python3.10/site-packages/sklearn_extra/cluster/_k_medoids.py:329: UserWarning: Cluster 1 is empty! self.labels_[self.medoid_indices_[1]] may not be labeled with its corresponding cluster (1).\n",
      "  warnings.warn(\n"
     ]
    },
    {
     "name": "stdout",
     "output_type": "stream",
     "text": [
      "Iteration: 2086\n",
      "Algorithm: EM Clustering\n",
      "Iteration: 2087\n",
      "Algorithm: K-Means\n",
      "Iteration: 2088\n",
      "Algorithm: K-Mediods\n"
     ]
    },
    {
     "name": "stderr",
     "output_type": "stream",
     "text": [
      "/opt/homebrew/lib/python3.10/site-packages/sklearn_extra/cluster/_k_medoids.py:329: UserWarning: Cluster 1 is empty! self.labels_[self.medoid_indices_[1]] may not be labeled with its corresponding cluster (1).\n",
      "  warnings.warn(\n"
     ]
    },
    {
     "name": "stdout",
     "output_type": "stream",
     "text": [
      "Iteration: 2089\n",
      "Algorithm: Mean Shift\n",
      "Iteration: 2090\n",
      "Algorithm: K-Mediods\n",
      "Iteration: 2091\n",
      "Algorithm: DBSCAN Clustering\n"
     ]
    },
    {
     "name": "stderr",
     "output_type": "stream",
     "text": [
      "/opt/homebrew/lib/python3.10/site-packages/sklearn_extra/cluster/_k_medoids.py:329: UserWarning: Cluster 1 is empty! self.labels_[self.medoid_indices_[1]] may not be labeled with its corresponding cluster (1).\n",
      "  warnings.warn(\n"
     ]
    },
    {
     "name": "stdout",
     "output_type": "stream",
     "text": [
      "Iteration: 2092\n",
      "Algorithm: K-Means\n",
      "Iteration: 2093\n",
      "Algorithm: Mean Shift\n",
      "Iteration: 2094\n",
      "Algorithm: K-Means\n",
      "Iteration: 2095\n",
      "Algorithm: K-Means\n",
      "Iteration: 2096\n",
      "Algorithm: K-Mediods\n"
     ]
    },
    {
     "name": "stderr",
     "output_type": "stream",
     "text": [
      "/opt/homebrew/lib/python3.10/site-packages/sklearn_extra/cluster/_k_medoids.py:329: UserWarning: Cluster 1 is empty! self.labels_[self.medoid_indices_[1]] may not be labeled with its corresponding cluster (1).\n",
      "  warnings.warn(\n"
     ]
    },
    {
     "name": "stdout",
     "output_type": "stream",
     "text": [
      "Iteration: 2097\n",
      "Algorithm: K-Means\n",
      "Iteration: 2098\n",
      "Algorithm: K-Means\n",
      "Iteration: 2099\n",
      "Algorithm: EM Clustering\n",
      "Iteration: 2100\n",
      "Algorithm: K-Mediods\n"
     ]
    },
    {
     "name": "stderr",
     "output_type": "stream",
     "text": [
      "/opt/homebrew/lib/python3.10/site-packages/sklearn_extra/cluster/_k_medoids.py:329: UserWarning: Cluster 1 is empty! self.labels_[self.medoid_indices_[1]] may not be labeled with its corresponding cluster (1).\n",
      "  warnings.warn(\n",
      "/opt/homebrew/lib/python3.10/site-packages/sklearn_extra/cluster/_k_medoids.py:329: UserWarning: Cluster 1 is empty! self.labels_[self.medoid_indices_[1]] may not be labeled with its corresponding cluster (1).\n",
      "  warnings.warn(\n"
     ]
    },
    {
     "name": "stdout",
     "output_type": "stream",
     "text": [
      "Iteration: 2101\n",
      "Algorithm: K-Mediods\n",
      "Iteration: 2102\n",
      "Algorithm: DBSCAN Clustering\n",
      "Iteration: 2103\n",
      "Algorithm: DBSCAN Clustering\n",
      "Iteration: 2104\n",
      "Algorithm: K-Mediods\n"
     ]
    },
    {
     "name": "stderr",
     "output_type": "stream",
     "text": [
      "/opt/homebrew/lib/python3.10/site-packages/sklearn_extra/cluster/_k_medoids.py:329: UserWarning: Cluster 1 is empty! self.labels_[self.medoid_indices_[1]] may not be labeled with its corresponding cluster (1).\n",
      "  warnings.warn(\n"
     ]
    },
    {
     "name": "stdout",
     "output_type": "stream",
     "text": [
      "Iteration: 2105\n",
      "Algorithm: Mean Shift\n",
      "Iteration: 2106\n",
      "Algorithm: K-Mediods\n",
      "Iteration: 2107\n",
      "Algorithm: EM Clustering\n"
     ]
    },
    {
     "name": "stderr",
     "output_type": "stream",
     "text": [
      "/opt/homebrew/lib/python3.10/site-packages/sklearn_extra/cluster/_k_medoids.py:329: UserWarning: Cluster 1 is empty! self.labels_[self.medoid_indices_[1]] may not be labeled with its corresponding cluster (1).\n",
      "  warnings.warn(\n"
     ]
    },
    {
     "name": "stdout",
     "output_type": "stream",
     "text": [
      "Iteration: 2108\n",
      "Algorithm: DBSCAN Clustering\n",
      "Iteration: 2109\n",
      "Algorithm: K-Means\n",
      "Iteration: 2110\n",
      "Algorithm: K-Mediods\n",
      "Iteration: 2111\n",
      "Algorithm: DBSCAN Clustering\n"
     ]
    },
    {
     "name": "stderr",
     "output_type": "stream",
     "text": [
      "/opt/homebrew/lib/python3.10/site-packages/sklearn_extra/cluster/_k_medoids.py:329: UserWarning: Cluster 1 is empty! self.labels_[self.medoid_indices_[1]] may not be labeled with its corresponding cluster (1).\n",
      "  warnings.warn(\n"
     ]
    },
    {
     "name": "stdout",
     "output_type": "stream",
     "text": [
      "Iteration: 2112\n",
      "Algorithm: K-Mediods\n",
      "Iteration: 2113\n",
      "Algorithm: DBSCAN Clustering\n"
     ]
    },
    {
     "name": "stderr",
     "output_type": "stream",
     "text": [
      "/opt/homebrew/lib/python3.10/site-packages/sklearn_extra/cluster/_k_medoids.py:329: UserWarning: Cluster 1 is empty! self.labels_[self.medoid_indices_[1]] may not be labeled with its corresponding cluster (1).\n",
      "  warnings.warn(\n"
     ]
    },
    {
     "name": "stdout",
     "output_type": "stream",
     "text": [
      "Iteration: 2114\n",
      "Algorithm: K-Mediods\n",
      "Iteration: 2115\n",
      "Algorithm: DBSCAN Clustering\n",
      "Iteration: 2116\n",
      "Algorithm: K-Means\n",
      "Iteration: 2117\n",
      "Algorithm: K-Mediods\n",
      "Iteration: 2118\n",
      "Algorithm: K-Mediods\n"
     ]
    },
    {
     "name": "stderr",
     "output_type": "stream",
     "text": [
      "/opt/homebrew/lib/python3.10/site-packages/sklearn_extra/cluster/_k_medoids.py:329: UserWarning: Cluster 1 is empty! self.labels_[self.medoid_indices_[1]] may not be labeled with its corresponding cluster (1).\n",
      "  warnings.warn(\n",
      "/opt/homebrew/lib/python3.10/site-packages/sklearn_extra/cluster/_k_medoids.py:329: UserWarning: Cluster 1 is empty! self.labels_[self.medoid_indices_[1]] may not be labeled with its corresponding cluster (1).\n",
      "  warnings.warn(\n"
     ]
    },
    {
     "name": "stdout",
     "output_type": "stream",
     "text": [
      "Iteration: 2119\n",
      "Algorithm: DBSCAN Clustering\n",
      "Iteration: 2120\n",
      "Algorithm: DBSCAN Clustering\n",
      "Iteration: 2121\n",
      "Algorithm: DBSCAN Clustering\n",
      "Iteration: 2122\n",
      "Algorithm: K-Means\n",
      "Iteration: 2123\n",
      "Algorithm: EM Clustering\n",
      "Iteration: 2124\n",
      "Algorithm: K-Mediods\n"
     ]
    },
    {
     "name": "stderr",
     "output_type": "stream",
     "text": [
      "/opt/homebrew/lib/python3.10/site-packages/sklearn_extra/cluster/_k_medoids.py:329: UserWarning: Cluster 1 is empty! self.labels_[self.medoid_indices_[1]] may not be labeled with its corresponding cluster (1).\n",
      "  warnings.warn(\n"
     ]
    },
    {
     "name": "stdout",
     "output_type": "stream",
     "text": [
      "Iteration: 2125\n",
      "Algorithm: Mean Shift\n",
      "Iteration: 2126\n",
      "Algorithm: Mean Shift\n",
      "Iteration: 2127\n",
      "Algorithm: DBSCAN Clustering\n",
      "Iteration: 2128\n",
      "Algorithm: DBSCAN Clustering\n",
      "Iteration: 2129\n",
      "Algorithm: K-Means\n",
      "Iteration: 2130\n",
      "Algorithm: EM Clustering\n",
      "Iteration: 2131\n",
      "Algorithm: DBSCAN Clustering\n",
      "Iteration: 2132\n",
      "Algorithm: K-Mediods\n"
     ]
    },
    {
     "name": "stderr",
     "output_type": "stream",
     "text": [
      "/opt/homebrew/lib/python3.10/site-packages/sklearn_extra/cluster/_k_medoids.py:329: UserWarning: Cluster 1 is empty! self.labels_[self.medoid_indices_[1]] may not be labeled with its corresponding cluster (1).\n",
      "  warnings.warn(\n"
     ]
    },
    {
     "name": "stdout",
     "output_type": "stream",
     "text": [
      "Iteration: 2133\n",
      "Algorithm: EM Clustering\n",
      "Iteration: 2134\n",
      "Algorithm: K-Mediods\n"
     ]
    },
    {
     "name": "stderr",
     "output_type": "stream",
     "text": [
      "/opt/homebrew/lib/python3.10/site-packages/sklearn_extra/cluster/_k_medoids.py:329: UserWarning: Cluster 1 is empty! self.labels_[self.medoid_indices_[1]] may not be labeled with its corresponding cluster (1).\n",
      "  warnings.warn(\n",
      "/opt/homebrew/lib/python3.10/site-packages/sklearn_extra/cluster/_k_medoids.py:329: UserWarning: Cluster 1 is empty! self.labels_[self.medoid_indices_[1]] may not be labeled with its corresponding cluster (1).\n",
      "  warnings.warn(\n"
     ]
    },
    {
     "name": "stdout",
     "output_type": "stream",
     "text": [
      "Iteration: 2135\n",
      "Algorithm: K-Mediods\n",
      "Iteration: 2136\n",
      "Algorithm: DBSCAN Clustering\n",
      "Iteration: 2137\n",
      "Algorithm: K-Mediods\n",
      "Iteration: 2138\n",
      "Algorithm: K-Means\n"
     ]
    },
    {
     "name": "stderr",
     "output_type": "stream",
     "text": [
      "/opt/homebrew/lib/python3.10/site-packages/sklearn_extra/cluster/_k_medoids.py:329: UserWarning: Cluster 1 is empty! self.labels_[self.medoid_indices_[1]] may not be labeled with its corresponding cluster (1).\n",
      "  warnings.warn(\n"
     ]
    },
    {
     "name": "stdout",
     "output_type": "stream",
     "text": [
      "Iteration: 2139\n",
      "Algorithm: K-Means\n",
      "Iteration: 2140\n",
      "Algorithm: EM Clustering\n",
      "Iteration: 2141\n",
      "Algorithm: K-Means\n",
      "Iteration: 2142\n",
      "Algorithm: K-Mediods\n",
      "Iteration: 2143\n",
      "Algorithm: DBSCAN Clustering\n"
     ]
    },
    {
     "name": "stderr",
     "output_type": "stream",
     "text": [
      "/opt/homebrew/lib/python3.10/site-packages/sklearn_extra/cluster/_k_medoids.py:329: UserWarning: Cluster 1 is empty! self.labels_[self.medoid_indices_[1]] may not be labeled with its corresponding cluster (1).\n",
      "  warnings.warn(\n"
     ]
    },
    {
     "name": "stdout",
     "output_type": "stream",
     "text": [
      "Iteration: 2144\n",
      "Algorithm: EM Clustering\n",
      "Iteration: 2145\n",
      "Algorithm: K-Means\n",
      "Iteration: 2146\n",
      "Algorithm: K-Mediods\n"
     ]
    },
    {
     "name": "stderr",
     "output_type": "stream",
     "text": [
      "/opt/homebrew/lib/python3.10/site-packages/sklearn_extra/cluster/_k_medoids.py:329: UserWarning: Cluster 1 is empty! self.labels_[self.medoid_indices_[1]] may not be labeled with its corresponding cluster (1).\n",
      "  warnings.warn(\n"
     ]
    },
    {
     "name": "stdout",
     "output_type": "stream",
     "text": [
      "Iteration: 2147\n",
      "Algorithm: K-Means\n",
      "Iteration: 2148\n",
      "Algorithm: K-Mediods\n"
     ]
    },
    {
     "name": "stderr",
     "output_type": "stream",
     "text": [
      "/opt/homebrew/lib/python3.10/site-packages/sklearn_extra/cluster/_k_medoids.py:329: UserWarning: Cluster 1 is empty! self.labels_[self.medoid_indices_[1]] may not be labeled with its corresponding cluster (1).\n",
      "  warnings.warn(\n"
     ]
    },
    {
     "name": "stdout",
     "output_type": "stream",
     "text": [
      "Iteration: 2149\n",
      "Algorithm: K-Means\n",
      "Iteration: 2150\n",
      "Algorithm: K-Means\n",
      "Iteration: 2151\n",
      "Algorithm: Mean Shift\n",
      "Iteration: 2152\n",
      "Algorithm: K-Mediods\n",
      "Iteration: 2153\n",
      "Algorithm: EM Clustering\n"
     ]
    },
    {
     "name": "stderr",
     "output_type": "stream",
     "text": [
      "/opt/homebrew/lib/python3.10/site-packages/sklearn_extra/cluster/_k_medoids.py:329: UserWarning: Cluster 1 is empty! self.labels_[self.medoid_indices_[1]] may not be labeled with its corresponding cluster (1).\n",
      "  warnings.warn(\n"
     ]
    },
    {
     "name": "stdout",
     "output_type": "stream",
     "text": [
      "Iteration: 2154\n",
      "Algorithm: DBSCAN Clustering\n",
      "Iteration: 2155\n",
      "Algorithm: Mean Shift\n",
      "Iteration: 2156\n",
      "Algorithm: K-Mediods\n",
      "Iteration: 2157\n",
      "Algorithm: K-Mediods\n"
     ]
    },
    {
     "name": "stderr",
     "output_type": "stream",
     "text": [
      "/opt/homebrew/lib/python3.10/site-packages/sklearn_extra/cluster/_k_medoids.py:329: UserWarning: Cluster 1 is empty! self.labels_[self.medoid_indices_[1]] may not be labeled with its corresponding cluster (1).\n",
      "  warnings.warn(\n",
      "/opt/homebrew/lib/python3.10/site-packages/sklearn_extra/cluster/_k_medoids.py:329: UserWarning: Cluster 1 is empty! self.labels_[self.medoid_indices_[1]] may not be labeled with its corresponding cluster (1).\n",
      "  warnings.warn(\n"
     ]
    },
    {
     "name": "stdout",
     "output_type": "stream",
     "text": [
      "Iteration: 2158\n",
      "Algorithm: EM Clustering\n",
      "Iteration: 2159\n",
      "Algorithm: Mean Shift\n",
      "Iteration: 2160\n",
      "Algorithm: DBSCAN Clustering\n",
      "Iteration: 2161\n",
      "Algorithm: Mean Shift\n",
      "Iteration: 2162\n",
      "Algorithm: K-Mediods\n",
      "Iteration: 2163\n",
      "Algorithm: K-Mediods\n"
     ]
    },
    {
     "name": "stderr",
     "output_type": "stream",
     "text": [
      "/opt/homebrew/lib/python3.10/site-packages/sklearn_extra/cluster/_k_medoids.py:329: UserWarning: Cluster 1 is empty! self.labels_[self.medoid_indices_[1]] may not be labeled with its corresponding cluster (1).\n",
      "  warnings.warn(\n",
      "/opt/homebrew/lib/python3.10/site-packages/sklearn_extra/cluster/_k_medoids.py:329: UserWarning: Cluster 1 is empty! self.labels_[self.medoid_indices_[1]] may not be labeled with its corresponding cluster (1).\n",
      "  warnings.warn(\n"
     ]
    },
    {
     "name": "stdout",
     "output_type": "stream",
     "text": [
      "Iteration: 2164\n",
      "Algorithm: K-Mediods\n",
      "Iteration: 2165\n",
      "Algorithm: DBSCAN Clustering\n"
     ]
    },
    {
     "name": "stderr",
     "output_type": "stream",
     "text": [
      "/opt/homebrew/lib/python3.10/site-packages/sklearn_extra/cluster/_k_medoids.py:329: UserWarning: Cluster 1 is empty! self.labels_[self.medoid_indices_[1]] may not be labeled with its corresponding cluster (1).\n",
      "  warnings.warn(\n"
     ]
    },
    {
     "name": "stdout",
     "output_type": "stream",
     "text": [
      "Iteration: 2166\n",
      "Algorithm: DBSCAN Clustering\n",
      "Iteration: 2167\n",
      "Algorithm: DBSCAN Clustering\n",
      "Iteration: 2168\n",
      "Algorithm: Mean Shift\n",
      "Iteration: 2169\n",
      "Algorithm: K-Mediods\n",
      "Iteration: 2170\n",
      "Algorithm: K-Means\n"
     ]
    },
    {
     "name": "stderr",
     "output_type": "stream",
     "text": [
      "/opt/homebrew/lib/python3.10/site-packages/sklearn_extra/cluster/_k_medoids.py:329: UserWarning: Cluster 1 is empty! self.labels_[self.medoid_indices_[1]] may not be labeled with its corresponding cluster (1).\n",
      "  warnings.warn(\n"
     ]
    },
    {
     "name": "stdout",
     "output_type": "stream",
     "text": [
      "Iteration: 2171\n",
      "Algorithm: EM Clustering\n",
      "Iteration: 2172\n",
      "Algorithm: K-Mediods\n"
     ]
    },
    {
     "name": "stderr",
     "output_type": "stream",
     "text": [
      "/opt/homebrew/lib/python3.10/site-packages/sklearn_extra/cluster/_k_medoids.py:329: UserWarning: Cluster 1 is empty! self.labels_[self.medoid_indices_[1]] may not be labeled with its corresponding cluster (1).\n",
      "  warnings.warn(\n"
     ]
    },
    {
     "name": "stdout",
     "output_type": "stream",
     "text": [
      "Iteration: 2173\n",
      "Algorithm: Mean Shift\n",
      "Iteration: 2174\n",
      "Algorithm: Mean Shift\n",
      "Iteration: 2175\n",
      "Algorithm: K-Mediods\n",
      "Iteration: 2176\n",
      "Algorithm: DBSCAN Clustering\n",
      "Iteration: 2177\n",
      "Algorithm: DBSCAN Clustering\n",
      "Iteration: 2178\n",
      "Algorithm: EM Clustering\n",
      "Iteration: 2179\n",
      "Algorithm: Mean Shift\n",
      "Iteration: 2180\n",
      "Algorithm: K-Mediods\n"
     ]
    },
    {
     "name": "stderr",
     "output_type": "stream",
     "text": [
      "/opt/homebrew/lib/python3.10/site-packages/sklearn_extra/cluster/_k_medoids.py:329: UserWarning: Cluster 1 is empty! self.labels_[self.medoid_indices_[1]] may not be labeled with its corresponding cluster (1).\n",
      "  warnings.warn(\n"
     ]
    },
    {
     "name": "stdout",
     "output_type": "stream",
     "text": [
      "Iteration: 2181\n",
      "Algorithm: EM Clustering\n",
      "Iteration: 2182\n",
      "Algorithm: EM Clustering\n",
      "Iteration: 2183\n",
      "Algorithm: DBSCAN Clustering\n",
      "Iteration: 2184\n",
      "Algorithm: K-Mediods\n",
      "Iteration: 2185\n",
      "Algorithm: K-Mediods\n"
     ]
    },
    {
     "name": "stderr",
     "output_type": "stream",
     "text": [
      "/opt/homebrew/lib/python3.10/site-packages/sklearn_extra/cluster/_k_medoids.py:329: UserWarning: Cluster 1 is empty! self.labels_[self.medoid_indices_[1]] may not be labeled with its corresponding cluster (1).\n",
      "  warnings.warn(\n",
      "/opt/homebrew/lib/python3.10/site-packages/sklearn_extra/cluster/_k_medoids.py:329: UserWarning: Cluster 1 is empty! self.labels_[self.medoid_indices_[1]] may not be labeled with its corresponding cluster (1).\n",
      "  warnings.warn(\n"
     ]
    },
    {
     "name": "stdout",
     "output_type": "stream",
     "text": [
      "Iteration: 2186\n",
      "Algorithm: Mean Shift\n",
      "Iteration: 2187\n",
      "Algorithm: Mean Shift\n",
      "Iteration: 2188\n",
      "Algorithm: K-Mediods\n"
     ]
    },
    {
     "name": "stderr",
     "output_type": "stream",
     "text": [
      "/opt/homebrew/lib/python3.10/site-packages/sklearn_extra/cluster/_k_medoids.py:329: UserWarning: Cluster 1 is empty! self.labels_[self.medoid_indices_[1]] may not be labeled with its corresponding cluster (1).\n",
      "  warnings.warn(\n",
      "/opt/homebrew/lib/python3.10/site-packages/sklearn_extra/cluster/_k_medoids.py:329: UserWarning: Cluster 1 is empty! self.labels_[self.medoid_indices_[1]] may not be labeled with its corresponding cluster (1).\n",
      "  warnings.warn(\n"
     ]
    },
    {
     "name": "stdout",
     "output_type": "stream",
     "text": [
      "Iteration: 2189\n",
      "Algorithm: K-Mediods\n",
      "Iteration: 2190\n",
      "Algorithm: Mean Shift\n",
      "Iteration: 2191\n",
      "Algorithm: EM Clustering\n",
      "Iteration: 2192\n",
      "Algorithm: Mean Shift\n",
      "Iteration: 2193\n",
      "Algorithm: EM Clustering\n",
      "Iteration: 2194\n",
      "Algorithm: Mean Shift\n",
      "Iteration: 2195\n",
      "Algorithm: K-Mediods\n",
      "Iteration: 2196\n",
      "Algorithm: K-Means\n"
     ]
    },
    {
     "name": "stderr",
     "output_type": "stream",
     "text": [
      "/opt/homebrew/lib/python3.10/site-packages/sklearn_extra/cluster/_k_medoids.py:329: UserWarning: Cluster 1 is empty! self.labels_[self.medoid_indices_[1]] may not be labeled with its corresponding cluster (1).\n",
      "  warnings.warn(\n"
     ]
    },
    {
     "name": "stdout",
     "output_type": "stream",
     "text": [
      "Iteration: 2197\n",
      "Algorithm: K-Mediods\n",
      "Iteration: 2198\n",
      "Algorithm: DBSCAN Clustering\n"
     ]
    },
    {
     "name": "stderr",
     "output_type": "stream",
     "text": [
      "/opt/homebrew/lib/python3.10/site-packages/sklearn_extra/cluster/_k_medoids.py:329: UserWarning: Cluster 1 is empty! self.labels_[self.medoid_indices_[1]] may not be labeled with its corresponding cluster (1).\n",
      "  warnings.warn(\n"
     ]
    },
    {
     "name": "stdout",
     "output_type": "stream",
     "text": [
      "Iteration: 2199\n",
      "Algorithm: EM Clustering\n",
      "Iteration: 2200\n",
      "Algorithm: K-Means\n",
      "Iteration: 2201\n",
      "Algorithm: K-Means\n",
      "Iteration: 2202\n",
      "Algorithm: Mean Shift\n",
      "Iteration: 2203\n",
      "Algorithm: K-Mediods\n",
      "Iteration: 2204\n",
      "Algorithm: K-Mediods\n"
     ]
    },
    {
     "name": "stderr",
     "output_type": "stream",
     "text": [
      "/opt/homebrew/lib/python3.10/site-packages/sklearn_extra/cluster/_k_medoids.py:329: UserWarning: Cluster 1 is empty! self.labels_[self.medoid_indices_[1]] may not be labeled with its corresponding cluster (1).\n",
      "  warnings.warn(\n",
      "/opt/homebrew/lib/python3.10/site-packages/sklearn_extra/cluster/_k_medoids.py:329: UserWarning: Cluster 1 is empty! self.labels_[self.medoid_indices_[1]] may not be labeled with its corresponding cluster (1).\n",
      "  warnings.warn(\n"
     ]
    },
    {
     "name": "stdout",
     "output_type": "stream",
     "text": [
      "Iteration: 2205\n",
      "Algorithm: EM Clustering\n",
      "Iteration: 2206\n",
      "Algorithm: K-Mediods\n",
      "Iteration: 2207\n",
      "Algorithm: DBSCAN Clustering\n"
     ]
    },
    {
     "name": "stderr",
     "output_type": "stream",
     "text": [
      "/opt/homebrew/lib/python3.10/site-packages/sklearn_extra/cluster/_k_medoids.py:329: UserWarning: Cluster 1 is empty! self.labels_[self.medoid_indices_[1]] may not be labeled with its corresponding cluster (1).\n",
      "  warnings.warn(\n"
     ]
    },
    {
     "name": "stdout",
     "output_type": "stream",
     "text": [
      "Iteration: 2208\n",
      "Algorithm: K-Means\n",
      "Iteration: 2209\n",
      "Algorithm: Mean Shift\n",
      "Iteration: 2210\n",
      "Algorithm: K-Mediods\n",
      "Iteration: 2211\n",
      "Algorithm: Mean Shift\n"
     ]
    },
    {
     "name": "stderr",
     "output_type": "stream",
     "text": [
      "/opt/homebrew/lib/python3.10/site-packages/sklearn_extra/cluster/_k_medoids.py:329: UserWarning: Cluster 1 is empty! self.labels_[self.medoid_indices_[1]] may not be labeled with its corresponding cluster (1).\n",
      "  warnings.warn(\n"
     ]
    },
    {
     "name": "stdout",
     "output_type": "stream",
     "text": [
      "Iteration: 2212\n",
      "Algorithm: K-Means\n",
      "Iteration: 2213\n",
      "Algorithm: K-Mediods\n"
     ]
    },
    {
     "name": "stderr",
     "output_type": "stream",
     "text": [
      "/opt/homebrew/lib/python3.10/site-packages/sklearn_extra/cluster/_k_medoids.py:329: UserWarning: Cluster 1 is empty! self.labels_[self.medoid_indices_[1]] may not be labeled with its corresponding cluster (1).\n",
      "  warnings.warn(\n"
     ]
    },
    {
     "name": "stdout",
     "output_type": "stream",
     "text": [
      "Iteration: 2214\n",
      "Algorithm: K-Means\n",
      "Iteration: 2215\n",
      "Algorithm: K-Mediods\n"
     ]
    },
    {
     "name": "stderr",
     "output_type": "stream",
     "text": [
      "/opt/homebrew/lib/python3.10/site-packages/sklearn_extra/cluster/_k_medoids.py:329: UserWarning: Cluster 1 is empty! self.labels_[self.medoid_indices_[1]] may not be labeled with its corresponding cluster (1).\n",
      "  warnings.warn(\n"
     ]
    },
    {
     "name": "stdout",
     "output_type": "stream",
     "text": [
      "Iteration: 2216\n",
      "Algorithm: EM Clustering\n",
      "Iteration: 2217\n",
      "Algorithm: K-Mediods\n"
     ]
    },
    {
     "name": "stderr",
     "output_type": "stream",
     "text": [
      "/opt/homebrew/lib/python3.10/site-packages/sklearn_extra/cluster/_k_medoids.py:329: UserWarning: Cluster 1 is empty! self.labels_[self.medoid_indices_[1]] may not be labeled with its corresponding cluster (1).\n",
      "  warnings.warn(\n"
     ]
    },
    {
     "name": "stdout",
     "output_type": "stream",
     "text": [
      "Iteration: 2218\n",
      "Algorithm: K-Means\n",
      "Iteration: 2219\n",
      "Algorithm: K-Means\n",
      "Iteration: 2220\n",
      "Algorithm: K-Means\n",
      "Iteration: 2221\n",
      "Algorithm: EM Clustering\n",
      "Iteration: 2222\n",
      "Algorithm: K-Mediods\n"
     ]
    },
    {
     "name": "stderr",
     "output_type": "stream",
     "text": [
      "/opt/homebrew/lib/python3.10/site-packages/sklearn_extra/cluster/_k_medoids.py:329: UserWarning: Cluster 1 is empty! self.labels_[self.medoid_indices_[1]] may not be labeled with its corresponding cluster (1).\n",
      "  warnings.warn(\n"
     ]
    },
    {
     "name": "stdout",
     "output_type": "stream",
     "text": [
      "Iteration: 2223\n",
      "Algorithm: Mean Shift\n",
      "Iteration: 2224\n",
      "Algorithm: K-Mediods\n",
      "Iteration: 2225\n",
      "Algorithm: Mean Shift\n"
     ]
    },
    {
     "name": "stderr",
     "output_type": "stream",
     "text": [
      "/opt/homebrew/lib/python3.10/site-packages/sklearn_extra/cluster/_k_medoids.py:329: UserWarning: Cluster 1 is empty! self.labels_[self.medoid_indices_[1]] may not be labeled with its corresponding cluster (1).\n",
      "  warnings.warn(\n"
     ]
    },
    {
     "name": "stdout",
     "output_type": "stream",
     "text": [
      "Iteration: 2226\n",
      "Algorithm: K-Mediods\n",
      "Iteration: 2227\n",
      "Algorithm: K-Mediods\n"
     ]
    },
    {
     "name": "stderr",
     "output_type": "stream",
     "text": [
      "/opt/homebrew/lib/python3.10/site-packages/sklearn_extra/cluster/_k_medoids.py:329: UserWarning: Cluster 1 is empty! self.labels_[self.medoid_indices_[1]] may not be labeled with its corresponding cluster (1).\n",
      "  warnings.warn(\n",
      "/opt/homebrew/lib/python3.10/site-packages/sklearn_extra/cluster/_k_medoids.py:329: UserWarning: Cluster 1 is empty! self.labels_[self.medoid_indices_[1]] may not be labeled with its corresponding cluster (1).\n",
      "  warnings.warn(\n"
     ]
    },
    {
     "name": "stdout",
     "output_type": "stream",
     "text": [
      "Iteration: 2228\n",
      "Algorithm: Mean Shift\n",
      "Iteration: 2229\n",
      "Algorithm: DBSCAN Clustering\n",
      "Iteration: 2230\n",
      "Algorithm: K-Means\n",
      "Iteration: 2231\n",
      "Algorithm: DBSCAN Clustering\n",
      "Iteration: 2232\n",
      "Algorithm: K-Mediods\n"
     ]
    },
    {
     "name": "stderr",
     "output_type": "stream",
     "text": [
      "/opt/homebrew/lib/python3.10/site-packages/sklearn_extra/cluster/_k_medoids.py:329: UserWarning: Cluster 1 is empty! self.labels_[self.medoid_indices_[1]] may not be labeled with its corresponding cluster (1).\n",
      "  warnings.warn(\n",
      "/opt/homebrew/lib/python3.10/site-packages/sklearn_extra/cluster/_k_medoids.py:329: UserWarning: Cluster 1 is empty! self.labels_[self.medoid_indices_[1]] may not be labeled with its corresponding cluster (1).\n",
      "  warnings.warn(\n"
     ]
    },
    {
     "name": "stdout",
     "output_type": "stream",
     "text": [
      "Iteration: 2233\n",
      "Algorithm: K-Mediods\n",
      "Iteration: 2234\n",
      "Algorithm: DBSCAN Clustering\n",
      "Iteration: 2235\n",
      "Algorithm: DBSCAN Clustering\n",
      "Iteration: 2236\n",
      "Algorithm: EM Clustering\n",
      "Iteration: 2237\n",
      "Algorithm: K-Mediods\n",
      "Iteration: 2238\n",
      "Algorithm: Mean Shift\n"
     ]
    },
    {
     "name": "stderr",
     "output_type": "stream",
     "text": [
      "/opt/homebrew/lib/python3.10/site-packages/sklearn_extra/cluster/_k_medoids.py:329: UserWarning: Cluster 1 is empty! self.labels_[self.medoid_indices_[1]] may not be labeled with its corresponding cluster (1).\n",
      "  warnings.warn(\n"
     ]
    },
    {
     "name": "stdout",
     "output_type": "stream",
     "text": [
      "Iteration: 2239\n",
      "Algorithm: K-Mediods\n",
      "Iteration: 2240\n",
      "Algorithm: EM Clustering\n"
     ]
    },
    {
     "name": "stderr",
     "output_type": "stream",
     "text": [
      "/opt/homebrew/lib/python3.10/site-packages/sklearn_extra/cluster/_k_medoids.py:329: UserWarning: Cluster 1 is empty! self.labels_[self.medoid_indices_[1]] may not be labeled with its corresponding cluster (1).\n",
      "  warnings.warn(\n"
     ]
    },
    {
     "name": "stdout",
     "output_type": "stream",
     "text": [
      "Iteration: 2241\n",
      "Algorithm: DBSCAN Clustering\n",
      "Iteration: 2242\n",
      "Algorithm: DBSCAN Clustering\n",
      "Iteration: 2243\n",
      "Algorithm: Mean Shift\n",
      "Iteration: 2244\n",
      "Algorithm: Mean Shift\n",
      "Iteration: 2245\n",
      "Algorithm: EM Clustering\n",
      "Iteration: 2246\n",
      "Algorithm: EM Clustering\n",
      "Iteration: 2247\n",
      "Algorithm: K-Means\n",
      "Iteration: 2248\n",
      "Algorithm: K-Mediods\n"
     ]
    },
    {
     "name": "stderr",
     "output_type": "stream",
     "text": [
      "/opt/homebrew/lib/python3.10/site-packages/sklearn_extra/cluster/_k_medoids.py:329: UserWarning: Cluster 1 is empty! self.labels_[self.medoid_indices_[1]] may not be labeled with its corresponding cluster (1).\n",
      "  warnings.warn(\n",
      "/opt/homebrew/lib/python3.10/site-packages/sklearn_extra/cluster/_k_medoids.py:329: UserWarning: Cluster 1 is empty! self.labels_[self.medoid_indices_[1]] may not be labeled with its corresponding cluster (1).\n",
      "  warnings.warn(\n"
     ]
    },
    {
     "name": "stdout",
     "output_type": "stream",
     "text": [
      "Iteration: 2249\n",
      "Algorithm: K-Mediods\n",
      "Iteration: 2250\n",
      "Algorithm: K-Mediods\n"
     ]
    },
    {
     "name": "stderr",
     "output_type": "stream",
     "text": [
      "/opt/homebrew/lib/python3.10/site-packages/sklearn_extra/cluster/_k_medoids.py:329: UserWarning: Cluster 1 is empty! self.labels_[self.medoid_indices_[1]] may not be labeled with its corresponding cluster (1).\n",
      "  warnings.warn(\n"
     ]
    },
    {
     "name": "stdout",
     "output_type": "stream",
     "text": [
      "Iteration: 2251\n",
      "Algorithm: Mean Shift\n",
      "Iteration: 2252\n",
      "Algorithm: K-Means\n",
      "Iteration: 2253\n",
      "Algorithm: DBSCAN Clustering\n",
      "Iteration: 2254\n",
      "Algorithm: K-Mediods\n",
      "Iteration: 2255\n",
      "Algorithm: K-Mediods\n"
     ]
    },
    {
     "name": "stderr",
     "output_type": "stream",
     "text": [
      "/opt/homebrew/lib/python3.10/site-packages/sklearn_extra/cluster/_k_medoids.py:329: UserWarning: Cluster 1 is empty! self.labels_[self.medoid_indices_[1]] may not be labeled with its corresponding cluster (1).\n",
      "  warnings.warn(\n",
      "/opt/homebrew/lib/python3.10/site-packages/sklearn_extra/cluster/_k_medoids.py:329: UserWarning: Cluster 1 is empty! self.labels_[self.medoid_indices_[1]] may not be labeled with its corresponding cluster (1).\n",
      "  warnings.warn(\n"
     ]
    },
    {
     "name": "stdout",
     "output_type": "stream",
     "text": [
      "Iteration: 2256\n",
      "Algorithm: DBSCAN Clustering\n",
      "Iteration: 2257\n",
      "Algorithm: K-Means\n",
      "Iteration: 2258\n",
      "Algorithm: Mean Shift\n",
      "Iteration: 2259\n",
      "Algorithm: K-Mediods\n",
      "Iteration: 2260\n",
      "Algorithm: K-Means\n"
     ]
    },
    {
     "name": "stderr",
     "output_type": "stream",
     "text": [
      "/opt/homebrew/lib/python3.10/site-packages/sklearn_extra/cluster/_k_medoids.py:329: UserWarning: Cluster 1 is empty! self.labels_[self.medoid_indices_[1]] may not be labeled with its corresponding cluster (1).\n",
      "  warnings.warn(\n"
     ]
    },
    {
     "name": "stdout",
     "output_type": "stream",
     "text": [
      "Iteration: 2261\n",
      "Algorithm: DBSCAN Clustering\n",
      "Iteration: 2262\n",
      "Algorithm: DBSCAN Clustering\n",
      "Iteration: 2263\n",
      "Algorithm: EM Clustering\n",
      "Iteration: 2264\n",
      "Algorithm: K-Mediods\n"
     ]
    },
    {
     "name": "stderr",
     "output_type": "stream",
     "text": [
      "/opt/homebrew/lib/python3.10/site-packages/sklearn_extra/cluster/_k_medoids.py:329: UserWarning: Cluster 1 is empty! self.labels_[self.medoid_indices_[1]] may not be labeled with its corresponding cluster (1).\n",
      "  warnings.warn(\n"
     ]
    },
    {
     "name": "stdout",
     "output_type": "stream",
     "text": [
      "Iteration: 2265\n",
      "Algorithm: Mean Shift\n",
      "Iteration: 2266\n",
      "Algorithm: K-Mediods\n"
     ]
    },
    {
     "name": "stderr",
     "output_type": "stream",
     "text": [
      "/opt/homebrew/lib/python3.10/site-packages/sklearn_extra/cluster/_k_medoids.py:329: UserWarning: Cluster 1 is empty! self.labels_[self.medoid_indices_[1]] may not be labeled with its corresponding cluster (1).\n",
      "  warnings.warn(\n"
     ]
    },
    {
     "name": "stdout",
     "output_type": "stream",
     "text": [
      "Iteration: 2267\n",
      "Algorithm: K-Mediods\n"
     ]
    },
    {
     "name": "stderr",
     "output_type": "stream",
     "text": [
      "/opt/homebrew/lib/python3.10/site-packages/sklearn_extra/cluster/_k_medoids.py:329: UserWarning: Cluster 1 is empty! self.labels_[self.medoid_indices_[1]] may not be labeled with its corresponding cluster (1).\n",
      "  warnings.warn(\n"
     ]
    },
    {
     "name": "stdout",
     "output_type": "stream",
     "text": [
      "Iteration: 2268\n",
      "Algorithm: EM Clustering\n",
      "Iteration: 2269\n",
      "Algorithm: EM Clustering\n",
      "Iteration: 2270\n",
      "Algorithm: K-Mediods\n",
      "Iteration: 2271\n",
      "Algorithm: K-Means\n"
     ]
    },
    {
     "name": "stderr",
     "output_type": "stream",
     "text": [
      "/opt/homebrew/lib/python3.10/site-packages/sklearn_extra/cluster/_k_medoids.py:329: UserWarning: Cluster 1 is empty! self.labels_[self.medoid_indices_[1]] may not be labeled with its corresponding cluster (1).\n",
      "  warnings.warn(\n"
     ]
    },
    {
     "name": "stdout",
     "output_type": "stream",
     "text": [
      "Iteration: 2272\n",
      "Algorithm: K-Mediods\n",
      "Iteration: 2273\n",
      "Algorithm: K-Mediods\n"
     ]
    },
    {
     "name": "stderr",
     "output_type": "stream",
     "text": [
      "/opt/homebrew/lib/python3.10/site-packages/sklearn_extra/cluster/_k_medoids.py:329: UserWarning: Cluster 1 is empty! self.labels_[self.medoid_indices_[1]] may not be labeled with its corresponding cluster (1).\n",
      "  warnings.warn(\n",
      "/opt/homebrew/lib/python3.10/site-packages/sklearn_extra/cluster/_k_medoids.py:329: UserWarning: Cluster 1 is empty! self.labels_[self.medoid_indices_[1]] may not be labeled with its corresponding cluster (1).\n",
      "  warnings.warn(\n"
     ]
    },
    {
     "name": "stdout",
     "output_type": "stream",
     "text": [
      "Iteration: 2274\n",
      "Algorithm: Mean Shift\n",
      "Iteration: 2275\n",
      "Algorithm: K-Mediods\n",
      "Iteration: 2276\n",
      "Algorithm: K-Mediods\n"
     ]
    },
    {
     "name": "stderr",
     "output_type": "stream",
     "text": [
      "/opt/homebrew/lib/python3.10/site-packages/sklearn_extra/cluster/_k_medoids.py:329: UserWarning: Cluster 1 is empty! self.labels_[self.medoid_indices_[1]] may not be labeled with its corresponding cluster (1).\n",
      "  warnings.warn(\n",
      "/opt/homebrew/lib/python3.10/site-packages/sklearn_extra/cluster/_k_medoids.py:329: UserWarning: Cluster 1 is empty! self.labels_[self.medoid_indices_[1]] may not be labeled with its corresponding cluster (1).\n",
      "  warnings.warn(\n"
     ]
    },
    {
     "name": "stdout",
     "output_type": "stream",
     "text": [
      "Iteration: 2277\n",
      "Algorithm: K-Mediods\n",
      "Iteration: 2278\n",
      "Algorithm: K-Mediods\n"
     ]
    },
    {
     "name": "stderr",
     "output_type": "stream",
     "text": [
      "/opt/homebrew/lib/python3.10/site-packages/sklearn_extra/cluster/_k_medoids.py:329: UserWarning: Cluster 1 is empty! self.labels_[self.medoid_indices_[1]] may not be labeled with its corresponding cluster (1).\n",
      "  warnings.warn(\n",
      "/opt/homebrew/lib/python3.10/site-packages/sklearn_extra/cluster/_k_medoids.py:329: UserWarning: Cluster 1 is empty! self.labels_[self.medoid_indices_[1]] may not be labeled with its corresponding cluster (1).\n",
      "  warnings.warn(\n"
     ]
    },
    {
     "name": "stdout",
     "output_type": "stream",
     "text": [
      "Iteration: 2279\n",
      "Algorithm: Mean Shift\n",
      "Iteration: 2280\n",
      "Algorithm: K-Means\n",
      "Iteration: 2281\n",
      "Algorithm: K-Mediods\n"
     ]
    },
    {
     "name": "stderr",
     "output_type": "stream",
     "text": [
      "/opt/homebrew/lib/python3.10/site-packages/sklearn_extra/cluster/_k_medoids.py:329: UserWarning: Cluster 1 is empty! self.labels_[self.medoid_indices_[1]] may not be labeled with its corresponding cluster (1).\n",
      "  warnings.warn(\n"
     ]
    },
    {
     "name": "stdout",
     "output_type": "stream",
     "text": [
      "Iteration: 2282\n",
      "Algorithm: K-Means\n",
      "Iteration: 2283\n",
      "Algorithm: DBSCAN Clustering\n",
      "Iteration: 2284\n",
      "Algorithm: Mean Shift\n",
      "Iteration: 2285\n",
      "Algorithm: DBSCAN Clustering\n",
      "Iteration: 2286\n",
      "Algorithm: EM Clustering\n",
      "Iteration: 2287\n",
      "Algorithm: K-Mediods\n"
     ]
    },
    {
     "name": "stderr",
     "output_type": "stream",
     "text": [
      "/opt/homebrew/lib/python3.10/site-packages/sklearn_extra/cluster/_k_medoids.py:329: UserWarning: Cluster 1 is empty! self.labels_[self.medoid_indices_[1]] may not be labeled with its corresponding cluster (1).\n",
      "  warnings.warn(\n"
     ]
    },
    {
     "name": "stdout",
     "output_type": "stream",
     "text": [
      "Iteration: 2288\n",
      "Algorithm: EM Clustering\n",
      "Iteration: 2289\n",
      "Algorithm: K-Mediods\n"
     ]
    },
    {
     "name": "stderr",
     "output_type": "stream",
     "text": [
      "/opt/homebrew/lib/python3.10/site-packages/sklearn_extra/cluster/_k_medoids.py:329: UserWarning: Cluster 1 is empty! self.labels_[self.medoid_indices_[1]] may not be labeled with its corresponding cluster (1).\n",
      "  warnings.warn(\n",
      "/opt/homebrew/lib/python3.10/site-packages/sklearn_extra/cluster/_k_medoids.py:329: UserWarning: Cluster 1 is empty! self.labels_[self.medoid_indices_[1]] may not be labeled with its corresponding cluster (1).\n",
      "  warnings.warn(\n"
     ]
    },
    {
     "name": "stdout",
     "output_type": "stream",
     "text": [
      "Iteration: 2290\n",
      "Algorithm: K-Mediods\n",
      "Iteration: 2291\n",
      "Algorithm: DBSCAN Clustering\n",
      "Iteration: 2292\n",
      "Algorithm: Mean Shift\n",
      "Iteration: 2293\n",
      "Algorithm: Mean Shift\n",
      "Iteration: 2294\n",
      "Algorithm: EM Clustering\n",
      "Iteration: 2295\n",
      "Algorithm: K-Mediods\n",
      "Iteration: 2296\n",
      "Algorithm: K-Means\n"
     ]
    },
    {
     "name": "stderr",
     "output_type": "stream",
     "text": [
      "/opt/homebrew/lib/python3.10/site-packages/sklearn_extra/cluster/_k_medoids.py:329: UserWarning: Cluster 1 is empty! self.labels_[self.medoid_indices_[1]] may not be labeled with its corresponding cluster (1).\n",
      "  warnings.warn(\n"
     ]
    },
    {
     "name": "stdout",
     "output_type": "stream",
     "text": [
      "Iteration: 2297\n",
      "Algorithm: K-Mediods\n"
     ]
    },
    {
     "name": "stderr",
     "output_type": "stream",
     "text": [
      "/opt/homebrew/lib/python3.10/site-packages/sklearn_extra/cluster/_k_medoids.py:329: UserWarning: Cluster 1 is empty! self.labels_[self.medoid_indices_[1]] may not be labeled with its corresponding cluster (1).\n",
      "  warnings.warn(\n"
     ]
    },
    {
     "name": "stdout",
     "output_type": "stream",
     "text": [
      "Iteration: 2298\n",
      "Algorithm: K-Mediods\n",
      "Iteration: 2299\n",
      "Algorithm: K-Mediods\n",
      "Iteration: 2300\n",
      "Algorithm: Mean Shift\n"
     ]
    },
    {
     "name": "stderr",
     "output_type": "stream",
     "text": [
      "/opt/homebrew/lib/python3.10/site-packages/sklearn_extra/cluster/_k_medoids.py:329: UserWarning: Cluster 1 is empty! self.labels_[self.medoid_indices_[1]] may not be labeled with its corresponding cluster (1).\n",
      "  warnings.warn(\n"
     ]
    },
    {
     "name": "stdout",
     "output_type": "stream",
     "text": [
      "Iteration: 2301\n",
      "Algorithm: K-Mediods\n",
      "Iteration: 2302\n",
      "Algorithm: Mean Shift\n"
     ]
    },
    {
     "name": "stderr",
     "output_type": "stream",
     "text": [
      "/opt/homebrew/lib/python3.10/site-packages/sklearn_extra/cluster/_k_medoids.py:329: UserWarning: Cluster 1 is empty! self.labels_[self.medoid_indices_[1]] may not be labeled with its corresponding cluster (1).\n",
      "  warnings.warn(\n"
     ]
    },
    {
     "name": "stdout",
     "output_type": "stream",
     "text": [
      "Iteration: 2303\n",
      "Algorithm: K-Means\n",
      "Iteration: 2304\n",
      "Algorithm: EM Clustering\n",
      "Iteration: 2305\n",
      "Algorithm: K-Mediods\n",
      "Iteration: 2306\n",
      "Algorithm: K-Mediods\n"
     ]
    },
    {
     "name": "stderr",
     "output_type": "stream",
     "text": [
      "/opt/homebrew/lib/python3.10/site-packages/sklearn_extra/cluster/_k_medoids.py:329: UserWarning: Cluster 1 is empty! self.labels_[self.medoid_indices_[1]] may not be labeled with its corresponding cluster (1).\n",
      "  warnings.warn(\n",
      "/opt/homebrew/lib/python3.10/site-packages/sklearn_extra/cluster/_k_medoids.py:329: UserWarning: Cluster 1 is empty! self.labels_[self.medoid_indices_[1]] may not be labeled with its corresponding cluster (1).\n",
      "  warnings.warn(\n"
     ]
    },
    {
     "name": "stdout",
     "output_type": "stream",
     "text": [
      "Iteration: 2307\n",
      "Algorithm: K-Mediods\n",
      "Iteration: 2308\n",
      "Algorithm: EM Clustering\n"
     ]
    },
    {
     "name": "stderr",
     "output_type": "stream",
     "text": [
      "/opt/homebrew/lib/python3.10/site-packages/sklearn_extra/cluster/_k_medoids.py:329: UserWarning: Cluster 1 is empty! self.labels_[self.medoid_indices_[1]] may not be labeled with its corresponding cluster (1).\n",
      "  warnings.warn(\n"
     ]
    },
    {
     "name": "stdout",
     "output_type": "stream",
     "text": [
      "Iteration: 2309\n",
      "Algorithm: K-Means\n",
      "Iteration: 2310\n",
      "Algorithm: Mean Shift\n",
      "Iteration: 2311\n",
      "Algorithm: K-Mediods\n",
      "Iteration: 2312\n",
      "Algorithm: K-Means\n"
     ]
    },
    {
     "name": "stderr",
     "output_type": "stream",
     "text": [
      "/opt/homebrew/lib/python3.10/site-packages/sklearn_extra/cluster/_k_medoids.py:329: UserWarning: Cluster 1 is empty! self.labels_[self.medoid_indices_[1]] may not be labeled with its corresponding cluster (1).\n",
      "  warnings.warn(\n"
     ]
    },
    {
     "name": "stdout",
     "output_type": "stream",
     "text": [
      "Iteration: 2313\n",
      "Algorithm: K-Means\n",
      "Iteration: 2314\n",
      "Algorithm: K-Means\n",
      "Iteration: 2315\n",
      "Algorithm: EM Clustering\n",
      "Iteration: 2316\n",
      "Algorithm: Mean Shift\n",
      "Iteration: 2317\n",
      "Algorithm: K-Means\n",
      "Iteration: 2318\n",
      "Algorithm: K-Mediods\n"
     ]
    },
    {
     "name": "stderr",
     "output_type": "stream",
     "text": [
      "/opt/homebrew/lib/python3.10/site-packages/sklearn_extra/cluster/_k_medoids.py:329: UserWarning: Cluster 1 is empty! self.labels_[self.medoid_indices_[1]] may not be labeled with its corresponding cluster (1).\n",
      "  warnings.warn(\n"
     ]
    },
    {
     "name": "stdout",
     "output_type": "stream",
     "text": [
      "Iteration: 2319\n",
      "Algorithm: K-Means\n",
      "Iteration: 2320\n",
      "Algorithm: DBSCAN Clustering\n",
      "Iteration: 2321\n",
      "Algorithm: K-Means\n",
      "Iteration: 2322\n",
      "Algorithm: DBSCAN Clustering\n",
      "Iteration: 2323\n",
      "Algorithm: DBSCAN Clustering\n",
      "Iteration: 2324\n",
      "Algorithm: EM Clustering\n",
      "Iteration: 2325\n",
      "Algorithm: K-Mediods\n"
     ]
    },
    {
     "name": "stderr",
     "output_type": "stream",
     "text": [
      "/opt/homebrew/lib/python3.10/site-packages/sklearn_extra/cluster/_k_medoids.py:329: UserWarning: Cluster 1 is empty! self.labels_[self.medoid_indices_[1]] may not be labeled with its corresponding cluster (1).\n",
      "  warnings.warn(\n"
     ]
    },
    {
     "name": "stdout",
     "output_type": "stream",
     "text": [
      "Iteration: 2326\n",
      "Algorithm: DBSCAN Clustering\n",
      "Iteration: 2327\n",
      "Algorithm: K-Mediods\n"
     ]
    },
    {
     "name": "stderr",
     "output_type": "stream",
     "text": [
      "/opt/homebrew/lib/python3.10/site-packages/sklearn_extra/cluster/_k_medoids.py:329: UserWarning: Cluster 1 is empty! self.labels_[self.medoid_indices_[1]] may not be labeled with its corresponding cluster (1).\n",
      "  warnings.warn(\n"
     ]
    },
    {
     "name": "stdout",
     "output_type": "stream",
     "text": [
      "Iteration: 2328\n",
      "Algorithm: EM Clustering\n",
      "Iteration: 2329\n",
      "Algorithm: Mean Shift\n",
      "Iteration: 2330\n",
      "Algorithm: EM Clustering\n",
      "Iteration: 2331\n",
      "Algorithm: Mean Shift\n",
      "Iteration: 2332\n",
      "Algorithm: K-Means\n",
      "Iteration: 2333\n",
      "Algorithm: K-Mediods\n"
     ]
    },
    {
     "name": "stderr",
     "output_type": "stream",
     "text": [
      "/opt/homebrew/lib/python3.10/site-packages/sklearn_extra/cluster/_k_medoids.py:329: UserWarning: Cluster 1 is empty! self.labels_[self.medoid_indices_[1]] may not be labeled with its corresponding cluster (1).\n",
      "  warnings.warn(\n",
      "/opt/homebrew/lib/python3.10/site-packages/sklearn_extra/cluster/_k_medoids.py:329: UserWarning: Cluster 1 is empty! self.labels_[self.medoid_indices_[1]] may not be labeled with its corresponding cluster (1).\n",
      "  warnings.warn(\n"
     ]
    },
    {
     "name": "stdout",
     "output_type": "stream",
     "text": [
      "Iteration: 2334\n",
      "Algorithm: K-Mediods\n",
      "Iteration: 2335\n",
      "Algorithm: K-Mediods\n",
      "Iteration: 2336\n",
      "Algorithm: EM Clustering\n",
      "Iteration: 2337\n",
      "Algorithm: Mean Shift\n",
      "Iteration: 2338\n",
      "Algorithm: DBSCAN Clustering\n",
      "Iteration: 2339\n",
      "Algorithm: K-Means\n",
      "Iteration: 2340\n",
      "Algorithm: K-Means\n",
      "Iteration: 2341\n",
      "Algorithm: DBSCAN Clustering\n",
      "Iteration: 2342\n",
      "Algorithm: EM Clustering\n",
      "Iteration: 2343\n",
      "Algorithm: K-Mediods\n"
     ]
    },
    {
     "name": "stderr",
     "output_type": "stream",
     "text": [
      "/opt/homebrew/lib/python3.10/site-packages/sklearn_extra/cluster/_k_medoids.py:329: UserWarning: Cluster 1 is empty! self.labels_[self.medoid_indices_[1]] may not be labeled with its corresponding cluster (1).\n",
      "  warnings.warn(\n"
     ]
    },
    {
     "name": "stdout",
     "output_type": "stream",
     "text": [
      "Iteration: 2344\n",
      "Algorithm: DBSCAN Clustering\n",
      "Iteration: 2345\n",
      "Algorithm: K-Means\n",
      "Iteration: 2346\n",
      "Algorithm: EM Clustering\n",
      "Iteration: 2347\n",
      "Algorithm: K-Means\n",
      "Iteration: 2348\n",
      "Algorithm: K-Mediods\n",
      "Iteration: 2349\n",
      "Algorithm: K-Mediods\n"
     ]
    },
    {
     "name": "stderr",
     "output_type": "stream",
     "text": [
      "/opt/homebrew/lib/python3.10/site-packages/sklearn_extra/cluster/_k_medoids.py:329: UserWarning: Cluster 1 is empty! self.labels_[self.medoid_indices_[1]] may not be labeled with its corresponding cluster (1).\n",
      "  warnings.warn(\n",
      "/opt/homebrew/lib/python3.10/site-packages/sklearn_extra/cluster/_k_medoids.py:329: UserWarning: Cluster 1 is empty! self.labels_[self.medoid_indices_[1]] may not be labeled with its corresponding cluster (1).\n",
      "  warnings.warn(\n"
     ]
    },
    {
     "name": "stdout",
     "output_type": "stream",
     "text": [
      "Iteration: 2350\n",
      "Algorithm: K-Mediods\n",
      "Iteration: 2351\n",
      "Algorithm: K-Means\n"
     ]
    },
    {
     "name": "stderr",
     "output_type": "stream",
     "text": [
      "/opt/homebrew/lib/python3.10/site-packages/sklearn_extra/cluster/_k_medoids.py:329: UserWarning: Cluster 1 is empty! self.labels_[self.medoid_indices_[1]] may not be labeled with its corresponding cluster (1).\n",
      "  warnings.warn(\n"
     ]
    },
    {
     "name": "stdout",
     "output_type": "stream",
     "text": [
      "Iteration: 2352\n",
      "Algorithm: EM Clustering\n",
      "Iteration: 2353\n",
      "Algorithm: K-Mediods\n"
     ]
    },
    {
     "name": "stderr",
     "output_type": "stream",
     "text": [
      "/opt/homebrew/lib/python3.10/site-packages/sklearn_extra/cluster/_k_medoids.py:329: UserWarning: Cluster 1 is empty! self.labels_[self.medoid_indices_[1]] may not be labeled with its corresponding cluster (1).\n",
      "  warnings.warn(\n"
     ]
    },
    {
     "name": "stdout",
     "output_type": "stream",
     "text": [
      "Iteration: 2354\n",
      "Algorithm: EM Clustering\n",
      "Iteration: 2355\n",
      "Algorithm: DBSCAN Clustering\n",
      "Iteration: 2356\n",
      "Algorithm: Mean Shift\n",
      "Iteration: 2357\n",
      "Algorithm: K-Mediods\n",
      "Iteration: 2358\n",
      "Algorithm: Mean Shift\n"
     ]
    },
    {
     "name": "stderr",
     "output_type": "stream",
     "text": [
      "/opt/homebrew/lib/python3.10/site-packages/sklearn_extra/cluster/_k_medoids.py:329: UserWarning: Cluster 1 is empty! self.labels_[self.medoid_indices_[1]] may not be labeled with its corresponding cluster (1).\n",
      "  warnings.warn(\n"
     ]
    },
    {
     "name": "stdout",
     "output_type": "stream",
     "text": [
      "Iteration: 2359\n",
      "Algorithm: K-Mediods\n"
     ]
    },
    {
     "name": "stderr",
     "output_type": "stream",
     "text": [
      "/opt/homebrew/lib/python3.10/site-packages/sklearn_extra/cluster/_k_medoids.py:329: UserWarning: Cluster 1 is empty! self.labels_[self.medoid_indices_[1]] may not be labeled with its corresponding cluster (1).\n",
      "  warnings.warn(\n",
      "/opt/homebrew/lib/python3.10/site-packages/sklearn_extra/cluster/_k_medoids.py:329: UserWarning: Cluster 1 is empty! self.labels_[self.medoid_indices_[1]] may not be labeled with its corresponding cluster (1).\n",
      "  warnings.warn(\n"
     ]
    },
    {
     "name": "stdout",
     "output_type": "stream",
     "text": [
      "Iteration: 2360\n",
      "Algorithm: K-Mediods\n",
      "Iteration: 2361\n",
      "Algorithm: DBSCAN Clustering\n",
      "Iteration: 2362\n",
      "Algorithm: K-Mediods\n",
      "Iteration: 2363\n",
      "Algorithm: Mean Shift\n"
     ]
    },
    {
     "name": "stderr",
     "output_type": "stream",
     "text": [
      "/opt/homebrew/lib/python3.10/site-packages/sklearn_extra/cluster/_k_medoids.py:329: UserWarning: Cluster 1 is empty! self.labels_[self.medoid_indices_[1]] may not be labeled with its corresponding cluster (1).\n",
      "  warnings.warn(\n"
     ]
    },
    {
     "name": "stdout",
     "output_type": "stream",
     "text": [
      "Iteration: 2364\n",
      "Algorithm: EM Clustering\n",
      "Iteration: 2365\n",
      "Algorithm: K-Mediods\n"
     ]
    },
    {
     "name": "stderr",
     "output_type": "stream",
     "text": [
      "/opt/homebrew/lib/python3.10/site-packages/sklearn_extra/cluster/_k_medoids.py:329: UserWarning: Cluster 1 is empty! self.labels_[self.medoid_indices_[1]] may not be labeled with its corresponding cluster (1).\n",
      "  warnings.warn(\n"
     ]
    },
    {
     "name": "stdout",
     "output_type": "stream",
     "text": [
      "Iteration: 2366\n",
      "Algorithm: Mean Shift\n",
      "Iteration: 2367\n",
      "Algorithm: K-Mediods\n",
      "Iteration: 2368\n",
      "Algorithm: K-Mediods\n"
     ]
    },
    {
     "name": "stderr",
     "output_type": "stream",
     "text": [
      "/opt/homebrew/lib/python3.10/site-packages/sklearn_extra/cluster/_k_medoids.py:329: UserWarning: Cluster 1 is empty! self.labels_[self.medoid_indices_[1]] may not be labeled with its corresponding cluster (1).\n",
      "  warnings.warn(\n",
      "/opt/homebrew/lib/python3.10/site-packages/sklearn_extra/cluster/_k_medoids.py:329: UserWarning: Cluster 1 is empty! self.labels_[self.medoid_indices_[1]] may not be labeled with its corresponding cluster (1).\n",
      "  warnings.warn(\n"
     ]
    },
    {
     "name": "stdout",
     "output_type": "stream",
     "text": [
      "Iteration: 2369\n",
      "Algorithm: EM Clustering\n",
      "Iteration: 2370\n",
      "Algorithm: K-Means\n",
      "Iteration: 2371\n",
      "Algorithm: K-Mediods\n",
      "Iteration: 2372\n",
      "Algorithm: K-Mediods\n"
     ]
    },
    {
     "name": "stderr",
     "output_type": "stream",
     "text": [
      "/opt/homebrew/lib/python3.10/site-packages/sklearn_extra/cluster/_k_medoids.py:329: UserWarning: Cluster 1 is empty! self.labels_[self.medoid_indices_[1]] may not be labeled with its corresponding cluster (1).\n",
      "  warnings.warn(\n",
      "/opt/homebrew/lib/python3.10/site-packages/sklearn_extra/cluster/_k_medoids.py:329: UserWarning: Cluster 1 is empty! self.labels_[self.medoid_indices_[1]] may not be labeled with its corresponding cluster (1).\n",
      "  warnings.warn(\n"
     ]
    },
    {
     "name": "stdout",
     "output_type": "stream",
     "text": [
      "Iteration: 2373\n",
      "Algorithm: K-Means\n",
      "Iteration: 2374\n",
      "Algorithm: Mean Shift\n",
      "Iteration: 2375\n",
      "Algorithm: Mean Shift\n",
      "Iteration: 2376\n",
      "Algorithm: K-Means\n",
      "Iteration: 2377\n",
      "Algorithm: DBSCAN Clustering\n",
      "Iteration: 2378\n",
      "Algorithm: Mean Shift\n",
      "Iteration: 2379\n",
      "Algorithm: K-Means\n",
      "Iteration: 2380\n",
      "Algorithm: Mean Shift\n",
      "Iteration: 2381\n",
      "Algorithm: K-Mediods\n",
      "Iteration: 2382\n",
      "Algorithm: Mean Shift\n"
     ]
    },
    {
     "name": "stderr",
     "output_type": "stream",
     "text": [
      "/opt/homebrew/lib/python3.10/site-packages/sklearn_extra/cluster/_k_medoids.py:329: UserWarning: Cluster 1 is empty! self.labels_[self.medoid_indices_[1]] may not be labeled with its corresponding cluster (1).\n",
      "  warnings.warn(\n"
     ]
    },
    {
     "name": "stdout",
     "output_type": "stream",
     "text": [
      "Iteration: 2383\n",
      "Algorithm: K-Mediods\n"
     ]
    },
    {
     "name": "stderr",
     "output_type": "stream",
     "text": [
      "/opt/homebrew/lib/python3.10/site-packages/sklearn_extra/cluster/_k_medoids.py:329: UserWarning: Cluster 1 is empty! self.labels_[self.medoid_indices_[1]] may not be labeled with its corresponding cluster (1).\n",
      "  warnings.warn(\n"
     ]
    },
    {
     "name": "stdout",
     "output_type": "stream",
     "text": [
      "Iteration: 2384\n",
      "Algorithm: DBSCAN Clustering\n",
      "Iteration: 2385\n",
      "Algorithm: K-Means\n",
      "Iteration: 2386\n",
      "Algorithm: EM Clustering\n",
      "Iteration: 2387\n",
      "Algorithm: K-Mediods\n"
     ]
    },
    {
     "name": "stderr",
     "output_type": "stream",
     "text": [
      "/opt/homebrew/lib/python3.10/site-packages/sklearn_extra/cluster/_k_medoids.py:329: UserWarning: Cluster 1 is empty! self.labels_[self.medoid_indices_[1]] may not be labeled with its corresponding cluster (1).\n",
      "  warnings.warn(\n"
     ]
    },
    {
     "name": "stdout",
     "output_type": "stream",
     "text": [
      "Iteration: 2388\n",
      "Algorithm: Mean Shift\n",
      "Iteration: 2389\n",
      "Algorithm: K-Mediods\n",
      "Iteration: 2390\n",
      "Algorithm: K-Mediods\n"
     ]
    },
    {
     "name": "stderr",
     "output_type": "stream",
     "text": [
      "/opt/homebrew/lib/python3.10/site-packages/sklearn_extra/cluster/_k_medoids.py:329: UserWarning: Cluster 1 is empty! self.labels_[self.medoid_indices_[1]] may not be labeled with its corresponding cluster (1).\n",
      "  warnings.warn(\n",
      "/opt/homebrew/lib/python3.10/site-packages/sklearn_extra/cluster/_k_medoids.py:329: UserWarning: Cluster 1 is empty! self.labels_[self.medoid_indices_[1]] may not be labeled with its corresponding cluster (1).\n",
      "  warnings.warn(\n"
     ]
    },
    {
     "name": "stdout",
     "output_type": "stream",
     "text": [
      "Iteration: 2391\n",
      "Algorithm: K-Mediods\n",
      "Iteration: 2392\n",
      "Algorithm: Mean Shift\n"
     ]
    },
    {
     "name": "stderr",
     "output_type": "stream",
     "text": [
      "/opt/homebrew/lib/python3.10/site-packages/sklearn_extra/cluster/_k_medoids.py:329: UserWarning: Cluster 1 is empty! self.labels_[self.medoid_indices_[1]] may not be labeled with its corresponding cluster (1).\n",
      "  warnings.warn(\n"
     ]
    },
    {
     "name": "stdout",
     "output_type": "stream",
     "text": [
      "Iteration: 2393\n",
      "Algorithm: EM Clustering\n",
      "Iteration: 2394\n",
      "Algorithm: K-Means\n",
      "Iteration: 2395\n",
      "Algorithm: K-Mediods\n"
     ]
    },
    {
     "name": "stderr",
     "output_type": "stream",
     "text": [
      "/opt/homebrew/lib/python3.10/site-packages/sklearn_extra/cluster/_k_medoids.py:329: UserWarning: Cluster 1 is empty! self.labels_[self.medoid_indices_[1]] may not be labeled with its corresponding cluster (1).\n",
      "  warnings.warn(\n"
     ]
    },
    {
     "name": "stdout",
     "output_type": "stream",
     "text": [
      "Iteration: 2396\n",
      "Algorithm: K-Means\n",
      "Iteration: 2397\n",
      "Algorithm: DBSCAN Clustering\n",
      "Iteration: 2398\n",
      "Algorithm: Mean Shift\n",
      "Iteration: 2399\n",
      "Algorithm: K-Mediods\n"
     ]
    },
    {
     "name": "stderr",
     "output_type": "stream",
     "text": [
      "/opt/homebrew/lib/python3.10/site-packages/sklearn_extra/cluster/_k_medoids.py:329: UserWarning: Cluster 1 is empty! self.labels_[self.medoid_indices_[1]] may not be labeled with its corresponding cluster (1).\n",
      "  warnings.warn(\n"
     ]
    },
    {
     "name": "stdout",
     "output_type": "stream",
     "text": [
      "Iteration: 2400\n",
      "Algorithm: K-Means\n",
      "Iteration: 2401\n",
      "Algorithm: EM Clustering\n",
      "Iteration: 2402\n",
      "Algorithm: K-Mediods\n"
     ]
    },
    {
     "name": "stderr",
     "output_type": "stream",
     "text": [
      "/opt/homebrew/lib/python3.10/site-packages/sklearn_extra/cluster/_k_medoids.py:329: UserWarning: Cluster 1 is empty! self.labels_[self.medoid_indices_[1]] may not be labeled with its corresponding cluster (1).\n",
      "  warnings.warn(\n",
      "/opt/homebrew/lib/python3.10/site-packages/sklearn_extra/cluster/_k_medoids.py:329: UserWarning: Cluster 1 is empty! self.labels_[self.medoid_indices_[1]] may not be labeled with its corresponding cluster (1).\n",
      "  warnings.warn(\n"
     ]
    },
    {
     "name": "stdout",
     "output_type": "stream",
     "text": [
      "Iteration: 2403\n",
      "Algorithm: K-Mediods\n",
      "Iteration: 2404\n",
      "Algorithm: K-Mediods\n"
     ]
    },
    {
     "name": "stderr",
     "output_type": "stream",
     "text": [
      "/opt/homebrew/lib/python3.10/site-packages/sklearn_extra/cluster/_k_medoids.py:329: UserWarning: Cluster 1 is empty! self.labels_[self.medoid_indices_[1]] may not be labeled with its corresponding cluster (1).\n",
      "  warnings.warn(\n"
     ]
    },
    {
     "name": "stdout",
     "output_type": "stream",
     "text": [
      "Iteration: 2405\n",
      "Algorithm: K-Mediods\n"
     ]
    },
    {
     "name": "stderr",
     "output_type": "stream",
     "text": [
      "/opt/homebrew/lib/python3.10/site-packages/sklearn_extra/cluster/_k_medoids.py:329: UserWarning: Cluster 1 is empty! self.labels_[self.medoid_indices_[1]] may not be labeled with its corresponding cluster (1).\n",
      "  warnings.warn(\n"
     ]
    },
    {
     "name": "stdout",
     "output_type": "stream",
     "text": [
      "Iteration: 2406\n",
      "Algorithm: K-Means\n",
      "Iteration: 2407\n",
      "Algorithm: Mean Shift\n",
      "Iteration: 2408\n",
      "Algorithm: K-Means\n",
      "Iteration: 2409\n",
      "Algorithm: EM Clustering\n",
      "Iteration: 2410\n",
      "Algorithm: DBSCAN Clustering\n",
      "Iteration: 2411\n",
      "Algorithm: K-Means\n",
      "Iteration: 2412\n",
      "Algorithm: DBSCAN Clustering\n",
      "Iteration: 2413\n",
      "Algorithm: K-Mediods\n"
     ]
    },
    {
     "name": "stderr",
     "output_type": "stream",
     "text": [
      "/opt/homebrew/lib/python3.10/site-packages/sklearn_extra/cluster/_k_medoids.py:329: UserWarning: Cluster 1 is empty! self.labels_[self.medoid_indices_[1]] may not be labeled with its corresponding cluster (1).\n",
      "  warnings.warn(\n"
     ]
    },
    {
     "name": "stdout",
     "output_type": "stream",
     "text": [
      "Iteration: 2414\n",
      "Algorithm: Mean Shift\n",
      "Iteration: 2415\n",
      "Algorithm: K-Means\n",
      "Iteration: 2416\n",
      "Algorithm: K-Mediods\n"
     ]
    },
    {
     "name": "stderr",
     "output_type": "stream",
     "text": [
      "/opt/homebrew/lib/python3.10/site-packages/sklearn_extra/cluster/_k_medoids.py:329: UserWarning: Cluster 1 is empty! self.labels_[self.medoid_indices_[1]] may not be labeled with its corresponding cluster (1).\n",
      "  warnings.warn(\n"
     ]
    },
    {
     "name": "stdout",
     "output_type": "stream",
     "text": [
      "Iteration: 2417\n",
      "Algorithm: Mean Shift\n",
      "Iteration: 2418\n",
      "Algorithm: DBSCAN Clustering\n",
      "Iteration: 2419\n",
      "Algorithm: K-Mediods\n"
     ]
    },
    {
     "name": "stderr",
     "output_type": "stream",
     "text": [
      "/opt/homebrew/lib/python3.10/site-packages/sklearn_extra/cluster/_k_medoids.py:329: UserWarning: Cluster 1 is empty! self.labels_[self.medoid_indices_[1]] may not be labeled with its corresponding cluster (1).\n",
      "  warnings.warn(\n"
     ]
    },
    {
     "name": "stdout",
     "output_type": "stream",
     "text": [
      "Iteration: 2420\n",
      "Algorithm: Mean Shift\n",
      "Iteration: 2421\n",
      "Algorithm: DBSCAN Clustering\n",
      "Iteration: 2422\n",
      "Algorithm: Mean Shift\n",
      "Iteration: 2423\n",
      "Algorithm: K-Mediods\n",
      "Iteration: 2424\n",
      "Algorithm: K-Mediods\n"
     ]
    },
    {
     "name": "stderr",
     "output_type": "stream",
     "text": [
      "/opt/homebrew/lib/python3.10/site-packages/sklearn_extra/cluster/_k_medoids.py:329: UserWarning: Cluster 1 is empty! self.labels_[self.medoid_indices_[1]] may not be labeled with its corresponding cluster (1).\n",
      "  warnings.warn(\n",
      "/opt/homebrew/lib/python3.10/site-packages/sklearn_extra/cluster/_k_medoids.py:329: UserWarning: Cluster 1 is empty! self.labels_[self.medoid_indices_[1]] may not be labeled with its corresponding cluster (1).\n",
      "  warnings.warn(\n"
     ]
    },
    {
     "name": "stdout",
     "output_type": "stream",
     "text": [
      "Iteration: 2425\n",
      "Algorithm: DBSCAN Clustering\n",
      "Iteration: 2426\n",
      "Algorithm: K-Means\n",
      "Iteration: 2427\n",
      "Algorithm: DBSCAN Clustering\n",
      "Iteration: 2428\n",
      "Algorithm: K-Mediods\n"
     ]
    },
    {
     "name": "stderr",
     "output_type": "stream",
     "text": [
      "/opt/homebrew/lib/python3.10/site-packages/sklearn_extra/cluster/_k_medoids.py:329: UserWarning: Cluster 1 is empty! self.labels_[self.medoid_indices_[1]] may not be labeled with its corresponding cluster (1).\n",
      "  warnings.warn(\n",
      "/opt/homebrew/lib/python3.10/site-packages/sklearn_extra/cluster/_k_medoids.py:329: UserWarning: Cluster 1 is empty! self.labels_[self.medoid_indices_[1]] may not be labeled with its corresponding cluster (1).\n",
      "  warnings.warn(\n"
     ]
    },
    {
     "name": "stdout",
     "output_type": "stream",
     "text": [
      "Iteration: 2429\n",
      "Algorithm: K-Mediods\n",
      "Iteration: 2430\n",
      "Algorithm: EM Clustering\n",
      "Iteration: 2431\n",
      "Algorithm: K-Mediods\n"
     ]
    },
    {
     "name": "stderr",
     "output_type": "stream",
     "text": [
      "/opt/homebrew/lib/python3.10/site-packages/sklearn_extra/cluster/_k_medoids.py:329: UserWarning: Cluster 1 is empty! self.labels_[self.medoid_indices_[1]] may not be labeled with its corresponding cluster (1).\n",
      "  warnings.warn(\n",
      "/opt/homebrew/lib/python3.10/site-packages/sklearn_extra/cluster/_k_medoids.py:329: UserWarning: Cluster 1 is empty! self.labels_[self.medoid_indices_[1]] may not be labeled with its corresponding cluster (1).\n",
      "  warnings.warn(\n"
     ]
    },
    {
     "name": "stdout",
     "output_type": "stream",
     "text": [
      "Iteration: 2432\n",
      "Algorithm: K-Mediods\n",
      "Iteration: 2433\n",
      "Algorithm: K-Means\n",
      "Iteration: 2434\n",
      "Algorithm: DBSCAN Clustering\n",
      "Iteration: 2435\n",
      "Algorithm: EM Clustering\n",
      "Iteration: 2436\n",
      "Algorithm: DBSCAN Clustering\n",
      "Iteration: 2437\n",
      "Algorithm: K-Means\n",
      "Iteration: 2438\n",
      "Algorithm: K-Means\n",
      "Iteration: 2439\n",
      "Algorithm: K-Mediods\n",
      "Iteration: 2440\n",
      "Algorithm: K-Mediods\n"
     ]
    },
    {
     "name": "stderr",
     "output_type": "stream",
     "text": [
      "/opt/homebrew/lib/python3.10/site-packages/sklearn_extra/cluster/_k_medoids.py:329: UserWarning: Cluster 1 is empty! self.labels_[self.medoid_indices_[1]] may not be labeled with its corresponding cluster (1).\n",
      "  warnings.warn(\n",
      "/opt/homebrew/lib/python3.10/site-packages/sklearn_extra/cluster/_k_medoids.py:329: UserWarning: Cluster 1 is empty! self.labels_[self.medoid_indices_[1]] may not be labeled with its corresponding cluster (1).\n",
      "  warnings.warn(\n"
     ]
    },
    {
     "name": "stdout",
     "output_type": "stream",
     "text": [
      "Iteration: 2441\n",
      "Algorithm: DBSCAN Clustering\n",
      "Iteration: 2442\n",
      "Algorithm: K-Mediods\n"
     ]
    },
    {
     "name": "stderr",
     "output_type": "stream",
     "text": [
      "/opt/homebrew/lib/python3.10/site-packages/sklearn_extra/cluster/_k_medoids.py:329: UserWarning: Cluster 1 is empty! self.labels_[self.medoid_indices_[1]] may not be labeled with its corresponding cluster (1).\n",
      "  warnings.warn(\n"
     ]
    },
    {
     "name": "stdout",
     "output_type": "stream",
     "text": [
      "Iteration: 2443\n",
      "Algorithm: Mean Shift\n",
      "Iteration: 2444\n",
      "Algorithm: K-Mediods\n"
     ]
    },
    {
     "name": "stderr",
     "output_type": "stream",
     "text": [
      "/opt/homebrew/lib/python3.10/site-packages/sklearn_extra/cluster/_k_medoids.py:329: UserWarning: Cluster 1 is empty! self.labels_[self.medoid_indices_[1]] may not be labeled with its corresponding cluster (1).\n",
      "  warnings.warn(\n"
     ]
    },
    {
     "name": "stdout",
     "output_type": "stream",
     "text": [
      "Iteration: 2445\n",
      "Algorithm: DBSCAN Clustering\n",
      "Iteration: 2446\n",
      "Algorithm: DBSCAN Clustering\n",
      "Iteration: 2447\n",
      "Algorithm: EM Clustering\n",
      "Iteration: 2448\n",
      "Algorithm: K-Mediods\n"
     ]
    },
    {
     "name": "stderr",
     "output_type": "stream",
     "text": [
      "/opt/homebrew/lib/python3.10/site-packages/sklearn_extra/cluster/_k_medoids.py:329: UserWarning: Cluster 1 is empty! self.labels_[self.medoid_indices_[1]] may not be labeled with its corresponding cluster (1).\n",
      "  warnings.warn(\n"
     ]
    },
    {
     "name": "stdout",
     "output_type": "stream",
     "text": [
      "Iteration: 2449\n",
      "Algorithm: K-Means\n",
      "Iteration: 2450\n",
      "Algorithm: K-Mediods\n"
     ]
    },
    {
     "name": "stderr",
     "output_type": "stream",
     "text": [
      "/opt/homebrew/lib/python3.10/site-packages/sklearn_extra/cluster/_k_medoids.py:329: UserWarning: Cluster 1 is empty! self.labels_[self.medoid_indices_[1]] may not be labeled with its corresponding cluster (1).\n",
      "  warnings.warn(\n"
     ]
    },
    {
     "name": "stdout",
     "output_type": "stream",
     "text": [
      "Iteration: 2451\n",
      "Algorithm: Mean Shift\n",
      "Iteration: 2452\n",
      "Algorithm: K-Means\n",
      "Iteration: 2453\n",
      "Algorithm: K-Mediods\n"
     ]
    },
    {
     "name": "stderr",
     "output_type": "stream",
     "text": [
      "/opt/homebrew/lib/python3.10/site-packages/sklearn_extra/cluster/_k_medoids.py:329: UserWarning: Cluster 1 is empty! self.labels_[self.medoid_indices_[1]] may not be labeled with its corresponding cluster (1).\n",
      "  warnings.warn(\n",
      "/opt/homebrew/lib/python3.10/site-packages/sklearn_extra/cluster/_k_medoids.py:329: UserWarning: Cluster 1 is empty! self.labels_[self.medoid_indices_[1]] may not be labeled with its corresponding cluster (1).\n",
      "  warnings.warn(\n"
     ]
    },
    {
     "name": "stdout",
     "output_type": "stream",
     "text": [
      "Iteration: 2454\n",
      "Algorithm: K-Mediods\n",
      "Iteration: 2455\n",
      "Algorithm: K-Mediods\n"
     ]
    },
    {
     "name": "stderr",
     "output_type": "stream",
     "text": [
      "/opt/homebrew/lib/python3.10/site-packages/sklearn_extra/cluster/_k_medoids.py:329: UserWarning: Cluster 1 is empty! self.labels_[self.medoid_indices_[1]] may not be labeled with its corresponding cluster (1).\n",
      "  warnings.warn(\n"
     ]
    },
    {
     "name": "stdout",
     "output_type": "stream",
     "text": [
      "Iteration: 2456\n",
      "Algorithm: K-Means\n",
      "Iteration: 2457\n",
      "Algorithm: Mean Shift\n",
      "Iteration: 2458\n",
      "Algorithm: K-Mediods\n",
      "Iteration: 2459\n",
      "Algorithm: Mean Shift\n"
     ]
    },
    {
     "name": "stderr",
     "output_type": "stream",
     "text": [
      "/opt/homebrew/lib/python3.10/site-packages/sklearn_extra/cluster/_k_medoids.py:329: UserWarning: Cluster 1 is empty! self.labels_[self.medoid_indices_[1]] may not be labeled with its corresponding cluster (1).\n",
      "  warnings.warn(\n"
     ]
    },
    {
     "name": "stdout",
     "output_type": "stream",
     "text": [
      "Iteration: 2460\n",
      "Algorithm: K-Mediods\n"
     ]
    },
    {
     "name": "stderr",
     "output_type": "stream",
     "text": [
      "/opt/homebrew/lib/python3.10/site-packages/sklearn_extra/cluster/_k_medoids.py:329: UserWarning: Cluster 1 is empty! self.labels_[self.medoid_indices_[1]] may not be labeled with its corresponding cluster (1).\n",
      "  warnings.warn(\n",
      "/opt/homebrew/lib/python3.10/site-packages/sklearn_extra/cluster/_k_medoids.py:329: UserWarning: Cluster 1 is empty! self.labels_[self.medoid_indices_[1]] may not be labeled with its corresponding cluster (1).\n",
      "  warnings.warn(\n"
     ]
    },
    {
     "name": "stdout",
     "output_type": "stream",
     "text": [
      "Iteration: 2461\n",
      "Algorithm: K-Mediods\n",
      "Iteration: 2462\n",
      "Algorithm: Mean Shift\n",
      "Iteration: 2463\n",
      "Algorithm: Mean Shift\n",
      "Iteration: 2464\n",
      "Algorithm: K-Mediods\n"
     ]
    },
    {
     "name": "stderr",
     "output_type": "stream",
     "text": [
      "/opt/homebrew/lib/python3.10/site-packages/sklearn_extra/cluster/_k_medoids.py:329: UserWarning: Cluster 1 is empty! self.labels_[self.medoid_indices_[1]] may not be labeled with its corresponding cluster (1).\n",
      "  warnings.warn(\n",
      "/opt/homebrew/lib/python3.10/site-packages/sklearn_extra/cluster/_k_medoids.py:329: UserWarning: Cluster 1 is empty! self.labels_[self.medoid_indices_[1]] may not be labeled with its corresponding cluster (1).\n",
      "  warnings.warn(\n"
     ]
    },
    {
     "name": "stdout",
     "output_type": "stream",
     "text": [
      "Iteration: 2465\n",
      "Algorithm: K-Mediods\n",
      "Iteration: 2466\n",
      "Algorithm: EM Clustering\n",
      "Iteration: 2467\n",
      "Algorithm: EM Clustering\n",
      "Iteration: 2468\n",
      "Algorithm: EM Clustering\n",
      "Iteration: 2469\n",
      "Algorithm: EM Clustering\n",
      "Iteration: 2470\n",
      "Algorithm: K-Means\n",
      "Iteration: 2471\n",
      "Algorithm: K-Mediods\n"
     ]
    },
    {
     "name": "stderr",
     "output_type": "stream",
     "text": [
      "/opt/homebrew/lib/python3.10/site-packages/sklearn_extra/cluster/_k_medoids.py:329: UserWarning: Cluster 1 is empty! self.labels_[self.medoid_indices_[1]] may not be labeled with its corresponding cluster (1).\n",
      "  warnings.warn(\n"
     ]
    },
    {
     "name": "stdout",
     "output_type": "stream",
     "text": [
      "Iteration: 2472\n",
      "Algorithm: K-Means\n",
      "Iteration: 2473\n",
      "Algorithm: DBSCAN Clustering\n",
      "Iteration: 2474\n",
      "Algorithm: EM Clustering\n",
      "Iteration: 2475\n",
      "Algorithm: K-Mediods\n"
     ]
    },
    {
     "name": "stderr",
     "output_type": "stream",
     "text": [
      "/opt/homebrew/lib/python3.10/site-packages/sklearn_extra/cluster/_k_medoids.py:329: UserWarning: Cluster 1 is empty! self.labels_[self.medoid_indices_[1]] may not be labeled with its corresponding cluster (1).\n",
      "  warnings.warn(\n",
      "/opt/homebrew/lib/python3.10/site-packages/sklearn_extra/cluster/_k_medoids.py:329: UserWarning: Cluster 1 is empty! self.labels_[self.medoid_indices_[1]] may not be labeled with its corresponding cluster (1).\n",
      "  warnings.warn(\n"
     ]
    },
    {
     "name": "stdout",
     "output_type": "stream",
     "text": [
      "Iteration: 2476\n",
      "Algorithm: K-Mediods\n",
      "Iteration: 2477\n",
      "Algorithm: Mean Shift\n",
      "Iteration: 2478\n",
      "Algorithm: DBSCAN Clustering\n",
      "Iteration: 2479\n",
      "Algorithm: K-Mediods\n"
     ]
    },
    {
     "name": "stderr",
     "output_type": "stream",
     "text": [
      "/opt/homebrew/lib/python3.10/site-packages/sklearn_extra/cluster/_k_medoids.py:329: UserWarning: Cluster 1 is empty! self.labels_[self.medoid_indices_[1]] may not be labeled with its corresponding cluster (1).\n",
      "  warnings.warn(\n"
     ]
    },
    {
     "name": "stdout",
     "output_type": "stream",
     "text": [
      "Iteration: 2480\n",
      "Algorithm: K-Means\n",
      "Iteration: 2481\n",
      "Algorithm: DBSCAN Clustering\n",
      "Iteration: 2482\n",
      "Algorithm: DBSCAN Clustering\n",
      "Iteration: 2483\n",
      "Algorithm: Mean Shift\n",
      "Iteration: 2484\n",
      "Algorithm: K-Mediods\n"
     ]
    },
    {
     "name": "stderr",
     "output_type": "stream",
     "text": [
      "/opt/homebrew/lib/python3.10/site-packages/sklearn_extra/cluster/_k_medoids.py:329: UserWarning: Cluster 1 is empty! self.labels_[self.medoid_indices_[1]] may not be labeled with its corresponding cluster (1).\n",
      "  warnings.warn(\n"
     ]
    },
    {
     "name": "stdout",
     "output_type": "stream",
     "text": [
      "Iteration: 2485\n",
      "Algorithm: DBSCAN Clustering\n",
      "Iteration: 2486\n",
      "Algorithm: EM Clustering\n",
      "Iteration: 2487\n",
      "Algorithm: K-Mediods\n",
      "Iteration: 2488\n",
      "Algorithm: DBSCAN Clustering\n"
     ]
    },
    {
     "name": "stderr",
     "output_type": "stream",
     "text": [
      "/opt/homebrew/lib/python3.10/site-packages/sklearn_extra/cluster/_k_medoids.py:329: UserWarning: Cluster 1 is empty! self.labels_[self.medoid_indices_[1]] may not be labeled with its corresponding cluster (1).\n",
      "  warnings.warn(\n"
     ]
    },
    {
     "name": "stdout",
     "output_type": "stream",
     "text": [
      "Iteration: 2489\n",
      "Algorithm: K-Means\n",
      "Iteration: 2490\n",
      "Algorithm: DBSCAN Clustering\n",
      "Iteration: 2491\n",
      "Algorithm: DBSCAN Clustering\n",
      "Iteration: 2492\n",
      "Algorithm: K-Mediods\n",
      "Iteration: 2493\n",
      "Algorithm: EM Clustering\n",
      "Iteration: 2494\n",
      "Algorithm: Mean Shift\n",
      "Iteration: 2495\n",
      "Algorithm: EM Clustering\n",
      "Iteration: 2496\n",
      "Algorithm: K-Mediods\n"
     ]
    },
    {
     "name": "stderr",
     "output_type": "stream",
     "text": [
      "/opt/homebrew/lib/python3.10/site-packages/sklearn_extra/cluster/_k_medoids.py:329: UserWarning: Cluster 1 is empty! self.labels_[self.medoid_indices_[1]] may not be labeled with its corresponding cluster (1).\n",
      "  warnings.warn(\n"
     ]
    },
    {
     "name": "stdout",
     "output_type": "stream",
     "text": [
      "Iteration: 2497\n",
      "Algorithm: K-Means\n",
      "Iteration: 2498\n",
      "Algorithm: EM Clustering\n",
      "Iteration: 2499\n",
      "Algorithm: K-Means\n",
      "Iteration: 2500\n",
      "Algorithm: K-Mediods\n"
     ]
    },
    {
     "name": "stderr",
     "output_type": "stream",
     "text": [
      "/opt/homebrew/lib/python3.10/site-packages/sklearn_extra/cluster/_k_medoids.py:329: UserWarning: Cluster 1 is empty! self.labels_[self.medoid_indices_[1]] may not be labeled with its corresponding cluster (1).\n",
      "  warnings.warn(\n",
      "/opt/homebrew/lib/python3.10/site-packages/sklearn_extra/cluster/_k_medoids.py:329: UserWarning: Cluster 1 is empty! self.labels_[self.medoid_indices_[1]] may not be labeled with its corresponding cluster (1).\n",
      "  warnings.warn(\n"
     ]
    },
    {
     "name": "stdout",
     "output_type": "stream",
     "text": [
      "Iteration: 2501\n",
      "Algorithm: K-Mediods\n",
      "Iteration: 2502\n",
      "Algorithm: K-Mediods\n"
     ]
    },
    {
     "name": "stderr",
     "output_type": "stream",
     "text": [
      "/opt/homebrew/lib/python3.10/site-packages/sklearn_extra/cluster/_k_medoids.py:329: UserWarning: Cluster 1 is empty! self.labels_[self.medoid_indices_[1]] may not be labeled with its corresponding cluster (1).\n",
      "  warnings.warn(\n"
     ]
    },
    {
     "name": "stdout",
     "output_type": "stream",
     "text": [
      "Iteration: 2503\n",
      "Algorithm: EM Clustering\n",
      "Iteration: 2504\n",
      "Algorithm: K-Mediods\n"
     ]
    },
    {
     "name": "stderr",
     "output_type": "stream",
     "text": [
      "/opt/homebrew/lib/python3.10/site-packages/sklearn_extra/cluster/_k_medoids.py:329: UserWarning: Cluster 1 is empty! self.labels_[self.medoid_indices_[1]] may not be labeled with its corresponding cluster (1).\n",
      "  warnings.warn(\n"
     ]
    },
    {
     "name": "stdout",
     "output_type": "stream",
     "text": [
      "Iteration: 2505\n",
      "Algorithm: EM Clustering\n",
      "Iteration: 2506\n",
      "Algorithm: Mean Shift\n",
      "Iteration: 2507\n",
      "Algorithm: K-Mediods\n",
      "Iteration: 2508\n",
      "Algorithm: DBSCAN Clustering\n"
     ]
    },
    {
     "name": "stderr",
     "output_type": "stream",
     "text": [
      "/opt/homebrew/lib/python3.10/site-packages/sklearn_extra/cluster/_k_medoids.py:329: UserWarning: Cluster 1 is empty! self.labels_[self.medoid_indices_[1]] may not be labeled with its corresponding cluster (1).\n",
      "  warnings.warn(\n"
     ]
    },
    {
     "name": "stdout",
     "output_type": "stream",
     "text": [
      "Iteration: 2509\n",
      "Algorithm: Mean Shift\n",
      "Iteration: 2510\n",
      "Algorithm: DBSCAN Clustering\n",
      "Iteration: 2511\n",
      "Algorithm: EM Clustering\n",
      "Iteration: 2512\n",
      "Algorithm: DBSCAN Clustering\n",
      "Iteration: 2513\n",
      "Algorithm: K-Means\n",
      "Iteration: 2514\n",
      "Algorithm: K-Mediods\n"
     ]
    },
    {
     "name": "stderr",
     "output_type": "stream",
     "text": [
      "/opt/homebrew/lib/python3.10/site-packages/sklearn_extra/cluster/_k_medoids.py:329: UserWarning: Cluster 1 is empty! self.labels_[self.medoid_indices_[1]] may not be labeled with its corresponding cluster (1).\n",
      "  warnings.warn(\n"
     ]
    },
    {
     "name": "stdout",
     "output_type": "stream",
     "text": [
      "Iteration: 2515\n",
      "Algorithm: Mean Shift\n",
      "Iteration: 2516\n",
      "Algorithm: EM Clustering\n",
      "Iteration: 2517\n",
      "Algorithm: EM Clustering\n",
      "Iteration: 2518\n",
      "Algorithm: DBSCAN Clustering\n",
      "Iteration: 2519\n",
      "Algorithm: K-Means\n",
      "Iteration: 2520\n",
      "Algorithm: K-Mediods\n"
     ]
    },
    {
     "name": "stderr",
     "output_type": "stream",
     "text": [
      "/opt/homebrew/lib/python3.10/site-packages/sklearn_extra/cluster/_k_medoids.py:329: UserWarning: Cluster 1 is empty! self.labels_[self.medoid_indices_[1]] may not be labeled with its corresponding cluster (1).\n",
      "  warnings.warn(\n"
     ]
    },
    {
     "name": "stdout",
     "output_type": "stream",
     "text": [
      "Iteration: 2521\n",
      "Algorithm: K-Means\n",
      "Iteration: 2522\n",
      "Algorithm: K-Mediods\n"
     ]
    },
    {
     "name": "stderr",
     "output_type": "stream",
     "text": [
      "/opt/homebrew/lib/python3.10/site-packages/sklearn_extra/cluster/_k_medoids.py:329: UserWarning: Cluster 1 is empty! self.labels_[self.medoid_indices_[1]] may not be labeled with its corresponding cluster (1).\n",
      "  warnings.warn(\n"
     ]
    },
    {
     "name": "stdout",
     "output_type": "stream",
     "text": [
      "Iteration: 2523\n",
      "Algorithm: DBSCAN Clustering\n",
      "Iteration: 2524\n",
      "Algorithm: Mean Shift\n",
      "Iteration: 2525\n",
      "Algorithm: K-Means\n",
      "Iteration: 2526\n",
      "Algorithm: K-Mediods\n"
     ]
    },
    {
     "name": "stderr",
     "output_type": "stream",
     "text": [
      "/opt/homebrew/lib/python3.10/site-packages/sklearn_extra/cluster/_k_medoids.py:329: UserWarning: Cluster 1 is empty! self.labels_[self.medoid_indices_[1]] may not be labeled with its corresponding cluster (1).\n",
      "  warnings.warn(\n"
     ]
    },
    {
     "name": "stdout",
     "output_type": "stream",
     "text": [
      "Iteration: 2527\n",
      "Algorithm: EM Clustering\n",
      "Iteration: 2528\n",
      "Algorithm: EM Clustering\n",
      "Iteration: 2529\n",
      "Algorithm: K-Mediods\n"
     ]
    },
    {
     "name": "stderr",
     "output_type": "stream",
     "text": [
      "/opt/homebrew/lib/python3.10/site-packages/sklearn_extra/cluster/_k_medoids.py:329: UserWarning: Cluster 1 is empty! self.labels_[self.medoid_indices_[1]] may not be labeled with its corresponding cluster (1).\n",
      "  warnings.warn(\n"
     ]
    },
    {
     "name": "stdout",
     "output_type": "stream",
     "text": [
      "Iteration: 2530\n",
      "Algorithm: DBSCAN Clustering\n",
      "Iteration: 2531\n",
      "Algorithm: EM Clustering\n",
      "Iteration: 2532\n",
      "Algorithm: Mean Shift\n",
      "Iteration: 2533\n",
      "Algorithm: K-Mediods\n"
     ]
    },
    {
     "name": "stderr",
     "output_type": "stream",
     "text": [
      "/opt/homebrew/lib/python3.10/site-packages/sklearn_extra/cluster/_k_medoids.py:329: UserWarning: Cluster 1 is empty! self.labels_[self.medoid_indices_[1]] may not be labeled with its corresponding cluster (1).\n",
      "  warnings.warn(\n"
     ]
    },
    {
     "name": "stdout",
     "output_type": "stream",
     "text": [
      "Iteration: 2534\n",
      "Algorithm: EM Clustering\n",
      "Iteration: 2535\n",
      "Algorithm: K-Mediods\n"
     ]
    },
    {
     "name": "stderr",
     "output_type": "stream",
     "text": [
      "/opt/homebrew/lib/python3.10/site-packages/sklearn_extra/cluster/_k_medoids.py:329: UserWarning: Cluster 1 is empty! self.labels_[self.medoid_indices_[1]] may not be labeled with its corresponding cluster (1).\n",
      "  warnings.warn(\n"
     ]
    },
    {
     "name": "stdout",
     "output_type": "stream",
     "text": [
      "Iteration: 2536\n",
      "Algorithm: K-Means\n",
      "Iteration: 2537\n",
      "Algorithm: DBSCAN Clustering\n",
      "Iteration: 2538\n",
      "Algorithm: K-Means\n",
      "Iteration: 2539\n",
      "Algorithm: K-Means\n",
      "Iteration: 2540\n",
      "Algorithm: DBSCAN Clustering\n",
      "Iteration: 2541\n",
      "Algorithm: K-Mediods\n"
     ]
    },
    {
     "name": "stderr",
     "output_type": "stream",
     "text": [
      "/opt/homebrew/lib/python3.10/site-packages/sklearn_extra/cluster/_k_medoids.py:329: UserWarning: Cluster 1 is empty! self.labels_[self.medoid_indices_[1]] may not be labeled with its corresponding cluster (1).\n",
      "  warnings.warn(\n",
      "/opt/homebrew/lib/python3.10/site-packages/sklearn_extra/cluster/_k_medoids.py:329: UserWarning: Cluster 1 is empty! self.labels_[self.medoid_indices_[1]] may not be labeled with its corresponding cluster (1).\n",
      "  warnings.warn(\n"
     ]
    },
    {
     "name": "stdout",
     "output_type": "stream",
     "text": [
      "Iteration: 2542\n",
      "Algorithm: K-Mediods\n",
      "Iteration: 2543\n",
      "Algorithm: K-Mediods\n"
     ]
    },
    {
     "name": "stderr",
     "output_type": "stream",
     "text": [
      "/opt/homebrew/lib/python3.10/site-packages/sklearn_extra/cluster/_k_medoids.py:329: UserWarning: Cluster 1 is empty! self.labels_[self.medoid_indices_[1]] may not be labeled with its corresponding cluster (1).\n",
      "  warnings.warn(\n"
     ]
    },
    {
     "name": "stdout",
     "output_type": "stream",
     "text": [
      "Iteration: 2544\n",
      "Algorithm: K-Mediods\n"
     ]
    },
    {
     "name": "stderr",
     "output_type": "stream",
     "text": [
      "/opt/homebrew/lib/python3.10/site-packages/sklearn_extra/cluster/_k_medoids.py:329: UserWarning: Cluster 1 is empty! self.labels_[self.medoid_indices_[1]] may not be labeled with its corresponding cluster (1).\n",
      "  warnings.warn(\n",
      "/opt/homebrew/lib/python3.10/site-packages/sklearn_extra/cluster/_k_medoids.py:329: UserWarning: Cluster 1 is empty! self.labels_[self.medoid_indices_[1]] may not be labeled with its corresponding cluster (1).\n",
      "  warnings.warn(\n"
     ]
    },
    {
     "name": "stdout",
     "output_type": "stream",
     "text": [
      "Iteration: 2545\n",
      "Algorithm: K-Mediods\n",
      "Iteration: 2546\n",
      "Algorithm: K-Mediods\n"
     ]
    },
    {
     "name": "stderr",
     "output_type": "stream",
     "text": [
      "/opt/homebrew/lib/python3.10/site-packages/sklearn_extra/cluster/_k_medoids.py:329: UserWarning: Cluster 1 is empty! self.labels_[self.medoid_indices_[1]] may not be labeled with its corresponding cluster (1).\n",
      "  warnings.warn(\n"
     ]
    },
    {
     "name": "stdout",
     "output_type": "stream",
     "text": [
      "Iteration: 2547\n",
      "Algorithm: DBSCAN Clustering\n",
      "Iteration: 2548\n",
      "Algorithm: K-Mediods\n",
      "Iteration: 2549\n",
      "Algorithm: DBSCAN Clustering\n"
     ]
    },
    {
     "name": "stderr",
     "output_type": "stream",
     "text": [
      "/opt/homebrew/lib/python3.10/site-packages/sklearn_extra/cluster/_k_medoids.py:329: UserWarning: Cluster 1 is empty! self.labels_[self.medoid_indices_[1]] may not be labeled with its corresponding cluster (1).\n",
      "  warnings.warn(\n"
     ]
    },
    {
     "name": "stdout",
     "output_type": "stream",
     "text": [
      "Iteration: 2550\n",
      "Algorithm: DBSCAN Clustering\n",
      "Iteration: 2551\n",
      "Algorithm: K-Means\n",
      "Iteration: 2552\n",
      "Algorithm: K-Mediods\n"
     ]
    },
    {
     "name": "stderr",
     "output_type": "stream",
     "text": [
      "/opt/homebrew/lib/python3.10/site-packages/sklearn_extra/cluster/_k_medoids.py:329: UserWarning: Cluster 1 is empty! self.labels_[self.medoid_indices_[1]] may not be labeled with its corresponding cluster (1).\n",
      "  warnings.warn(\n"
     ]
    },
    {
     "name": "stdout",
     "output_type": "stream",
     "text": [
      "Iteration: 2553\n",
      "Algorithm: K-Means\n",
      "Iteration: 2554\n",
      "Algorithm: K-Means\n",
      "Iteration: 2555\n",
      "Algorithm: EM Clustering\n",
      "Iteration: 2556\n",
      "Algorithm: K-Mediods\n"
     ]
    },
    {
     "name": "stderr",
     "output_type": "stream",
     "text": [
      "/opt/homebrew/lib/python3.10/site-packages/sklearn_extra/cluster/_k_medoids.py:329: UserWarning: Cluster 1 is empty! self.labels_[self.medoid_indices_[1]] may not be labeled with its corresponding cluster (1).\n",
      "  warnings.warn(\n"
     ]
    },
    {
     "name": "stdout",
     "output_type": "stream",
     "text": [
      "Iteration: 2557\n",
      "Algorithm: DBSCAN Clustering\n",
      "Iteration: 2558\n",
      "Algorithm: K-Mediods\n"
     ]
    },
    {
     "name": "stderr",
     "output_type": "stream",
     "text": [
      "/opt/homebrew/lib/python3.10/site-packages/sklearn_extra/cluster/_k_medoids.py:329: UserWarning: Cluster 1 is empty! self.labels_[self.medoid_indices_[1]] may not be labeled with its corresponding cluster (1).\n",
      "  warnings.warn(\n"
     ]
    },
    {
     "name": "stdout",
     "output_type": "stream",
     "text": [
      "Iteration: 2559\n",
      "Algorithm: Mean Shift\n",
      "Iteration: 2560\n",
      "Algorithm: EM Clustering\n",
      "Iteration: 2561\n",
      "Algorithm: K-Means\n",
      "Iteration: 2562\n",
      "Algorithm: DBSCAN Clustering\n",
      "Iteration: 2563\n",
      "Algorithm: K-Means\n",
      "Iteration: 2564\n",
      "Algorithm: DBSCAN Clustering\n",
      "Iteration: 2565\n",
      "Algorithm: K-Mediods\n"
     ]
    },
    {
     "name": "stderr",
     "output_type": "stream",
     "text": [
      "/opt/homebrew/lib/python3.10/site-packages/sklearn_extra/cluster/_k_medoids.py:329: UserWarning: Cluster 1 is empty! self.labels_[self.medoid_indices_[1]] may not be labeled with its corresponding cluster (1).\n",
      "  warnings.warn(\n"
     ]
    },
    {
     "name": "stdout",
     "output_type": "stream",
     "text": [
      "Iteration: 2566\n",
      "Algorithm: K-Means\n",
      "Iteration: 2567\n",
      "Algorithm: Mean Shift\n",
      "Iteration: 2568\n",
      "Algorithm: K-Mediods\n",
      "Iteration: 2569\n",
      "Algorithm: DBSCAN Clustering\n"
     ]
    },
    {
     "name": "stderr",
     "output_type": "stream",
     "text": [
      "/opt/homebrew/lib/python3.10/site-packages/sklearn_extra/cluster/_k_medoids.py:329: UserWarning: Cluster 1 is empty! self.labels_[self.medoid_indices_[1]] may not be labeled with its corresponding cluster (1).\n",
      "  warnings.warn(\n"
     ]
    },
    {
     "name": "stdout",
     "output_type": "stream",
     "text": [
      "Iteration: 2570\n",
      "Algorithm: K-Mediods\n",
      "Iteration: 2571\n",
      "Algorithm: DBSCAN Clustering\n"
     ]
    },
    {
     "name": "stderr",
     "output_type": "stream",
     "text": [
      "/opt/homebrew/lib/python3.10/site-packages/sklearn_extra/cluster/_k_medoids.py:329: UserWarning: Cluster 1 is empty! self.labels_[self.medoid_indices_[1]] may not be labeled with its corresponding cluster (1).\n",
      "  warnings.warn(\n"
     ]
    },
    {
     "name": "stdout",
     "output_type": "stream",
     "text": [
      "Iteration: 2572\n",
      "Algorithm: K-Mediods\n"
     ]
    },
    {
     "name": "stderr",
     "output_type": "stream",
     "text": [
      "/opt/homebrew/lib/python3.10/site-packages/sklearn_extra/cluster/_k_medoids.py:329: UserWarning: Cluster 1 is empty! self.labels_[self.medoid_indices_[1]] may not be labeled with its corresponding cluster (1).\n",
      "  warnings.warn(\n"
     ]
    },
    {
     "name": "stdout",
     "output_type": "stream",
     "text": [
      "Iteration: 2573\n",
      "Algorithm: DBSCAN Clustering\n",
      "Iteration: 2574\n",
      "Algorithm: Mean Shift\n",
      "Iteration: 2575\n",
      "Algorithm: DBSCAN Clustering\n",
      "Iteration: 2576\n",
      "Algorithm: K-Means\n",
      "Iteration: 2577\n",
      "Algorithm: DBSCAN Clustering\n",
      "Iteration: 2578\n",
      "Algorithm: K-Means\n",
      "Iteration: 2579\n",
      "Algorithm: EM Clustering\n",
      "Iteration: 2580\n",
      "Algorithm: Mean Shift\n",
      "Iteration: 2581\n",
      "Algorithm: Mean Shift\n",
      "Iteration: 2582\n",
      "Algorithm: Mean Shift\n",
      "Iteration: 2583\n",
      "Algorithm: K-Mediods\n"
     ]
    },
    {
     "name": "stderr",
     "output_type": "stream",
     "text": [
      "/opt/homebrew/lib/python3.10/site-packages/sklearn_extra/cluster/_k_medoids.py:329: UserWarning: Cluster 1 is empty! self.labels_[self.medoid_indices_[1]] may not be labeled with its corresponding cluster (1).\n",
      "  warnings.warn(\n",
      "/opt/homebrew/lib/python3.10/site-packages/sklearn_extra/cluster/_k_medoids.py:329: UserWarning: Cluster 1 is empty! self.labels_[self.medoid_indices_[1]] may not be labeled with its corresponding cluster (1).\n",
      "  warnings.warn(\n"
     ]
    },
    {
     "name": "stdout",
     "output_type": "stream",
     "text": [
      "Iteration: 2584\n",
      "Algorithm: K-Mediods\n",
      "Iteration: 2585\n",
      "Algorithm: K-Mediods\n"
     ]
    },
    {
     "name": "stderr",
     "output_type": "stream",
     "text": [
      "/opt/homebrew/lib/python3.10/site-packages/sklearn_extra/cluster/_k_medoids.py:329: UserWarning: Cluster 1 is empty! self.labels_[self.medoid_indices_[1]] may not be labeled with its corresponding cluster (1).\n",
      "  warnings.warn(\n",
      "/opt/homebrew/lib/python3.10/site-packages/sklearn_extra/cluster/_k_medoids.py:329: UserWarning: Cluster 1 is empty! self.labels_[self.medoid_indices_[1]] may not be labeled with its corresponding cluster (1).\n",
      "  warnings.warn(\n"
     ]
    },
    {
     "name": "stdout",
     "output_type": "stream",
     "text": [
      "Iteration: 2586\n",
      "Algorithm: K-Mediods\n",
      "Iteration: 2587\n",
      "Algorithm: K-Means\n",
      "Iteration: 2588\n",
      "Algorithm: K-Mediods\n"
     ]
    },
    {
     "name": "stderr",
     "output_type": "stream",
     "text": [
      "/opt/homebrew/lib/python3.10/site-packages/sklearn_extra/cluster/_k_medoids.py:329: UserWarning: Cluster 1 is empty! self.labels_[self.medoid_indices_[1]] may not be labeled with its corresponding cluster (1).\n",
      "  warnings.warn(\n",
      "/opt/homebrew/lib/python3.10/site-packages/sklearn_extra/cluster/_k_medoids.py:329: UserWarning: Cluster 1 is empty! self.labels_[self.medoid_indices_[1]] may not be labeled with its corresponding cluster (1).\n",
      "  warnings.warn(\n"
     ]
    },
    {
     "name": "stdout",
     "output_type": "stream",
     "text": [
      "Iteration: 2589\n",
      "Algorithm: K-Mediods\n",
      "Iteration: 2590\n",
      "Algorithm: DBSCAN Clustering\n",
      "Iteration: 2591\n",
      "Algorithm: EM Clustering\n",
      "Iteration: 2592\n",
      "Algorithm: K-Mediods\n"
     ]
    },
    {
     "name": "stderr",
     "output_type": "stream",
     "text": [
      "/opt/homebrew/lib/python3.10/site-packages/sklearn_extra/cluster/_k_medoids.py:329: UserWarning: Cluster 1 is empty! self.labels_[self.medoid_indices_[1]] may not be labeled with its corresponding cluster (1).\n",
      "  warnings.warn(\n"
     ]
    },
    {
     "name": "stdout",
     "output_type": "stream",
     "text": [
      "Iteration: 2593\n",
      "Algorithm: DBSCAN Clustering\n",
      "Iteration: 2594\n",
      "Algorithm: Mean Shift\n",
      "Iteration: 2595\n",
      "Algorithm: K-Mediods\n"
     ]
    },
    {
     "name": "stderr",
     "output_type": "stream",
     "text": [
      "/opt/homebrew/lib/python3.10/site-packages/sklearn_extra/cluster/_k_medoids.py:329: UserWarning: Cluster 1 is empty! self.labels_[self.medoid_indices_[1]] may not be labeled with its corresponding cluster (1).\n",
      "  warnings.warn(\n"
     ]
    },
    {
     "name": "stdout",
     "output_type": "stream",
     "text": [
      "Iteration: 2596\n",
      "Algorithm: K-Mediods\n"
     ]
    },
    {
     "name": "stderr",
     "output_type": "stream",
     "text": [
      "/opt/homebrew/lib/python3.10/site-packages/sklearn_extra/cluster/_k_medoids.py:329: UserWarning: Cluster 1 is empty! self.labels_[self.medoid_indices_[1]] may not be labeled with its corresponding cluster (1).\n",
      "  warnings.warn(\n"
     ]
    },
    {
     "name": "stdout",
     "output_type": "stream",
     "text": [
      "Iteration: 2597\n",
      "Algorithm: K-Mediods\n"
     ]
    },
    {
     "name": "stderr",
     "output_type": "stream",
     "text": [
      "/opt/homebrew/lib/python3.10/site-packages/sklearn_extra/cluster/_k_medoids.py:329: UserWarning: Cluster 1 is empty! self.labels_[self.medoid_indices_[1]] may not be labeled with its corresponding cluster (1).\n",
      "  warnings.warn(\n"
     ]
    },
    {
     "name": "stdout",
     "output_type": "stream",
     "text": [
      "Iteration: 2598\n",
      "Algorithm: EM Clustering\n",
      "Iteration: 2599\n",
      "Algorithm: DBSCAN Clustering\n",
      "Iteration: 2600\n",
      "Algorithm: Mean Shift\n",
      "Iteration: 2601\n",
      "Algorithm: DBSCAN Clustering\n",
      "Iteration: 2602\n",
      "Algorithm: Mean Shift\n",
      "Iteration: 2603\n",
      "Algorithm: K-Mediods\n"
     ]
    },
    {
     "name": "stderr",
     "output_type": "stream",
     "text": [
      "/opt/homebrew/lib/python3.10/site-packages/sklearn_extra/cluster/_k_medoids.py:329: UserWarning: Cluster 1 is empty! self.labels_[self.medoid_indices_[1]] may not be labeled with its corresponding cluster (1).\n",
      "  warnings.warn(\n"
     ]
    },
    {
     "name": "stdout",
     "output_type": "stream",
     "text": [
      "Iteration: 2604\n",
      "Algorithm: Mean Shift\n",
      "Iteration: 2605\n",
      "Algorithm: Mean Shift\n",
      "Iteration: 2606\n",
      "Algorithm: K-Mediods\n"
     ]
    },
    {
     "name": "stderr",
     "output_type": "stream",
     "text": [
      "/opt/homebrew/lib/python3.10/site-packages/sklearn_extra/cluster/_k_medoids.py:329: UserWarning: Cluster 1 is empty! self.labels_[self.medoid_indices_[1]] may not be labeled with its corresponding cluster (1).\n",
      "  warnings.warn(\n",
      "/opt/homebrew/lib/python3.10/site-packages/sklearn_extra/cluster/_k_medoids.py:329: UserWarning: Cluster 1 is empty! self.labels_[self.medoid_indices_[1]] may not be labeled with its corresponding cluster (1).\n",
      "  warnings.warn(\n"
     ]
    },
    {
     "name": "stdout",
     "output_type": "stream",
     "text": [
      "Iteration: 2607\n",
      "Algorithm: K-Mediods\n",
      "Iteration: 2608\n",
      "Algorithm: Mean Shift\n",
      "Iteration: 2609\n",
      "Algorithm: K-Means\n",
      "Iteration: 2610\n",
      "Algorithm: DBSCAN Clustering\n",
      "Iteration: 2611\n",
      "Algorithm: K-Mediods\n"
     ]
    },
    {
     "name": "stderr",
     "output_type": "stream",
     "text": [
      "/opt/homebrew/lib/python3.10/site-packages/sklearn_extra/cluster/_k_medoids.py:329: UserWarning: Cluster 1 is empty! self.labels_[self.medoid_indices_[1]] may not be labeled with its corresponding cluster (1).\n",
      "  warnings.warn(\n",
      "/opt/homebrew/lib/python3.10/site-packages/sklearn_extra/cluster/_k_medoids.py:329: UserWarning: Cluster 1 is empty! self.labels_[self.medoid_indices_[1]] may not be labeled with its corresponding cluster (1).\n",
      "  warnings.warn(\n"
     ]
    },
    {
     "name": "stdout",
     "output_type": "stream",
     "text": [
      "Iteration: 2612\n",
      "Algorithm: K-Mediods\n",
      "Iteration: 2613\n",
      "Algorithm: EM Clustering\n",
      "Iteration: 2614\n",
      "Algorithm: K-Mediods\n"
     ]
    },
    {
     "name": "stderr",
     "output_type": "stream",
     "text": [
      "/opt/homebrew/lib/python3.10/site-packages/sklearn_extra/cluster/_k_medoids.py:329: UserWarning: Cluster 1 is empty! self.labels_[self.medoid_indices_[1]] may not be labeled with its corresponding cluster (1).\n",
      "  warnings.warn(\n",
      "/opt/homebrew/lib/python3.10/site-packages/sklearn_extra/cluster/_k_medoids.py:329: UserWarning: Cluster 1 is empty! self.labels_[self.medoid_indices_[1]] may not be labeled with its corresponding cluster (1).\n",
      "  warnings.warn(\n"
     ]
    },
    {
     "name": "stdout",
     "output_type": "stream",
     "text": [
      "Iteration: 2615\n",
      "Algorithm: K-Mediods\n",
      "Iteration: 2616\n",
      "Algorithm: K-Means\n",
      "Iteration: 2617\n",
      "Algorithm: K-Mediods\n"
     ]
    },
    {
     "name": "stderr",
     "output_type": "stream",
     "text": [
      "/opt/homebrew/lib/python3.10/site-packages/sklearn_extra/cluster/_k_medoids.py:329: UserWarning: Cluster 1 is empty! self.labels_[self.medoid_indices_[1]] may not be labeled with its corresponding cluster (1).\n",
      "  warnings.warn(\n"
     ]
    },
    {
     "name": "stdout",
     "output_type": "stream",
     "text": [
      "Iteration: 2618\n",
      "Algorithm: K-Means\n",
      "Iteration: 2619\n",
      "Algorithm: K-Means\n",
      "Iteration: 2620\n",
      "Algorithm: K-Mediods\n"
     ]
    },
    {
     "name": "stderr",
     "output_type": "stream",
     "text": [
      "/opt/homebrew/lib/python3.10/site-packages/sklearn_extra/cluster/_k_medoids.py:329: UserWarning: Cluster 1 is empty! self.labels_[self.medoid_indices_[1]] may not be labeled with its corresponding cluster (1).\n",
      "  warnings.warn(\n"
     ]
    },
    {
     "name": "stdout",
     "output_type": "stream",
     "text": [
      "Iteration: 2621\n",
      "Algorithm: DBSCAN Clustering\n",
      "Iteration: 2622\n",
      "Algorithm: K-Means\n",
      "Iteration: 2623\n",
      "Algorithm: K-Means\n",
      "Iteration: 2624\n",
      "Algorithm: Mean Shift\n",
      "Iteration: 2625\n",
      "Algorithm: Mean Shift\n",
      "Iteration: 2626\n",
      "Algorithm: K-Mediods\n"
     ]
    },
    {
     "name": "stderr",
     "output_type": "stream",
     "text": [
      "/opt/homebrew/lib/python3.10/site-packages/sklearn_extra/cluster/_k_medoids.py:329: UserWarning: Cluster 1 is empty! self.labels_[self.medoid_indices_[1]] may not be labeled with its corresponding cluster (1).\n",
      "  warnings.warn(\n"
     ]
    },
    {
     "name": "stdout",
     "output_type": "stream",
     "text": [
      "Iteration: 2627\n",
      "Algorithm: DBSCAN Clustering\n",
      "Iteration: 2628\n",
      "Algorithm: K-Mediods\n"
     ]
    },
    {
     "name": "stderr",
     "output_type": "stream",
     "text": [
      "/opt/homebrew/lib/python3.10/site-packages/sklearn_extra/cluster/_k_medoids.py:329: UserWarning: Cluster 1 is empty! self.labels_[self.medoid_indices_[1]] may not be labeled with its corresponding cluster (1).\n",
      "  warnings.warn(\n"
     ]
    },
    {
     "name": "stdout",
     "output_type": "stream",
     "text": [
      "Iteration: 2629\n",
      "Algorithm: EM Clustering\n",
      "Iteration: 2630\n",
      "Algorithm: K-Means\n",
      "Iteration: 2631\n",
      "Algorithm: K-Mediods\n"
     ]
    },
    {
     "name": "stderr",
     "output_type": "stream",
     "text": [
      "/opt/homebrew/lib/python3.10/site-packages/sklearn_extra/cluster/_k_medoids.py:329: UserWarning: Cluster 1 is empty! self.labels_[self.medoid_indices_[1]] may not be labeled with its corresponding cluster (1).\n",
      "  warnings.warn(\n"
     ]
    },
    {
     "name": "stdout",
     "output_type": "stream",
     "text": [
      "Iteration: 2632\n",
      "Algorithm: K-Mediods\n"
     ]
    },
    {
     "name": "stderr",
     "output_type": "stream",
     "text": [
      "/opt/homebrew/lib/python3.10/site-packages/sklearn_extra/cluster/_k_medoids.py:329: UserWarning: Cluster 1 is empty! self.labels_[self.medoid_indices_[1]] may not be labeled with its corresponding cluster (1).\n",
      "  warnings.warn(\n"
     ]
    },
    {
     "name": "stdout",
     "output_type": "stream",
     "text": [
      "Iteration: 2633\n",
      "Algorithm: DBSCAN Clustering\n",
      "Iteration: 2634\n",
      "Algorithm: Mean Shift\n",
      "Iteration: 2635\n",
      "Algorithm: DBSCAN Clustering\n",
      "Iteration: 2636\n",
      "Algorithm: K-Means\n",
      "Iteration: 2637\n",
      "Algorithm: K-Means\n",
      "Iteration: 2638\n",
      "Algorithm: K-Mediods\n"
     ]
    },
    {
     "name": "stderr",
     "output_type": "stream",
     "text": [
      "/opt/homebrew/lib/python3.10/site-packages/sklearn_extra/cluster/_k_medoids.py:329: UserWarning: Cluster 1 is empty! self.labels_[self.medoid_indices_[1]] may not be labeled with its corresponding cluster (1).\n",
      "  warnings.warn(\n"
     ]
    },
    {
     "name": "stdout",
     "output_type": "stream",
     "text": [
      "Iteration: 2639\n",
      "Algorithm: DBSCAN Clustering\n",
      "Iteration: 2640\n",
      "Algorithm: K-Mediods\n"
     ]
    },
    {
     "name": "stderr",
     "output_type": "stream",
     "text": [
      "/opt/homebrew/lib/python3.10/site-packages/sklearn_extra/cluster/_k_medoids.py:329: UserWarning: Cluster 1 is empty! self.labels_[self.medoid_indices_[1]] may not be labeled with its corresponding cluster (1).\n",
      "  warnings.warn(\n"
     ]
    },
    {
     "name": "stdout",
     "output_type": "stream",
     "text": [
      "Iteration: 2641\n",
      "Algorithm: DBSCAN Clustering\n",
      "Iteration: 2642\n",
      "Algorithm: DBSCAN Clustering\n",
      "Iteration: 2643\n",
      "Algorithm: DBSCAN Clustering\n",
      "Iteration: 2644\n",
      "Algorithm: K-Mediods\n"
     ]
    },
    {
     "name": "stderr",
     "output_type": "stream",
     "text": [
      "/opt/homebrew/lib/python3.10/site-packages/sklearn_extra/cluster/_k_medoids.py:329: UserWarning: Cluster 1 is empty! self.labels_[self.medoid_indices_[1]] may not be labeled with its corresponding cluster (1).\n",
      "  warnings.warn(\n"
     ]
    },
    {
     "name": "stdout",
     "output_type": "stream",
     "text": [
      "Iteration: 2645\n",
      "Algorithm: Mean Shift\n",
      "Iteration: 2646\n",
      "Algorithm: K-Means\n",
      "Iteration: 2647\n",
      "Algorithm: DBSCAN Clustering\n",
      "Iteration: 2648\n",
      "Algorithm: K-Mediods\n",
      "Iteration: 2649\n",
      "Algorithm: EM Clustering\n"
     ]
    },
    {
     "name": "stderr",
     "output_type": "stream",
     "text": [
      "/opt/homebrew/lib/python3.10/site-packages/sklearn_extra/cluster/_k_medoids.py:329: UserWarning: Cluster 1 is empty! self.labels_[self.medoid_indices_[1]] may not be labeled with its corresponding cluster (1).\n",
      "  warnings.warn(\n"
     ]
    },
    {
     "name": "stdout",
     "output_type": "stream",
     "text": [
      "Iteration: 2650\n",
      "Algorithm: K-Means\n",
      "Iteration: 2651\n",
      "Algorithm: K-Mediods\n"
     ]
    },
    {
     "name": "stderr",
     "output_type": "stream",
     "text": [
      "/opt/homebrew/lib/python3.10/site-packages/sklearn_extra/cluster/_k_medoids.py:329: UserWarning: Cluster 1 is empty! self.labels_[self.medoid_indices_[1]] may not be labeled with its corresponding cluster (1).\n",
      "  warnings.warn(\n"
     ]
    },
    {
     "name": "stdout",
     "output_type": "stream",
     "text": [
      "Iteration: 2652\n",
      "Algorithm: EM Clustering\n",
      "Iteration: 2653\n",
      "Algorithm: EM Clustering\n",
      "Iteration: 2654\n",
      "Algorithm: K-Means\n",
      "Iteration: 2655\n",
      "Algorithm: K-Means\n",
      "Iteration: 2656\n",
      "Algorithm: K-Mediods\n"
     ]
    },
    {
     "name": "stderr",
     "output_type": "stream",
     "text": [
      "/opt/homebrew/lib/python3.10/site-packages/sklearn_extra/cluster/_k_medoids.py:329: UserWarning: Cluster 1 is empty! self.labels_[self.medoid_indices_[1]] may not be labeled with its corresponding cluster (1).\n",
      "  warnings.warn(\n"
     ]
    },
    {
     "name": "stdout",
     "output_type": "stream",
     "text": [
      "Iteration: 2657\n",
      "Algorithm: DBSCAN Clustering\n",
      "Iteration: 2658\n",
      "Algorithm: K-Mediods\n"
     ]
    },
    {
     "name": "stderr",
     "output_type": "stream",
     "text": [
      "/opt/homebrew/lib/python3.10/site-packages/sklearn_extra/cluster/_k_medoids.py:329: UserWarning: Cluster 1 is empty! self.labels_[self.medoid_indices_[1]] may not be labeled with its corresponding cluster (1).\n",
      "  warnings.warn(\n",
      "/opt/homebrew/lib/python3.10/site-packages/sklearn_extra/cluster/_k_medoids.py:329: UserWarning: Cluster 1 is empty! self.labels_[self.medoid_indices_[1]] may not be labeled with its corresponding cluster (1).\n",
      "  warnings.warn(\n"
     ]
    },
    {
     "name": "stdout",
     "output_type": "stream",
     "text": [
      "Iteration: 2659\n",
      "Algorithm: K-Mediods\n",
      "Iteration: 2660\n",
      "Algorithm: K-Mediods\n"
     ]
    },
    {
     "name": "stderr",
     "output_type": "stream",
     "text": [
      "/opt/homebrew/lib/python3.10/site-packages/sklearn_extra/cluster/_k_medoids.py:329: UserWarning: Cluster 1 is empty! self.labels_[self.medoid_indices_[1]] may not be labeled with its corresponding cluster (1).\n",
      "  warnings.warn(\n",
      "/opt/homebrew/lib/python3.10/site-packages/sklearn_extra/cluster/_k_medoids.py:329: UserWarning: Cluster 1 is empty! self.labels_[self.medoid_indices_[1]] may not be labeled with its corresponding cluster (1).\n",
      "  warnings.warn(\n"
     ]
    },
    {
     "name": "stdout",
     "output_type": "stream",
     "text": [
      "Iteration: 2661\n",
      "Algorithm: K-Mediods\n",
      "Iteration: 2662\n",
      "Algorithm: K-Mediods\n"
     ]
    },
    {
     "name": "stderr",
     "output_type": "stream",
     "text": [
      "/opt/homebrew/lib/python3.10/site-packages/sklearn_extra/cluster/_k_medoids.py:329: UserWarning: Cluster 1 is empty! self.labels_[self.medoid_indices_[1]] may not be labeled with its corresponding cluster (1).\n",
      "  warnings.warn(\n"
     ]
    },
    {
     "name": "stdout",
     "output_type": "stream",
     "text": [
      "Iteration: 2663\n",
      "Algorithm: DBSCAN Clustering\n",
      "Iteration: 2664\n",
      "Algorithm: K-Means\n",
      "Iteration: 2665\n",
      "Algorithm: K-Means\n",
      "Iteration: 2666\n",
      "Algorithm: DBSCAN Clustering\n",
      "Iteration: 2667\n",
      "Algorithm: Mean Shift\n",
      "Iteration: 2668\n",
      "Algorithm: K-Mediods\n"
     ]
    },
    {
     "name": "stderr",
     "output_type": "stream",
     "text": [
      "/opt/homebrew/lib/python3.10/site-packages/sklearn_extra/cluster/_k_medoids.py:329: UserWarning: Cluster 1 is empty! self.labels_[self.medoid_indices_[1]] may not be labeled with its corresponding cluster (1).\n",
      "  warnings.warn(\n"
     ]
    },
    {
     "name": "stdout",
     "output_type": "stream",
     "text": [
      "Iteration: 2669\n",
      "Algorithm: K-Means\n",
      "Iteration: 2670\n",
      "Algorithm: DBSCAN Clustering\n",
      "Iteration: 2671\n",
      "Algorithm: Mean Shift\n",
      "Iteration: 2672\n",
      "Algorithm: K-Mediods\n",
      "Iteration: 2673\n",
      "Algorithm: Mean Shift\n"
     ]
    },
    {
     "name": "stderr",
     "output_type": "stream",
     "text": [
      "/opt/homebrew/lib/python3.10/site-packages/sklearn_extra/cluster/_k_medoids.py:329: UserWarning: Cluster 1 is empty! self.labels_[self.medoid_indices_[1]] may not be labeled with its corresponding cluster (1).\n",
      "  warnings.warn(\n"
     ]
    },
    {
     "name": "stdout",
     "output_type": "stream",
     "text": [
      "Iteration: 2674\n",
      "Algorithm: K-Mediods\n"
     ]
    },
    {
     "name": "stderr",
     "output_type": "stream",
     "text": [
      "/opt/homebrew/lib/python3.10/site-packages/sklearn_extra/cluster/_k_medoids.py:329: UserWarning: Cluster 1 is empty! self.labels_[self.medoid_indices_[1]] may not be labeled with its corresponding cluster (1).\n",
      "  warnings.warn(\n"
     ]
    },
    {
     "name": "stdout",
     "output_type": "stream",
     "text": [
      "Iteration: 2675\n",
      "Algorithm: DBSCAN Clustering\n",
      "Iteration: 2676\n",
      "Algorithm: EM Clustering\n",
      "Iteration: 2677\n",
      "Algorithm: K-Mediods\n"
     ]
    },
    {
     "name": "stderr",
     "output_type": "stream",
     "text": [
      "/opt/homebrew/lib/python3.10/site-packages/sklearn_extra/cluster/_k_medoids.py:329: UserWarning: Cluster 1 is empty! self.labels_[self.medoid_indices_[1]] may not be labeled with its corresponding cluster (1).\n",
      "  warnings.warn(\n",
      "/opt/homebrew/lib/python3.10/site-packages/sklearn_extra/cluster/_k_medoids.py:329: UserWarning: Cluster 1 is empty! self.labels_[self.medoid_indices_[1]] may not be labeled with its corresponding cluster (1).\n",
      "  warnings.warn(\n"
     ]
    },
    {
     "name": "stdout",
     "output_type": "stream",
     "text": [
      "Iteration: 2678\n",
      "Algorithm: K-Mediods\n",
      "Iteration: 2679\n",
      "Algorithm: Mean Shift\n",
      "Iteration: 2680\n",
      "Algorithm: Mean Shift\n",
      "Iteration: 2681\n",
      "Algorithm: K-Mediods\n"
     ]
    },
    {
     "name": "stderr",
     "output_type": "stream",
     "text": [
      "/opt/homebrew/lib/python3.10/site-packages/sklearn_extra/cluster/_k_medoids.py:329: UserWarning: Cluster 1 is empty! self.labels_[self.medoid_indices_[1]] may not be labeled with its corresponding cluster (1).\n",
      "  warnings.warn(\n",
      "/opt/homebrew/lib/python3.10/site-packages/sklearn_extra/cluster/_k_medoids.py:329: UserWarning: Cluster 1 is empty! self.labels_[self.medoid_indices_[1]] may not be labeled with its corresponding cluster (1).\n",
      "  warnings.warn(\n"
     ]
    },
    {
     "name": "stdout",
     "output_type": "stream",
     "text": [
      "Iteration: 2682\n",
      "Algorithm: K-Mediods\n",
      "Iteration: 2683\n",
      "Algorithm: EM Clustering\n",
      "Iteration: 2684\n",
      "Algorithm: K-Mediods\n"
     ]
    },
    {
     "name": "stderr",
     "output_type": "stream",
     "text": [
      "/opt/homebrew/lib/python3.10/site-packages/sklearn_extra/cluster/_k_medoids.py:329: UserWarning: Cluster 1 is empty! self.labels_[self.medoid_indices_[1]] may not be labeled with its corresponding cluster (1).\n",
      "  warnings.warn(\n"
     ]
    },
    {
     "name": "stdout",
     "output_type": "stream",
     "text": [
      "Iteration: 2685\n",
      "Algorithm: K-Mediods\n"
     ]
    },
    {
     "name": "stderr",
     "output_type": "stream",
     "text": [
      "/opt/homebrew/lib/python3.10/site-packages/sklearn_extra/cluster/_k_medoids.py:329: UserWarning: Cluster 1 is empty! self.labels_[self.medoid_indices_[1]] may not be labeled with its corresponding cluster (1).\n",
      "  warnings.warn(\n",
      "/opt/homebrew/lib/python3.10/site-packages/sklearn_extra/cluster/_k_medoids.py:329: UserWarning: Cluster 1 is empty! self.labels_[self.medoid_indices_[1]] may not be labeled with its corresponding cluster (1).\n",
      "  warnings.warn(\n"
     ]
    },
    {
     "name": "stdout",
     "output_type": "stream",
     "text": [
      "Iteration: 2686\n",
      "Algorithm: K-Mediods\n",
      "Iteration: 2687\n",
      "Algorithm: K-Mediods\n"
     ]
    },
    {
     "name": "stderr",
     "output_type": "stream",
     "text": [
      "/opt/homebrew/lib/python3.10/site-packages/sklearn_extra/cluster/_k_medoids.py:329: UserWarning: Cluster 1 is empty! self.labels_[self.medoid_indices_[1]] may not be labeled with its corresponding cluster (1).\n",
      "  warnings.warn(\n",
      "/opt/homebrew/lib/python3.10/site-packages/sklearn_extra/cluster/_k_medoids.py:329: UserWarning: Cluster 1 is empty! self.labels_[self.medoid_indices_[1]] may not be labeled with its corresponding cluster (1).\n",
      "  warnings.warn(\n"
     ]
    },
    {
     "name": "stdout",
     "output_type": "stream",
     "text": [
      "Iteration: 2688\n",
      "Algorithm: K-Mediods\n",
      "Iteration: 2689\n",
      "Algorithm: K-Mediods\n"
     ]
    },
    {
     "name": "stderr",
     "output_type": "stream",
     "text": [
      "/opt/homebrew/lib/python3.10/site-packages/sklearn_extra/cluster/_k_medoids.py:329: UserWarning: Cluster 1 is empty! self.labels_[self.medoid_indices_[1]] may not be labeled with its corresponding cluster (1).\n",
      "  warnings.warn(\n"
     ]
    },
    {
     "name": "stdout",
     "output_type": "stream",
     "text": [
      "Iteration: 2690\n",
      "Algorithm: Mean Shift\n",
      "Iteration: 2691\n",
      "Algorithm: Mean Shift\n",
      "Iteration: 2692\n",
      "Algorithm: EM Clustering\n",
      "Iteration: 2693\n",
      "Algorithm: Mean Shift\n",
      "Iteration: 2694\n",
      "Algorithm: K-Mediods\n"
     ]
    },
    {
     "name": "stderr",
     "output_type": "stream",
     "text": [
      "/opt/homebrew/lib/python3.10/site-packages/sklearn_extra/cluster/_k_medoids.py:329: UserWarning: Cluster 1 is empty! self.labels_[self.medoid_indices_[1]] may not be labeled with its corresponding cluster (1).\n",
      "  warnings.warn(\n"
     ]
    },
    {
     "name": "stdout",
     "output_type": "stream",
     "text": [
      "Iteration: 2695\n",
      "Algorithm: DBSCAN Clustering\n",
      "Iteration: 2696\n",
      "Algorithm: K-Mediods\n"
     ]
    },
    {
     "name": "stderr",
     "output_type": "stream",
     "text": [
      "/opt/homebrew/lib/python3.10/site-packages/sklearn_extra/cluster/_k_medoids.py:329: UserWarning: Cluster 1 is empty! self.labels_[self.medoid_indices_[1]] may not be labeled with its corresponding cluster (1).\n",
      "  warnings.warn(\n",
      "/opt/homebrew/lib/python3.10/site-packages/sklearn_extra/cluster/_k_medoids.py:329: UserWarning: Cluster 1 is empty! self.labels_[self.medoid_indices_[1]] may not be labeled with its corresponding cluster (1).\n",
      "  warnings.warn(\n"
     ]
    },
    {
     "name": "stdout",
     "output_type": "stream",
     "text": [
      "Iteration: 2697\n",
      "Algorithm: K-Mediods\n",
      "Iteration: 2698\n",
      "Algorithm: EM Clustering\n",
      "Iteration: 2699\n",
      "Algorithm: DBSCAN Clustering\n",
      "Iteration: 2700\n",
      "Algorithm: Mean Shift\n",
      "Iteration: 2701\n",
      "Algorithm: K-Mediods\n"
     ]
    },
    {
     "name": "stderr",
     "output_type": "stream",
     "text": [
      "/opt/homebrew/lib/python3.10/site-packages/sklearn_extra/cluster/_k_medoids.py:329: UserWarning: Cluster 1 is empty! self.labels_[self.medoid_indices_[1]] may not be labeled with its corresponding cluster (1).\n",
      "  warnings.warn(\n",
      "/opt/homebrew/lib/python3.10/site-packages/sklearn_extra/cluster/_k_medoids.py:329: UserWarning: Cluster 1 is empty! self.labels_[self.medoid_indices_[1]] may not be labeled with its corresponding cluster (1).\n",
      "  warnings.warn(\n"
     ]
    },
    {
     "name": "stdout",
     "output_type": "stream",
     "text": [
      "Iteration: 2702\n",
      "Algorithm: K-Mediods\n",
      "Iteration: 2703\n",
      "Algorithm: Mean Shift\n",
      "Iteration: 2704\n",
      "Algorithm: K-Mediods\n",
      "Iteration: 2705\n",
      "Algorithm: K-Means\n"
     ]
    },
    {
     "name": "stderr",
     "output_type": "stream",
     "text": [
      "/opt/homebrew/lib/python3.10/site-packages/sklearn_extra/cluster/_k_medoids.py:329: UserWarning: Cluster 1 is empty! self.labels_[self.medoid_indices_[1]] may not be labeled with its corresponding cluster (1).\n",
      "  warnings.warn(\n"
     ]
    },
    {
     "name": "stdout",
     "output_type": "stream",
     "text": [
      "Iteration: 2706\n",
      "Algorithm: DBSCAN Clustering\n",
      "Iteration: 2707\n",
      "Algorithm: EM Clustering\n",
      "Iteration: 2708\n",
      "Algorithm: K-Means\n",
      "Iteration: 2709\n",
      "Algorithm: EM Clustering\n",
      "Iteration: 2710\n",
      "Algorithm: K-Mediods\n"
     ]
    },
    {
     "name": "stderr",
     "output_type": "stream",
     "text": [
      "/opt/homebrew/lib/python3.10/site-packages/sklearn_extra/cluster/_k_medoids.py:329: UserWarning: Cluster 1 is empty! self.labels_[self.medoid_indices_[1]] may not be labeled with its corresponding cluster (1).\n",
      "  warnings.warn(\n"
     ]
    },
    {
     "name": "stdout",
     "output_type": "stream",
     "text": [
      "Iteration: 2711\n",
      "Algorithm: K-Mediods\n"
     ]
    },
    {
     "name": "stderr",
     "output_type": "stream",
     "text": [
      "/opt/homebrew/lib/python3.10/site-packages/sklearn_extra/cluster/_k_medoids.py:329: UserWarning: Cluster 1 is empty! self.labels_[self.medoid_indices_[1]] may not be labeled with its corresponding cluster (1).\n",
      "  warnings.warn(\n"
     ]
    },
    {
     "name": "stdout",
     "output_type": "stream",
     "text": [
      "Iteration: 2712\n",
      "Algorithm: Mean Shift\n",
      "Iteration: 2713\n",
      "Algorithm: DBSCAN Clustering\n",
      "Iteration: 2714\n",
      "Algorithm: Mean Shift\n",
      "Iteration: 2715\n",
      "Algorithm: EM Clustering\n",
      "Iteration: 2716\n",
      "Algorithm: EM Clustering\n",
      "Iteration: 2717\n",
      "Algorithm: DBSCAN Clustering\n",
      "Iteration: 2718\n",
      "Algorithm: EM Clustering\n",
      "Iteration: 2719\n",
      "Algorithm: K-Mediods\n"
     ]
    },
    {
     "name": "stderr",
     "output_type": "stream",
     "text": [
      "/opt/homebrew/lib/python3.10/site-packages/sklearn_extra/cluster/_k_medoids.py:329: UserWarning: Cluster 1 is empty! self.labels_[self.medoid_indices_[1]] may not be labeled with its corresponding cluster (1).\n",
      "  warnings.warn(\n"
     ]
    },
    {
     "name": "stdout",
     "output_type": "stream",
     "text": [
      "Iteration: 2720\n",
      "Algorithm: Mean Shift\n",
      "Iteration: 2721\n",
      "Algorithm: Mean Shift\n",
      "Iteration: 2722\n",
      "Algorithm: K-Mediods\n",
      "Iteration: 2723\n",
      "Algorithm: K-Means\n"
     ]
    },
    {
     "name": "stderr",
     "output_type": "stream",
     "text": [
      "/opt/homebrew/lib/python3.10/site-packages/sklearn_extra/cluster/_k_medoids.py:329: UserWarning: Cluster 1 is empty! self.labels_[self.medoid_indices_[1]] may not be labeled with its corresponding cluster (1).\n",
      "  warnings.warn(\n"
     ]
    },
    {
     "name": "stdout",
     "output_type": "stream",
     "text": [
      "Iteration: 2724\n",
      "Algorithm: EM Clustering\n",
      "Iteration: 2725\n",
      "Algorithm: K-Mediods\n",
      "Iteration: 2726\n",
      "Algorithm: K-Means\n"
     ]
    },
    {
     "name": "stderr",
     "output_type": "stream",
     "text": [
      "/opt/homebrew/lib/python3.10/site-packages/sklearn_extra/cluster/_k_medoids.py:329: UserWarning: Cluster 1 is empty! self.labels_[self.medoid_indices_[1]] may not be labeled with its corresponding cluster (1).\n",
      "  warnings.warn(\n"
     ]
    },
    {
     "name": "stdout",
     "output_type": "stream",
     "text": [
      "Iteration: 2727\n",
      "Algorithm: DBSCAN Clustering\n",
      "Iteration: 2728\n",
      "Algorithm: K-Mediods\n"
     ]
    },
    {
     "name": "stderr",
     "output_type": "stream",
     "text": [
      "/opt/homebrew/lib/python3.10/site-packages/sklearn_extra/cluster/_k_medoids.py:329: UserWarning: Cluster 1 is empty! self.labels_[self.medoid_indices_[1]] may not be labeled with its corresponding cluster (1).\n",
      "  warnings.warn(\n",
      "/opt/homebrew/lib/python3.10/site-packages/sklearn_extra/cluster/_k_medoids.py:329: UserWarning: Cluster 1 is empty! self.labels_[self.medoid_indices_[1]] may not be labeled with its corresponding cluster (1).\n",
      "  warnings.warn(\n"
     ]
    },
    {
     "name": "stdout",
     "output_type": "stream",
     "text": [
      "Iteration: 2729\n",
      "Algorithm: K-Mediods\n",
      "Iteration: 2730\n",
      "Algorithm: K-Mediods\n"
     ]
    },
    {
     "name": "stderr",
     "output_type": "stream",
     "text": [
      "/opt/homebrew/lib/python3.10/site-packages/sklearn_extra/cluster/_k_medoids.py:329: UserWarning: Cluster 1 is empty! self.labels_[self.medoid_indices_[1]] may not be labeled with its corresponding cluster (1).\n",
      "  warnings.warn(\n",
      "/opt/homebrew/lib/python3.10/site-packages/sklearn_extra/cluster/_k_medoids.py:329: UserWarning: Cluster 1 is empty! self.labels_[self.medoid_indices_[1]] may not be labeled with its corresponding cluster (1).\n",
      "  warnings.warn(\n"
     ]
    },
    {
     "name": "stdout",
     "output_type": "stream",
     "text": [
      "Iteration: 2731\n",
      "Algorithm: K-Mediods\n",
      "Iteration: 2732\n",
      "Algorithm: K-Mediods\n"
     ]
    },
    {
     "name": "stderr",
     "output_type": "stream",
     "text": [
      "/opt/homebrew/lib/python3.10/site-packages/sklearn_extra/cluster/_k_medoids.py:329: UserWarning: Cluster 1 is empty! self.labels_[self.medoid_indices_[1]] may not be labeled with its corresponding cluster (1).\n",
      "  warnings.warn(\n",
      "/opt/homebrew/lib/python3.10/site-packages/sklearn_extra/cluster/_k_medoids.py:329: UserWarning: Cluster 1 is empty! self.labels_[self.medoid_indices_[1]] may not be labeled with its corresponding cluster (1).\n",
      "  warnings.warn(\n"
     ]
    },
    {
     "name": "stdout",
     "output_type": "stream",
     "text": [
      "Iteration: 2733\n",
      "Algorithm: K-Mediods\n",
      "Iteration: 2734\n",
      "Algorithm: K-Mediods\n"
     ]
    },
    {
     "name": "stderr",
     "output_type": "stream",
     "text": [
      "/opt/homebrew/lib/python3.10/site-packages/sklearn_extra/cluster/_k_medoids.py:329: UserWarning: Cluster 1 is empty! self.labels_[self.medoid_indices_[1]] may not be labeled with its corresponding cluster (1).\n",
      "  warnings.warn(\n"
     ]
    },
    {
     "name": "stdout",
     "output_type": "stream",
     "text": [
      "Iteration: 2735\n",
      "Algorithm: Mean Shift\n",
      "Iteration: 2736\n",
      "Algorithm: K-Means\n",
      "Iteration: 2737\n",
      "Algorithm: K-Mediods\n"
     ]
    },
    {
     "name": "stderr",
     "output_type": "stream",
     "text": [
      "/opt/homebrew/lib/python3.10/site-packages/sklearn_extra/cluster/_k_medoids.py:329: UserWarning: Cluster 1 is empty! self.labels_[self.medoid_indices_[1]] may not be labeled with its corresponding cluster (1).\n",
      "  warnings.warn(\n",
      "/opt/homebrew/lib/python3.10/site-packages/sklearn_extra/cluster/_k_medoids.py:329: UserWarning: Cluster 1 is empty! self.labels_[self.medoid_indices_[1]] may not be labeled with its corresponding cluster (1).\n",
      "  warnings.warn(\n"
     ]
    },
    {
     "name": "stdout",
     "output_type": "stream",
     "text": [
      "Iteration: 2738\n",
      "Algorithm: K-Mediods\n",
      "Iteration: 2739\n",
      "Algorithm: K-Mediods\n"
     ]
    },
    {
     "name": "stderr",
     "output_type": "stream",
     "text": [
      "/opt/homebrew/lib/python3.10/site-packages/sklearn_extra/cluster/_k_medoids.py:329: UserWarning: Cluster 1 is empty! self.labels_[self.medoid_indices_[1]] may not be labeled with its corresponding cluster (1).\n",
      "  warnings.warn(\n"
     ]
    },
    {
     "name": "stdout",
     "output_type": "stream",
     "text": [
      "Iteration: 2740\n",
      "Algorithm: Mean Shift\n",
      "Iteration: 2741\n",
      "Algorithm: DBSCAN Clustering\n",
      "Iteration: 2742\n",
      "Algorithm: EM Clustering\n",
      "Iteration: 2743\n",
      "Algorithm: K-Mediods\n"
     ]
    },
    {
     "name": "stderr",
     "output_type": "stream",
     "text": [
      "/opt/homebrew/lib/python3.10/site-packages/sklearn_extra/cluster/_k_medoids.py:329: UserWarning: Cluster 1 is empty! self.labels_[self.medoid_indices_[1]] may not be labeled with its corresponding cluster (1).\n",
      "  warnings.warn(\n",
      "/opt/homebrew/lib/python3.10/site-packages/sklearn_extra/cluster/_k_medoids.py:329: UserWarning: Cluster 1 is empty! self.labels_[self.medoid_indices_[1]] may not be labeled with its corresponding cluster (1).\n",
      "  warnings.warn(\n"
     ]
    },
    {
     "name": "stdout",
     "output_type": "stream",
     "text": [
      "Iteration: 2744\n",
      "Algorithm: K-Mediods\n",
      "Iteration: 2745\n",
      "Algorithm: DBSCAN Clustering\n",
      "Iteration: 2746\n",
      "Algorithm: K-Means\n",
      "Iteration: 2747\n",
      "Algorithm: Mean Shift\n",
      "Iteration: 2748\n",
      "Algorithm: K-Mediods\n"
     ]
    },
    {
     "name": "stderr",
     "output_type": "stream",
     "text": [
      "/opt/homebrew/lib/python3.10/site-packages/sklearn_extra/cluster/_k_medoids.py:329: UserWarning: Cluster 1 is empty! self.labels_[self.medoid_indices_[1]] may not be labeled with its corresponding cluster (1).\n",
      "  warnings.warn(\n",
      "/opt/homebrew/lib/python3.10/site-packages/sklearn_extra/cluster/_k_medoids.py:329: UserWarning: Cluster 1 is empty! self.labels_[self.medoid_indices_[1]] may not be labeled with its corresponding cluster (1).\n",
      "  warnings.warn(\n"
     ]
    },
    {
     "name": "stdout",
     "output_type": "stream",
     "text": [
      "Iteration: 2749\n",
      "Algorithm: K-Mediods\n",
      "Iteration: 2750\n",
      "Algorithm: EM Clustering\n",
      "Iteration: 2751\n",
      "Algorithm: K-Mediods\n"
     ]
    },
    {
     "name": "stderr",
     "output_type": "stream",
     "text": [
      "/opt/homebrew/lib/python3.10/site-packages/sklearn_extra/cluster/_k_medoids.py:329: UserWarning: Cluster 1 is empty! self.labels_[self.medoid_indices_[1]] may not be labeled with its corresponding cluster (1).\n",
      "  warnings.warn(\n"
     ]
    },
    {
     "name": "stdout",
     "output_type": "stream",
     "text": [
      "Iteration: 2752\n",
      "Algorithm: K-Means\n",
      "Iteration: 2753\n",
      "Algorithm: K-Mediods\n"
     ]
    },
    {
     "name": "stderr",
     "output_type": "stream",
     "text": [
      "/opt/homebrew/lib/python3.10/site-packages/sklearn_extra/cluster/_k_medoids.py:329: UserWarning: Cluster 1 is empty! self.labels_[self.medoid_indices_[1]] may not be labeled with its corresponding cluster (1).\n",
      "  warnings.warn(\n"
     ]
    },
    {
     "name": "stdout",
     "output_type": "stream",
     "text": [
      "Iteration: 2754\n",
      "Algorithm: Mean Shift\n",
      "Iteration: 2755\n",
      "Algorithm: K-Mediods\n",
      "Iteration: 2756\n",
      "Algorithm: DBSCAN Clustering\n"
     ]
    },
    {
     "name": "stderr",
     "output_type": "stream",
     "text": [
      "/opt/homebrew/lib/python3.10/site-packages/sklearn_extra/cluster/_k_medoids.py:329: UserWarning: Cluster 1 is empty! self.labels_[self.medoid_indices_[1]] may not be labeled with its corresponding cluster (1).\n",
      "  warnings.warn(\n"
     ]
    },
    {
     "name": "stdout",
     "output_type": "stream",
     "text": [
      "Iteration: 2757\n",
      "Algorithm: Mean Shift\n",
      "Iteration: 2758\n",
      "Algorithm: K-Mediods\n",
      "Iteration: 2759\n",
      "Algorithm: K-Mediods\n"
     ]
    },
    {
     "name": "stderr",
     "output_type": "stream",
     "text": [
      "/opt/homebrew/lib/python3.10/site-packages/sklearn_extra/cluster/_k_medoids.py:329: UserWarning: Cluster 1 is empty! self.labels_[self.medoid_indices_[1]] may not be labeled with its corresponding cluster (1).\n",
      "  warnings.warn(\n",
      "/opt/homebrew/lib/python3.10/site-packages/sklearn_extra/cluster/_k_medoids.py:329: UserWarning: Cluster 1 is empty! self.labels_[self.medoid_indices_[1]] may not be labeled with its corresponding cluster (1).\n",
      "  warnings.warn(\n"
     ]
    },
    {
     "name": "stdout",
     "output_type": "stream",
     "text": [
      "Iteration: 2760\n",
      "Algorithm: K-Mediods\n",
      "Iteration: 2761\n",
      "Algorithm: K-Means\n"
     ]
    },
    {
     "name": "stderr",
     "output_type": "stream",
     "text": [
      "/opt/homebrew/lib/python3.10/site-packages/sklearn_extra/cluster/_k_medoids.py:329: UserWarning: Cluster 1 is empty! self.labels_[self.medoid_indices_[1]] may not be labeled with its corresponding cluster (1).\n",
      "  warnings.warn(\n"
     ]
    },
    {
     "name": "stdout",
     "output_type": "stream",
     "text": [
      "Iteration: 2762\n",
      "Algorithm: EM Clustering\n",
      "Iteration: 2763\n",
      "Algorithm: EM Clustering\n",
      "Iteration: 2764\n",
      "Algorithm: K-Means\n",
      "Iteration: 2765\n",
      "Algorithm: K-Means\n",
      "Iteration: 2766\n",
      "Algorithm: EM Clustering\n",
      "Iteration: 2767\n",
      "Algorithm: EM Clustering\n",
      "Iteration: 2768\n",
      "Algorithm: K-Mediods\n"
     ]
    },
    {
     "name": "stderr",
     "output_type": "stream",
     "text": [
      "/opt/homebrew/lib/python3.10/site-packages/sklearn_extra/cluster/_k_medoids.py:329: UserWarning: Cluster 1 is empty! self.labels_[self.medoid_indices_[1]] may not be labeled with its corresponding cluster (1).\n",
      "  warnings.warn(\n",
      "/opt/homebrew/lib/python3.10/site-packages/sklearn_extra/cluster/_k_medoids.py:329: UserWarning: Cluster 1 is empty! self.labels_[self.medoid_indices_[1]] may not be labeled with its corresponding cluster (1).\n",
      "  warnings.warn(\n"
     ]
    },
    {
     "name": "stdout",
     "output_type": "stream",
     "text": [
      "Iteration: 2769\n",
      "Algorithm: K-Mediods\n",
      "Iteration: 2770\n",
      "Algorithm: Mean Shift\n",
      "Iteration: 2771\n",
      "Algorithm: K-Mediods\n",
      "Iteration: 2772\n",
      "Algorithm: DBSCAN Clustering\n"
     ]
    },
    {
     "name": "stderr",
     "output_type": "stream",
     "text": [
      "/opt/homebrew/lib/python3.10/site-packages/sklearn_extra/cluster/_k_medoids.py:329: UserWarning: Cluster 1 is empty! self.labels_[self.medoid_indices_[1]] may not be labeled with its corresponding cluster (1).\n",
      "  warnings.warn(\n"
     ]
    },
    {
     "name": "stdout",
     "output_type": "stream",
     "text": [
      "Iteration: 2773\n",
      "Algorithm: EM Clustering\n",
      "Iteration: 2774\n",
      "Algorithm: EM Clustering\n",
      "Iteration: 2775\n",
      "Algorithm: Mean Shift\n",
      "Iteration: 2776\n",
      "Algorithm: EM Clustering\n",
      "Iteration: 2777\n",
      "Algorithm: EM Clustering\n",
      "Iteration: 2778\n",
      "Algorithm: K-Mediods\n"
     ]
    },
    {
     "name": "stderr",
     "output_type": "stream",
     "text": [
      "/opt/homebrew/lib/python3.10/site-packages/sklearn_extra/cluster/_k_medoids.py:329: UserWarning: Cluster 1 is empty! self.labels_[self.medoid_indices_[1]] may not be labeled with its corresponding cluster (1).\n",
      "  warnings.warn(\n",
      "/opt/homebrew/lib/python3.10/site-packages/sklearn_extra/cluster/_k_medoids.py:329: UserWarning: Cluster 1 is empty! self.labels_[self.medoid_indices_[1]] may not be labeled with its corresponding cluster (1).\n",
      "  warnings.warn(\n"
     ]
    },
    {
     "name": "stdout",
     "output_type": "stream",
     "text": [
      "Iteration: 2779\n",
      "Algorithm: K-Mediods\n",
      "Iteration: 2780\n",
      "Algorithm: K-Mediods\n"
     ]
    },
    {
     "name": "stderr",
     "output_type": "stream",
     "text": [
      "/opt/homebrew/lib/python3.10/site-packages/sklearn_extra/cluster/_k_medoids.py:329: UserWarning: Cluster 1 is empty! self.labels_[self.medoid_indices_[1]] may not be labeled with its corresponding cluster (1).\n",
      "  warnings.warn(\n",
      "/opt/homebrew/lib/python3.10/site-packages/sklearn_extra/cluster/_k_medoids.py:329: UserWarning: Cluster 1 is empty! self.labels_[self.medoid_indices_[1]] may not be labeled with its corresponding cluster (1).\n",
      "  warnings.warn(\n"
     ]
    },
    {
     "name": "stdout",
     "output_type": "stream",
     "text": [
      "Iteration: 2781\n",
      "Algorithm: K-Mediods\n",
      "Iteration: 2782\n",
      "Algorithm: Mean Shift\n",
      "Iteration: 2783\n",
      "Algorithm: K-Mediods\n",
      "Iteration: 2784\n",
      "Algorithm: K-Mediods\n"
     ]
    },
    {
     "name": "stderr",
     "output_type": "stream",
     "text": [
      "/opt/homebrew/lib/python3.10/site-packages/sklearn_extra/cluster/_k_medoids.py:329: UserWarning: Cluster 1 is empty! self.labels_[self.medoid_indices_[1]] may not be labeled with its corresponding cluster (1).\n",
      "  warnings.warn(\n",
      "/opt/homebrew/lib/python3.10/site-packages/sklearn_extra/cluster/_k_medoids.py:329: UserWarning: Cluster 1 is empty! self.labels_[self.medoid_indices_[1]] may not be labeled with its corresponding cluster (1).\n",
      "  warnings.warn(\n"
     ]
    },
    {
     "name": "stdout",
     "output_type": "stream",
     "text": [
      "Iteration: 2785\n",
      "Algorithm: DBSCAN Clustering\n",
      "Iteration: 2786\n",
      "Algorithm: K-Means\n",
      "Iteration: 2787\n",
      "Algorithm: K-Means\n",
      "Iteration: 2788\n",
      "Algorithm: K-Means\n",
      "Iteration: 2789\n",
      "Algorithm: EM Clustering\n",
      "Iteration: 2790\n",
      "Algorithm: K-Mediods\n"
     ]
    },
    {
     "name": "stderr",
     "output_type": "stream",
     "text": [
      "/opt/homebrew/lib/python3.10/site-packages/sklearn_extra/cluster/_k_medoids.py:329: UserWarning: Cluster 1 is empty! self.labels_[self.medoid_indices_[1]] may not be labeled with its corresponding cluster (1).\n",
      "  warnings.warn(\n"
     ]
    },
    {
     "name": "stdout",
     "output_type": "stream",
     "text": [
      "Iteration: 2791\n",
      "Algorithm: K-Means\n",
      "Iteration: 2792\n",
      "Algorithm: DBSCAN Clustering\n",
      "Iteration: 2793\n",
      "Algorithm: K-Mediods\n",
      "Iteration: 2794\n",
      "Algorithm: Mean Shift\n"
     ]
    },
    {
     "name": "stderr",
     "output_type": "stream",
     "text": [
      "/opt/homebrew/lib/python3.10/site-packages/sklearn_extra/cluster/_k_medoids.py:329: UserWarning: Cluster 1 is empty! self.labels_[self.medoid_indices_[1]] may not be labeled with its corresponding cluster (1).\n",
      "  warnings.warn(\n"
     ]
    },
    {
     "name": "stdout",
     "output_type": "stream",
     "text": [
      "Iteration: 2795\n",
      "Algorithm: DBSCAN Clustering\n",
      "Iteration: 2796\n",
      "Algorithm: Mean Shift\n",
      "Iteration: 2797\n",
      "Algorithm: DBSCAN Clustering\n",
      "Iteration: 2798\n",
      "Algorithm: EM Clustering\n",
      "Iteration: 2799\n",
      "Algorithm: K-Mediods\n"
     ]
    },
    {
     "name": "stderr",
     "output_type": "stream",
     "text": [
      "/opt/homebrew/lib/python3.10/site-packages/sklearn_extra/cluster/_k_medoids.py:329: UserWarning: Cluster 1 is empty! self.labels_[self.medoid_indices_[1]] may not be labeled with its corresponding cluster (1).\n",
      "  warnings.warn(\n"
     ]
    },
    {
     "name": "stdout",
     "output_type": "stream",
     "text": [
      "Iteration: 2800\n",
      "Algorithm: EM Clustering\n",
      "Iteration: 2801\n",
      "Algorithm: DBSCAN Clustering\n",
      "Iteration: 2802\n",
      "Algorithm: K-Mediods\n",
      "Iteration: 2803\n",
      "Algorithm: K-Means\n"
     ]
    },
    {
     "name": "stderr",
     "output_type": "stream",
     "text": [
      "/opt/homebrew/lib/python3.10/site-packages/sklearn_extra/cluster/_k_medoids.py:329: UserWarning: Cluster 1 is empty! self.labels_[self.medoid_indices_[1]] may not be labeled with its corresponding cluster (1).\n",
      "  warnings.warn(\n"
     ]
    },
    {
     "name": "stdout",
     "output_type": "stream",
     "text": [
      "Iteration: 2804\n",
      "Algorithm: EM Clustering\n",
      "Iteration: 2805\n",
      "Algorithm: Mean Shift\n",
      "Iteration: 2806\n",
      "Algorithm: DBSCAN Clustering\n",
      "Iteration: 2807\n",
      "Algorithm: EM Clustering\n",
      "Iteration: 2808\n",
      "Algorithm: K-Mediods\n",
      "Iteration: 2809\n",
      "Algorithm: DBSCAN Clustering\n"
     ]
    },
    {
     "name": "stderr",
     "output_type": "stream",
     "text": [
      "/opt/homebrew/lib/python3.10/site-packages/sklearn_extra/cluster/_k_medoids.py:329: UserWarning: Cluster 1 is empty! self.labels_[self.medoid_indices_[1]] may not be labeled with its corresponding cluster (1).\n",
      "  warnings.warn(\n"
     ]
    },
    {
     "name": "stdout",
     "output_type": "stream",
     "text": [
      "Iteration: 2810\n",
      "Algorithm: K-Mediods\n",
      "Iteration: 2811\n",
      "Algorithm: K-Mediods\n"
     ]
    },
    {
     "name": "stderr",
     "output_type": "stream",
     "text": [
      "/opt/homebrew/lib/python3.10/site-packages/sklearn_extra/cluster/_k_medoids.py:329: UserWarning: Cluster 1 is empty! self.labels_[self.medoid_indices_[1]] may not be labeled with its corresponding cluster (1).\n",
      "  warnings.warn(\n",
      "/opt/homebrew/lib/python3.10/site-packages/sklearn_extra/cluster/_k_medoids.py:329: UserWarning: Cluster 1 is empty! self.labels_[self.medoid_indices_[1]] may not be labeled with its corresponding cluster (1).\n",
      "  warnings.warn(\n"
     ]
    },
    {
     "name": "stdout",
     "output_type": "stream",
     "text": [
      "Iteration: 2812\n",
      "Algorithm: K-Mediods\n",
      "Iteration: 2813\n",
      "Algorithm: K-Mediods\n"
     ]
    },
    {
     "name": "stderr",
     "output_type": "stream",
     "text": [
      "/opt/homebrew/lib/python3.10/site-packages/sklearn_extra/cluster/_k_medoids.py:329: UserWarning: Cluster 1 is empty! self.labels_[self.medoid_indices_[1]] may not be labeled with its corresponding cluster (1).\n",
      "  warnings.warn(\n",
      "/opt/homebrew/lib/python3.10/site-packages/sklearn_extra/cluster/_k_medoids.py:329: UserWarning: Cluster 1 is empty! self.labels_[self.medoid_indices_[1]] may not be labeled with its corresponding cluster (1).\n",
      "  warnings.warn(\n"
     ]
    },
    {
     "name": "stdout",
     "output_type": "stream",
     "text": [
      "Iteration: 2814\n",
      "Algorithm: EM Clustering\n",
      "Iteration: 2815\n",
      "Algorithm: K-Mediods\n"
     ]
    },
    {
     "name": "stderr",
     "output_type": "stream",
     "text": [
      "/opt/homebrew/lib/python3.10/site-packages/sklearn_extra/cluster/_k_medoids.py:329: UserWarning: Cluster 1 is empty! self.labels_[self.medoid_indices_[1]] may not be labeled with its corresponding cluster (1).\n",
      "  warnings.warn(\n"
     ]
    },
    {
     "name": "stdout",
     "output_type": "stream",
     "text": [
      "Iteration: 2816\n",
      "Algorithm: DBSCAN Clustering\n",
      "Iteration: 2817\n",
      "Algorithm: K-Mediods\n"
     ]
    },
    {
     "name": "stderr",
     "output_type": "stream",
     "text": [
      "/opt/homebrew/lib/python3.10/site-packages/sklearn_extra/cluster/_k_medoids.py:329: UserWarning: Cluster 1 is empty! self.labels_[self.medoid_indices_[1]] may not be labeled with its corresponding cluster (1).\n",
      "  warnings.warn(\n"
     ]
    },
    {
     "name": "stdout",
     "output_type": "stream",
     "text": [
      "Iteration: 2818\n",
      "Algorithm: K-Means\n",
      "Iteration: 2819\n",
      "Algorithm: K-Means\n",
      "Iteration: 2820\n",
      "Algorithm: EM Clustering\n",
      "Iteration: 2821\n",
      "Algorithm: Mean Shift\n",
      "Iteration: 2822\n",
      "Algorithm: K-Mediods\n",
      "Iteration: 2823\n",
      "Algorithm: K-Mediods\n"
     ]
    },
    {
     "name": "stderr",
     "output_type": "stream",
     "text": [
      "/opt/homebrew/lib/python3.10/site-packages/sklearn_extra/cluster/_k_medoids.py:329: UserWarning: Cluster 1 is empty! self.labels_[self.medoid_indices_[1]] may not be labeled with its corresponding cluster (1).\n",
      "  warnings.warn(\n",
      "/opt/homebrew/lib/python3.10/site-packages/sklearn_extra/cluster/_k_medoids.py:329: UserWarning: Cluster 1 is empty! self.labels_[self.medoid_indices_[1]] may not be labeled with its corresponding cluster (1).\n",
      "  warnings.warn(\n"
     ]
    },
    {
     "name": "stdout",
     "output_type": "stream",
     "text": [
      "Iteration: 2824\n",
      "Algorithm: K-Mediods\n"
     ]
    },
    {
     "name": "stderr",
     "output_type": "stream",
     "text": [
      "/opt/homebrew/lib/python3.10/site-packages/sklearn_extra/cluster/_k_medoids.py:329: UserWarning: Cluster 1 is empty! self.labels_[self.medoid_indices_[1]] may not be labeled with its corresponding cluster (1).\n",
      "  warnings.warn(\n",
      "/opt/homebrew/lib/python3.10/site-packages/sklearn_extra/cluster/_k_medoids.py:329: UserWarning: Cluster 1 is empty! self.labels_[self.medoid_indices_[1]] may not be labeled with its corresponding cluster (1).\n",
      "  warnings.warn(\n"
     ]
    },
    {
     "name": "stdout",
     "output_type": "stream",
     "text": [
      "Iteration: 2825\n",
      "Algorithm: K-Mediods\n",
      "Iteration: 2826\n",
      "Algorithm: K-Mediods\n"
     ]
    },
    {
     "name": "stderr",
     "output_type": "stream",
     "text": [
      "/opt/homebrew/lib/python3.10/site-packages/sklearn_extra/cluster/_k_medoids.py:329: UserWarning: Cluster 1 is empty! self.labels_[self.medoid_indices_[1]] may not be labeled with its corresponding cluster (1).\n",
      "  warnings.warn(\n"
     ]
    },
    {
     "name": "stdout",
     "output_type": "stream",
     "text": [
      "Iteration: 2827\n",
      "Algorithm: Mean Shift\n",
      "Iteration: 2828\n",
      "Algorithm: K-Means\n",
      "Iteration: 2829\n",
      "Algorithm: EM Clustering\n",
      "Iteration: 2830\n",
      "Algorithm: DBSCAN Clustering\n",
      "Iteration: 2831\n",
      "Algorithm: K-Means\n",
      "Iteration: 2832\n",
      "Algorithm: K-Mediods\n"
     ]
    },
    {
     "name": "stderr",
     "output_type": "stream",
     "text": [
      "/opt/homebrew/lib/python3.10/site-packages/sklearn_extra/cluster/_k_medoids.py:329: UserWarning: Cluster 1 is empty! self.labels_[self.medoid_indices_[1]] may not be labeled with its corresponding cluster (1).\n",
      "  warnings.warn(\n"
     ]
    },
    {
     "name": "stdout",
     "output_type": "stream",
     "text": [
      "Iteration: 2833\n",
      "Algorithm: K-Means\n",
      "Iteration: 2834\n",
      "Algorithm: K-Mediods\n"
     ]
    },
    {
     "name": "stderr",
     "output_type": "stream",
     "text": [
      "/opt/homebrew/lib/python3.10/site-packages/sklearn_extra/cluster/_k_medoids.py:329: UserWarning: Cluster 1 is empty! self.labels_[self.medoid_indices_[1]] may not be labeled with its corresponding cluster (1).\n",
      "  warnings.warn(\n"
     ]
    },
    {
     "name": "stdout",
     "output_type": "stream",
     "text": [
      "Iteration: 2835\n",
      "Algorithm: DBSCAN Clustering\n",
      "Iteration: 2836\n",
      "Algorithm: K-Mediods\n",
      "Iteration: 2837\n",
      "Algorithm: Mean Shift\n"
     ]
    },
    {
     "name": "stderr",
     "output_type": "stream",
     "text": [
      "/opt/homebrew/lib/python3.10/site-packages/sklearn_extra/cluster/_k_medoids.py:329: UserWarning: Cluster 1 is empty! self.labels_[self.medoid_indices_[1]] may not be labeled with its corresponding cluster (1).\n",
      "  warnings.warn(\n"
     ]
    },
    {
     "name": "stdout",
     "output_type": "stream",
     "text": [
      "Iteration: 2838\n",
      "Algorithm: DBSCAN Clustering\n",
      "Iteration: 2839\n",
      "Algorithm: K-Mediods\n",
      "Iteration: 2840\n",
      "Algorithm: K-Mediods\n"
     ]
    },
    {
     "name": "stderr",
     "output_type": "stream",
     "text": [
      "/opt/homebrew/lib/python3.10/site-packages/sklearn_extra/cluster/_k_medoids.py:329: UserWarning: Cluster 1 is empty! self.labels_[self.medoid_indices_[1]] may not be labeled with its corresponding cluster (1).\n",
      "  warnings.warn(\n",
      "/opt/homebrew/lib/python3.10/site-packages/sklearn_extra/cluster/_k_medoids.py:329: UserWarning: Cluster 1 is empty! self.labels_[self.medoid_indices_[1]] may not be labeled with its corresponding cluster (1).\n",
      "  warnings.warn(\n"
     ]
    },
    {
     "name": "stdout",
     "output_type": "stream",
     "text": [
      "Iteration: 2841\n",
      "Algorithm: K-Means\n",
      "Iteration: 2842\n",
      "Algorithm: Mean Shift\n",
      "Iteration: 2843\n",
      "Algorithm: DBSCAN Clustering\n",
      "Iteration: 2844\n",
      "Algorithm: Mean Shift\n",
      "Iteration: 2845\n",
      "Algorithm: K-Means\n",
      "Iteration: 2846\n",
      "Algorithm: K-Mediods\n"
     ]
    },
    {
     "name": "stderr",
     "output_type": "stream",
     "text": [
      "/opt/homebrew/lib/python3.10/site-packages/sklearn_extra/cluster/_k_medoids.py:329: UserWarning: Cluster 1 is empty! self.labels_[self.medoid_indices_[1]] may not be labeled with its corresponding cluster (1).\n",
      "  warnings.warn(\n",
      "/opt/homebrew/lib/python3.10/site-packages/sklearn_extra/cluster/_k_medoids.py:329: UserWarning: Cluster 1 is empty! self.labels_[self.medoid_indices_[1]] may not be labeled with its corresponding cluster (1).\n",
      "  warnings.warn(\n"
     ]
    },
    {
     "name": "stdout",
     "output_type": "stream",
     "text": [
      "Iteration: 2847\n",
      "Algorithm: K-Mediods\n",
      "Iteration: 2848\n",
      "Algorithm: DBSCAN Clustering\n",
      "Iteration: 2849\n",
      "Algorithm: K-Mediods\n",
      "Iteration: 2850\n",
      "Algorithm: K-Means\n"
     ]
    },
    {
     "name": "stderr",
     "output_type": "stream",
     "text": [
      "/opt/homebrew/lib/python3.10/site-packages/sklearn_extra/cluster/_k_medoids.py:329: UserWarning: Cluster 1 is empty! self.labels_[self.medoid_indices_[1]] may not be labeled with its corresponding cluster (1).\n",
      "  warnings.warn(\n"
     ]
    },
    {
     "name": "stdout",
     "output_type": "stream",
     "text": [
      "Iteration: 2851\n",
      "Algorithm: K-Mediods\n",
      "Iteration: 2852\n",
      "Algorithm: DBSCAN Clustering\n"
     ]
    },
    {
     "name": "stderr",
     "output_type": "stream",
     "text": [
      "/opt/homebrew/lib/python3.10/site-packages/sklearn_extra/cluster/_k_medoids.py:329: UserWarning: Cluster 1 is empty! self.labels_[self.medoid_indices_[1]] may not be labeled with its corresponding cluster (1).\n",
      "  warnings.warn(\n"
     ]
    },
    {
     "name": "stdout",
     "output_type": "stream",
     "text": [
      "Iteration: 2853\n",
      "Algorithm: Mean Shift\n",
      "Iteration: 2854\n",
      "Algorithm: EM Clustering\n",
      "Iteration: 2855\n",
      "Algorithm: Mean Shift\n",
      "Iteration: 2856\n",
      "Algorithm: EM Clustering\n",
      "Iteration: 2857\n",
      "Algorithm: DBSCAN Clustering\n",
      "Iteration: 2858\n",
      "Algorithm: K-Means\n",
      "Iteration: 2859\n",
      "Algorithm: EM Clustering\n",
      "Iteration: 2860\n",
      "Algorithm: K-Mediods\n"
     ]
    },
    {
     "name": "stderr",
     "output_type": "stream",
     "text": [
      "/opt/homebrew/lib/python3.10/site-packages/sklearn_extra/cluster/_k_medoids.py:329: UserWarning: Cluster 1 is empty! self.labels_[self.medoid_indices_[1]] may not be labeled with its corresponding cluster (1).\n",
      "  warnings.warn(\n"
     ]
    },
    {
     "name": "stdout",
     "output_type": "stream",
     "text": [
      "Iteration: 2861\n",
      "Algorithm: EM Clustering\n",
      "Iteration: 2862\n",
      "Algorithm: EM Clustering\n",
      "Iteration: 2863\n",
      "Algorithm: K-Mediods\n"
     ]
    },
    {
     "name": "stderr",
     "output_type": "stream",
     "text": [
      "/opt/homebrew/lib/python3.10/site-packages/sklearn_extra/cluster/_k_medoids.py:329: UserWarning: Cluster 1 is empty! self.labels_[self.medoid_indices_[1]] may not be labeled with its corresponding cluster (1).\n",
      "  warnings.warn(\n"
     ]
    },
    {
     "name": "stdout",
     "output_type": "stream",
     "text": [
      "Iteration: 2864\n",
      "Algorithm: EM Clustering\n",
      "Iteration: 2865\n",
      "Algorithm: Mean Shift\n",
      "Iteration: 2866\n",
      "Algorithm: Mean Shift\n",
      "Iteration: 2867\n",
      "Algorithm: K-Means\n",
      "Iteration: 2868\n",
      "Algorithm: K-Mediods\n"
     ]
    },
    {
     "name": "stderr",
     "output_type": "stream",
     "text": [
      "/opt/homebrew/lib/python3.10/site-packages/sklearn_extra/cluster/_k_medoids.py:329: UserWarning: Cluster 1 is empty! self.labels_[self.medoid_indices_[1]] may not be labeled with its corresponding cluster (1).\n",
      "  warnings.warn(\n",
      "/opt/homebrew/lib/python3.10/site-packages/sklearn_extra/cluster/_k_medoids.py:329: UserWarning: Cluster 1 is empty! self.labels_[self.medoid_indices_[1]] may not be labeled with its corresponding cluster (1).\n",
      "  warnings.warn(\n"
     ]
    },
    {
     "name": "stdout",
     "output_type": "stream",
     "text": [
      "Iteration: 2869\n",
      "Algorithm: K-Mediods\n",
      "Iteration: 2870\n",
      "Algorithm: K-Mediods\n"
     ]
    },
    {
     "name": "stderr",
     "output_type": "stream",
     "text": [
      "/opt/homebrew/lib/python3.10/site-packages/sklearn_extra/cluster/_k_medoids.py:329: UserWarning: Cluster 1 is empty! self.labels_[self.medoid_indices_[1]] may not be labeled with its corresponding cluster (1).\n",
      "  warnings.warn(\n"
     ]
    },
    {
     "name": "stdout",
     "output_type": "stream",
     "text": [
      "Iteration: 2871\n",
      "Algorithm: Mean Shift\n",
      "Iteration: 2872\n",
      "Algorithm: K-Mediods\n",
      "Iteration: 2873\n",
      "Algorithm: K-Mediods\n"
     ]
    },
    {
     "name": "stderr",
     "output_type": "stream",
     "text": [
      "/opt/homebrew/lib/python3.10/site-packages/sklearn_extra/cluster/_k_medoids.py:329: UserWarning: Cluster 1 is empty! self.labels_[self.medoid_indices_[1]] may not be labeled with its corresponding cluster (1).\n",
      "  warnings.warn(\n",
      "/opt/homebrew/lib/python3.10/site-packages/sklearn_extra/cluster/_k_medoids.py:329: UserWarning: Cluster 1 is empty! self.labels_[self.medoid_indices_[1]] may not be labeled with its corresponding cluster (1).\n",
      "  warnings.warn(\n"
     ]
    },
    {
     "name": "stdout",
     "output_type": "stream",
     "text": [
      "Iteration: 2874\n",
      "Algorithm: Mean Shift\n",
      "Iteration: 2875\n",
      "Algorithm: DBSCAN Clustering\n",
      "Iteration: 2876\n",
      "Algorithm: K-Mediods\n"
     ]
    },
    {
     "name": "stderr",
     "output_type": "stream",
     "text": [
      "/opt/homebrew/lib/python3.10/site-packages/sklearn_extra/cluster/_k_medoids.py:329: UserWarning: Cluster 1 is empty! self.labels_[self.medoid_indices_[1]] may not be labeled with its corresponding cluster (1).\n",
      "  warnings.warn(\n",
      "/opt/homebrew/lib/python3.10/site-packages/sklearn_extra/cluster/_k_medoids.py:329: UserWarning: Cluster 1 is empty! self.labels_[self.medoid_indices_[1]] may not be labeled with its corresponding cluster (1).\n",
      "  warnings.warn(\n"
     ]
    },
    {
     "name": "stdout",
     "output_type": "stream",
     "text": [
      "Iteration: 2877\n",
      "Algorithm: K-Mediods\n",
      "Iteration: 2878\n",
      "Algorithm: K-Mediods\n"
     ]
    },
    {
     "name": "stderr",
     "output_type": "stream",
     "text": [
      "/opt/homebrew/lib/python3.10/site-packages/sklearn_extra/cluster/_k_medoids.py:329: UserWarning: Cluster 1 is empty! self.labels_[self.medoid_indices_[1]] may not be labeled with its corresponding cluster (1).\n",
      "  warnings.warn(\n"
     ]
    },
    {
     "name": "stdout",
     "output_type": "stream",
     "text": [
      "Iteration: 2879\n",
      "Algorithm: Mean Shift\n",
      "Iteration: 2880\n",
      "Algorithm: K-Mediods\n"
     ]
    },
    {
     "name": "stderr",
     "output_type": "stream",
     "text": [
      "/opt/homebrew/lib/python3.10/site-packages/sklearn_extra/cluster/_k_medoids.py:329: UserWarning: Cluster 1 is empty! self.labels_[self.medoid_indices_[1]] may not be labeled with its corresponding cluster (1).\n",
      "  warnings.warn(\n"
     ]
    },
    {
     "name": "stdout",
     "output_type": "stream",
     "text": [
      "Iteration: 2881\n",
      "Algorithm: DBSCAN Clustering\n",
      "Iteration: 2882\n",
      "Algorithm: EM Clustering\n",
      "Iteration: 2883\n",
      "Algorithm: EM Clustering\n",
      "Iteration: 2884\n",
      "Algorithm: K-Mediods\n"
     ]
    },
    {
     "name": "stderr",
     "output_type": "stream",
     "text": [
      "/opt/homebrew/lib/python3.10/site-packages/sklearn_extra/cluster/_k_medoids.py:329: UserWarning: Cluster 1 is empty! self.labels_[self.medoid_indices_[1]] may not be labeled with its corresponding cluster (1).\n",
      "  warnings.warn(\n",
      "/opt/homebrew/lib/python3.10/site-packages/sklearn_extra/cluster/_k_medoids.py:329: UserWarning: Cluster 1 is empty! self.labels_[self.medoid_indices_[1]] may not be labeled with its corresponding cluster (1).\n",
      "  warnings.warn(\n"
     ]
    },
    {
     "name": "stdout",
     "output_type": "stream",
     "text": [
      "Iteration: 2885\n",
      "Algorithm: K-Mediods\n",
      "Iteration: 2886\n",
      "Algorithm: Mean Shift\n",
      "Iteration: 2887\n",
      "Algorithm: Mean Shift\n",
      "Iteration: 2888\n",
      "Algorithm: K-Mediods\n"
     ]
    },
    {
     "name": "stderr",
     "output_type": "stream",
     "text": [
      "/opt/homebrew/lib/python3.10/site-packages/sklearn_extra/cluster/_k_medoids.py:329: UserWarning: Cluster 1 is empty! self.labels_[self.medoid_indices_[1]] may not be labeled with its corresponding cluster (1).\n",
      "  warnings.warn(\n",
      "/opt/homebrew/lib/python3.10/site-packages/sklearn_extra/cluster/_k_medoids.py:329: UserWarning: Cluster 1 is empty! self.labels_[self.medoid_indices_[1]] may not be labeled with its corresponding cluster (1).\n",
      "  warnings.warn(\n"
     ]
    },
    {
     "name": "stdout",
     "output_type": "stream",
     "text": [
      "Iteration: 2889\n",
      "Algorithm: K-Mediods\n",
      "Iteration: 2890\n",
      "Algorithm: Mean Shift\n",
      "Iteration: 2891\n",
      "Algorithm: K-Mediods\n"
     ]
    },
    {
     "name": "stderr",
     "output_type": "stream",
     "text": [
      "/opt/homebrew/lib/python3.10/site-packages/sklearn_extra/cluster/_k_medoids.py:329: UserWarning: Cluster 1 is empty! self.labels_[self.medoid_indices_[1]] may not be labeled with its corresponding cluster (1).\n",
      "  warnings.warn(\n"
     ]
    },
    {
     "name": "stdout",
     "output_type": "stream",
     "text": [
      "Iteration: 2892\n",
      "Algorithm: Mean Shift\n",
      "Iteration: 2893\n",
      "Algorithm: EM Clustering\n",
      "Iteration: 2894\n",
      "Algorithm: K-Mediods\n"
     ]
    },
    {
     "name": "stderr",
     "output_type": "stream",
     "text": [
      "/opt/homebrew/lib/python3.10/site-packages/sklearn_extra/cluster/_k_medoids.py:329: UserWarning: Cluster 1 is empty! self.labels_[self.medoid_indices_[1]] may not be labeled with its corresponding cluster (1).\n",
      "  warnings.warn(\n",
      "/opt/homebrew/lib/python3.10/site-packages/sklearn_extra/cluster/_k_medoids.py:329: UserWarning: Cluster 1 is empty! self.labels_[self.medoid_indices_[1]] may not be labeled with its corresponding cluster (1).\n",
      "  warnings.warn(\n"
     ]
    },
    {
     "name": "stdout",
     "output_type": "stream",
     "text": [
      "Iteration: 2895\n",
      "Algorithm: K-Mediods\n",
      "Iteration: 2896\n",
      "Algorithm: K-Mediods\n"
     ]
    },
    {
     "name": "stderr",
     "output_type": "stream",
     "text": [
      "/opt/homebrew/lib/python3.10/site-packages/sklearn_extra/cluster/_k_medoids.py:329: UserWarning: Cluster 1 is empty! self.labels_[self.medoid_indices_[1]] may not be labeled with its corresponding cluster (1).\n",
      "  warnings.warn(\n"
     ]
    },
    {
     "name": "stdout",
     "output_type": "stream",
     "text": [
      "Iteration: 2897\n",
      "Algorithm: EM Clustering\n",
      "Iteration: 2898\n",
      "Algorithm: Mean Shift\n",
      "Iteration: 2899\n",
      "Algorithm: K-Mediods\n",
      "Iteration: 2900\n",
      "Algorithm: K-Mediods\n"
     ]
    },
    {
     "name": "stderr",
     "output_type": "stream",
     "text": [
      "/opt/homebrew/lib/python3.10/site-packages/sklearn_extra/cluster/_k_medoids.py:329: UserWarning: Cluster 1 is empty! self.labels_[self.medoid_indices_[1]] may not be labeled with its corresponding cluster (1).\n",
      "  warnings.warn(\n",
      "/opt/homebrew/lib/python3.10/site-packages/sklearn_extra/cluster/_k_medoids.py:329: UserWarning: Cluster 1 is empty! self.labels_[self.medoid_indices_[1]] may not be labeled with its corresponding cluster (1).\n",
      "  warnings.warn(\n"
     ]
    },
    {
     "name": "stdout",
     "output_type": "stream",
     "text": [
      "Iteration: 2901\n",
      "Algorithm: K-Means\n",
      "Iteration: 2902\n",
      "Algorithm: EM Clustering\n",
      "Iteration: 2903\n",
      "Algorithm: K-Mediods\n",
      "Iteration: 2904\n",
      "Algorithm: K-Mediods\n"
     ]
    },
    {
     "name": "stderr",
     "output_type": "stream",
     "text": [
      "/opt/homebrew/lib/python3.10/site-packages/sklearn_extra/cluster/_k_medoids.py:329: UserWarning: Cluster 1 is empty! self.labels_[self.medoid_indices_[1]] may not be labeled with its corresponding cluster (1).\n",
      "  warnings.warn(\n",
      "/opt/homebrew/lib/python3.10/site-packages/sklearn_extra/cluster/_k_medoids.py:329: UserWarning: Cluster 1 is empty! self.labels_[self.medoid_indices_[1]] may not be labeled with its corresponding cluster (1).\n",
      "  warnings.warn(\n"
     ]
    },
    {
     "name": "stdout",
     "output_type": "stream",
     "text": [
      "Iteration: 2905\n",
      "Algorithm: K-Means\n",
      "Iteration: 2906\n",
      "Algorithm: EM Clustering\n",
      "Iteration: 2907\n",
      "Algorithm: K-Mediods\n",
      "Iteration: 2908\n",
      "Algorithm: K-Mediods\n"
     ]
    },
    {
     "name": "stderr",
     "output_type": "stream",
     "text": [
      "/opt/homebrew/lib/python3.10/site-packages/sklearn_extra/cluster/_k_medoids.py:329: UserWarning: Cluster 1 is empty! self.labels_[self.medoid_indices_[1]] may not be labeled with its corresponding cluster (1).\n",
      "  warnings.warn(\n",
      "/opt/homebrew/lib/python3.10/site-packages/sklearn_extra/cluster/_k_medoids.py:329: UserWarning: Cluster 1 is empty! self.labels_[self.medoid_indices_[1]] may not be labeled with its corresponding cluster (1).\n",
      "  warnings.warn(\n"
     ]
    },
    {
     "name": "stdout",
     "output_type": "stream",
     "text": [
      "Iteration: 2909\n",
      "Algorithm: K-Mediods\n",
      "Iteration: 2910\n",
      "Algorithm: EM Clustering\n"
     ]
    },
    {
     "name": "stderr",
     "output_type": "stream",
     "text": [
      "/opt/homebrew/lib/python3.10/site-packages/sklearn_extra/cluster/_k_medoids.py:329: UserWarning: Cluster 1 is empty! self.labels_[self.medoid_indices_[1]] may not be labeled with its corresponding cluster (1).\n",
      "  warnings.warn(\n"
     ]
    },
    {
     "name": "stdout",
     "output_type": "stream",
     "text": [
      "Iteration: 2911\n",
      "Algorithm: EM Clustering\n",
      "Iteration: 2912\n",
      "Algorithm: Mean Shift\n",
      "Iteration: 2913\n",
      "Algorithm: Mean Shift\n",
      "Iteration: 2914\n",
      "Algorithm: EM Clustering\n",
      "Iteration: 2915\n",
      "Algorithm: Mean Shift\n",
      "Iteration: 2916\n",
      "Algorithm: K-Means\n",
      "Iteration: 2917\n",
      "Algorithm: K-Mediods\n"
     ]
    },
    {
     "name": "stderr",
     "output_type": "stream",
     "text": [
      "/opt/homebrew/lib/python3.10/site-packages/sklearn_extra/cluster/_k_medoids.py:329: UserWarning: Cluster 1 is empty! self.labels_[self.medoid_indices_[1]] may not be labeled with its corresponding cluster (1).\n",
      "  warnings.warn(\n"
     ]
    },
    {
     "name": "stdout",
     "output_type": "stream",
     "text": [
      "Iteration: 2918\n",
      "Algorithm: EM Clustering\n",
      "Iteration: 2919\n",
      "Algorithm: DBSCAN Clustering\n",
      "Iteration: 2920\n",
      "Algorithm: EM Clustering\n",
      "Iteration: 2921\n",
      "Algorithm: DBSCAN Clustering\n",
      "Iteration: 2922\n",
      "Algorithm: Mean Shift\n",
      "Iteration: 2923\n",
      "Algorithm: DBSCAN Clustering\n",
      "Iteration: 2924\n",
      "Algorithm: Mean Shift\n",
      "Iteration: 2925\n",
      "Algorithm: DBSCAN Clustering\n",
      "Iteration: 2926\n",
      "Algorithm: EM Clustering\n",
      "Iteration: 2927\n",
      "Algorithm: K-Mediods\n"
     ]
    },
    {
     "name": "stderr",
     "output_type": "stream",
     "text": [
      "/opt/homebrew/lib/python3.10/site-packages/sklearn_extra/cluster/_k_medoids.py:329: UserWarning: Cluster 1 is empty! self.labels_[self.medoid_indices_[1]] may not be labeled with its corresponding cluster (1).\n",
      "  warnings.warn(\n",
      "/opt/homebrew/lib/python3.10/site-packages/sklearn_extra/cluster/_k_medoids.py:329: UserWarning: Cluster 1 is empty! self.labels_[self.medoid_indices_[1]] may not be labeled with its corresponding cluster (1).\n",
      "  warnings.warn(\n"
     ]
    },
    {
     "name": "stdout",
     "output_type": "stream",
     "text": [
      "Iteration: 2928\n",
      "Algorithm: K-Mediods\n",
      "Iteration: 2929\n",
      "Algorithm: Mean Shift\n",
      "Iteration: 2930\n",
      "Algorithm: K-Mediods\n",
      "Iteration: 2931\n",
      "Algorithm: K-Mediods\n"
     ]
    },
    {
     "name": "stderr",
     "output_type": "stream",
     "text": [
      "/opt/homebrew/lib/python3.10/site-packages/sklearn_extra/cluster/_k_medoids.py:329: UserWarning: Cluster 1 is empty! self.labels_[self.medoid_indices_[1]] may not be labeled with its corresponding cluster (1).\n",
      "  warnings.warn(\n",
      "/opt/homebrew/lib/python3.10/site-packages/sklearn_extra/cluster/_k_medoids.py:329: UserWarning: Cluster 1 is empty! self.labels_[self.medoid_indices_[1]] may not be labeled with its corresponding cluster (1).\n",
      "  warnings.warn(\n"
     ]
    },
    {
     "name": "stdout",
     "output_type": "stream",
     "text": [
      "Iteration: 2932\n",
      "Algorithm: DBSCAN Clustering\n",
      "Iteration: 2933\n",
      "Algorithm: DBSCAN Clustering\n",
      "Iteration: 2934\n",
      "Algorithm: K-Mediods\n",
      "Iteration: 2935\n",
      "Algorithm: K-Mediods\n"
     ]
    },
    {
     "name": "stderr",
     "output_type": "stream",
     "text": [
      "/opt/homebrew/lib/python3.10/site-packages/sklearn_extra/cluster/_k_medoids.py:329: UserWarning: Cluster 1 is empty! self.labels_[self.medoid_indices_[1]] may not be labeled with its corresponding cluster (1).\n",
      "  warnings.warn(\n",
      "/opt/homebrew/lib/python3.10/site-packages/sklearn_extra/cluster/_k_medoids.py:329: UserWarning: Cluster 1 is empty! self.labels_[self.medoid_indices_[1]] may not be labeled with its corresponding cluster (1).\n",
      "  warnings.warn(\n"
     ]
    },
    {
     "name": "stdout",
     "output_type": "stream",
     "text": [
      "Iteration: 2936\n",
      "Algorithm: DBSCAN Clustering\n",
      "Iteration: 2937\n",
      "Algorithm: EM Clustering\n",
      "Iteration: 2938\n",
      "Algorithm: DBSCAN Clustering\n",
      "Iteration: 2939\n",
      "Algorithm: K-Mediods\n",
      "Iteration: 2940\n",
      "Algorithm: K-Means\n"
     ]
    },
    {
     "name": "stderr",
     "output_type": "stream",
     "text": [
      "/opt/homebrew/lib/python3.10/site-packages/sklearn_extra/cluster/_k_medoids.py:329: UserWarning: Cluster 1 is empty! self.labels_[self.medoid_indices_[1]] may not be labeled with its corresponding cluster (1).\n",
      "  warnings.warn(\n"
     ]
    },
    {
     "name": "stdout",
     "output_type": "stream",
     "text": [
      "Iteration: 2941\n",
      "Algorithm: K-Means\n",
      "Iteration: 2942\n",
      "Algorithm: Mean Shift\n",
      "Iteration: 2943\n",
      "Algorithm: K-Mediods\n",
      "Iteration: 2944\n",
      "Algorithm: K-Mediods\n"
     ]
    },
    {
     "name": "stderr",
     "output_type": "stream",
     "text": [
      "/opt/homebrew/lib/python3.10/site-packages/sklearn_extra/cluster/_k_medoids.py:329: UserWarning: Cluster 1 is empty! self.labels_[self.medoid_indices_[1]] may not be labeled with its corresponding cluster (1).\n",
      "  warnings.warn(\n",
      "/opt/homebrew/lib/python3.10/site-packages/sklearn_extra/cluster/_k_medoids.py:329: UserWarning: Cluster 1 is empty! self.labels_[self.medoid_indices_[1]] may not be labeled with its corresponding cluster (1).\n",
      "  warnings.warn(\n"
     ]
    },
    {
     "name": "stdout",
     "output_type": "stream",
     "text": [
      "Iteration: 2945\n",
      "Algorithm: EM Clustering\n",
      "Iteration: 2946\n",
      "Algorithm: DBSCAN Clustering\n",
      "Iteration: 2947\n",
      "Algorithm: K-Mediods\n",
      "Iteration: 2948\n",
      "Algorithm: K-Mediods\n"
     ]
    },
    {
     "name": "stderr",
     "output_type": "stream",
     "text": [
      "/opt/homebrew/lib/python3.10/site-packages/sklearn_extra/cluster/_k_medoids.py:329: UserWarning: Cluster 1 is empty! self.labels_[self.medoid_indices_[1]] may not be labeled with its corresponding cluster (1).\n",
      "  warnings.warn(\n",
      "/opt/homebrew/lib/python3.10/site-packages/sklearn_extra/cluster/_k_medoids.py:329: UserWarning: Cluster 1 is empty! self.labels_[self.medoid_indices_[1]] may not be labeled with its corresponding cluster (1).\n",
      "  warnings.warn(\n"
     ]
    },
    {
     "name": "stdout",
     "output_type": "stream",
     "text": [
      "Iteration: 2949\n",
      "Algorithm: K-Mediods\n",
      "Iteration: 2950\n",
      "Algorithm: K-Mediods\n"
     ]
    },
    {
     "name": "stderr",
     "output_type": "stream",
     "text": [
      "/opt/homebrew/lib/python3.10/site-packages/sklearn_extra/cluster/_k_medoids.py:329: UserWarning: Cluster 1 is empty! self.labels_[self.medoid_indices_[1]] may not be labeled with its corresponding cluster (1).\n",
      "  warnings.warn(\n",
      "/opt/homebrew/lib/python3.10/site-packages/sklearn_extra/cluster/_k_medoids.py:329: UserWarning: Cluster 1 is empty! self.labels_[self.medoid_indices_[1]] may not be labeled with its corresponding cluster (1).\n",
      "  warnings.warn(\n"
     ]
    },
    {
     "name": "stdout",
     "output_type": "stream",
     "text": [
      "Iteration: 2951\n",
      "Algorithm: DBSCAN Clustering\n",
      "Iteration: 2952\n",
      "Algorithm: K-Mediods\n"
     ]
    },
    {
     "name": "stderr",
     "output_type": "stream",
     "text": [
      "/opt/homebrew/lib/python3.10/site-packages/sklearn_extra/cluster/_k_medoids.py:329: UserWarning: Cluster 1 is empty! self.labels_[self.medoid_indices_[1]] may not be labeled with its corresponding cluster (1).\n",
      "  warnings.warn(\n",
      "/opt/homebrew/lib/python3.10/site-packages/sklearn_extra/cluster/_k_medoids.py:329: UserWarning: Cluster 1 is empty! self.labels_[self.medoid_indices_[1]] may not be labeled with its corresponding cluster (1).\n",
      "  warnings.warn(\n"
     ]
    },
    {
     "name": "stdout",
     "output_type": "stream",
     "text": [
      "Iteration: 2953\n",
      "Algorithm: K-Mediods\n",
      "Iteration: 2954\n",
      "Algorithm: DBSCAN Clustering\n",
      "Iteration: 2955\n",
      "Algorithm: Mean Shift\n",
      "Iteration: 2956\n",
      "Algorithm: K-Means\n",
      "Iteration: 2957\n",
      "Algorithm: Mean Shift\n",
      "Iteration: 2958\n",
      "Algorithm: K-Mediods\n",
      "Iteration: 2959\n",
      "Algorithm: K-Mediods\n"
     ]
    },
    {
     "name": "stderr",
     "output_type": "stream",
     "text": [
      "/opt/homebrew/lib/python3.10/site-packages/sklearn_extra/cluster/_k_medoids.py:329: UserWarning: Cluster 1 is empty! self.labels_[self.medoid_indices_[1]] may not be labeled with its corresponding cluster (1).\n",
      "  warnings.warn(\n",
      "/opt/homebrew/lib/python3.10/site-packages/sklearn_extra/cluster/_k_medoids.py:329: UserWarning: Cluster 1 is empty! self.labels_[self.medoid_indices_[1]] may not be labeled with its corresponding cluster (1).\n",
      "  warnings.warn(\n"
     ]
    },
    {
     "name": "stdout",
     "output_type": "stream",
     "text": [
      "Iteration: 2960\n",
      "Algorithm: K-Mediods\n",
      "Iteration: 2961\n",
      "Algorithm: EM Clustering\n"
     ]
    },
    {
     "name": "stderr",
     "output_type": "stream",
     "text": [
      "/opt/homebrew/lib/python3.10/site-packages/sklearn_extra/cluster/_k_medoids.py:329: UserWarning: Cluster 1 is empty! self.labels_[self.medoid_indices_[1]] may not be labeled with its corresponding cluster (1).\n",
      "  warnings.warn(\n"
     ]
    },
    {
     "name": "stdout",
     "output_type": "stream",
     "text": [
      "Iteration: 2962\n",
      "Algorithm: K-Mediods\n"
     ]
    },
    {
     "name": "stderr",
     "output_type": "stream",
     "text": [
      "/opt/homebrew/lib/python3.10/site-packages/sklearn_extra/cluster/_k_medoids.py:329: UserWarning: Cluster 1 is empty! self.labels_[self.medoid_indices_[1]] may not be labeled with its corresponding cluster (1).\n",
      "  warnings.warn(\n"
     ]
    },
    {
     "name": "stdout",
     "output_type": "stream",
     "text": [
      "Iteration: 2963\n",
      "Algorithm: DBSCAN Clustering\n",
      "Iteration: 2964\n",
      "Algorithm: EM Clustering\n",
      "Iteration: 2965\n",
      "Algorithm: Mean Shift\n",
      "Iteration: 2966\n",
      "Algorithm: EM Clustering\n",
      "Iteration: 2967\n",
      "Algorithm: K-Mediods\n"
     ]
    },
    {
     "name": "stderr",
     "output_type": "stream",
     "text": [
      "/opt/homebrew/lib/python3.10/site-packages/sklearn_extra/cluster/_k_medoids.py:329: UserWarning: Cluster 1 is empty! self.labels_[self.medoid_indices_[1]] may not be labeled with its corresponding cluster (1).\n",
      "  warnings.warn(\n"
     ]
    },
    {
     "name": "stdout",
     "output_type": "stream",
     "text": [
      "Iteration: 2968\n",
      "Algorithm: EM Clustering\n",
      "Iteration: 2969\n",
      "Algorithm: K-Mediods\n"
     ]
    },
    {
     "name": "stderr",
     "output_type": "stream",
     "text": [
      "/opt/homebrew/lib/python3.10/site-packages/sklearn_extra/cluster/_k_medoids.py:329: UserWarning: Cluster 1 is empty! self.labels_[self.medoid_indices_[1]] may not be labeled with its corresponding cluster (1).\n",
      "  warnings.warn(\n"
     ]
    },
    {
     "name": "stdout",
     "output_type": "stream",
     "text": [
      "Iteration: 2970\n",
      "Algorithm: EM Clustering\n",
      "Iteration: 2971\n",
      "Algorithm: K-Mediods\n"
     ]
    },
    {
     "name": "stderr",
     "output_type": "stream",
     "text": [
      "/opt/homebrew/lib/python3.10/site-packages/sklearn_extra/cluster/_k_medoids.py:329: UserWarning: Cluster 1 is empty! self.labels_[self.medoid_indices_[1]] may not be labeled with its corresponding cluster (1).\n",
      "  warnings.warn(\n",
      "/opt/homebrew/lib/python3.10/site-packages/sklearn_extra/cluster/_k_medoids.py:329: UserWarning: Cluster 1 is empty! self.labels_[self.medoid_indices_[1]] may not be labeled with its corresponding cluster (1).\n",
      "  warnings.warn(\n"
     ]
    },
    {
     "name": "stdout",
     "output_type": "stream",
     "text": [
      "Iteration: 2972\n",
      "Algorithm: K-Mediods\n",
      "Iteration: 2973\n",
      "Algorithm: DBSCAN Clustering\n",
      "Iteration: 2974\n",
      "Algorithm: DBSCAN Clustering\n",
      "Iteration: 2975\n",
      "Algorithm: K-Means\n",
      "Iteration: 2976\n",
      "Algorithm: K-Mediods\n",
      "Iteration: 2977\n",
      "Algorithm: EM Clustering\n"
     ]
    },
    {
     "name": "stderr",
     "output_type": "stream",
     "text": [
      "/opt/homebrew/lib/python3.10/site-packages/sklearn_extra/cluster/_k_medoids.py:329: UserWarning: Cluster 1 is empty! self.labels_[self.medoid_indices_[1]] may not be labeled with its corresponding cluster (1).\n",
      "  warnings.warn(\n"
     ]
    },
    {
     "name": "stdout",
     "output_type": "stream",
     "text": [
      "Iteration: 2978\n",
      "Algorithm: Mean Shift\n",
      "Iteration: 2979\n",
      "Algorithm: K-Mediods\n",
      "Iteration: 2980\n",
      "Algorithm: K-Mediods\n"
     ]
    },
    {
     "name": "stderr",
     "output_type": "stream",
     "text": [
      "/opt/homebrew/lib/python3.10/site-packages/sklearn_extra/cluster/_k_medoids.py:329: UserWarning: Cluster 1 is empty! self.labels_[self.medoid_indices_[1]] may not be labeled with its corresponding cluster (1).\n",
      "  warnings.warn(\n",
      "/opt/homebrew/lib/python3.10/site-packages/sklearn_extra/cluster/_k_medoids.py:329: UserWarning: Cluster 1 is empty! self.labels_[self.medoid_indices_[1]] may not be labeled with its corresponding cluster (1).\n",
      "  warnings.warn(\n"
     ]
    },
    {
     "name": "stdout",
     "output_type": "stream",
     "text": [
      "Iteration: 2981\n",
      "Algorithm: Mean Shift\n",
      "Iteration: 2982\n",
      "Algorithm: K-Means\n",
      "Iteration: 2983\n",
      "Algorithm: K-Mediods\n"
     ]
    },
    {
     "name": "stderr",
     "output_type": "stream",
     "text": [
      "/opt/homebrew/lib/python3.10/site-packages/sklearn_extra/cluster/_k_medoids.py:329: UserWarning: Cluster 1 is empty! self.labels_[self.medoid_indices_[1]] may not be labeled with its corresponding cluster (1).\n",
      "  warnings.warn(\n"
     ]
    },
    {
     "name": "stdout",
     "output_type": "stream",
     "text": [
      "Iteration: 2984\n",
      "Algorithm: Mean Shift\n",
      "Iteration: 2985\n",
      "Algorithm: Mean Shift\n",
      "Iteration: 2986\n",
      "Algorithm: K-Mediods\n",
      "Iteration: 2987\n",
      "Algorithm: EM Clustering\n"
     ]
    },
    {
     "name": "stderr",
     "output_type": "stream",
     "text": [
      "/opt/homebrew/lib/python3.10/site-packages/sklearn_extra/cluster/_k_medoids.py:329: UserWarning: Cluster 1 is empty! self.labels_[self.medoid_indices_[1]] may not be labeled with its corresponding cluster (1).\n",
      "  warnings.warn(\n"
     ]
    },
    {
     "name": "stdout",
     "output_type": "stream",
     "text": [
      "Iteration: 2988\n",
      "Algorithm: Mean Shift\n",
      "Iteration: 2989\n",
      "Algorithm: DBSCAN Clustering\n",
      "Iteration: 2990\n",
      "Algorithm: EM Clustering\n",
      "Iteration: 2991\n",
      "Algorithm: Mean Shift\n",
      "Iteration: 2992\n",
      "Algorithm: Mean Shift\n",
      "Iteration: 2993\n",
      "Algorithm: K-Mediods\n"
     ]
    },
    {
     "name": "stderr",
     "output_type": "stream",
     "text": [
      "/opt/homebrew/lib/python3.10/site-packages/sklearn_extra/cluster/_k_medoids.py:329: UserWarning: Cluster 1 is empty! self.labels_[self.medoid_indices_[1]] may not be labeled with its corresponding cluster (1).\n",
      "  warnings.warn(\n"
     ]
    },
    {
     "name": "stdout",
     "output_type": "stream",
     "text": [
      "Iteration: 2994\n",
      "Algorithm: K-Mediods\n"
     ]
    },
    {
     "name": "stderr",
     "output_type": "stream",
     "text": [
      "/opt/homebrew/lib/python3.10/site-packages/sklearn_extra/cluster/_k_medoids.py:329: UserWarning: Cluster 1 is empty! self.labels_[self.medoid_indices_[1]] may not be labeled with its corresponding cluster (1).\n",
      "  warnings.warn(\n"
     ]
    },
    {
     "name": "stdout",
     "output_type": "stream",
     "text": [
      "Iteration: 2995\n",
      "Algorithm: EM Clustering\n",
      "Iteration: 2996\n",
      "Algorithm: Mean Shift\n",
      "Iteration: 2997\n",
      "Algorithm: K-Means\n",
      "Iteration: 2998\n",
      "Algorithm: Mean Shift\n",
      "Iteration: 2999\n",
      "Algorithm: EM Clustering\n",
      "Q  :\n",
      "[[0.         0.         0.         0.         0.        ]\n",
      " [0.99876834 0.         0.         0.         0.99960697]\n",
      " [0.         0.         0.         0.         0.99954561]\n",
      " ...\n",
      " [0.96094217 0.         0.         0.89762083 0.        ]\n",
      " [0.         0.95349166 0.         0.89761949 0.        ]\n",
      " [0.96087236 0.95328551 0.         0.64346116 0.99949325]]\n",
      "Normed Q :\n",
      "[[ 0.          0.          0.          0.          0.        ]\n",
      " [55.50914702  0.          0.          0.         55.55575614]\n",
      " [ 0.          0.          0.          0.         55.55234595]\n",
      " ...\n",
      " [53.406859    0.          0.         49.88761123  0.        ]\n",
      " [ 0.         52.99277782  0.         49.88753648  0.        ]\n",
      " [53.40297928 52.98132045  0.         35.76202647 55.5494354 ]]\n",
      "\n",
      "max value located at (array([717]), array([4]))\n",
      "\n",
      "Using algorithm K-Means and Features Used: ['service', 'proto', 'conn_state', 'orig_pkts', 'orig_bytes', 'orig_ip_bytes'], max value is: 100.0\n",
      "\n",
      "IP CChUAn2y9k075ut2L4 is a potential anomaly\n",
      "\n",
      "IP CeXTE32bb03yltkRV is a potential anomaly\n",
      "\n",
      "IP CJ0N5q2qFD0t1nCl3j is a potential anomaly\n"
     ]
    }
   ],
   "source": [
    "# Markov Decision Process (MDP) - The Bellman equations adapted to\n",
    "# Q Learning.Reinforcement Learning with the Q action-value(reward) function.\n",
    "# Copyright 2018 Denis Rothman MIT License. See LICENSE.\n",
    "import numpy as ql\n",
    "# R is The Reward Matrix for each state\n",
    "# 1024 configurations of the 10 features --> 2^10\n",
    "# 5 algorithms\n",
    "num_configs = 2 ** len(FEATURES)\n",
    "R = ql.matrix(ql.zeros([num_configs,5]))\n",
    "\n",
    "# Q is the Learning Matrix in which rewards will be learned/stored\n",
    "Q = ql.matrix(ql.zeros([num_configs,5]))\n",
    "\n",
    "# Gamma : It's a form of penalty or uncertainty for learning\n",
    "# If the value is 1 , the rewards would be too high.\n",
    "# This way the system knows it is learning.\n",
    "gamma = 0.8\n",
    "\n",
    "# agent_s_state. The agent the name of the system calculating\n",
    "# s is the state the agent is going from and s' the state it's going to\n",
    "# this state can be random or it can be chosen as long as the rest of the choices\n",
    "# are not determined. Randomness is part of this stochastic process\n",
    "# 1) DONE: decide if starting state is random or a specific state\n",
    "agent_s_state = 1\n",
    "\n",
    "# The possible \"a\" actions when the agent is in a given state\n",
    "def possible_actions(state):\n",
    "    # 2) DONE: we should check Q, not R because R is never modified\n",
    "    current_state_row = Q[state,]\n",
    "    # 3) DONE: this should pick valid actions based on what we have not visited\n",
    "    possible_act = ql.where(current_state_row == 0)[1]\n",
    "    return possible_act\n",
    "\n",
    "# Get available actions in the current state\n",
    "PossibleAction = possible_actions(agent_s_state)\n",
    "\n",
    "# This function chooses at random which action to be performed within the range \n",
    "# of all the available actions.\n",
    "def ActionChoice(available_actions_range):\n",
    "    if(sum(PossibleAction)>0):\n",
    "        next_action = int(ql.random.choice(PossibleAction,1)[0])\n",
    "    if(sum(PossibleAction)<=0):\n",
    "        next_action = int(np.random.choice(NUM_ALG,1)[0])\n",
    "    return next_action\n",
    "\n",
    "# Sample next action to be performed\n",
    "action = ActionChoice(PossibleAction)\n",
    "\n",
    "# A version of Bellman's equation for reinforcement learning using the Q function\n",
    "# This reinforcement algorithm is a memoryless process\n",
    "# The transition function T from one state to another\n",
    "# is not in the equation below.  T is done by the random choice above\n",
    "\n",
    "def reward(current_state, action, gamma):\n",
    "    Max_State = ql.where(Q[action,] == ql.max(Q[action,]))[1]\n",
    "\n",
    "    if Max_State.shape[0] > 1:\n",
    "        Max_State = int(ql.random.choice(Max_State, size = 1)[0])\n",
    "    else:\n",
    "        Max_State = int(Max_State[0])\n",
    "\n",
    "    # 5) DONE: we think this is a typo and action/Max_State should be switched. \n",
    "    # MaxValue = Q[action, Max_State]\n",
    "    MaxValue = Q[Max_State, action]\n",
    "\n",
    "    # 6) DONE: call function to run ML algorithm using the value of action. this will\n",
    "    # run the algorithm using the features from current_state, create clusters,\n",
    "    # and calculate the silhouette value.\n",
    "    silhouette_co = algorithm_prep(current_state, action, 0) \n",
    "    \n",
    "    # Bellman's MDP based Q function\n",
    "    # 7) DONE: instead of getting a value from R, we add the silhouette value to gamma * MaxValue\n",
    "    # Q[current_state, action] = R[current_state, action] + gamma * MaxValue\n",
    "    Q[current_state, action] = silhouette_co + gamma * MaxValue\n",
    "\n",
    "\n",
    "# Rewarding Q matrix\n",
    "reward(agent_s_state,action,gamma)\n",
    "\n",
    "\n",
    "# Leraning over n iterations depending on the convergence of the system\n",
    "# A convergence function can replace the systematic repeating of the process\n",
    "# by comparing the sum of the Q matrix to that of Q matrix n-1 in the\n",
    "# previous episode\n",
    "for i in range(3000):\n",
    "    print(\"Iteration:\", i)\n",
    "    # select a random new state (configuration of features)\n",
    "    current_state = ql.random.randint(1, int(Q.shape[0]))\n",
    "    PossibleAction = possible_actions(current_state)\n",
    "    action = ActionChoice(PossibleAction)\n",
    "    print(\"Algorithm:\", ALGORITHMS[action])\n",
    "    reward(current_state,action,gamma)\n",
    "    \n",
    "# Displaying Q before the norm of Q phase\n",
    "print(\"Q  :\")\n",
    "print(Q)\n",
    "\n",
    "# Norm of Q\n",
    "print(\"Normed Q :\")\n",
    "print(Q/ql.max(Q)*100)\n",
    "\n",
    "# DONE: get maximum value from Q-Learning Matrix\n",
    "normed_Q = Q/ql.max(Q)*100\n",
    "max_location = np.where(normed_Q==normed_Q.max())\n",
    "print(\"\\nmax value located at\",max_location)\n",
    "max_config = max_location[0][0]\n",
    "max_algorithm = max_location[1][0]\n",
    "final_feats = bin_to_features(max_config)\n",
    "print(f\"\\nUsing algorithm {ALGORITHMS[max_algorithm]} and {final_feats}, max value is:\",normed_Q[max_config,max_algorithm])\n",
    "#DONE: print(f\"Selected features:\")\n",
    "\n",
    "# DONE: get final cluster labels\n",
    "cluster_labels = algorithm_prep(max_config, max_algorithm, 1)\n",
    "\n",
    "# DONE: match data in clusters to IP addresses\n",
    "labelled_data = data.copy()\n",
    "labelled_data['cluster'] = cluster_labels\n",
    "\n",
    "# DONE: return what IPs are likely anomalous\n",
    "# see what clusters have < 5% of the data\n",
    "# get unique values in cluster column\n",
    "num_clusters = labelled_data['cluster'].nunique()\n",
    "\n",
    "# for each unique value, get the count / len of data (aka percentage)\n",
    "# num_clusters = labelled_data['cluster'].nunique()\n",
    "cluster_array = labelled_data['cluster'].to_numpy()\n",
    "perc_values = np.unique(cluster_array,return_counts = True)[-1]\n",
    "percentages = perc_values / labelled_data.shape[0]\n",
    "\n",
    "# keep cluster values with % < 5\n",
    "idx = (np.where(percentages <= 0.1)[0]).tolist()\n",
    "anomalies = labelled_data.loc[labelled_data['cluster'].isin(idx)]\n",
    "# output IPs within those selected clusters\n",
    "\n",
    "for i in anomalies[uid]: # replace with unique ID here\n",
    "    print(f\"\\nIP {i} is a potential anomaly\")"
   ]
  },
  {
   "cell_type": "code",
   "execution_count": 156,
   "id": "b57472d7",
   "metadata": {},
   "outputs": [
    {
     "name": "stdout",
     "output_type": "stream",
     "text": [
      "\n",
      "Using algorithm K-Means and Features Used: ['service', 'proto', 'conn_state', 'orig_pkts', 'orig_bytes', 'orig_ip_bytes'], max value is: 100.0\n"
     ]
    },
    {
     "data": {
      "text/html": [
       "<div>\n",
       "<style scoped>\n",
       "    .dataframe tbody tr th:only-of-type {\n",
       "        vertical-align: middle;\n",
       "    }\n",
       "\n",
       "    .dataframe tbody tr th {\n",
       "        vertical-align: top;\n",
       "    }\n",
       "\n",
       "    .dataframe thead th {\n",
       "        text-align: right;\n",
       "    }\n",
       "</style>\n",
       "<table border=\"1\" class=\"dataframe\">\n",
       "  <thead>\n",
       "    <tr style=\"text-align: right;\">\n",
       "      <th></th>\n",
       "      <th>ts</th>\n",
       "      <th>uid</th>\n",
       "      <th>id.orig_h</th>\n",
       "      <th>id.orig_p</th>\n",
       "      <th>id.resp_h</th>\n",
       "      <th>id.resp_p</th>\n",
       "      <th>proto</th>\n",
       "      <th>service</th>\n",
       "      <th>duration</th>\n",
       "      <th>orig_bytes</th>\n",
       "      <th>...</th>\n",
       "      <th>conn_state</th>\n",
       "      <th>missed_bytes</th>\n",
       "      <th>history</th>\n",
       "      <th>orig_pkts</th>\n",
       "      <th>orig_ip_bytes</th>\n",
       "      <th>resp_pkts</th>\n",
       "      <th>resp_ip_bytes</th>\n",
       "      <th>label</th>\n",
       "      <th>detailed-label</th>\n",
       "      <th>cluster</th>\n",
       "    </tr>\n",
       "  </thead>\n",
       "  <tbody>\n",
       "    <tr>\n",
       "      <th>2034</th>\n",
       "      <td>1538573216</td>\n",
       "      <td>CChUAn2y9k075ut2L4</td>\n",
       "      <td>0</td>\n",
       "      <td>41176</td>\n",
       "      <td>3</td>\n",
       "      <td>443</td>\n",
       "      <td>1</td>\n",
       "      <td>1</td>\n",
       "      <td>703</td>\n",
       "      <td>13</td>\n",
       "      <td>...</td>\n",
       "      <td>1</td>\n",
       "      <td>2472</td>\n",
       "      <td>4</td>\n",
       "      <td>6793</td>\n",
       "      <td>285885</td>\n",
       "      <td>7129</td>\n",
       "      <td>301794</td>\n",
       "      <td>1</td>\n",
       "      <td>1</td>\n",
       "      <td>1</td>\n",
       "    </tr>\n",
       "    <tr>\n",
       "      <th>3146</th>\n",
       "      <td>1538607284</td>\n",
       "      <td>CeXTE32bb03yltkRV</td>\n",
       "      <td>0</td>\n",
       "      <td>41184</td>\n",
       "      <td>3</td>\n",
       "      <td>443</td>\n",
       "      <td>1</td>\n",
       "      <td>1</td>\n",
       "      <td>879</td>\n",
       "      <td>18</td>\n",
       "      <td>...</td>\n",
       "      <td>4</td>\n",
       "      <td>5390</td>\n",
       "      <td>7</td>\n",
       "      <td>5895</td>\n",
       "      <td>248182</td>\n",
       "      <td>6147</td>\n",
       "      <td>257816</td>\n",
       "      <td>1</td>\n",
       "      <td>1</td>\n",
       "      <td>1</td>\n",
       "    </tr>\n",
       "    <tr>\n",
       "      <th>3285</th>\n",
       "      <td>1538636962</td>\n",
       "      <td>CJ0N5q2qFD0t1nCl3j</td>\n",
       "      <td>0</td>\n",
       "      <td>41186</td>\n",
       "      <td>3</td>\n",
       "      <td>443</td>\n",
       "      <td>1</td>\n",
       "      <td>1</td>\n",
       "      <td>910</td>\n",
       "      <td>19</td>\n",
       "      <td>...</td>\n",
       "      <td>5</td>\n",
       "      <td>2472</td>\n",
       "      <td>8</td>\n",
       "      <td>4485</td>\n",
       "      <td>189231</td>\n",
       "      <td>4702</td>\n",
       "      <td>200386</td>\n",
       "      <td>1</td>\n",
       "      <td>1</td>\n",
       "      <td>1</td>\n",
       "    </tr>\n",
       "  </tbody>\n",
       "</table>\n",
       "<p>3 rows × 21 columns</p>\n",
       "</div>"
      ],
      "text/plain": [
       "              ts                 uid  id.orig_h  id.orig_p  id.resp_h  \\\n",
       "2034  1538573216  CChUAn2y9k075ut2L4          0      41176          3   \n",
       "3146  1538607284   CeXTE32bb03yltkRV          0      41184          3   \n",
       "3285  1538636962  CJ0N5q2qFD0t1nCl3j          0      41186          3   \n",
       "\n",
       "      id.resp_p  proto  service  duration  orig_bytes  ...  conn_state  \\\n",
       "2034        443      1        1       703          13  ...           1   \n",
       "3146        443      1        1       879          18  ...           4   \n",
       "3285        443      1        1       910          19  ...           5   \n",
       "\n",
       "      missed_bytes  history  orig_pkts  orig_ip_bytes  resp_pkts  \\\n",
       "2034          2472        4       6793         285885       7129   \n",
       "3146          5390        7       5895         248182       6147   \n",
       "3285          2472        8       4485         189231       4702   \n",
       "\n",
       "      resp_ip_bytes  label  detailed-label  cluster  \n",
       "2034         301794      1               1        1  \n",
       "3146         257816      1               1        1  \n",
       "3285         200386      1               1        1  \n",
       "\n",
       "[3 rows x 21 columns]"
      ]
     },
     "execution_count": 156,
     "metadata": {},
     "output_type": "execute_result"
    }
   ],
   "source": [
    "print(f\"\\nUsing algorithm {ALGORITHMS[max_algorithm]} and {final_feats}, max value is:\",normed_Q[max_config,max_algorithm])\n",
    "anomalies"
   ]
  },
  {
   "cell_type": "code",
   "execution_count": 145,
   "id": "b13286fd",
   "metadata": {},
   "outputs": [
    {
     "data": {
      "text/plain": [
       "(array([128]), array([0]))"
      ]
     },
     "execution_count": 145,
     "metadata": {},
     "output_type": "execute_result"
    }
   ],
   "source": [
    "max_location"
   ]
  },
  {
   "cell_type": "code",
   "execution_count": 129,
   "id": "156d3498",
   "metadata": {},
   "outputs": [
    {
     "data": {
      "text/plain": [
       "np.float64(0.5744217212371902)"
      ]
     },
     "execution_count": 129,
     "metadata": {},
     "output_type": "execute_result"
    }
   ],
   "source": [
    "algorithm_prep(current_state, 5, 0)\n",
    "# alg prep: dbscan 0.2s, meanshift 10-16s (modified: 1s), kmediods 0.6s, em clustering 0.3s, kmeans 0.1s\n"
   ]
  },
  {
   "cell_type": "code",
   "execution_count": 126,
   "id": "19e7b42d",
   "metadata": {},
   "outputs": [
    {
     "name": "stderr",
     "output_type": "stream",
     "text": [
      "/opt/homebrew/lib/python3.10/site-packages/sklearn_extra/cluster/_k_medoids.py:297: ConvergenceWarning: Maximum number of iteration reached before convergence. Consider increasing max_iter to improve the fit.\n",
      "  warnings.warn(\n"
     ]
    },
    {
     "data": {
      "text/plain": [
       "np.float64(0.5744217212371902)"
      ]
     },
     "execution_count": 126,
     "metadata": {},
     "output_type": "execute_result"
    }
   ],
   "source": [
    "algorithm_prep(current_state, action, 0)\n"
   ]
  },
  {
   "cell_type": "markdown",
   "id": "544f46ec",
   "metadata": {},
   "source": [
    "selected_features"
   ]
  },
  {
   "cell_type": "markdown",
   "id": "28cd3a16",
   "metadata": {},
   "source": [
    "#### ignore"
   ]
  },
  {
   "cell_type": "code",
   "execution_count": 27,
   "id": "d77abc1e",
   "metadata": {},
   "outputs": [
    {
     "name": "stdout",
     "output_type": "stream",
     "text": [
      "[296   1]\n",
      "[0.996633 0.003367]\n",
      "    device_name      source_ip  avg_bytes_sent  avg_bytes_received  \\\n",
      "142  Device-227  192.168.0.226          9973.5              4648.0   \n",
      "\n",
      "     avg_packets_transferred  avg_flow_duration  recent_tcp_flags  \\\n",
      "142                   303.75            7694.75                 2   \n",
      "\n",
      "     recent_protocol  avg_cpu_usage  avg_memory_usage  avg_disk_usage  \\\n",
      "142                1         29.545            58.905           58.96   \n",
      "\n",
      "     avg_uptime  cluster  \n",
      "142       426.0        1  \n"
     ]
    }
   ],
   "source": [
    "import numpy as np\n",
    "# percentages = labelled_data['cluster'].value_counts().values\n",
    "# percentages = percentages / labelled_data.shape[0]\n",
    "# print(percentages)\n",
    "# print(labelled_data['cluster'].value_counts())\n",
    "cluster_array = labelled_data['cluster'].to_numpy()\n",
    "perc_vals = np.unique(cluster_array,return_counts = True)[-1]\n",
    "print(perc_vals)\n",
    "percentages = perc_vals / labelled_data.shape[0]\n",
    "print(percentages)\n",
    "idx = (np.where(percentages <= 0.1)[0]).tolist()\n",
    "anomalies = labelled_data.loc[labelled_data['cluster'].isin(idx)]\n",
    "print(anomalies)"
   ]
  },
  {
   "cell_type": "code",
   "execution_count": null,
   "id": "b97a7393",
   "metadata": {},
   "outputs": [
    {
     "data": {
      "text/plain": [
       "matrix([[ 99.99998773, 100.        ,  99.99998111,  99.9512457 ,\n",
       "          99.9512457 ,  99.95124659,  99.99917226,  99.99991577,\n",
       "          99.9991523 ,  99.99991297,  99.95122339,  99.95121864]])"
      ]
     },
     "execution_count": 20,
     "metadata": {},
     "output_type": "execute_result"
    }
   ],
   "source": [
    "#print(max_location)\n",
    "np.where(normed_Q==normed_Q.max())\n",
    "#normed_Q[normed_Q > 99.]\n",
    "#max_location = np.where(normed_Q==normed_Q.max())"
   ]
  },
  {
   "cell_type": "code",
   "execution_count": 101,
   "id": "66c348f9",
   "metadata": {},
   "outputs": [
    {
     "name": "stdout",
     "output_type": "stream",
     "text": [
      "max value located at (array([278]), array([0]))\n",
      "278\n",
      "Using algorithm K-Means and feature configuration 278, max value is: 100.0\n"
     ]
    }
   ],
   "source": [
    "normed_Q = Q/ql.max(Q)*100\n",
    "max_location = np.where(normed_Q==normed_Q.max())\n",
    "print(\"max value located at\",max_location)\n",
    "max_config = max_location[0][0]\n",
    "max_algorithm = ALGORITHMS[max_location[1][0]]\n",
    "print(f\"Using algorithm {max_algorithm} and feature configuration {max_config}, max value is:\",normed_Q[278,0])\n",
    "\n"
   ]
  },
  {
   "cell_type": "markdown",
   "id": "25122174",
   "metadata": {},
   "source": [
    "### Performance Metrics"
   ]
  },
  {
   "cell_type": "code",
   "execution_count": 184,
   "id": "e4539ab6",
   "metadata": {},
   "outputs": [],
   "source": [
    "from sklearn.metrics import average_precision_score, f1_score, roc_auc_score, confusion_matrix, accuracy_score\n",
    "from sklearn.metrics import precision_score, recall_score"
   ]
  },
  {
   "cell_type": "code",
   "execution_count": 158,
   "id": "bcc32dbe",
   "metadata": {},
   "outputs": [
    {
     "name": "stdout",
     "output_type": "stream",
     "text": [
      "      true pred                 uid\n",
      "20       1    0  CaFD7t4x11rNjJyXpe\n",
      "22       1    0   C2gDegk8EvlOlAaJi\n",
      "25       1    0  CY9Vox2T9RVyTvV5Zc\n",
      "2034     1    1  CChUAn2y9k075ut2L4\n",
      "2035     1    0  CPQreG2wGyBw1Fdqa2\n",
      "2046     1    0  C5eeVN1ibcDUKaR0na\n",
      "2048     1    0  CUpb0u1h3TX688LlAi\n",
      "2049     1    0  CImwQs4If4Eyj29ZQ6\n",
      "2050     1    0   CzVVJTZ4ssdqivqr1\n",
      "2052     1    0  C0qgcP3QHZRIkuOkm8\n",
      "2053     1    0  C50Is73ulQc4Xfpv5e\n",
      "2055     1    0  Cqx3Nn1myl6TuT2YP6\n",
      "3146     1    1   CeXTE32bb03yltkRV\n",
      "3285     1    1  CJ0N5q2qFD0t1nCl3j\n"
     ]
    }
   ],
   "source": [
    "labels = data['label']\n",
    "result_labels = pd.DataFrame(columns=[\"true\", \"pred\"])\n",
    "result_labels['uid'] = ips\n",
    "result_labels['true'] = labels\n",
    "#print(result_labels)\n",
    "result_labels.loc[result_labels['uid'].isin(anomalies[uid]), 'pred'] = 1\n",
    "result_labels.loc[~result_labels['uid'].isin(anomalies[uid]), 'pred'] = 0\n",
    "print(result_labels.loc[result_labels['true'] == 1])\n"
   ]
  },
  {
   "cell_type": "code",
   "execution_count": 185,
   "id": "78c29dfc",
   "metadata": {},
   "outputs": [],
   "source": [
    "y_true = result_labels['true'].astype(int)\n",
    "y_pred = result_labels['pred'].astype(int)\n",
    "\n",
    "# pr_auc = average_precision_score(y_true, y_pred)\n",
    "\n",
    "# roc_auc = roc_auc_score(y_true, y_pred)\n",
    "\n",
    "acc = accuracy_score(y_true, y_pred)\n",
    "f1 = f1_score(y_true, y_pred)\n",
    "precision = precision_score(y_true, y_pred)\n",
    "recall = recall_score(y_true, y_pred)"
   ]
  },
  {
   "cell_type": "code",
   "execution_count": 186,
   "id": "d5f3f034",
   "metadata": {},
   "outputs": [
    {
     "name": "stdout",
     "output_type": "stream",
     "text": [
      "Accuracy: 0.9966524650030432\n",
      "F1: 0.35294117647058826\n",
      "Precision: 1.0, Recall: 0.21428571428571427\n"
     ]
    }
   ],
   "source": [
    "# print(\"PR AUC:\", pr_auc)\n",
    "# print(\"ROC AUC:\", roc_auc)\n",
    "print(\"Accuracy:\", acc)\n",
    "print(\"F1:\", f1)\n",
    "print(f\"Precision: {precision}, Recall: {recall}\")"
   ]
  },
  {
   "cell_type": "markdown",
   "id": "aa379bf0",
   "metadata": {},
   "source": [
    "## Additional Reference Code"
   ]
  },
  {
   "cell_type": "code",
   "execution_count": 4,
   "id": "73b7bb23-50fc-4abd-8090-852424c7c162",
   "metadata": {},
   "outputs": [
    {
     "name": "stdout",
     "output_type": "stream",
     "text": [
      "Q  :\n",
      "[[  0.      0.      0.      0.    258.44    0.   ]\n",
      " [  0.      0.      0.    321.8     0.    207.752]\n",
      " [  0.      0.    500.    321.8     0.      0.   ]\n",
      " [  0.    258.44  401.      0.    258.44    0.   ]\n",
      " [207.752   0.      0.    321.8     0.      0.   ]\n",
      " [  0.    258.44    0.      0.      0.      0.   ]]\n",
      "Normed Q :\n",
      "[[  0.       0.       0.       0.      51.688    0.    ]\n",
      " [  0.       0.       0.      64.36     0.      41.5504]\n",
      " [  0.       0.     100.      64.36     0.       0.    ]\n",
      " [  0.      51.688   80.2      0.      51.688    0.    ]\n",
      " [ 41.5504   0.       0.      64.36     0.       0.    ]\n",
      " [  0.      51.688    0.       0.       0.       0.    ]]\n",
      "Concept Path\n",
      "-> A\n",
      "-> E\n",
      "-> D\n",
      "-> C\n"
     ]
    }
   ],
   "source": [
    "# -*- coding: utf-8 -*-\n",
    "# Markov Decision Process (MDP) - The Bellman equations adapted to\n",
    "# Q Learning.Reinforcement Learning with the Q action-value(reward) function.\n",
    "# Copyright 2019 Denis Rothman MIT License. See LICENSE.\n",
    "import numpy as ql\n",
    "# R is The Reward Matrix for each state\n",
    "R = ql.matrix([ [0,0,0,0,1,0],\n",
    "\t\t            [0,0,0,1,0,1],\n",
    "\t\t            [0,0,100,1,0,0],\n",
    "\t             \t[0,1,1,0,1,0],\n",
    "\t\t            [1,0,0,1,0,0],\n",
    "\t\t            [0,1,0,0,0,0] ])\n",
    "\n",
    "# Q is the Learning Matrix in which rewards will be learned/stored\n",
    "Q = ql.matrix(ql.zeros([6,6]))\n",
    "\n",
    "\"\"\"##  The Learning rate or training penalty\"\"\"\n",
    "\n",
    "# Gamma : It's a form of penalty or uncertainty for learning\n",
    "# If the value is 1 , the rewards would be too high.\n",
    "# This way the system knows it is learning.\n",
    "gamma = 0.8\n",
    "\n",
    "\"\"\"## Initial State\"\"\"\n",
    "\n",
    "# agent_s_state. The agent the name of the system calculating\n",
    "# s is the state the agent is going from and s' the state it's going to\n",
    "# this state can be random or it can be chosen as long as the rest of the choices\n",
    "# are not determined. Randomness is part of this stochastic process\n",
    "agent_s_state = 5\n",
    "\n",
    "\"\"\"## The random choice of the next state\"\"\"\n",
    "\n",
    "# The possible \"a\" actions when the agent is in a given state\n",
    "def possible_actions(state):\n",
    "    current_state_row = R[state,]\n",
    "    possible_act = ql.where(current_state_row >0)[1]\n",
    "    return possible_act\n",
    "\n",
    "# Get available actions in the current state\n",
    "PossibleAction = possible_actions(agent_s_state)\n",
    "\n",
    "# This function chooses at random which action to be performed within the range \n",
    "# of all the available actions.\n",
    "def ActionChoice(available_actions_range):\n",
    "    if(sum(PossibleAction)>0):\n",
    "        next_action = int(ql.random.choice(PossibleAction,1))\n",
    "    if(sum(PossibleAction)<=0):\n",
    "        next_action = int(ql.random.choice(5,1))\n",
    "    return next_action\n",
    "\n",
    "# Sample next action to be performed\n",
    "action = ActionChoice(PossibleAction)\n",
    "\n",
    "\"\"\"## The Bellman Equation\"\"\"\n",
    "\n",
    "# A version of the Bellman equation for reinforcement learning using the Q function\n",
    "# This reinforcement algorithm is a memoryless process\n",
    "# The transition function T from one state to another\n",
    "# is not in the equation below.  T is done by the random choice above\n",
    "\n",
    "def reward(current_state, action, gamma):\n",
    "    Max_State = ql.where(Q[action,] == ql.max(Q[action,]))[1]\n",
    "\n",
    "    if Max_State.shape[0] > 1:\n",
    "        Max_State = int(ql.random.choice(Max_State, size = 1))\n",
    "    else:\n",
    "        Max_State = int(Max_State)\n",
    "    MaxValue = Q[action, Max_State]\n",
    "    \n",
    "    # The Bellman MDP based Q function\n",
    "    Q[current_state, action] = R[current_state, action] + gamma * MaxValue\n",
    "\n",
    "# Rewarding Q matrix\n",
    "reward(agent_s_state,action,gamma)\n",
    "\n",
    "\"\"\"## Running the training episodes randomly\"\"\"\n",
    "\n",
    "# Learning over n iterations depending on the convergence of the system\n",
    "# A convergence function can replace the systematic repeating of the process\n",
    "# by comparing the sum of the Q matrix to that of Q matrix n-1 in the\n",
    "# previous episode\n",
    "for i in range(50000):\n",
    "    current_state = ql.random.randint(0, int(Q.shape[0]))\n",
    "    PossibleAction = possible_actions(current_state)\n",
    "    action = ActionChoice(PossibleAction)\n",
    "    reward(current_state,action,gamma)\n",
    "    \n",
    "# Displaying Q before the norm of Q phase\n",
    "print(\"Q  :\")\n",
    "print(Q)\n",
    "\n",
    "# Norm of Q\n",
    "print(\"Normed Q :\")\n",
    "print(Q/ql.max(Q)*100)\n",
    "\n",
    "\"\"\"# Improving the program by introducing a decision-making process\"\"\"\n",
    "nextc=-1\n",
    "nextci=-1\n",
    "conceptcode=[\"A\",\"B\",\"C\",\"D\",\"E\",\"F\"]\n",
    "origin=int(input(\"index number origin(A=0,B=1,C=2,D=3,E=4,F=5): \"))\n",
    "print(\"Concept Path\")\n",
    "print(\"->\",conceptcode[int(origin)])\n",
    "for se in range(0,6):\n",
    "    if(se==0):\n",
    "        po=origin\n",
    "    if(se>0):\n",
    "        po=nextci\n",
    "        #print(\"se:\",se,\"po:\",po)\n",
    "    for ci in range(0,6):\n",
    "        maxc=Q[po,ci]\n",
    "        #print(maxc,nextc)\n",
    "        if(maxc>=nextc):\n",
    "            nextc=maxc\n",
    "            nextci=ci\n",
    "            #print(\"next c\",nextc)\n",
    "    if(nextci==po):\n",
    "        break;\n",
    "    #print(\"present origin\",po,\"next c\",nextci,\" \",nextc,\" \",conceptcode[int(nextci)])\n",
    "    print(\"->\",conceptcode[int(nextci)])\n"
   ]
  }
 ],
 "metadata": {
  "kernelspec": {
   "display_name": "base",
   "language": "python",
   "name": "python3"
  },
  "language_info": {
   "codemirror_mode": {
    "name": "ipython",
    "version": 3
   },
   "file_extension": ".py",
   "mimetype": "text/x-python",
   "name": "python",
   "nbconvert_exporter": "python",
   "pygments_lexer": "ipython3",
   "version": "3.12.7"
  }
 },
 "nbformat": 4,
 "nbformat_minor": 5
}
